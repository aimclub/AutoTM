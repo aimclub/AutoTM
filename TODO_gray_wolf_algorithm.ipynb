{
 "cells": [
  {
   "cell_type": "code",
   "execution_count": 1,
   "metadata": {},
   "outputs": [],
   "source": [
    "# https://www.sciencedirect.com/science/article/pii/S0950705119300188?casa_token=_gDaBcyqLVQAAAAA:6KaEc5uT1_DKyisnDcsm_eGTYLA7Autz_I_0WGFeuvqscOhZ-vFtm6v-K5VCo4tXrY1BK7TRkQ\n",
    "# https://www.nature.com/articles/s41598-019-43546-3"
   ]
  },
  {
   "cell_type": "code",
   "execution_count": 3,
   "metadata": {},
   "outputs": [],
   "source": [
    "class GrayWolfAlgo:\n",
    "    def __init__(self, scaling_min, scaling_max, iterations_num):\n",
    "        self.population = None\n",
    "        self.alpha = None\n",
    "        self.beta = None\n",
    "        self.gamma = None\n",
    "        self.iteration = 0\n",
    "        self.scaling_min = scaling_min\n",
    "        self.scaling_max = scaling_max\n",
    "        self.iterations_num = iterations_num\n",
    "        raise NotImplementedError\n",
    "        \n",
    "    def mutation(self):\n",
    "        f = self.scaling_min + (self.scaling_max - self.scaling_min) * ((\n",
    "            self.iterations_num - (self.iteration - 1)) / self.iterations_num)\n",
    "        v = self.alpha.params + f * (self.beta.params - self.gamma.params)\n",
    "        # check bounds\n",
    "        \n",
    "    def crossover(self):\n",
    "        raise NotImplementedError\n",
    "        \n",
    "    def selection():\n",
    "        raise NotImplementedError"
   ]
  },
  {
   "cell_type": "code",
   "execution_count": null,
   "metadata": {},
   "outputs": [],
   "source": []
  }
 ],
 "metadata": {
  "kernelspec": {
   "display_name": "Python 3",
   "language": "python",
   "name": "python3"
  },
  "language_info": {
   "codemirror_mode": {
    "name": "ipython",
    "version": 3
   },
   "file_extension": ".py",
   "mimetype": "text/x-python",
   "name": "python",
   "nbconvert_exporter": "python",
   "pygments_lexer": "ipython3",
   "version": "3.7.9"
  }
 },
 "nbformat": 4,
 "nbformat_minor": 4
}
