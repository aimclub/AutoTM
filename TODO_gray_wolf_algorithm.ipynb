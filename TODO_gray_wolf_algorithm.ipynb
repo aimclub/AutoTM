{
 "cells": [
  {
   "cell_type": "code",
   "execution_count": 1,
   "metadata": {},
   "outputs": [],
   "source": [
    "# https://www.sciencedirect.com/science/article/pii/S0950705119300188?casa_token=_gDaBcyqLVQAAAAA:6KaEc5uT1_DKyisnDcsm_eGTYLA7Autz_I_0WGFeuvqscOhZ-vFtm6v-K5VCo4tXrY1BK7TRkQ\n",
    "# https://www.nature.com/articles/s41598-019-43546-3"
   ]
  },
  {
   "cell_type": "code",
   "execution_count": null,
   "metadata": {},
   "outputs": [],
   "source": [
    "from random import random, randint\n",
    "import numpy as np\n",
    "from numpy.random import choice, permutation, rand\n",
    "from numpy import random\n",
    "from sklearn.preprocessing import MinMaxScaler\n",
    "import os\n",
    "import copy\n",
    "import uuid\n",
    "from kube_fitness.tasks import make_celery_app, parallel_fitness, IndividualDTO\n",
    "\n",
    "\n",
    "DATASET = \"20newsgroups\""
   ]
  },
  {
   "cell_type": "code",
   "execution_count": 3,
   "metadata": {},
   "outputs": [],
   "source": [
    "class GrayWolfAlgo:\n",
    "    def __init__(self, scaling_min, scaling_max, iterations_num):\n",
    "        self.population = None\n",
    "        self.alpha = None\n",
    "        self.beta = None\n",
    "        self.gamma = None\n",
    "        self.iteration = 0\n",
    "        self.scaling_min = scaling_min\n",
    "        self.scaling_max = scaling_max\n",
    "        self.iterations_num = iterations_num\n",
    "\n",
    "    def init_population(self):\n",
    "        wolves = []\n",
    "        list_of_individuals = []\n",
    "        alpha_wolf = self.population[0]\n",
    "        beta_wolf = self.population[1]\n",
    "        delta_wolf = self.population[2]\n",
    "        for i in range(self.population):\n",
    "            wolves.append(IndividualDTO(id=str(uuid.uuid4()),\n",
    "                                        params=self.init_individ(),\n",
    "                                        dataset=DATASET))\n",
    "        population_with_fitness = parallel_fitness(list_of_individuals)\n",
    "        return population_with_fitness\n",
    "\n",
    "    def mutation(self):\n",
    "        # f_min, f_max - min and max scaling factor\n",
    "        f = self.scaling_min + (self.scaling_max - self.scaling_min) * ((\n",
    "                                            self.iterations_num - (\n",
    "                                                self.iteration - 1)) / self.iterations_num)\n",
    "        v = self.alpha.params + f * (self.beta.params - self.gamma.params)\n",
    "        # check bounds\n",
    "\n",
    "    def crossover(self):\n",
    "        rand_j = random.randint()\n",
    "        raise NotImplementedError\n",
    "\n",
    "    def selection():\n",
    "        raise NotImplementedError\n",
    "\n",
    "    def"
   ]
  },
  {
   "cell_type": "code",
   "execution_count": null,
   "metadata": {},
   "outputs": [],
   "source": []
  }
 ],
 "metadata": {
  "kernelspec": {
   "display_name": "Python 3",
   "language": "python",
   "name": "python3"
  },
  "language_info": {
   "codemirror_mode": {
    "name": "ipython",
    "version": 3
   },
   "file_extension": ".py",
   "mimetype": "text/x-python",
   "name": "python",
   "nbconvert_exporter": "python",
   "pygments_lexer": "ipython3",
   "version": "3.7.9"
  }
 },
 "nbformat": 4,
 "nbformat_minor": 4
}