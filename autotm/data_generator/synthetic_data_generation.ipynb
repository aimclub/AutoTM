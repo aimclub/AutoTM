{
 "cells": [
  {
   "cell_type": "code",
   "execution_count": null,
   "outputs": [],
   "source": [
    "import numpy as np"
   ],
   "metadata": {
    "collapsed": false
   }
  },
  {
   "cell_type": "code",
   "execution_count": null,
   "outputs": [],
   "source": [
    "def data_generator(\n",
    "    vocab_size=10000,\n",
    "    num_documents=5000,\n",
    "    mean_text_len=15,\n",
    "    std_text_len=5,\n",
    "    topics_num=10,\n",
    "    distribution=\"dirichlet\",\n",
    "):\n",
    "    vocabulary = [i for i in range(vocab_size)]\n",
    "\n",
    "    for doc in num_documents:\n",
    "        doc_len = int(np.random.normal(loc=mean_text_len, scale=std_text_len))"
   ],
   "metadata": {
    "collapsed": false
   }
  },
  {
   "cell_type": "code",
   "execution_count": null,
   "outputs": [],
   "source": [],
   "metadata": {
    "collapsed": false
   }
  }
 ],
 "metadata": {
  "kernelspec": {
   "display_name": "Python 3",
   "language": "python",
   "name": "python3"
  },
  "language_info": {
   "codemirror_mode": {
    "name": "ipython",
    "version": 2
   },
   "file_extension": ".py",
   "mimetype": "text/x-python",
   "name": "python",
   "nbconvert_exporter": "python",
   "pygments_lexer": "ipython2",
   "version": "2.7.6"
  }
 },
 "nbformat": 4,
 "nbformat_minor": 0
}
