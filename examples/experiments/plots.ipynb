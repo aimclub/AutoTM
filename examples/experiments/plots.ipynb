{
 "cells": [
  {
   "cell_type": "code",
   "execution_count": null,
   "id": "initial_id",
   "metadata": {
    "collapsed": true
   },
   "outputs": [],
   "source": [
    "import os\n",
    "import re\n",
    "from collections import defaultdict\n",
    "\n",
    "import numpy as np\n",
    "import pandas as pd\n",
    "import seaborn as sns\n",
    "from matplotlib import pyplot as plt"
   ]
  },
  {
   "cell_type": "code",
   "outputs": [],
   "source": [
    "plt.rcParams['figure.dpi'] = 300\n",
    "sns.set(style=\"whitegrid\")\n",
    "pd.set_option('display.precision', 3)"
   ],
   "metadata": {
    "collapsed": false
   },
   "id": "fff904613caebc74",
   "execution_count": null
  },
  {
   "cell_type": "code",
   "outputs": [],
   "source": [
    "PIPELINE_LABEL = \"pipeline\"\n",
    "FIXED_SIZE_LABEL = \"fixed-size\"\n",
    "DATASET_LABEL = \"dateset\"\n",
    "FITNESS_LABEL = \"fitness\"\n",
    "INVOCATIONS_LABEL = \"ARTM invocations\"\n",
    "SOLUTION_LABEL = \"solution\"\n",
    "IMPROVEMENT_LABEL = \"Improvement, %\"\n",
    "\n",
    "DATASET_MAPPING = {\n",
    "    \"20newsgroups_sample\": \"20News Groups\",\n",
    "    \"amazon_food_sample\": \"Amazon Food\",\n",
    "    \"banners_sample\": \"Banners\",\n",
    "    \"hotel-reviews_sample\": \"Hotel Reviews\",\n",
    "    \"lenta_ru_sample\": \"Lenta.ru\",\n",
    "}"
   ],
   "metadata": {
    "collapsed": false
   },
   "id": "2046dda1644fab6b",
   "execution_count": null
  },
  {
   "cell_type": "code",
   "outputs": [],
   "source": [
    "def replace_with_max(array):\n",
    "    array = np.array(array)\n",
    "    array = np.maximum.accumulate(array)\n",
    "    return array.tolist()\n",
    "\n",
    "\n",
    "def transform_to_invocations(iterations, fitness):\n",
    "    invocations = list(range(iterations[0], iterations[-1] + 1))\n",
    "    new_fitness = [0] * len(invocations)\n",
    "    min_inv = iterations[0]\n",
    "    for i in range(len(iterations) - 1):\n",
    "        inv = iterations[i]\n",
    "        next_inv = iterations[i + 1]\n",
    "        for j in range(inv - min_inv, next_inv - min_inv):\n",
    "            new_fitness[j] = fitness[i]\n",
    "    new_fitness[-1] = fitness[-1]\n",
    "    cut_length = min(len(invocations), 150 - min_inv + 1)\n",
    "    return invocations[:cut_length], new_fitness[:cut_length]"
   ],
   "metadata": {
    "collapsed": false
   },
   "id": "bae41026c808e90c",
   "execution_count": null
  },
  {
   "cell_type": "code",
   "outputs": [],
   "source": [
    "def load_file(log_file, datasets):\n",
    "    with open(log_file, 'r') as file:\n",
    "        for line in file:\n",
    "            parts = re.split(',(?![^\\[]*\\])', line.strip())\n",
    "            dataset = DATASET_MAPPING[parts[1]]\n",
    "            assert parts[2] == \"True\" or parts[2] == \"False\"\n",
    "            solution = PIPELINE_LABEL if \"True\" == parts[2] else FIXED_SIZE_LABEL\n",
    "            iterations = list(map(int, re.findall(r'\\d+', parts[3])))\n",
    "            fitness = list(map(float, re.findall(r'\\d+\\.?\\d*', parts[4])))\n",
    "            fitness = replace_with_max(fitness)\n",
    "            datasets[dataset].append((solution, iterations, fitness))"
   ],
   "metadata": {
    "collapsed": false
   },
   "id": "cdacf37e5daa62a3",
   "execution_count": null
  },
  {
   "cell_type": "code",
   "outputs": [],
   "source": [
    "def group_by_type(df):\n",
    "    return df.groupby([DATASET_LABEL, SOLUTION_LABEL])[FITNESS_LABEL]\n",
    "\n",
    "\n",
    "def plot_progress(dataset, df):\n",
    "    order = sorted(df[SOLUTION_LABEL].unique())\n",
    "    sns.lineplot(data=df, x=INVOCATIONS_LABEL, y=FITNESS_LABEL, hue=SOLUTION_LABEL,\n",
    "                 errorbar=('ci', 90), markers=True, hue_order=order)\n",
    "    plt.legend(loc='lower right')\n",
    "    plt.title(f\"{dataset} Training Progress\")\n",
    "    dataset_file_name = next(filter(lambda x: x[1] == dataset, DATASET_MAPPING.items()))[0]\n",
    "    plt.savefig(f\"plot_progress_{dataset_file_name}.png\")\n",
    "    # plt.show()\n",
    "    plt.clf()\n",
    "\n",
    "\n",
    "def collect_results(tuple_results):\n",
    "    ds = []\n",
    "    ps = []\n",
    "    fs = []\n",
    "    for dataset, solutions, final_fitness in tuple_results:\n",
    "        ds.append(dataset.replace(\" \", \"\\n\"))\n",
    "        ps.append(solutions)\n",
    "        fs.append(final_fitness)\n",
    "    return pd.DataFrame(data={DATASET_LABEL: ds, SOLUTION_LABEL: ps, FITNESS_LABEL: fs})\n",
    "\n",
    "\n",
    "def plot_results(df, name):\n",
    "    order = sorted(df[SOLUTION_LABEL].unique())\n",
    "    sns.boxplot(data=df, x=DATASET_LABEL, y=FITNESS_LABEL, hue=SOLUTION_LABEL,\n",
    "                hue_order=order)\n",
    "    plt.legend(loc='best')\n",
    "    plt.xlabel(\"\")\n",
    "    plt.title(f\"{name} solutions comparison\")\n",
    "    plt.savefig(f\"plot_boxplot_{name}_results.png\")\n",
    "    # plt.show()\n",
    "    plt.clf()"
   ],
   "metadata": {
    "collapsed": false
   },
   "id": "6b9404303f386660",
   "execution_count": null
  },
  {
   "cell_type": "code",
   "outputs": [],
   "source": [
    "files_in_directory = os.listdir()\n",
    "log_files = [file for file in files_in_directory if re.match(r\"log-\\d{6}-\\d{6}\\.txt\", file)]\n",
    "\n",
    "datasets = defaultdict(list)\n",
    "for log_file in log_files:\n",
    "    load_file(log_file, datasets)"
   ],
   "metadata": {
    "collapsed": false
   },
   "id": "a23158e52a86b610",
   "execution_count": null
  },
  {
   "cell_type": "code",
   "outputs": [],
   "source": [
    "first_results = []\n",
    "final_results = []\n",
    "for dataset in datasets:\n",
    "    solutions = []\n",
    "    invocations = []\n",
    "    fitness = []\n",
    "    for p, i, f in datasets[dataset]:\n",
    "        i, f = transform_to_invocations(i, f)\n",
    "        invocations += i\n",
    "        fitness += f\n",
    "        solutions += [p] * len(i)\n",
    "        first_results.append((dataset, p, f[0]))\n",
    "        final_results.append((dataset, p, f[-1]))\n",
    "\n",
    "    df = pd.DataFrame(data={INVOCATIONS_LABEL: invocations, FITNESS_LABEL: fitness,\n",
    "                            SOLUTION_LABEL: solutions})\n",
    "    plot_progress(dataset, df)\n"
   ],
   "metadata": {
    "collapsed": false
   },
   "id": "254a625cca47ad02",
   "execution_count": null
  },
  {
   "cell_type": "code",
   "outputs": [],
   "source": [
    "def split_by_type(df):\n",
    "    fixed_df = df[df[SOLUTION_LABEL] == FIXED_SIZE_LABEL].reset_index()\n",
    "    pipeline_df = df[df[SOLUTION_LABEL] == PIPELINE_LABEL].reset_index()\n",
    "    return fixed_df, pipeline_df\n",
    "\n",
    "\n",
    "def find_improvement(df):\n",
    "    fixed_df, pipeline_df = split_by_type(df)\n",
    "    improvement = pipeline_df[FITNESS_LABEL] / fixed_df[FITNESS_LABEL]\n",
    "    return ((improvement - 1) * 100).round(1)\n",
    "\n",
    "\n",
    "def summary(df):\n",
    "    by_type = group_by_type(df)\n",
    "    fixed_mean, pipeline_mean = split_by_type(by_type.mean().reset_index())\n",
    "    fixed_std, pipeline_std = split_by_type(by_type.std().reset_index())\n",
    "    improvement = find_improvement(by_type.mean().reset_index())\n",
    "    return pd.DataFrame(data={DATASET_LABEL: fixed_mean[DATASET_LABEL],\n",
    "                              IMPROVEMENT_LABEL: improvement,\n",
    "                              \"Fixed Mean\": fixed_mean[FITNESS_LABEL],\n",
    "                              \"Pipeline Mean\": pipeline_mean[FITNESS_LABEL],\n",
    "                              \"Fixed Std\": fixed_std[FITNESS_LABEL],\n",
    "                              \"Pipeline Std\": pipeline_std[FITNESS_LABEL],\n",
    "                              })"
   ],
   "metadata": {
    "collapsed": false
   },
   "id": "3229db13992a086b",
   "execution_count": null
  },
  {
   "cell_type": "code",
   "outputs": [],
   "source": [
    "df_final = collect_results(final_results)\n",
    "plot_results(df_final, \"Best\")\n",
    "df_sum = summary(df_final)\n",
    "print(f\"Best results: avg improvement: {df_sum[IMPROVEMENT_LABEL].mean().round(1)}\")\n",
    "df_sum"
   ],
   "metadata": {
    "collapsed": false
   },
   "id": "25db858c8c3c5723",
   "execution_count": null
  },
  {
   "cell_type": "code",
   "outputs": [],
   "source": [
    "df_first = collect_results(first_results)\n",
    "plot_results(df_first, \"First iteration\")\n",
    "df_sum = summary(df_first)\n",
    "print(f\"First iteration results: avg improvement: {df_sum[IMPROVEMENT_LABEL].mean().round(1)}\")\n",
    "df_sum"
   ],
   "metadata": {
    "collapsed": false
   },
   "id": "331e18d709be1c39",
   "execution_count": null
  },
  {
   "cell_type": "code",
   "outputs": [],
   "source": [
    "def progress_summary(df):\n",
    "    fixed_df, pipeline_df = split_by_type(df.reset_index())\n",
    "    improvement = pipeline_df[FITNESS_LABEL] - fixed_df[FITNESS_LABEL]\n",
    "    return pd.DataFrame(data={DATASET_LABEL: fixed_df[DATASET_LABEL],\n",
    "                              IMPROVEMENT_LABEL: improvement.round(1),\n",
    "                              \"Fixed Growth, %\": fixed_df[FITNESS_LABEL].round(1),\n",
    "                              \"Pipeline Growth, %\": pipeline_df[FITNESS_LABEL].round(1),\n",
    "                              })\n",
    "\n",
    "final_avg = group_by_type(df_final).mean()\n",
    "first_avg = group_by_type(df_first).mean()\n",
    "progress = ((final_avg - first_avg) / first_avg) * 100\n",
    "df_sum = progress_summary(progress)\n",
    "print(f\"Progress difference avg: {df_sum[IMPROVEMENT_LABEL].mean().round(1)}\")\n",
    "df_sum"
   ],
   "metadata": {
    "collapsed": false
   },
   "id": "a2c245328a72d9cc",
   "execution_count": null
  },
  {
   "cell_type": "code",
   "outputs": [],
   "source": [],
   "metadata": {
    "collapsed": false
   },
   "id": "4085fdcd4ee9c4b1",
   "execution_count": null
  }
 ],
 "metadata": {
  "kernelspec": {
   "display_name": "Python 3",
   "language": "python",
   "name": "python3"
  },
  "language_info": {
   "codemirror_mode": {
    "name": "ipython",
    "version": 2
   },
   "file_extension": ".py",
   "mimetype": "text/x-python",
   "name": "python",
   "nbconvert_exporter": "python",
   "pygments_lexer": "ipython2",
   "version": "2.7.6"
  }
 },
 "nbformat": 4,
 "nbformat_minor": 5
}
