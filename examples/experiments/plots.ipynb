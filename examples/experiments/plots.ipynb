{
 "cells": [
  {
   "cell_type": "code",
   "source": [
    "import os\n",
    "import re\n",
    "\n",
    "import pandas as pd\n",
    "import seaborn as sns\n",
    "from matplotlib import pyplot as plt\n",
    "\n",
    "print(sns.__version__)\n",
    "print(pd.__version__)"
   ],
   "metadata": {
    "collapsed": false
   },
   "id": "fac4fdb8a0c3cf47",
   "outputs": [],
   "execution_count": null
  },
  {
   "cell_type": "code",
   "source": [
    "plt.rcParams['figure.dpi'] = 900\n",
    "sns.set(style=\"whitegrid\")\n",
    "pd.set_option('display.precision', 3)"
   ],
   "metadata": {
    "collapsed": false
   },
   "id": "9a554e83dd14f7bf",
   "outputs": [],
   "execution_count": null
  },
  {
   "cell_type": "code",
   "source": [
    "PIPELINE_LABEL = \"pipeline\"\n",
    "FIXED_SIZE_LABEL = \"fixed-size\"\n",
    "DATASET_LABEL = \"dataset\"\n",
    "FITNESS_LABEL = \"fitness\"\n",
    "INVOCATIONS_LABEL = \"iterations\"\n",
    "SOLUTION_LABEL = \"solution\"\n",
    "IMPROVEMENT_LABEL = \"Improvement, %\"\n",
    "MIN_FITNESS_LABEL = \"Start fitness\"\n",
    "MAX_FITNESS_LABEL = \"Final fitness\"\n",
    "SURROGATE_LABEL = \"Surrogate\"\n",
    "\n",
    "DATASET_MAPPING = {\n",
    "    \"20newsgroups_sample\": \"20News Groups\",\n",
    "    \"amazon_food_sample\": \"Amazon Food\",\n",
    "    \"banners_sample\": \"Banners\",\n",
    "    \"hotel-reviews_sample\": \"Hotel Reviews\",\n",
    "    \"lenta_ru_sample\": \"Lenta.ru\",\n",
    "}\n"
   ],
   "metadata": {
    "collapsed": false
   },
   "id": "d4f4ba55035b15c3",
   "outputs": [],
   "execution_count": null
  },
  {
   "metadata": {},
   "cell_type": "code",
   "source": "with_surrogate = False",
   "id": "38deaea6120b455a",
   "outputs": [],
   "execution_count": null
  },
  {
   "cell_type": "code",
   "source": [
    "def plot_progress(dataset, df):\n",
    "    df = df.copy().reset_index()\n",
    "    df[\"hue\"] = df[SOLUTION_LABEL] + df[SURROGATE_LABEL] if with_surrogate else df[SOLUTION_LABEL]\n",
    "    order = sorted(df[\"hue\"].unique())\n",
    "    sns.lineplot(data=df, x=INVOCATIONS_LABEL, y=FITNESS_LABEL, hue=\"hue\",\n",
    "                 errorbar=('ci', 90), markers=True, hue_order=order\n",
    "                 )\n",
    "    plt.legend(loc='lower right')\n",
    "    dataset_title = DATASET_MAPPING[dataset]\n",
    "    plt.title(f\"{dataset_title} Training Progress\")\n",
    "    s = \"_surrogate\" if with_surrogate else \"\"\n",
    "    plt.savefig(f\"plot_progress_{dataset}{s}.png\")\n",
    "    # plt.show()\n",
    "    plt.clf()"
   ],
   "metadata": {
    "collapsed": false
   },
   "id": "57634a1c5e4baad",
   "outputs": [],
   "execution_count": null
  },
  {
   "cell_type": "code",
   "source": [
    "def collect_progress_results():\n",
    "    base_dir = \"statistics\"\n",
    "    files_in_directory = os.listdir(base_dir)\n",
    "    log_files = [os.path.join(base_dir, file) for file in files_in_directory if re.match(r\".*_progress.txt\", file)]\n",
    "    names = [DATASET_LABEL, SOLUTION_LABEL, INVOCATIONS_LABEL, FITNESS_LABEL]\n",
    "    dfs = [pd.read_csv(log_file, header=None, names=names) for log_file in log_files]\n",
    "\n",
    "    filtered_dfs = dfs if with_surrogate else []\n",
    "    for df, log_file in zip(dfs, log_files):\n",
    "        df[SOLUTION_LABEL] = df[SOLUTION_LABEL].map({True: PIPELINE_LABEL, False: FIXED_SIZE_LABEL})\n",
    "        is_surrogate = \"_surrogate_\" in log_file\n",
    "        if with_surrogate:\n",
    "            df[SURROGATE_LABEL] = \"_Surrogate\" if is_surrogate else \"\"\n",
    "        else:\n",
    "            if not is_surrogate:\n",
    "                filtered_dfs.append(df)\n",
    "    dfs = filtered_dfs\n",
    "\n",
    "    # dfs = [df for df in dfs if df[DATASET_LABEL].unique().tolist()[0] not in [\"banners_sample\", \"hotel-reviews_sample\"]]\n",
    "\n",
    "    summary_dfs = []\n",
    "    for df in dfs:\n",
    "        mn = df.iloc[df[INVOCATIONS_LABEL].idxmin()]\n",
    "        mx = df.iloc[df[INVOCATIONS_LABEL].idxmax()]\n",
    "        assert mn[DATASET_LABEL] == mx[DATASET_LABEL] and mn[SOLUTION_LABEL] == mx[SOLUTION_LABEL]\n",
    "        if mn[INVOCATIONS_LABEL] != 11 or mx[INVOCATIONS_LABEL] != 150:\n",
    "            print(f\"Unexpected invocations: min={mn[INVOCATIONS_LABEL]} max={mx[INVOCATIONS_LABEL]}\")\n",
    "        solution = [mn[SOLUTION_LABEL] + mn[SURROGATE_LABEL]] if with_surrogate else [mn[SOLUTION_LABEL]]\n",
    "        series = pd.DataFrame(data={DATASET_LABEL: [mn[DATASET_LABEL]], SOLUTION_LABEL: solution,\n",
    "                                 MIN_FITNESS_LABEL: [mn[FITNESS_LABEL]], MAX_FITNESS_LABEL: [mx[FITNESS_LABEL]]})\n",
    "        summary_dfs.append(series)\n",
    "\n",
    "    return pd.concat(dfs, ignore_index=True), pd.concat(summary_dfs, ignore_index=True)"
   ],
   "metadata": {
    "collapsed": false
   },
   "id": "9c446cd97af2342b",
   "outputs": [],
   "execution_count": null
  },
  {
   "cell_type": "code",
   "source": [
    "df, summary_df = collect_progress_results()\n",
    "df"
   ],
   "metadata": {
    "collapsed": false
   },
   "id": "daf6f8965454a3c9",
   "outputs": [],
   "execution_count": null
  },
  {
   "cell_type": "code",
   "source": [
    "summary_df"
   ],
   "metadata": {
    "collapsed": false
   },
   "id": "ad596a6fffb7d409",
   "outputs": [],
   "execution_count": null
  },
  {
   "cell_type": "code",
   "source": "summary_df.groupby([DATASET_LABEL, SOLUTION_LABEL]).mean().reset_index()",
   "metadata": {
    "collapsed": false
   },
   "id": "2ade54ce8fac48eb",
   "outputs": [],
   "execution_count": null
  },
  {
   "metadata": {},
   "cell_type": "code",
   "source": "summary_df.groupby([DATASET_LABEL, SOLUTION_LABEL]).std().reset_index()",
   "id": "796404cb4159a18a",
   "outputs": [],
   "execution_count": null
  },
  {
   "cell_type": "code",
   "source": [
    "for dataset in df[DATASET_LABEL].unique():\n",
    "    plot_progress(dataset, df[df[DATASET_LABEL] == dataset])"
   ],
   "metadata": {
    "collapsed": false
   },
   "id": "48e6bce3fd79d0e3",
   "outputs": [],
   "execution_count": null
  },
  {
   "cell_type": "code",
   "source": [
    "def plot_results(df, name, column):\n",
    "    df[\"d\"] = df[DATASET_LABEL].map(lambda x: DATASET_MAPPING[x].replace(' ', '\\n'))\n",
    "    order = sorted(df[SOLUTION_LABEL].unique())\n",
    "    sns.boxplot(data=df, x=\"d\", y=column, hue=SOLUTION_LABEL,\n",
    "                hue_order=order)\n",
    "    plt.legend(loc='best')\n",
    "    plt.xlabel(DATASET_LABEL)\n",
    "    plt.ylabel(FITNESS_LABEL)\n",
    "    plt.title(f\"{name} solutions comparison\")\n",
    "    s = \"_surrogate\" if with_surrogate else \"\"\n",
    "    plt.savefig(f\"plot_boxplot_{name}_results{s}.png\")\n",
    "    # plt.show()\n",
    "    plt.clf()\n",
    "\n",
    "plot_results(summary_df.copy(), \"Start\", MIN_FITNESS_LABEL)\n",
    "plot_results(summary_df.copy(), \"Final\", MAX_FITNESS_LABEL)"
   ],
   "metadata": {
    "collapsed": false
   },
   "id": "b77d1f03301f9ef4",
   "outputs": [],
   "execution_count": null
  },
  {
   "cell_type": "code",
   "source": [
    "def group_by_type(df):\n",
    "    return df.groupby([DATASET_LABEL, SOLUTION_LABEL])[[MIN_FITNESS_LABEL, MAX_FITNESS_LABEL]]\n",
    "\n",
    "def split_by_type(df):\n",
    "    fixed_df = df[df[SOLUTION_LABEL] == FIXED_SIZE_LABEL].reset_index()\n",
    "    pipeline_df = df[df[SOLUTION_LABEL] == PIPELINE_LABEL].reset_index()\n",
    "    return fixed_df, pipeline_df\n",
    "\n",
    "def to_percent(df):\n",
    "    return (df * 100).round(1)\n",
    "\n",
    "def find_improvement(df, fitness_column):\n",
    "    fixed_df, pipeline_df = split_by_type(df)\n",
    "    improvement = pipeline_df[fitness_column] / fixed_df[fitness_column]\n",
    "    return to_percent(improvement - 1)\n",
    "\n",
    "\n",
    "def summary(df):\n",
    "    by_type = group_by_type(df)\n",
    "    mean = by_type.mean().reset_index()\n",
    "    fixed_mean, pipeline_mean = split_by_type(mean)\n",
    "    fixed_std, pipeline_std = split_by_type(by_type.std().reset_index())\n",
    "    min_improvement = find_improvement(mean, MIN_FITNESS_LABEL)\n",
    "    max_improvement = find_improvement(mean, MAX_FITNESS_LABEL)\n",
    "    assert fixed_mean[DATASET_LABEL].tolist() == pipeline_mean[DATASET_LABEL].tolist()\n",
    "    fixed_progress = to_percent((fixed_mean[MAX_FITNESS_LABEL] - fixed_mean[MIN_FITNESS_LABEL]) / fixed_mean[MIN_FITNESS_LABEL])\n",
    "    pipeline_progress = to_percent((pipeline_mean[MAX_FITNESS_LABEL] - pipeline_mean[MIN_FITNESS_LABEL]) / pipeline_mean[MIN_FITNESS_LABEL])\n",
    "    progress_improvement = pipeline_progress - fixed_progress\n",
    "    return pd.DataFrame(data={DATASET_LABEL: fixed_mean[DATASET_LABEL],\n",
    "                              \"Start Improvement, %\": min_improvement,\n",
    "                              \"Start Fixed Mean\": fixed_mean[MIN_FITNESS_LABEL],\n",
    "                              \"Start Pipeline Mean\": pipeline_mean[MIN_FITNESS_LABEL],\n",
    "                              \"Start Fixed Std\": fixed_std[MIN_FITNESS_LABEL],\n",
    "                              \"Start Pipeline Std\": pipeline_std[MIN_FITNESS_LABEL],\n",
    "                              \"Final Improvement, %\": max_improvement,\n",
    "                              \"Final Fixed Mean\": fixed_mean[MAX_FITNESS_LABEL],\n",
    "                              \"Final Pipeline Mean\": pipeline_mean[MAX_FITNESS_LABEL],\n",
    "                              \"Final Fixed Std\": fixed_std[MAX_FITNESS_LABEL],\n",
    "                              \"Final Pipeline Std\": pipeline_std[MAX_FITNESS_LABEL],\n",
    "                              \"Progress Improvement, %\": progress_improvement,\n",
    "                              \"Progress Fixed, %\": fixed_progress,\n",
    "                              \"Progress Pipeline, %\": pipeline_progress,\n",
    "                              })"
   ],
   "metadata": {
    "collapsed": false
   },
   "id": "34a1ee441976fe6",
   "outputs": [],
   "execution_count": null
  },
  {
   "cell_type": "code",
   "source": [
    "stats_df = summary(summary_df)\n",
    "stats_df"
   ],
   "metadata": {
    "collapsed": false
   },
   "id": "3ef78f69ae160bf8",
   "outputs": [],
   "execution_count": null
  },
  {
   "cell_type": "code",
   "source": [
    "columns = [DATASET_LABEL] + [column for column in stats_df.columns if column.startswith(\"Start\")]\n",
    "start_df = stats_df[columns]\n",
    "print(start_df[\"Start Improvement, %\"].mean().round(1))\n",
    "start_df.rename(lambda x: x.removeprefix(\"Start \"), axis='columns')"
   ],
   "metadata": {
    "collapsed": false
   },
   "id": "1dae5d10ccf1a980",
   "outputs": [],
   "execution_count": null
  },
  {
   "cell_type": "code",
   "source": [
    "columns = [DATASET_LABEL] + [column for column in stats_df.columns if column.startswith(\"Final \")]\n",
    "start_df = stats_df[columns]\n",
    "print(start_df[\"Final Improvement, %\"].mean().round(1))\n",
    "start_df.rename(lambda x: x.removeprefix(\"Final \"), axis='columns')"
   ],
   "metadata": {
    "collapsed": false
   },
   "id": "533397cc30bf185",
   "outputs": [],
   "execution_count": null
  },
  {
   "cell_type": "code",
   "source": [
    "columns = [DATASET_LABEL] + [column for column in stats_df.columns if column.startswith(\"Progress \")]\n",
    "start_df = stats_df[columns]\n",
    "print(start_df[\"Progress Improvement, %\"].mean().round(1))\n",
    "start_df.rename(lambda x: x.removeprefix(\"Progress \"), axis='columns')"
   ],
   "metadata": {
    "collapsed": false
   },
   "id": "9c663466a8188553",
   "outputs": [],
   "execution_count": null
  },
  {
   "cell_type": "code",
   "id": "4085fdcd4ee9c4b1",
   "metadata": {},
   "source": [],
   "outputs": [],
   "execution_count": null
  }
 ],
 "metadata": {
  "kernelspec": {
   "display_name": "Python 3 (ipykernel)",
   "language": "python",
   "name": "python3"
  },
  "language_info": {
   "codemirror_mode": {
    "name": "ipython",
    "version": 3
   },
   "file_extension": ".py",
   "mimetype": "text/x-python",
   "name": "python",
   "nbconvert_exporter": "python",
   "pygments_lexer": "ipython3",
   "version": "3.9.18"
  }
 },
 "nbformat": 4,
 "nbformat_minor": 5
}
