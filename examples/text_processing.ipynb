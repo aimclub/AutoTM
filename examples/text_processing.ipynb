{
 "cells": [
  {
   "cell_type": "code",
   "execution_count": 1,
   "metadata": {},
   "outputs": [],
   "source": [
    "from contextlib import contextmanager\n",
    "from typing import Optional\n",
    "import tempfile\n",
    "\n",
    "import pandas as pd\n",
    "import os\n",
    "import yaml\n",
    "\n",
    "from autotm.base import AutoTM\n",
    "from autotm.preprocessing.text_preprocessing import DataTransformer"
   ]
  },
  {
   "attachments": {},
   "cell_type": "markdown",
   "metadata": {},
   "source": [
    "### Prepare working directory"
   ]
  },
  {
   "cell_type": "code",
   "execution_count": 2,
   "metadata": {},
   "outputs": [],
   "source": [
    "@contextmanager\n",
    "def prepare_working_dir(working_dir: Optional[str] = None):\n",
    "    if working_dir is None:\n",
    "        with tempfile.TemporaryDirectory(prefix=\"autotm_wd_\") as tmp_working_dir:\n",
    "            yield tmp_working_dir\n",
    "    else:\n",
    "        yield working_dir"
   ]
  },
  {
   "cell_type": "code",
   "execution_count": 3,
   "metadata": {},
   "outputs": [
    {
     "name": "stdout",
     "output_type": "stream",
     "text": [
      "Working directory /tmp/autotm_wd_4qc5tjnb for AutoTM\n"
     ]
    }
   ],
   "source": [
    "with prepare_working_dir() as wdir:\n",
    "    print(f\"Working directory {os.path.abspath(wdir)} for AutoTM\")"
   ]
  },
  {
   "attachments": {},
   "cell_type": "markdown",
   "metadata": {},
   "source": [
    "### Preprocess data using DataTransformer"
   ]
  },
  {
   "cell_type": "code",
   "execution_count": 4,
   "metadata": {},
   "outputs": [
    {
     "name": "stderr",
     "output_type": "stream",
     "text": [
      "[nltk_data] Downloading package stopwords to /home/fhrzn/nltk_data...\n",
      "[nltk_data]   Package stopwords is already up-to-date!\n",
      "[nltk_data] Downloading package wordnet to /home/fhrzn/nltk_data...\n",
      "[nltk_data]   Package wordnet is already up-to-date!\n"
     ]
    }
   ],
   "source": [
    "data_transformer = DataTransformer(col_to_process=\"text\",)"
   ]
  },
  {
   "attachments": {},
   "cell_type": "markdown",
   "metadata": {},
   "source": [
    "Call `.fit()` and `.transform()` sequentially."
   ]
  },
  {
   "cell_type": "code",
   "execution_count": 5,
   "metadata": {},
   "outputs": [],
   "source": [
    "data_transformer.fit('../data/sample_corpora/sample_dataset_lenta.csv')"
   ]
  },
  {
   "cell_type": "code",
   "execution_count": 6,
   "metadata": {},
   "outputs": [],
   "source": [
    "data_transformer.transform()"
   ]
  },
  {
   "attachments": {},
   "cell_type": "markdown",
   "metadata": {},
   "source": [
    "Or perform both operation directly using `.fit_transform()`"
   ]
  },
  {
   "cell_type": "code",
   "execution_count": 7,
   "metadata": {},
   "outputs": [],
   "source": [
    "data_transformer.fit_transform('../data/sample_corpora/sample_dataset_lenta.csv')"
   ]
  },
  {
   "attachments": {},
   "cell_type": "markdown",
   "metadata": {},
   "source": [
    "### Define AutoTM instance"
   ]
  },
  {
   "cell_type": "code",
   "execution_count": 8,
   "metadata": {},
   "outputs": [],
   "source": [
    "with open(\"../conf/config.yaml\", \"r\", encoding=\"utf-8\") as f:\n",
    "    config = yaml.safe_load(f)"
   ]
  },
  {
   "attachments": {},
   "cell_type": "markdown",
   "metadata": {},
   "source": [
    "Fit model"
   ]
  },
  {
   "cell_type": "code",
   "execution_count": 10,
   "metadata": {},
   "outputs": [
    {
     "name": "stderr",
     "output_type": "stream",
     "text": [
      "[nltk_data] Downloading package stopwords to /home/fhrzn/nltk_data...\n",
      "[nltk_data]   Package stopwords is already up-to-date!\n",
      "[nltk_data] Downloading package wordnet to /home/fhrzn/nltk_data...\n",
      "[nltk_data]   Package wordnet is already up-to-date!\n"
     ]
    },
    {
     "name": "stdout",
     "output_type": "stream",
     "text": [
      "Saved to /tmp/autotm_wd_n57qdety/a1c8fd43-7ba1-482a-b2a4-e4876b057313/ppp.csv\n",
      "Starting...\n",
      "part 1/1\n"
     ]
    },
    {
     "name": "stderr",
     "output_type": "stream",
     "text": [
      "E0820 18:38:01.162883 96508 dictionary_operations.cc:381] Error at line 1, file /tmp/autotm_wd_n57qdety/a1c8fd43-7ba1-482a-b2a4-e4876b057313/test_set_data_voc.txt. Expected format: <token> [<class_id>], dictionary will be gathered in random token order\n"
     ]
    },
    {
     "name": "stdout",
     "output_type": "stream",
     "text": [
      "/tmp/autotm_wd_n57qdety/a1c8fd43-7ba1-482a-b2a4-e4876b057313/cooc_df.txt is ready!\n",
      "/tmp/autotm_wd_n57qdety/a1c8fd43-7ba1-482a-b2a4-e4876b057313/cooc_tf.txt is ready!\n",
      "Calculating pPMI...\n",
      "Calculating pPMI...\n",
      "/tmp/autotm_wd_n57qdety/a1c8fd43-7ba1-482a-b2a4-e4876b057313/ppmi_tf.txt is ready!\n",
      "/tmp/autotm_wd_n57qdety/a1c8fd43-7ba1-482a-b2a4-e4876b057313/ppmi_df.txt is ready!\n"
     ]
    },
    {
     "name": "stderr",
     "output_type": "stream",
     "text": [
      "E0820 18:38:03.655612 96508 dictionary_operations.cc:452] Error at line 1, file /tmp/autotm_wd_n57qdety/a1c8fd43-7ba1-482a-b2a4-e4876b057313/ppmi_tf.txt. Number of values in all lines should be equal to 3, dictionary will be gathered without cooc info\n",
      "2023-08-20 18:38:04,188 - GA_algo - INFO - Starting experiment: 1692531484\n",
      "2023-08-20 18:38:04,189 - GA_algo - INFO - ALGORITHM PARAMS  number of individuals 4; number of fitness evals unlimited; number of early stopping iterations 500; crossover prob None\n",
      "2023-08-20 18:38:04,191 - root - INFO - Calculating fitness...\n",
      "INFO:root:Loading dataset entities\n",
      "INFO:root:Reading dictionary from /tmp/autotm_wd_n57qdety/a1c8fd43-7ba1-482a-b2a4-e4876b057313/dictionary.txt\n",
      "INFO:root:Dataset entities initialization took  0.13\n",
      "INFO:root:Using TM model: <class 'autotm.fitness.tm.TopicModel'> according to fitness name: default, topics count: 10\n",
      "10it [00:00, 732.72it/s]\n",
      "0it [00:00, ?it/s]\n",
      "0it [00:00, ?it/s]\n",
      "0it [00:00, ?it/s]\n",
      "10it [00:00, 786.60it/s]\n",
      "0it [00:00, ?it/s]\n",
      "0it [00:00, ?it/s]\n",
      "0it [00:00, ?it/s]\n",
      "10it [00:00, 471.02it/s]\n",
      "0it [00:00, ?it/s]\n",
      "0it [00:00, ?it/s]\n",
      "0it [00:00, ?it/s]\n",
      "10it [00:00, 654.32it/s]\n",
      "0it [00:00, ?it/s]\n",
      "0it [00:00, ?it/s]\n",
      "0it [00:00, ?it/s]\n",
      "INFO:root:Building dictionary\n"
     ]
    },
    {
     "name": "stdout",
     "output_type": "stream",
     "text": [
      "Training is complete\n",
      "Wow! all topics\n"
     ]
    },
    {
     "name": "stderr",
     "output_type": "stream",
     "text": [
      "10it [00:00, 968.97it/s]\n",
      "0it [00:00, ?it/s]\n",
      "0it [00:00, ?it/s]\n",
      "0it [00:00, ?it/s]\n"
     ]
    },
    {
     "name": "stdout",
     "output_type": "stream",
     "text": [
      "COMPONENTS:  0.4795999886457885 0.3891480665191247\n"
     ]
    },
    {
     "name": "stderr",
     "output_type": "stream",
     "text": [
      "10it [00:00, 14060.69it/s]\n",
      "0it [00:00, ?it/s]\n",
      "10it [00:00, 4598.51it/s]\n",
      "0it [00:00, ?it/s]\n",
      "10it [00:00, 3711.77it/s]\n",
      "0it [00:00, ?it/s]\n",
      "10it [00:00, 1541.17it/s]\n",
      "0it [00:00, ?it/s]\n",
      "10it [00:00, 1273.63it/s]\n",
      "0it [00:00, ?it/s]\n",
      "10it [00:00, 1127.44it/s]\n",
      "0it [00:00, ?it/s]\n",
      "10it [00:00, 713.95it/s]\n",
      "0it [00:00, ?it/s]\n",
      "10it [00:00, 597.66it/s]\n",
      "0it [00:00, ?it/s]\n",
      "10it [00:00, 601.64it/s]\n",
      "0it [00:00, ?it/s]\n",
      "10it [00:00, 551.50it/s]\n",
      "0it [00:00, ?it/s]\n",
      "/home/fhrzn/Projects/AutoTM/autotm/fitness/tm.py:936: RuntimeWarning: Mean of empty slice\n",
      "  \"switchP\": np.nanmean(switchp_scores),\n",
      "INFO:root:Fitness estimation took  1.61\n",
      "INFO:root:Deleting bigartm logs: []\n",
      "INFO:root:Loading dataset entities\n",
      "INFO:root:Reading dictionary from /tmp/autotm_wd_n57qdety/a1c8fd43-7ba1-482a-b2a4-e4876b057313/dictionary.txt\n",
      "INFO:root:Dataset entities initialization took  0.14\n",
      "INFO:root:Using TM model: <class 'autotm.fitness.tm.TopicModel'> according to fitness name: default, topics count: 10\n",
      "7it [00:00, 58023.97it/s]\n",
      "3it [00:00, 41665.27it/s]\n",
      "0it [00:00, ?it/s]\n",
      "0it [00:00, ?it/s]\n",
      "INFO:root:Building dictionary\n"
     ]
    },
    {
     "name": "stdout",
     "output_type": "stream",
     "text": [
      "Early stopping is triggered\n"
     ]
    },
    {
     "name": "stderr",
     "output_type": "stream",
     "text": [
      "7it [00:00, 62869.65it/s]\n",
      "3it [00:00, 37449.14it/s]\n",
      "0it [00:00, ?it/s]\n",
      "0it [00:00, ?it/s]\n"
     ]
    },
    {
     "name": "stdout",
     "output_type": "stream",
     "text": [
      "COMPONENTS:  0.0004019023762962918 0.0\n"
     ]
    },
    {
     "name": "stderr",
     "output_type": "stream",
     "text": [
      "7it [00:00, 42799.02it/s]\n",
      "3it [00:00, 33644.15it/s]\n",
      "7it [00:00, 49932.19it/s]\n",
      "3it [00:00, 27900.03it/s]\n",
      "7it [00:00, 40219.35it/s]\n",
      "3it [00:00, 34379.54it/s]\n",
      "7it [00:00, 44350.65it/s]\n",
      "3it [00:00, 43842.90it/s]\n",
      "7it [00:00, 42612.67it/s]\n",
      "3it [00:00, 16666.11it/s]\n",
      "7it [00:00, 39568.91it/s]\n",
      "3it [00:00, 36684.87it/s]\n",
      "7it [00:00, 39783.37it/s]\n",
      "3it [00:00, 24059.11it/s]\n",
      "7it [00:00, 31167.86it/s]\n",
      "3it [00:00, 29059.84it/s]\n",
      "7it [00:00, 10244.29it/s]\n",
      "3it [00:00, 31536.12it/s]\n",
      "7it [00:00, 34299.21it/s]\n",
      "3it [00:00, 32513.98it/s]\n",
      "/home/fhrzn/Projects/AutoTM/autotm/fitness/tm.py:936: RuntimeWarning: Mean of empty slice\n",
      "  \"switchP\": np.nanmean(switchp_scores),\n",
      "INFO:root:Fitness estimation took  0.37\n",
      "INFO:root:Deleting bigartm logs: []\n",
      "INFO:root:Loading dataset entities\n",
      "INFO:root:Reading dictionary from /tmp/autotm_wd_n57qdety/a1c8fd43-7ba1-482a-b2a4-e4876b057313/dictionary.txt\n",
      "INFO:root:Dataset entities initialization took  0.15\n",
      "INFO:root:Using TM model: <class 'autotm.fitness.tm.TopicModel'> according to fitness name: default, topics count: 10\n",
      "8it [00:00, 7738.57it/s]\n",
      "2it [00:00, 26715.31it/s]\n",
      "3it [00:00, 860.78it/s]\n",
      "0it [00:00, ?it/s]\n",
      "INFO:root:Building dictionary\n"
     ]
    },
    {
     "name": "stdout",
     "output_type": "stream",
     "text": [
      "Early stopping is triggered\n"
     ]
    },
    {
     "name": "stderr",
     "output_type": "stream",
     "text": [
      "8it [00:00, 5260.14it/s]\n",
      "2it [00:00, 19195.90it/s]\n",
      "3it [00:00, 589.92it/s]\n",
      "0it [00:00, ?it/s]\n"
     ]
    },
    {
     "name": "stdout",
     "output_type": "stream",
     "text": [
      "COMPONENTS:  0.013668066683284527 0.0\n"
     ]
    },
    {
     "name": "stderr",
     "output_type": "stream",
     "text": [
      "8it [00:00, 15148.73it/s]\n",
      "2it [00:00, 8120.63it/s]\n",
      "8it [00:00, 7400.62it/s]\n",
      "2it [00:00, 14513.16it/s]\n",
      "8it [00:00, 6596.11it/s]\n",
      "2it [00:00, 9218.25it/s]\n",
      "8it [00:00, 5476.49it/s]\n",
      "2it [00:00, 10965.50it/s]\n",
      "8it [00:00, 4584.57it/s]\n",
      "2it [00:00, 3746.59it/s]\n",
      "8it [00:00, 2923.37it/s]\n",
      "2it [00:00, 17476.27it/s]\n",
      "8it [00:00, 5981.18it/s]\n",
      "2it [00:00, 1510.37it/s]\n",
      "8it [00:00, 6040.40it/s]\n",
      "2it [00:00, 23045.63it/s]\n",
      "8it [00:00, 6321.48it/s]\n",
      "2it [00:00, 10010.27it/s]\n",
      "8it [00:00, 4386.20it/s]\n",
      "2it [00:00, 22857.24it/s]\n",
      "/home/fhrzn/Projects/AutoTM/autotm/fitness/tm.py:936: RuntimeWarning: Mean of empty slice\n",
      "  \"switchP\": np.nanmean(switchp_scores),\n",
      "INFO:root:Fitness estimation took  0.69\n",
      "INFO:root:Deleting bigartm logs: []\n",
      "INFO:root:Loading dataset entities\n",
      "INFO:root:Reading dictionary from /tmp/autotm_wd_n57qdety/a1c8fd43-7ba1-482a-b2a4-e4876b057313/dictionary.txt\n",
      "INFO:root:Dataset entities initialization took  0.15\n",
      "INFO:root:Using TM model: <class 'autotm.fitness.tm.TopicModel'> according to fitness name: default, topics count: 10\n",
      "7it [00:00, 79137.81it/s]\n",
      "3it [00:00, 46091.25it/s]\n",
      "0it [00:00, ?it/s]\n",
      "0it [00:00, ?it/s]\n",
      "INFO:root:Building dictionary\n"
     ]
    },
    {
     "name": "stdout",
     "output_type": "stream",
     "text": [
      "Early stopping is triggered\n"
     ]
    },
    {
     "name": "stderr",
     "output_type": "stream",
     "text": [
      "7it [00:00, 43821.09it/s]\n",
      "3it [00:00, 35951.18it/s]\n",
      "0it [00:00, ?it/s]\n",
      "0it [00:00, ?it/s]\n"
     ]
    },
    {
     "name": "stdout",
     "output_type": "stream",
     "text": [
      "COMPONENTS:  0.0 0.0\n"
     ]
    },
    {
     "name": "stderr",
     "output_type": "stream",
     "text": [
      "7it [00:00, 39837.35it/s]\n",
      "3it [00:00, 22429.43it/s]\n",
      "7it [00:00, 27908.87it/s]\n",
      "3it [00:00, 24867.42it/s]\n",
      "7it [00:00, 4027.45it/s]\n",
      "3it [00:00, 30030.82it/s]\n",
      "7it [00:00, 43240.25it/s]\n",
      "3it [00:00, 19691.57it/s]\n",
      "7it [00:00, 40274.52it/s]\n",
      "3it [00:00, 32939.56it/s]\n",
      "7it [00:00, 47508.30it/s]\n",
      "3it [00:00, 26105.63it/s]\n",
      "7it [00:00, 50360.43it/s]\n",
      "3it [00:00, 27715.67it/s]\n",
      "7it [00:00, 40665.00it/s]\n",
      "3it [00:00, 27473.61it/s]\n",
      "7it [00:00, 26355.59it/s]\n",
      "3it [00:00, 13386.08it/s]\n",
      "7it [00:00, 24507.62it/s]\n",
      "3it [00:00, 26105.63it/s]\n",
      "/home/fhrzn/Projects/AutoTM/autotm/fitness/tm.py:936: RuntimeWarning: Mean of empty slice\n",
      "  \"switchP\": np.nanmean(switchp_scores),\n",
      "INFO:root:Fitness estimation took  0.74\n",
      "INFO:root:Deleting bigartm logs: []\n",
      "2023-08-20 18:38:07,823 - root - INFO - The fitness results have been obtained\n",
      "2023-08-20 18:38:07,824 - GA_algo - INFO - POPULATION IS CREATED\n",
      "2023-08-20 18:38:07,825 - GA_algo - INFO - ENTERING GENERATION 0\n",
      "2023-08-20 18:38:07,826 - GA_algo - INFO - PAIRS ARE CREATED\n",
      "2023-08-20 18:38:07,828 - GA_algo - INFO - CURRENT COUNTER: 9\n",
      "2023-08-20 18:38:07,828 - root - INFO - Calculating fitness...\n",
      "INFO:root:Loading dataset entities\n",
      "INFO:root:Reading dictionary from /tmp/autotm_wd_n57qdety/a1c8fd43-7ba1-482a-b2a4-e4876b057313/dictionary.txt\n",
      "INFO:root:Dataset entities initialization took  0.14\n",
      "INFO:root:Using TM model: <class 'autotm.fitness.tm.TopicModel'> according to fitness name: default, topics count: 10\n",
      "4it [00:00, 59918.63it/s]\n",
      "6it [00:00, 71291.29it/s]\n",
      "0it [00:00, ?it/s]\n",
      "0it [00:00, ?it/s]\n",
      "INFO:root:Building dictionary\n"
     ]
    },
    {
     "name": "stdout",
     "output_type": "stream",
     "text": [
      "Early stopping is triggered\n"
     ]
    },
    {
     "name": "stderr",
     "output_type": "stream",
     "text": [
      "4it [00:00, 29641.72it/s]\n",
      "6it [00:00, 48770.98it/s]\n",
      "0it [00:00, ?it/s]\n",
      "0it [00:00, ?it/s]\n"
     ]
    },
    {
     "name": "stdout",
     "output_type": "stream",
     "text": [
      "COMPONENTS:  0.0 0\n"
     ]
    },
    {
     "name": "stderr",
     "output_type": "stream",
     "text": [
      "4it [00:00, 36002.61it/s]\n",
      "6it [00:00, 46863.73it/s]\n",
      "4it [00:00, 28630.06it/s]\n",
      "6it [00:00, 43389.35it/s]\n",
      "4it [00:00, 27869.13it/s]\n",
      "6it [00:00, 62446.21it/s]\n",
      "4it [00:00, 28102.54it/s]\n",
      "6it [00:00, 26743.70it/s]\n",
      "4it [00:00, 17962.76it/s]\n",
      "6it [00:00, 57456.22it/s]\n",
      "4it [00:00, 25890.77it/s]\n",
      "6it [00:00, 33734.35it/s]\n",
      "4it [00:00, 33756.97it/s]\n",
      "6it [00:00, 48489.06it/s]\n",
      "4it [00:00, 20485.00it/s]\n",
      "6it [00:00, 44073.25it/s]\n",
      "4it [00:00, 17067.36it/s]\n",
      "6it [00:00, 55924.05it/s]\n",
      "4it [00:00, 24070.61it/s]\n",
      "6it [00:00, 55431.33it/s]\n",
      "/home/fhrzn/Projects/AutoTM/autotm/fitness/tm.py:936: RuntimeWarning: Mean of empty slice\n",
      "  \"switchP\": np.nanmean(switchp_scores),\n",
      "INFO:root:Fitness estimation took  0.73\n",
      "INFO:root:Deleting bigartm logs: []\n",
      "INFO:root:Loading dataset entities\n",
      "INFO:root:Reading dictionary from /tmp/autotm_wd_n57qdety/a1c8fd43-7ba1-482a-b2a4-e4876b057313/dictionary.txt\n",
      "INFO:root:Dataset entities initialization took  0.17\n",
      "INFO:root:Using TM model: <class 'autotm.fitness.tm.TopicModel'> according to fitness name: default, topics count: 10\n",
      "4it [00:00, 53773.13it/s]\n",
      "6it [00:00, 66930.38it/s]\n",
      "0it [00:00, ?it/s]\n",
      "0it [00:00, ?it/s]\n",
      "INFO:root:Building dictionary\n"
     ]
    },
    {
     "name": "stdout",
     "output_type": "stream",
     "text": [
      "Early stopping is triggered\n"
     ]
    },
    {
     "name": "stderr",
     "output_type": "stream",
     "text": [
      "4it [00:00, 38304.15it/s]\n",
      "6it [00:00, 92862.82it/s]\n",
      "0it [00:00, ?it/s]\n",
      "0it [00:00, ?it/s]\n"
     ]
    },
    {
     "name": "stdout",
     "output_type": "stream",
     "text": [
      "COMPONENTS:  0.0 0\n"
     ]
    },
    {
     "name": "stderr",
     "output_type": "stream",
     "text": [
      "4it [00:00, 30504.03it/s]\n",
      "6it [00:00, 53773.13it/s]\n",
      "4it [00:00, 28055.55it/s]\n",
      "6it [00:00, 52980.68it/s]\n",
      "4it [00:00, 26462.49it/s]\n",
      "6it [00:00, 33376.42it/s]\n",
      "4it [00:00, 43018.50it/s]\n",
      "6it [00:00, 58936.36it/s]\n",
      "4it [00:00, 31068.92it/s]\n",
      "6it [00:00, 37008.56it/s]\n",
      "4it [00:00, 35246.25it/s]\n",
      "6it [00:00, 67288.30it/s]\n",
      "4it [00:00, 35469.80it/s]\n",
      "6it [00:00, 22919.69it/s]\n",
      "4it [00:00, 12035.31it/s]\n",
      "6it [00:00, 69711.42it/s]\n",
      "4it [00:00, 28532.68it/s]\n",
      "6it [00:00, 10123.02it/s]\n",
      "4it [00:00, 36472.21it/s]\n",
      "6it [00:00, 38304.15it/s]\n",
      "/home/fhrzn/Projects/AutoTM/autotm/fitness/tm.py:936: RuntimeWarning: Mean of empty slice\n",
      "  \"switchP\": np.nanmean(switchp_scores),\n",
      "INFO:root:Fitness estimation took  0.76\n",
      "INFO:root:Deleting bigartm logs: []\n",
      "INFO:root:Loading dataset entities\n",
      "INFO:root:Reading dictionary from /tmp/autotm_wd_n57qdety/a1c8fd43-7ba1-482a-b2a4-e4876b057313/dictionary.txt\n",
      "INFO:root:Dataset entities initialization took  0.15\n",
      "INFO:root:Using TM model: <class 'autotm.fitness.tm.TopicModel'> according to fitness name: default, topics count: 10\n",
      "10it [00:00, 637.63it/s]\n",
      "0it [00:00, ?it/s]\n",
      "0it [00:00, ?it/s]\n",
      "0it [00:00, ?it/s]\n",
      "10it [00:00, 702.62it/s]\n",
      "0it [00:00, ?it/s]\n",
      "0it [00:00, ?it/s]\n",
      "0it [00:00, ?it/s]\n",
      "10it [00:00, 774.90it/s]\n",
      "0it [00:00, ?it/s]\n",
      "0it [00:00, ?it/s]\n",
      "0it [00:00, ?it/s]\n",
      "10it [00:00, 729.75it/s]\n",
      "0it [00:00, ?it/s]\n",
      "0it [00:00, ?it/s]\n",
      "0it [00:00, ?it/s]\n",
      "INFO:root:Building dictionary\n"
     ]
    },
    {
     "name": "stdout",
     "output_type": "stream",
     "text": [
      "Training is complete\n",
      "Wow! all topics\n"
     ]
    },
    {
     "name": "stderr",
     "output_type": "stream",
     "text": [
      "10it [00:00, 615.52it/s]\n",
      "0it [00:00, ?it/s]\n",
      "0it [00:00, ?it/s]\n",
      "0it [00:00, ?it/s]\n"
     ]
    },
    {
     "name": "stdout",
     "output_type": "stream",
     "text": [
      "COMPONENTS:  0.4754919673078965 0.3891480665191247\n"
     ]
    },
    {
     "name": "stderr",
     "output_type": "stream",
     "text": [
      "10it [00:00, 10721.64it/s]\n",
      "0it [00:00, ?it/s]\n",
      "10it [00:00, 4833.26it/s]\n",
      "0it [00:00, ?it/s]\n",
      "10it [00:00, 4145.39it/s]\n",
      "0it [00:00, ?it/s]\n",
      "10it [00:00, 2021.55it/s]\n",
      "0it [00:00, ?it/s]\n",
      "10it [00:00, 1419.58it/s]\n",
      "0it [00:00, ?it/s]\n",
      "10it [00:00, 1327.19it/s]\n",
      "0it [00:00, ?it/s]\n",
      "10it [00:00, 870.93it/s]\n",
      "0it [00:00, ?it/s]\n",
      "10it [00:00, 547.27it/s]\n",
      "0it [00:00, ?it/s]\n",
      "10it [00:00, 422.75it/s]\n",
      "0it [00:00, ?it/s]\n",
      "10it [00:00, 364.12it/s]\n",
      "0it [00:00, ?it/s]\n",
      "/home/fhrzn/Projects/AutoTM/autotm/fitness/tm.py:936: RuntimeWarning: Mean of empty slice\n",
      "  \"switchP\": np.nanmean(switchp_scores),\n",
      "INFO:root:Fitness estimation took  1.61\n",
      "INFO:root:Deleting bigartm logs: []\n",
      "INFO:root:Loading dataset entities\n",
      "INFO:root:Reading dictionary from /tmp/autotm_wd_n57qdety/a1c8fd43-7ba1-482a-b2a4-e4876b057313/dictionary.txt\n",
      "INFO:root:Dataset entities initialization took  0.15\n",
      "INFO:root:Using TM model: <class 'autotm.fitness.tm.TopicModel'> according to fitness name: default, topics count: 10\n",
      "10it [00:00, 890.85it/s]\n",
      "0it [00:00, ?it/s]\n",
      "0it [00:00, ?it/s]\n",
      "0it [00:00, ?it/s]\n",
      "10it [00:00, 713.17it/s]\n",
      "0it [00:00, ?it/s]\n",
      "0it [00:00, ?it/s]\n",
      "0it [00:00, ?it/s]\n",
      "10it [00:00, 763.75it/s]\n",
      "0it [00:00, ?it/s]\n",
      "0it [00:00, ?it/s]\n",
      "0it [00:00, ?it/s]\n",
      "10it [00:00, 736.85it/s]\n",
      "0it [00:00, ?it/s]\n",
      "0it [00:00, ?it/s]\n",
      "0it [00:00, ?it/s]\n",
      "INFO:root:Building dictionary\n"
     ]
    },
    {
     "name": "stdout",
     "output_type": "stream",
     "text": [
      "Training is complete\n",
      "Wow! all topics\n"
     ]
    },
    {
     "name": "stderr",
     "output_type": "stream",
     "text": [
      "10it [00:00, 553.78it/s]\n",
      "0it [00:00, ?it/s]\n",
      "0it [00:00, ?it/s]\n",
      "0it [00:00, ?it/s]\n"
     ]
    },
    {
     "name": "stdout",
     "output_type": "stream",
     "text": [
      "COMPONENTS:  0.47268861448595373 0.36618383723588754\n"
     ]
    },
    {
     "name": "stderr",
     "output_type": "stream",
     "text": [
      "10it [00:00, 10070.36it/s]\n",
      "0it [00:00, ?it/s]\n",
      "10it [00:00, 9027.77it/s]\n",
      "0it [00:00, ?it/s]\n",
      "10it [00:00, 2476.12it/s]\n",
      "0it [00:00, ?it/s]\n",
      "10it [00:00, 2426.84it/s]\n",
      "0it [00:00, ?it/s]\n",
      "10it [00:00, 1730.47it/s]\n",
      "0it [00:00, ?it/s]\n",
      "10it [00:00, 1181.03it/s]\n",
      "0it [00:00, ?it/s]\n",
      "10it [00:00, 747.10it/s]\n",
      "0it [00:00, ?it/s]\n",
      "10it [00:00, 884.50it/s]\n",
      "0it [00:00, ?it/s]\n",
      "10it [00:00, 552.65it/s]\n",
      "0it [00:00, ?it/s]\n",
      "10it [00:00, 492.45it/s]\n",
      "0it [00:00, ?it/s]\n",
      "/home/fhrzn/Projects/AutoTM/autotm/fitness/tm.py:936: RuntimeWarning: Mean of empty slice\n",
      "  \"switchP\": np.nanmean(switchp_scores),\n",
      "INFO:root:Fitness estimation took  1.87\n",
      "INFO:root:Deleting bigartm logs: []\n",
      "INFO:root:Loading dataset entities\n",
      "INFO:root:Reading dictionary from /tmp/autotm_wd_n57qdety/a1c8fd43-7ba1-482a-b2a4-e4876b057313/dictionary.txt\n",
      "INFO:root:Dataset entities initialization took  0.15\n",
      "INFO:root:Using TM model: <class 'autotm.fitness.tm.TopicModel'> according to fitness name: default, topics count: 10\n",
      "10it [00:00, 800.06it/s]\n",
      "0it [00:00, ?it/s]\n",
      "0it [00:00, ?it/s]\n",
      "0it [00:00, ?it/s]\n",
      "10it [00:00, 591.46it/s]\n",
      "0it [00:00, ?it/s]\n",
      "0it [00:00, ?it/s]\n",
      "0it [00:00, ?it/s]\n",
      "10it [00:00, 945.54it/s]\n",
      "0it [00:00, ?it/s]\n",
      "0it [00:00, ?it/s]\n",
      "0it [00:00, ?it/s]\n",
      "10it [00:00, 633.35it/s]\n",
      "0it [00:00, ?it/s]\n",
      "0it [00:00, ?it/s]\n",
      "0it [00:00, ?it/s]\n",
      "INFO:root:Building dictionary\n"
     ]
    },
    {
     "name": "stdout",
     "output_type": "stream",
     "text": [
      "Training is complete\n",
      "Wow! all topics\n"
     ]
    },
    {
     "name": "stderr",
     "output_type": "stream",
     "text": [
      "10it [00:00, 623.00it/s]\n",
      "0it [00:00, ?it/s]\n",
      "0it [00:00, ?it/s]\n",
      "0it [00:00, ?it/s]\n"
     ]
    },
    {
     "name": "stdout",
     "output_type": "stream",
     "text": [
      "COMPONENTS:  0.47268861448595373 0.36618383723588754\n"
     ]
    },
    {
     "name": "stderr",
     "output_type": "stream",
     "text": [
      "10it [00:00, 9082.51it/s]\n",
      "0it [00:00, ?it/s]\n",
      "10it [00:00, 6241.52it/s]\n",
      "0it [00:00, ?it/s]\n",
      "10it [00:00, 3884.69it/s]\n",
      "0it [00:00, ?it/s]\n",
      "10it [00:00, 2947.92it/s]\n",
      "0it [00:00, ?it/s]\n",
      "10it [00:00, 1762.31it/s]\n",
      "0it [00:00, ?it/s]\n",
      "10it [00:00, 1131.85it/s]\n",
      "0it [00:00, ?it/s]\n",
      "10it [00:00, 966.30it/s]\n",
      "0it [00:00, ?it/s]\n",
      "10it [00:00, 897.91it/s]\n",
      "0it [00:00, ?it/s]\n",
      "10it [00:00, 495.87it/s]\n",
      "0it [00:00, ?it/s]\n",
      "10it [00:00, 495.80it/s]\n",
      "0it [00:00, ?it/s]\n",
      "/home/fhrzn/Projects/AutoTM/autotm/fitness/tm.py:936: RuntimeWarning: Mean of empty slice\n",
      "  \"switchP\": np.nanmean(switchp_scores),\n",
      "INFO:root:Fitness estimation took  1.89\n",
      "INFO:root:Deleting bigartm logs: []\n",
      "2023-08-20 18:38:15,067 - root - INFO - The fitness results have been obtained\n",
      "2023-08-20 18:38:15,068 - GA_algo - INFO - ize of the new generation is 5\n",
      "2023-08-20 18:38:15,069 - GA_algo - INFO - TIME OF THE FITNESS FUNCTION IN CROSSOVER: 7.240384817123413\n",
      "2023-08-20 18:38:15,069 - GA_algo - INFO - CROSSOVER IS OVER\n",
      "2023-08-20 18:38:15,329 - root - INFO - Calculating fitness...\n",
      "INFO:root:Loading dataset entities\n",
      "INFO:root:Reading dictionary from /tmp/autotm_wd_n57qdety/a1c8fd43-7ba1-482a-b2a4-e4876b057313/dictionary.txt\n",
      "INFO:root:Dataset entities initialization took  0.14\n",
      "INFO:root:Using TM model: <class 'autotm.fitness.tm.TopicModel'> according to fitness name: default, topics count: 10\n",
      "10it [00:00, 821.17it/s]\n",
      "0it [00:00, ?it/s]\n",
      "0it [00:00, ?it/s]\n",
      "0it [00:00, ?it/s]\n",
      "10it [00:00, 659.96it/s]\n",
      "0it [00:00, ?it/s]\n",
      "0it [00:00, ?it/s]\n",
      "0it [00:00, ?it/s]\n",
      "10it [00:00, 780.95it/s]\n",
      "0it [00:00, ?it/s]\n",
      "0it [00:00, ?it/s]\n",
      "0it [00:00, ?it/s]\n",
      "10it [00:00, 861.25it/s]\n",
      "0it [00:00, ?it/s]\n",
      "0it [00:00, ?it/s]\n",
      "0it [00:00, ?it/s]\n",
      "INFO:root:Building dictionary\n"
     ]
    },
    {
     "name": "stdout",
     "output_type": "stream",
     "text": [
      "Training is complete\n",
      "Wow! all topics\n"
     ]
    },
    {
     "name": "stderr",
     "output_type": "stream",
     "text": [
      "10it [00:00, 861.16it/s]\n",
      "0it [00:00, ?it/s]\n",
      "0it [00:00, ?it/s]\n",
      "0it [00:00, ?it/s]\n"
     ]
    },
    {
     "name": "stdout",
     "output_type": "stream",
     "text": [
      "COMPONENTS:  0.4795999886457885 0.3891480665191247\n"
     ]
    },
    {
     "name": "stderr",
     "output_type": "stream",
     "text": [
      "10it [00:00, 21161.98it/s]\n",
      "0it [00:00, ?it/s]\n",
      "10it [00:00, 3921.74it/s]\n",
      "0it [00:00, ?it/s]\n",
      "10it [00:00, 5018.91it/s]\n",
      "0it [00:00, ?it/s]\n",
      "10it [00:00, 2873.99it/s]\n",
      "0it [00:00, ?it/s]\n",
      "10it [00:00, 1603.39it/s]\n",
      "0it [00:00, ?it/s]\n",
      "10it [00:00, 1145.61it/s]\n",
      "0it [00:00, ?it/s]\n",
      "10it [00:00, 1076.51it/s]\n",
      "0it [00:00, ?it/s]\n",
      "10it [00:00, 866.43it/s]\n",
      "0it [00:00, ?it/s]\n",
      "10it [00:00, 635.54it/s]\n",
      "0it [00:00, ?it/s]\n",
      "10it [00:00, 596.66it/s]\n",
      "0it [00:00, ?it/s]\n",
      "/home/fhrzn/Projects/AutoTM/autotm/fitness/tm.py:936: RuntimeWarning: Mean of empty slice\n",
      "  \"switchP\": np.nanmean(switchp_scores),\n",
      "INFO:root:Fitness estimation took  1.38\n",
      "INFO:root:Deleting bigartm logs: []\n",
      "INFO:root:Loading dataset entities\n",
      "INFO:root:Reading dictionary from /tmp/autotm_wd_n57qdety/a1c8fd43-7ba1-482a-b2a4-e4876b057313/dictionary.txt\n",
      "INFO:root:Dataset entities initialization took  0.12\n",
      "INFO:root:Using TM model: <class 'autotm.fitness.tm.TopicModel'> according to fitness name: default, topics count: 10\n",
      "WARNING:root:Fitness calculation problem\n",
      "INFO:root:Fitness estimation took  0.13\n",
      "INFO:root:Deleting bigartm logs: []\n",
      "INFO:root:Loading dataset entities\n",
      "INFO:root:Reading dictionary from /tmp/autotm_wd_n57qdety/a1c8fd43-7ba1-482a-b2a4-e4876b057313/dictionary.txt\n",
      "INFO:root:Dataset entities initialization took  0.13\n",
      "INFO:root:Using TM model: <class 'autotm.fitness.tm.TopicModel'> according to fitness name: default, topics count: 10\n",
      "10it [00:00, 771.81it/s]\n",
      "0it [00:00, ?it/s]\n",
      "0it [00:00, ?it/s]\n",
      "0it [00:00, ?it/s]\n",
      "10it [00:00, 828.32it/s]\n",
      "0it [00:00, ?it/s]\n",
      "0it [00:00, ?it/s]\n",
      "0it [00:00, ?it/s]\n",
      "10it [00:00, 678.32it/s]\n",
      "0it [00:00, ?it/s]\n",
      "0it [00:00, ?it/s]\n",
      "0it [00:00, ?it/s]\n",
      "10it [00:00, 703.53it/s]\n",
      "0it [00:00, ?it/s]\n",
      "0it [00:00, ?it/s]\n",
      "0it [00:00, ?it/s]\n",
      "INFO:root:Building dictionary\n"
     ]
    },
    {
     "name": "stdout",
     "output_type": "stream",
     "text": [
      "Training is complete\n",
      "Wow! all topics\n"
     ]
    },
    {
     "name": "stderr",
     "output_type": "stream",
     "text": [
      "10it [00:00, 904.02it/s]\n",
      "0it [00:00, ?it/s]\n",
      "0it [00:00, ?it/s]\n",
      "0it [00:00, ?it/s]\n"
     ]
    },
    {
     "name": "stdout",
     "output_type": "stream",
     "text": [
      "COMPONENTS:  0.47268861448595373 0.36618383723588754\n"
     ]
    },
    {
     "name": "stderr",
     "output_type": "stream",
     "text": [
      "10it [00:00, 12264.05it/s]\n",
      "0it [00:00, ?it/s]\n",
      "10it [00:00, 7044.51it/s]\n",
      "0it [00:00, ?it/s]\n",
      "10it [00:00, 3952.04it/s]\n",
      "0it [00:00, ?it/s]\n",
      "10it [00:00, 2315.89it/s]\n",
      "0it [00:00, ?it/s]\n",
      "10it [00:00, 1476.19it/s]\n",
      "0it [00:00, ?it/s]\n",
      "10it [00:00, 1627.97it/s]\n",
      "0it [00:00, ?it/s]\n",
      "10it [00:00, 1152.09it/s]\n",
      "0it [00:00, ?it/s]\n",
      "10it [00:00, 706.28it/s]\n",
      "0it [00:00, ?it/s]\n",
      "10it [00:00, 741.66it/s]\n",
      "0it [00:00, ?it/s]\n",
      "10it [00:00, 721.58it/s]\n",
      "0it [00:00, ?it/s]\n",
      "/home/fhrzn/Projects/AutoTM/autotm/fitness/tm.py:936: RuntimeWarning: Mean of empty slice\n",
      "  \"switchP\": np.nanmean(switchp_scores),\n",
      "INFO:root:Fitness estimation took  1.53\n",
      "INFO:root:Deleting bigartm logs: []\n",
      "INFO:root:Loading dataset entities\n",
      "INFO:root:Reading dictionary from /tmp/autotm_wd_n57qdety/a1c8fd43-7ba1-482a-b2a4-e4876b057313/dictionary.txt\n",
      "INFO:root:Dataset entities initialization took  0.12\n",
      "INFO:root:Using TM model: <class 'autotm.fitness.tm.TopicModel'> according to fitness name: default, topics count: 10\n",
      "8it [00:00, 14639.80it/s]\n",
      "2it [00:00, 31895.85it/s]\n",
      "3it [00:00, 809.71it/s]\n",
      "0it [00:00, ?it/s]\n",
      "INFO:root:Building dictionary\n"
     ]
    },
    {
     "name": "stdout",
     "output_type": "stream",
     "text": [
      "Early stopping is triggered\n"
     ]
    },
    {
     "name": "stderr",
     "output_type": "stream",
     "text": [
      "8it [00:00, 8220.10it/s]\n",
      "2it [00:00, 28435.96it/s]\n",
      "3it [00:00, 656.45it/s]\n",
      "0it [00:00, ?it/s]\n"
     ]
    },
    {
     "name": "stdout",
     "output_type": "stream",
     "text": [
      "COMPONENTS:  0.013668066683284527 0.0\n"
     ]
    },
    {
     "name": "stderr",
     "output_type": "stream",
     "text": [
      "8it [00:00, 21902.37it/s]\n",
      "2it [00:00, 4324.02it/s]\n",
      "8it [00:00, 13046.05it/s]\n",
      "2it [00:00, 22133.53it/s]\n",
      "8it [00:00, 15427.33it/s]\n",
      "2it [00:00, 13464.86it/s]\n",
      "8it [00:00, 7913.78it/s]\n",
      "2it [00:00, 30727.50it/s]\n",
      "8it [00:00, 7468.16it/s]\n",
      "2it [00:00, 20020.54it/s]\n",
      "8it [00:00, 6729.73it/s]\n",
      "2it [00:00, 33420.75it/s]\n",
      "8it [00:00, 6089.73it/s]\n",
      "2it [00:00, 24385.49it/s]\n",
      "8it [00:00, 6528.10it/s]\n",
      "2it [00:00, 20360.70it/s]\n",
      "8it [00:00, 7740.35it/s]\n",
      "2it [00:00, 26379.27it/s]\n",
      "8it [00:00, 6821.39it/s]\n",
      "2it [00:00, 20213.51it/s]\n",
      "/home/fhrzn/Projects/AutoTM/autotm/fitness/tm.py:936: RuntimeWarning: Mean of empty slice\n",
      "  \"switchP\": np.nanmean(switchp_scores),\n",
      "INFO:root:Fitness estimation took  0.59\n",
      "INFO:root:Deleting bigartm logs: []\n",
      "2023-08-20 18:38:19,195 - root - INFO - The fitness results have been obtained\n",
      "2023-08-20 18:38:19,196 - GA_algo - INFO - TIME OF THE FITNESS FUNCTION IN MUTATION: 3.866995334625244\n",
      "2023-08-20 18:38:19,197 - GA_algo - INFO - MUTATION IS OVER\n",
      "2023-08-20 18:38:19,199 - GA_algo - INFO - Population len 4. Best params so far: [0.0, 25.0, 46.35895265629014, 28.060781323514327, 0.0, -135.7152265418049, 828.053259805924, 0.0, 751.9473023886926, 374.85001133280775, 0.0, 0.0, 0.8010820795812429, 0.18755686623832357, 0.1364483501259669, 0.0], with fitness: 0.8687480551649132.ITERATION TIME: 11.373853206634521DATASET __noname__.TOPICS NUM 10.RUN ID de9ef968-df77-4847-bc8e-ab7211b9badf.\n",
      "2023-08-20 18:38:19,199 - root - INFO - Sending a best individual to be logged\n",
      "INFO:root:Loading dataset entities\n",
      "INFO:root:Reading dictionary from /tmp/autotm_wd_n57qdety/a1c8fd43-7ba1-482a-b2a4-e4876b057313/dictionary.txt\n",
      "INFO:root:Dataset entities initialization took  0.12\n",
      "INFO:root:Using TM model: <class 'autotm.fitness.tm.TopicModel'> according to fitness name: default, topics count: 10\n",
      "10it [00:00, 895.09it/s]\n",
      "0it [00:00, ?it/s]\n",
      "0it [00:00, ?it/s]\n",
      "0it [00:00, ?it/s]\n",
      "10it [00:00, 681.60it/s]\n",
      "0it [00:00, ?it/s]\n",
      "0it [00:00, ?it/s]\n",
      "0it [00:00, ?it/s]\n",
      "10it [00:00, 982.25it/s]\n",
      "0it [00:00, ?it/s]\n",
      "0it [00:00, ?it/s]\n",
      "0it [00:00, ?it/s]\n",
      "10it [00:00, 800.56it/s]\n",
      "0it [00:00, ?it/s]\n",
      "0it [00:00, ?it/s]\n",
      "0it [00:00, ?it/s]\n",
      "INFO:root:Building dictionary\n"
     ]
    },
    {
     "name": "stdout",
     "output_type": "stream",
     "text": [
      "Training is complete\n",
      "Wow! all topics\n"
     ]
    },
    {
     "name": "stderr",
     "output_type": "stream",
     "text": [
      "10it [00:00, 781.59it/s]\n",
      "0it [00:00, ?it/s]\n",
      "0it [00:00, ?it/s]\n",
      "0it [00:00, ?it/s]\n"
     ]
    },
    {
     "name": "stdout",
     "output_type": "stream",
     "text": [
      "COMPONENTS:  0.4795999886457885 0.3891480665191247\n"
     ]
    },
    {
     "name": "stderr",
     "output_type": "stream",
     "text": [
      "10it [00:00, 9412.71it/s]\n",
      "0it [00:00, ?it/s]\n",
      "10it [00:00, 6626.07it/s]\n",
      "0it [00:00, ?it/s]\n",
      "10it [00:00, 3980.17it/s]\n",
      "0it [00:00, ?it/s]\n",
      "10it [00:00, 2403.47it/s]\n",
      "0it [00:00, ?it/s]\n",
      "10it [00:00, 2415.24it/s]\n",
      "0it [00:00, ?it/s]\n",
      "10it [00:00, 1539.02it/s]\n",
      "0it [00:00, ?it/s]\n",
      "10it [00:00, 1390.73it/s]\n",
      "0it [00:00, ?it/s]\n",
      "10it [00:00, 841.74it/s]\n",
      "0it [00:00, ?it/s]\n",
      "10it [00:00, 510.59it/s]\n",
      "0it [00:00, ?it/s]\n",
      "10it [00:00, 657.16it/s]\n",
      "0it [00:00, ?it/s]\n",
      "/home/fhrzn/Projects/AutoTM/autotm/fitness/tm.py:936: RuntimeWarning: Mean of empty slice\n",
      "  \"switchP\": np.nanmean(switchp_scores),\n",
      "INFO:root:Fitness estimation took  1.37\n",
      "INFO:root:Logging params and artifacts to mlflow\n",
      "INFO:root:Created experiment_None\n",
      "INFO:root:Experiment exists, omitting creation\n",
      "INFO:root:Logged params and artifacts to mlflow\n",
      "INFO:root:Deleting bigartm logs: []\n",
      "2023-08-20 18:38:20,755 - GA_algo - INFO - ENTERING GENERATION 1\n",
      "2023-08-20 18:38:20,756 - GA_algo - INFO - PAIRS ARE CREATED\n",
      "2023-08-20 18:38:20,757 - GA_algo - INFO - CURRENT COUNTER: 14\n",
      "2023-08-20 18:38:20,757 - root - INFO - Calculating fitness...\n",
      "INFO:root:Loading dataset entities\n",
      "INFO:root:Reading dictionary from /tmp/autotm_wd_n57qdety/a1c8fd43-7ba1-482a-b2a4-e4876b057313/dictionary.txt\n"
     ]
    },
    {
     "name": "stdout",
     "output_type": "stream",
     "text": [
      "Experiment run name: fitness-__noname__-31becdf3-6eb5-47e5-977b-c5c495472e95_tmp_0\n"
     ]
    },
    {
     "name": "stderr",
     "output_type": "stream",
     "text": [
      "INFO:root:Dataset entities initialization took  0.13\n",
      "INFO:root:Using TM model: <class 'autotm.fitness.tm.TopicModel'> according to fitness name: default, topics count: 10\n",
      "WARNING:root:Fitness calculation problem\n",
      "INFO:root:Fitness estimation took  0.14\n",
      "INFO:root:Deleting bigartm logs: []\n",
      "INFO:root:Loading dataset entities\n",
      "INFO:root:Reading dictionary from /tmp/autotm_wd_n57qdety/a1c8fd43-7ba1-482a-b2a4-e4876b057313/dictionary.txt\n",
      "INFO:root:Dataset entities initialization took  0.12\n",
      "INFO:root:Using TM model: <class 'autotm.fitness.tm.TopicModel'> according to fitness name: default, topics count: 10\n",
      "10it [00:00, 975.81it/s]\n",
      "0it [00:00, ?it/s]\n",
      "0it [00:00, ?it/s]\n",
      "0it [00:00, ?it/s]\n",
      "10it [00:00, 728.25it/s]\n",
      "0it [00:00, ?it/s]\n",
      "0it [00:00, ?it/s]\n",
      "0it [00:00, ?it/s]\n",
      "10it [00:00, 684.93it/s]\n",
      "0it [00:00, ?it/s]\n",
      "0it [00:00, ?it/s]\n",
      "0it [00:00, ?it/s]\n",
      "10it [00:00, 762.77it/s]\n",
      "0it [00:00, ?it/s]\n",
      "0it [00:00, ?it/s]\n",
      "0it [00:00, ?it/s]\n",
      "INFO:root:Building dictionary\n"
     ]
    },
    {
     "name": "stdout",
     "output_type": "stream",
     "text": [
      "Training is complete\n",
      "Wow! all topics\n"
     ]
    },
    {
     "name": "stderr",
     "output_type": "stream",
     "text": [
      "10it [00:00, 718.46it/s]\n",
      "0it [00:00, ?it/s]\n",
      "0it [00:00, ?it/s]\n",
      "0it [00:00, ?it/s]\n"
     ]
    },
    {
     "name": "stdout",
     "output_type": "stream",
     "text": [
      "COMPONENTS:  0.47398968892953997 0.3904442603148159\n"
     ]
    },
    {
     "name": "stderr",
     "output_type": "stream",
     "text": [
      "10it [00:00, 19803.14it/s]\n",
      "0it [00:00, ?it/s]\n",
      "10it [00:00, 7998.29it/s]\n",
      "0it [00:00, ?it/s]\n",
      "10it [00:00, 3852.58it/s]\n",
      "0it [00:00, ?it/s]\n",
      "10it [00:00, 2660.01it/s]\n",
      "0it [00:00, ?it/s]\n",
      "10it [00:00, 1645.86it/s]\n",
      "0it [00:00, ?it/s]\n",
      "10it [00:00, 1400.48it/s]\n",
      "0it [00:00, ?it/s]\n",
      "10it [00:00, 913.99it/s]\n",
      "0it [00:00, ?it/s]\n",
      "10it [00:00, 710.06it/s]\n",
      "0it [00:00, ?it/s]\n",
      "10it [00:00, 820.37it/s]\n",
      "0it [00:00, ?it/s]\n",
      "10it [00:00, 545.97it/s]\n",
      "0it [00:00, ?it/s]\n",
      "/home/fhrzn/Projects/AutoTM/autotm/fitness/tm.py:936: RuntimeWarning: Mean of empty slice\n",
      "  \"switchP\": np.nanmean(switchp_scores),\n",
      "INFO:root:Fitness estimation took  1.26\n",
      "INFO:root:Deleting bigartm logs: []\n",
      "2023-08-20 18:38:22,252 - root - INFO - The fitness results have been obtained\n",
      "2023-08-20 18:38:22,253 - GA_algo - INFO - ize of the new generation is 2\n",
      "2023-08-20 18:38:22,254 - GA_algo - INFO - TIME OF THE FITNESS FUNCTION IN CROSSOVER: 1.4963486194610596\n",
      "2023-08-20 18:38:22,254 - GA_algo - INFO - CROSSOVER IS OVER\n",
      "2023-08-20 18:38:22,461 - root - INFO - Calculating fitness...\n",
      "INFO:root:Loading dataset entities\n",
      "INFO:root:Reading dictionary from /tmp/autotm_wd_n57qdety/a1c8fd43-7ba1-482a-b2a4-e4876b057313/dictionary.txt\n",
      "INFO:root:Dataset entities initialization took  0.13\n",
      "INFO:root:Using TM model: <class 'autotm.fitness.tm.TopicModel'> according to fitness name: default, topics count: 10\n",
      "10it [00:00, 732.94it/s]\n",
      "0it [00:00, ?it/s]\n",
      "0it [00:00, ?it/s]\n",
      "0it [00:00, ?it/s]\n",
      "10it [00:00, 884.26it/s]\n",
      "0it [00:00, ?it/s]\n",
      "0it [00:00, ?it/s]\n",
      "0it [00:00, ?it/s]\n",
      "10it [00:00, 602.34it/s]\n",
      "0it [00:00, ?it/s]\n",
      "0it [00:00, ?it/s]\n",
      "0it [00:00, ?it/s]\n",
      "10it [00:00, 806.05it/s]\n",
      "0it [00:00, ?it/s]\n",
      "0it [00:00, ?it/s]\n",
      "0it [00:00, ?it/s]\n",
      "INFO:root:Building dictionary\n"
     ]
    },
    {
     "name": "stdout",
     "output_type": "stream",
     "text": [
      "Training is complete\n",
      "Wow! all topics\n"
     ]
    },
    {
     "name": "stderr",
     "output_type": "stream",
     "text": [
      "10it [00:00, 770.47it/s]\n",
      "0it [00:00, ?it/s]\n",
      "0it [00:00, ?it/s]\n",
      "0it [00:00, ?it/s]\n"
     ]
    },
    {
     "name": "stdout",
     "output_type": "stream",
     "text": [
      "COMPONENTS:  0.4795999886457885 0.3891480665191247\n"
     ]
    },
    {
     "name": "stderr",
     "output_type": "stream",
     "text": [
      "10it [00:00, 16250.69it/s]\n",
      "0it [00:00, ?it/s]\n",
      "10it [00:00, 6180.82it/s]\n",
      "0it [00:00, ?it/s]\n",
      "10it [00:00, 4818.27it/s]\n",
      "0it [00:00, ?it/s]\n",
      "10it [00:00, 2869.27it/s]\n",
      "0it [00:00, ?it/s]\n",
      "10it [00:00, 1917.75it/s]\n",
      "0it [00:00, ?it/s]\n",
      "10it [00:00, 1478.01it/s]\n",
      "0it [00:00, ?it/s]\n",
      "10it [00:00, 1080.23it/s]\n",
      "0it [00:00, ?it/s]\n",
      "10it [00:00, 1039.15it/s]\n",
      "0it [00:00, ?it/s]\n",
      "10it [00:00, 751.10it/s]\n",
      "0it [00:00, ?it/s]\n",
      "10it [00:00, 579.23it/s]\n",
      "0it [00:00, ?it/s]\n",
      "/home/fhrzn/Projects/AutoTM/autotm/fitness/tm.py:936: RuntimeWarning: Mean of empty slice\n",
      "  \"switchP\": np.nanmean(switchp_scores),\n",
      "INFO:root:Fitness estimation took  1.40\n",
      "INFO:root:Deleting bigartm logs: []\n",
      "INFO:root:Loading dataset entities\n",
      "INFO:root:Reading dictionary from /tmp/autotm_wd_n57qdety/a1c8fd43-7ba1-482a-b2a4-e4876b057313/dictionary.txt\n",
      "INFO:root:Dataset entities initialization took  0.13\n",
      "INFO:root:Using TM model: <class 'autotm.fitness.tm.TopicModel'> according to fitness name: default, topics count: 10\n",
      "10it [00:00, 992.92it/s]\n",
      "0it [00:00, ?it/s]\n",
      "0it [00:00, ?it/s]\n",
      "0it [00:00, ?it/s]\n",
      "10it [00:00, 810.62it/s]\n",
      "0it [00:00, ?it/s]\n",
      "0it [00:00, ?it/s]\n",
      "0it [00:00, ?it/s]\n",
      "10it [00:00, 701.33it/s]\n",
      "0it [00:00, ?it/s]\n",
      "0it [00:00, ?it/s]\n",
      "0it [00:00, ?it/s]\n",
      "10it [00:00, 928.95it/s]\n",
      "0it [00:00, ?it/s]\n",
      "0it [00:00, ?it/s]\n",
      "0it [00:00, ?it/s]\n",
      "INFO:root:Building dictionary\n"
     ]
    },
    {
     "name": "stdout",
     "output_type": "stream",
     "text": [
      "Training is complete\n",
      "Wow! all topics\n"
     ]
    },
    {
     "name": "stderr",
     "output_type": "stream",
     "text": [
      "10it [00:00, 673.56it/s]\n",
      "0it [00:00, ?it/s]\n",
      "0it [00:00, ?it/s]\n",
      "0it [00:00, ?it/s]\n"
     ]
    },
    {
     "name": "stdout",
     "output_type": "stream",
     "text": [
      "COMPONENTS:  0.47398968892953997 0.3904442603148159\n"
     ]
    },
    {
     "name": "stderr",
     "output_type": "stream",
     "text": [
      "10it [00:00, 17932.04it/s]\n",
      "0it [00:00, ?it/s]\n",
      "10it [00:00, 9431.76it/s]\n",
      "0it [00:00, ?it/s]\n",
      "10it [00:00, 3642.47it/s]\n",
      "0it [00:00, ?it/s]\n",
      "10it [00:00, 3063.32it/s]\n",
      "0it [00:00, ?it/s]\n",
      "10it [00:00, 1479.26it/s]\n",
      "0it [00:00, ?it/s]\n",
      "10it [00:00, 1403.29it/s]\n",
      "0it [00:00, ?it/s]\n",
      "10it [00:00, 1173.89it/s]\n",
      "0it [00:00, ?it/s]\n",
      "10it [00:00, 737.03it/s]\n",
      "0it [00:00, ?it/s]\n",
      "10it [00:00, 730.47it/s]\n",
      "0it [00:00, ?it/s]\n",
      "10it [00:00, 688.04it/s]\n",
      "0it [00:00, ?it/s]\n",
      "/home/fhrzn/Projects/AutoTM/autotm/fitness/tm.py:936: RuntimeWarning: Mean of empty slice\n",
      "  \"switchP\": np.nanmean(switchp_scores),\n",
      "INFO:root:Fitness estimation took  1.25\n",
      "INFO:root:Deleting bigartm logs: []\n",
      "INFO:root:Loading dataset entities\n",
      "INFO:root:Reading dictionary from /tmp/autotm_wd_n57qdety/a1c8fd43-7ba1-482a-b2a4-e4876b057313/dictionary.txt\n",
      "INFO:root:Dataset entities initialization took  0.12\n",
      "INFO:root:Using TM model: <class 'autotm.fitness.tm.TopicModel'> according to fitness name: default, topics count: 10\n",
      "10it [00:00, 545.59it/s]\n",
      "0it [00:00, ?it/s]\n",
      "0it [00:00, ?it/s]\n",
      "0it [00:00, ?it/s]\n",
      "10it [00:00, 970.84it/s]\n",
      "0it [00:00, ?it/s]\n",
      "0it [00:00, ?it/s]\n",
      "0it [00:00, ?it/s]\n",
      "10it [00:00, 950.21it/s]\n",
      "0it [00:00, ?it/s]\n",
      "0it [00:00, ?it/s]\n",
      "0it [00:00, ?it/s]\n",
      "10it [00:00, 562.50it/s]\n",
      "0it [00:00, ?it/s]\n",
      "0it [00:00, ?it/s]\n",
      "0it [00:00, ?it/s]\n",
      "INFO:root:Building dictionary\n"
     ]
    },
    {
     "name": "stdout",
     "output_type": "stream",
     "text": [
      "Training is complete\n",
      "Wow! all topics\n"
     ]
    },
    {
     "name": "stderr",
     "output_type": "stream",
     "text": [
      "10it [00:00, 810.76it/s]\n",
      "0it [00:00, ?it/s]\n",
      "0it [00:00, ?it/s]\n",
      "0it [00:00, ?it/s]\n"
     ]
    },
    {
     "name": "stdout",
     "output_type": "stream",
     "text": [
      "COMPONENTS:  0.47268861448595373 0.36618383723588754\n"
     ]
    },
    {
     "name": "stderr",
     "output_type": "stream",
     "text": [
      "10it [00:00, 7601.13it/s]\n",
      "0it [00:00, ?it/s]\n",
      "10it [00:00, 10407.70it/s]\n",
      "0it [00:00, ?it/s]\n",
      "10it [00:00, 3912.96it/s]\n",
      "0it [00:00, ?it/s]\n",
      "10it [00:00, 2414.40it/s]\n",
      "0it [00:00, ?it/s]\n",
      "10it [00:00, 2389.78it/s]\n",
      "0it [00:00, ?it/s]\n",
      "10it [00:00, 1694.19it/s]\n",
      "0it [00:00, ?it/s]\n",
      "10it [00:00, 1667.91it/s]\n",
      "0it [00:00, ?it/s]\n",
      "10it [00:00, 880.18it/s]\n",
      "0it [00:00, ?it/s]\n",
      "10it [00:00, 791.71it/s]\n",
      "0it [00:00, ?it/s]\n",
      "10it [00:00, 830.56it/s]\n",
      "0it [00:00, ?it/s]\n",
      "/home/fhrzn/Projects/AutoTM/autotm/fitness/tm.py:936: RuntimeWarning: Mean of empty slice\n",
      "  \"switchP\": np.nanmean(switchp_scores),\n",
      "INFO:root:Fitness estimation took  1.57\n",
      "INFO:root:Deleting bigartm logs: []\n",
      "INFO:root:Loading dataset entities\n",
      "INFO:root:Reading dictionary from /tmp/autotm_wd_n57qdety/a1c8fd43-7ba1-482a-b2a4-e4876b057313/dictionary.txt\n",
      "INFO:root:Dataset entities initialization took  0.13\n",
      "INFO:root:Using TM model: <class 'autotm.fitness.tm.TopicModel'> according to fitness name: default, topics count: 10\n",
      "WARNING:root:Fitness calculation problem\n",
      "INFO:root:Fitness estimation took  0.14\n",
      "INFO:root:Deleting bigartm logs: []\n",
      "2023-08-20 18:38:27,044 - root - INFO - The fitness results have been obtained\n",
      "2023-08-20 18:38:27,045 - GA_algo - INFO - TIME OF THE FITNESS FUNCTION IN MUTATION: 4.583338022232056\n",
      "2023-08-20 18:38:27,045 - GA_algo - INFO - MUTATION IS OVER\n",
      "2023-08-20 18:38:27,046 - GA_algo - INFO - Population len 4. Best params so far: [0.0, 25.0, 46.35895265629014, 28.060781323514327, 0.0, -135.7152265418049, 828.053259805924, 0.0, 751.9473023886926, 374.85001133280775, 0.0, 0.0, 0.8010820795812429, 0.18755686623832357, 0.1364483501259669, 0.0], with fitness: 0.8687480551649132.ITERATION TIME: 6.291147947311401DATASET __noname__.TOPICS NUM 10.RUN ID de9ef968-df77-4847-bc8e-ab7211b9badf.\n",
      "2023-08-20 18:38:27,047 - root - INFO - Sending a best individual to be logged\n",
      "INFO:root:Loading dataset entities\n",
      "INFO:root:Reading dictionary from /tmp/autotm_wd_n57qdety/a1c8fd43-7ba1-482a-b2a4-e4876b057313/dictionary.txt\n",
      "INFO:root:Dataset entities initialization took  0.12\n",
      "INFO:root:Using TM model: <class 'autotm.fitness.tm.TopicModel'> according to fitness name: default, topics count: 10\n",
      "10it [00:00, 632.62it/s]\n",
      "0it [00:00, ?it/s]\n",
      "0it [00:00, ?it/s]\n",
      "0it [00:00, ?it/s]\n",
      "10it [00:00, 829.72it/s]\n",
      "0it [00:00, ?it/s]\n",
      "0it [00:00, ?it/s]\n",
      "0it [00:00, ?it/s]\n",
      "10it [00:00, 725.48it/s]\n",
      "0it [00:00, ?it/s]\n",
      "0it [00:00, ?it/s]\n",
      "0it [00:00, ?it/s]\n",
      "10it [00:00, 797.96it/s]\n",
      "0it [00:00, ?it/s]\n",
      "0it [00:00, ?it/s]\n",
      "0it [00:00, ?it/s]\n",
      "INFO:root:Building dictionary\n"
     ]
    },
    {
     "name": "stdout",
     "output_type": "stream",
     "text": [
      "Training is complete\n",
      "Wow! all topics\n"
     ]
    },
    {
     "name": "stderr",
     "output_type": "stream",
     "text": [
      "10it [00:00, 775.82it/s]\n",
      "0it [00:00, ?it/s]\n",
      "0it [00:00, ?it/s]\n",
      "0it [00:00, ?it/s]\n"
     ]
    },
    {
     "name": "stdout",
     "output_type": "stream",
     "text": [
      "COMPONENTS:  0.4795999886457885 0.3891480665191247\n"
     ]
    },
    {
     "name": "stderr",
     "output_type": "stream",
     "text": [
      "10it [00:00, 13622.29it/s]\n",
      "0it [00:00, ?it/s]\n",
      "10it [00:00, 7401.28it/s]\n",
      "0it [00:00, ?it/s]\n",
      "10it [00:00, 4341.48it/s]\n",
      "0it [00:00, ?it/s]\n",
      "10it [00:00, 2460.15it/s]\n",
      "0it [00:00, ?it/s]\n",
      "10it [00:00, 1578.35it/s]\n",
      "0it [00:00, ?it/s]\n",
      "10it [00:00, 1499.47it/s]\n",
      "0it [00:00, ?it/s]\n",
      "10it [00:00, 1110.93it/s]\n",
      "0it [00:00, ?it/s]\n",
      "10it [00:00, 1043.33it/s]\n",
      "0it [00:00, ?it/s]\n",
      "10it [00:00, 625.74it/s]\n",
      "0it [00:00, ?it/s]\n",
      "10it [00:00, 585.25it/s]\n",
      "0it [00:00, ?it/s]\n",
      "/home/fhrzn/Projects/AutoTM/autotm/fitness/tm.py:936: RuntimeWarning: Mean of empty slice\n",
      "  \"switchP\": np.nanmean(switchp_scores),\n",
      "INFO:root:Fitness estimation took  1.36\n",
      "INFO:root:Logging params and artifacts to mlflow\n",
      "INFO:root:Created experiment_None\n",
      "INFO:root:Experiment exists, omitting creation\n",
      "INFO:root:Logged params and artifacts to mlflow\n",
      "INFO:root:Deleting bigartm logs: []\n",
      "2023-08-20 18:38:28,578 - GA_algo - INFO - Y: [0.8687480551649132, 0.8687480551649132]\n",
      "2023-08-20 18:38:28,578 - root - INFO - Sending a best individual to be logged\n",
      "INFO:root:Loading dataset entities\n",
      "INFO:root:Reading dictionary from /tmp/autotm_wd_n57qdety/a1c8fd43-7ba1-482a-b2a4-e4876b057313/dictionary.txt\n"
     ]
    },
    {
     "name": "stdout",
     "output_type": "stream",
     "text": [
      "Experiment run name: fitness-__noname__-bcfda32e-842f-4a46-bc37-b90f15f842da_tmp_1\n"
     ]
    },
    {
     "name": "stderr",
     "output_type": "stream",
     "text": [
      "INFO:root:Dataset entities initialization took  0.12\n",
      "INFO:root:Using TM model: <class 'autotm.fitness.tm.TopicModel'> according to fitness name: default, topics count: 10\n",
      "10it [00:00, 917.87it/s]\n",
      "0it [00:00, ?it/s]\n",
      "0it [00:00, ?it/s]\n",
      "0it [00:00, ?it/s]\n",
      "10it [00:00, 704.77it/s]\n",
      "0it [00:00, ?it/s]\n",
      "0it [00:00, ?it/s]\n",
      "0it [00:00, ?it/s]\n",
      "10it [00:00, 597.91it/s]\n",
      "0it [00:00, ?it/s]\n",
      "0it [00:00, ?it/s]\n",
      "0it [00:00, ?it/s]\n",
      "10it [00:00, 862.74it/s]\n",
      "0it [00:00, ?it/s]\n",
      "0it [00:00, ?it/s]\n",
      "0it [00:00, ?it/s]\n",
      "INFO:root:Building dictionary\n"
     ]
    },
    {
     "name": "stdout",
     "output_type": "stream",
     "text": [
      "Training is complete\n",
      "Wow! all topics\n"
     ]
    },
    {
     "name": "stderr",
     "output_type": "stream",
     "text": [
      "10it [00:00, 573.05it/s]\n",
      "0it [00:00, ?it/s]\n",
      "0it [00:00, ?it/s]\n",
      "0it [00:00, ?it/s]\n"
     ]
    },
    {
     "name": "stdout",
     "output_type": "stream",
     "text": [
      "COMPONENTS:  0.4795999886457885 0.3891480665191247\n"
     ]
    },
    {
     "name": "stderr",
     "output_type": "stream",
     "text": [
      "10it [00:00, 10760.14it/s]\n",
      "0it [00:00, ?it/s]\n",
      "10it [00:00, 5831.09it/s]\n",
      "0it [00:00, ?it/s]\n",
      "10it [00:00, 2924.90it/s]\n",
      "0it [00:00, ?it/s]\n",
      "10it [00:00, 2001.00it/s]\n",
      "0it [00:00, ?it/s]\n",
      "10it [00:00, 1754.57it/s]\n",
      "0it [00:00, ?it/s]\n",
      "10it [00:00, 1204.95it/s]\n",
      "0it [00:00, ?it/s]\n",
      "10it [00:00, 1017.79it/s]\n",
      "0it [00:00, ?it/s]\n",
      "10it [00:00, 686.01it/s]\n",
      "0it [00:00, ?it/s]\n",
      "10it [00:00, 593.11it/s]\n",
      "0it [00:00, ?it/s]\n",
      "10it [00:00, 610.76it/s]\n",
      "0it [00:00, ?it/s]\n",
      "/home/fhrzn/Projects/AutoTM/autotm/fitness/tm.py:936: RuntimeWarning: Mean of empty slice\n",
      "  \"switchP\": np.nanmean(switchp_scores),\n",
      "INFO:root:Fitness estimation took  1.44\n",
      "INFO:root:Logging params and artifacts to mlflow\n",
      "INFO:root:Created experiment_None\n",
      "INFO:root:Experiment exists, omitting creation\n",
      "INFO:root:Logged params and artifacts to mlflow\n",
      "INFO:root:Deleting bigartm logs: []\n",
      "2023-08-20 18:38:30,206 - GA_algo - INFO - Logged the best solution. Obtained fitness is 0.8687480551649132\n",
      "INFO:root:Loading dataset entities\n",
      "INFO:root:Reading dictionary from /tmp/autotm_wd_n57qdety/a1c8fd43-7ba1-482a-b2a4-e4876b057313/dictionary.txt\n"
     ]
    },
    {
     "name": "stdout",
     "output_type": "stream",
     "text": [
      "Experiment run name: fitness-__noname__-244ea494-dec5-4439-8ebf-43bc8130538f\n"
     ]
    },
    {
     "name": "stderr",
     "output_type": "stream",
     "text": [
      "INFO:root:Dataset entities initialization took  0.13\n",
      "10it [00:00, 818.37it/s]\n",
      "0it [00:00, ?it/s]\n",
      "0it [00:00, ?it/s]\n",
      "0it [00:00, ?it/s]\n",
      "10it [00:00, 652.18it/s]\n",
      "0it [00:00, ?it/s]\n",
      "0it [00:00, ?it/s]\n",
      "0it [00:00, ?it/s]\n",
      "10it [00:00, 875.05it/s]\n",
      "0it [00:00, ?it/s]\n",
      "0it [00:00, ?it/s]\n",
      "0it [00:00, ?it/s]\n",
      "10it [00:00, 829.08it/s]\n",
      "0it [00:00, ?it/s]\n",
      "0it [00:00, ?it/s]\n",
      "0it [00:00, ?it/s]\n"
     ]
    },
    {
     "name": "stdout",
     "output_type": "stream",
     "text": [
      "Training is complete\n",
      "Saving model to /home/fhrzn/Projects/AutoTM/examples/artm.model\n"
     ]
    }
   ],
   "source": [
    "with prepare_working_dir() as wdir:\n",
    "\n",
    "    autotm = AutoTM(\n",
    "        **config,\n",
    "        working_dir_path=wdir\n",
    "    )\n",
    "\n",
    "    autotm.fit(data_transformer.data)    \n",
    "    model_name = \"artm.model\"\n",
    "    autotm.save(model_name, overwrite=True)\n",
    "    print(f\"Saving model to {os.path.abspath(model_name)}\")"
   ]
  },
  {
   "attachments": {},
   "cell_type": "markdown",
   "metadata": {},
   "source": [
    "Use trained model for prediction"
   ]
  },
  {
   "cell_type": "code",
   "execution_count": 11,
   "metadata": {},
   "outputs": [
    {
     "data": {
      "text/html": [
       "<style>#sk-container-id-1 {color: black;background-color: white;}#sk-container-id-1 pre{padding: 0;}#sk-container-id-1 div.sk-toggleable {background-color: white;}#sk-container-id-1 label.sk-toggleable__label {cursor: pointer;display: block;width: 100%;margin-bottom: 0;padding: 0.3em;box-sizing: border-box;text-align: center;}#sk-container-id-1 label.sk-toggleable__label-arrow:before {content: \"▸\";float: left;margin-right: 0.25em;color: #696969;}#sk-container-id-1 label.sk-toggleable__label-arrow:hover:before {color: black;}#sk-container-id-1 div.sk-estimator:hover label.sk-toggleable__label-arrow:before {color: black;}#sk-container-id-1 div.sk-toggleable__content {max-height: 0;max-width: 0;overflow: hidden;text-align: left;background-color: #f0f8ff;}#sk-container-id-1 div.sk-toggleable__content pre {margin: 0.2em;color: black;border-radius: 0.25em;background-color: #f0f8ff;}#sk-container-id-1 input.sk-toggleable__control:checked~div.sk-toggleable__content {max-height: 200px;max-width: 100%;overflow: auto;}#sk-container-id-1 input.sk-toggleable__control:checked~label.sk-toggleable__label-arrow:before {content: \"▾\";}#sk-container-id-1 div.sk-estimator input.sk-toggleable__control:checked~label.sk-toggleable__label {background-color: #d4ebff;}#sk-container-id-1 div.sk-label input.sk-toggleable__control:checked~label.sk-toggleable__label {background-color: #d4ebff;}#sk-container-id-1 input.sk-hidden--visually {border: 0;clip: rect(1px 1px 1px 1px);clip: rect(1px, 1px, 1px, 1px);height: 1px;margin: -1px;overflow: hidden;padding: 0;position: absolute;width: 1px;}#sk-container-id-1 div.sk-estimator {font-family: monospace;background-color: #f0f8ff;border: 1px dotted black;border-radius: 0.25em;box-sizing: border-box;margin-bottom: 0.5em;}#sk-container-id-1 div.sk-estimator:hover {background-color: #d4ebff;}#sk-container-id-1 div.sk-parallel-item::after {content: \"\";width: 100%;border-bottom: 1px solid gray;flex-grow: 1;}#sk-container-id-1 div.sk-label:hover label.sk-toggleable__label {background-color: #d4ebff;}#sk-container-id-1 div.sk-serial::before {content: \"\";position: absolute;border-left: 1px solid gray;box-sizing: border-box;top: 0;bottom: 0;left: 50%;z-index: 0;}#sk-container-id-1 div.sk-serial {display: flex;flex-direction: column;align-items: center;background-color: white;padding-right: 0.2em;padding-left: 0.2em;position: relative;}#sk-container-id-1 div.sk-item {position: relative;z-index: 1;}#sk-container-id-1 div.sk-parallel {display: flex;align-items: stretch;justify-content: center;background-color: white;position: relative;}#sk-container-id-1 div.sk-item::before, #sk-container-id-1 div.sk-parallel-item::before {content: \"\";position: absolute;border-left: 1px solid gray;box-sizing: border-box;top: 0;bottom: 0;left: 50%;z-index: -1;}#sk-container-id-1 div.sk-parallel-item {display: flex;flex-direction: column;z-index: 1;position: relative;background-color: white;}#sk-container-id-1 div.sk-parallel-item:first-child::after {align-self: flex-end;width: 50%;}#sk-container-id-1 div.sk-parallel-item:last-child::after {align-self: flex-start;width: 50%;}#sk-container-id-1 div.sk-parallel-item:only-child::after {width: 0;}#sk-container-id-1 div.sk-dashed-wrapped {border: 1px dashed gray;margin: 0 0.4em 0.5em 0.4em;box-sizing: border-box;padding-bottom: 0.4em;background-color: white;}#sk-container-id-1 div.sk-label label {font-family: monospace;font-weight: bold;display: inline-block;line-height: 1.2em;}#sk-container-id-1 div.sk-label-container {text-align: center;}#sk-container-id-1 div.sk-container {/* jupyter's `normalize.less` sets `[hidden] { display: none; }` but bootstrap.min.css set `[hidden] { display: none !important; }` so we also need the `!important` here to be able to override the default hidden behavior on the sphinx rendered scikit-learn.org. See: https://github.com/scikit-learn/scikit-learn/issues/21755 */display: inline-block !important;position: relative;}#sk-container-id-1 div.sk-text-repr-fallback {display: none;}</style><div id=\"sk-container-id-1\" class=\"sk-top-container\"><div class=\"sk-text-repr-fallback\"><pre>AutoTM(alg_params={&#x27;num_individuals&#x27;: 4, &#x27;num_iterations&#x27;: 2,\n",
       "                   &#x27;train_option&#x27;: &#x27;offline&#x27;,\n",
       "                   &#x27;use_nelder_mead_in_crossover&#x27;: False,\n",
       "                   &#x27;use_nelder_mead_in_mutation&#x27;: False,\n",
       "                   &#x27;use_nelder_mead_in_selector&#x27;: False},\n",
       "       preprocessing_params={&#x27;lang&#x27;: &#x27;ru&#x27;, &#x27;min_tokens_count&#x27;: 3},\n",
       "       working_dir_path=&#x27;/tmp/autotm_wd_n57qdety&#x27;)</pre><b>In a Jupyter environment, please rerun this cell to show the HTML representation or trust the notebook. <br />On GitHub, the HTML representation is unable to render, please try loading this page with nbviewer.org.</b></div><div class=\"sk-container\" hidden><div class=\"sk-item\"><div class=\"sk-estimator sk-toggleable\"><input class=\"sk-toggleable__control sk-hidden--visually\" id=\"sk-estimator-id-1\" type=\"checkbox\" checked><label for=\"sk-estimator-id-1\" class=\"sk-toggleable__label sk-toggleable__label-arrow\">AutoTM</label><div class=\"sk-toggleable__content\"><pre>AutoTM(alg_params={&#x27;num_individuals&#x27;: 4, &#x27;num_iterations&#x27;: 2,\n",
       "                   &#x27;train_option&#x27;: &#x27;offline&#x27;,\n",
       "                   &#x27;use_nelder_mead_in_crossover&#x27;: False,\n",
       "                   &#x27;use_nelder_mead_in_mutation&#x27;: False,\n",
       "                   &#x27;use_nelder_mead_in_selector&#x27;: False},\n",
       "       preprocessing_params={&#x27;lang&#x27;: &#x27;ru&#x27;, &#x27;min_tokens_count&#x27;: 3},\n",
       "       working_dir_path=&#x27;/tmp/autotm_wd_n57qdety&#x27;)</pre></div></div></div></div></div>"
      ],
      "text/plain": [
       "AutoTM(alg_params={'num_individuals': 4, 'num_iterations': 2,\n",
       "                   'train_option': 'offline',\n",
       "                   'use_nelder_mead_in_crossover': False,\n",
       "                   'use_nelder_mead_in_mutation': False,\n",
       "                   'use_nelder_mead_in_selector': False},\n",
       "       preprocessing_params={'lang': 'ru', 'min_tokens_count': 3},\n",
       "       working_dir_path='/tmp/autotm_wd_n57qdety')"
      ]
     },
     "execution_count": 11,
     "metadata": {},
     "output_type": "execute_result"
    }
   ],
   "source": [
    "trained_model = AutoTM.load(model_name)\n",
    "trained_model"
   ]
  },
  {
   "cell_type": "code",
   "execution_count": 12,
   "metadata": {},
   "outputs": [
    {
     "name": "stdout",
     "output_type": "stream",
     "text": [
      "Starting...\n"
     ]
    },
    {
     "name": "stderr",
     "output_type": "stream",
     "text": [
      "E0820 18:38:31.617317 97183 perplexity.cc:109] Perplexity was configured to use UnigramCollectionModel with dictionary 996b5d4a-2ae8-4af7-bb9f-7dacbdef5dc8. This dictionary can't be found.\n",
      "E0820 18:38:31.617403 97183 perplexity.cc:109] Perplexity was configured to use UnigramCollectionModel with dictionary 996b5d4a-2ae8-4af7-bb9f-7dacbdef5dc8. This dictionary can't be found.\n",
      "E0820 18:38:31.617444 97183 perplexity.cc:109] Perplexity was configured to use UnigramCollectionModel with dictionary 996b5d4a-2ae8-4af7-bb9f-7dacbdef5dc8. This dictionary can't be found.\n",
      "E0820 18:38:31.617501 97183 perplexity.cc:109] Perplexity was configured to use UnigramCollectionModel with dictionary 996b5d4a-2ae8-4af7-bb9f-7dacbdef5dc8. This dictionary can't be found.\n",
      "E0820 18:38:31.617537 97183 perplexity.cc:109] Perplexity was configured to use UnigramCollectionModel with dictionary 996b5d4a-2ae8-4af7-bb9f-7dacbdef5dc8. This dictionary can't be found.\n",
      "E0820 18:38:31.617576 97183 perplexity.cc:109] Perplexity was configured to use UnigramCollectionModel with dictionary 996b5d4a-2ae8-4af7-bb9f-7dacbdef5dc8. This dictionary can't be found.\n",
      "E0820 18:38:31.617609 97183 perplexity.cc:109] Perplexity was configured to use UnigramCollectionModel with dictionary 996b5d4a-2ae8-4af7-bb9f-7dacbdef5dc8. This dictionary can't be found.\n",
      "E0820 18:38:31.617647 97183 perplexity.cc:109] Perplexity was configured to use UnigramCollectionModel with dictionary 996b5d4a-2ae8-4af7-bb9f-7dacbdef5dc8. This dictionary can't be found.\n",
      "E0820 18:38:31.617674 97183 perplexity.cc:109] Perplexity was configured to use UnigramCollectionModel with dictionary 996b5d4a-2ae8-4af7-bb9f-7dacbdef5dc8. This dictionary can't be found.\n",
      "E0820 18:38:31.617722 97183 perplexity.cc:109] Perplexity was configured to use UnigramCollectionModel with dictionary 996b5d4a-2ae8-4af7-bb9f-7dacbdef5dc8. This dictionary can't be found.\n",
      "E0820 18:38:31.617820 97183 perplexity.cc:109] Perplexity was configured to use UnigramCollectionModel with dictionary 996b5d4a-2ae8-4af7-bb9f-7dacbdef5dc8. This dictionary can't be found.\n",
      "E0820 18:38:31.617862 97183 perplexity.cc:109] Perplexity was configured to use UnigramCollectionModel with dictionary 996b5d4a-2ae8-4af7-bb9f-7dacbdef5dc8. This dictionary can't be found.\n",
      "E0820 18:38:31.617893 97183 perplexity.cc:109] Perplexity was configured to use UnigramCollectionModel with dictionary 996b5d4a-2ae8-4af7-bb9f-7dacbdef5dc8. This dictionary can't be found.\n",
      "E0820 18:38:31.617941 97183 perplexity.cc:109] Perplexity was configured to use UnigramCollectionModel with dictionary 996b5d4a-2ae8-4af7-bb9f-7dacbdef5dc8. This dictionary can't be found.\n",
      "E0820 18:38:31.617973 97183 perplexity.cc:109] Perplexity was configured to use UnigramCollectionModel with dictionary 996b5d4a-2ae8-4af7-bb9f-7dacbdef5dc8. This dictionary can't be found.\n",
      "E0820 18:38:31.618008 97183 perplexity.cc:109] Perplexity was configured to use UnigramCollectionModel with dictionary 996b5d4a-2ae8-4af7-bb9f-7dacbdef5dc8. This dictionary can't be found.\n",
      "E0820 18:38:31.618067 97183 perplexity.cc:109] Perplexity was configured to use UnigramCollectionModel with dictionary 996b5d4a-2ae8-4af7-bb9f-7dacbdef5dc8. This dictionary can't be found.\n",
      "E0820 18:38:31.618101 97183 perplexity.cc:109] Perplexity was configured to use UnigramCollectionModel with dictionary 996b5d4a-2ae8-4af7-bb9f-7dacbdef5dc8. This dictionary can't be found.\n",
      "E0820 18:38:31.618135 97183 perplexity.cc:109] Perplexity was configured to use UnigramCollectionModel with dictionary 996b5d4a-2ae8-4af7-bb9f-7dacbdef5dc8. This dictionary can't be found.\n",
      "E0820 18:38:31.618168 97183 perplexity.cc:109] Perplexity was configured to use UnigramCollectionModel with dictionary 996b5d4a-2ae8-4af7-bb9f-7dacbdef5dc8. This dictionary can't be found.\n",
      "E0820 18:38:31.618194 97183 perplexity.cc:109] Perplexity was configured to use UnigramCollectionModel with dictionary 996b5d4a-2ae8-4af7-bb9f-7dacbdef5dc8. This dictionary can't be found.\n",
      "E0820 18:38:31.618229 97183 perplexity.cc:109] Perplexity was configured to use UnigramCollectionModel with dictionary 996b5d4a-2ae8-4af7-bb9f-7dacbdef5dc8. This dictionary can't be found.\n",
      "E0820 18:38:31.618263 97183 perplexity.cc:109] Perplexity was configured to use UnigramCollectionModel with dictionary 996b5d4a-2ae8-4af7-bb9f-7dacbdef5dc8. This dictionary can't be found.\n",
      "E0820 18:38:31.618309 97183 perplexity.cc:109] Perplexity was configured to use UnigramCollectionModel with dictionary 996b5d4a-2ae8-4af7-bb9f-7dacbdef5dc8. This dictionary can't be found.\n",
      "E0820 18:38:31.618345 97183 perplexity.cc:109] Perplexity was configured to use UnigramCollectionModel with dictionary 996b5d4a-2ae8-4af7-bb9f-7dacbdef5dc8. This dictionary can't be found.\n",
      "E0820 18:38:31.618400 97183 perplexity.cc:109] Perplexity was configured to use UnigramCollectionModel with dictionary 996b5d4a-2ae8-4af7-bb9f-7dacbdef5dc8. This dictionary can't be found.\n",
      "E0820 18:38:31.618441 97183 perplexity.cc:109] Perplexity was configured to use UnigramCollectionModel with dictionary 996b5d4a-2ae8-4af7-bb9f-7dacbdef5dc8. This dictionary can't be found.\n",
      "E0820 18:38:31.618484 97183 perplexity.cc:109] Perplexity was configured to use UnigramCollectionModel with dictionary 996b5d4a-2ae8-4af7-bb9f-7dacbdef5dc8. This dictionary can't be found.\n",
      "E0820 18:38:31.618517 97183 perplexity.cc:109] Perplexity was configured to use UnigramCollectionModel with dictionary 996b5d4a-2ae8-4af7-bb9f-7dacbdef5dc8. This dictionary can't be found.\n",
      "E0820 18:38:31.618541 97183 perplexity.cc:109] Perplexity was configured to use UnigramCollectionModel with dictionary 996b5d4a-2ae8-4af7-bb9f-7dacbdef5dc8. This dictionary can't be found.\n",
      "E0820 18:38:31.618577 97183 perplexity.cc:109] Perplexity was configured to use UnigramCollectionModel with dictionary 996b5d4a-2ae8-4af7-bb9f-7dacbdef5dc8. This dictionary can't be found.\n",
      "E0820 18:38:31.618594 97183 perplexity.cc:109] Perplexity was configured to use UnigramCollectionModel with dictionary 996b5d4a-2ae8-4af7-bb9f-7dacbdef5dc8. This dictionary can't be found.\n",
      "E0820 18:38:31.618656 97183 perplexity.cc:109] Perplexity was configured to use UnigramCollectionModel with dictionary 996b5d4a-2ae8-4af7-bb9f-7dacbdef5dc8. This dictionary can't be found.\n",
      "E0820 18:38:31.618681 97183 perplexity.cc:109] Perplexity was configured to use UnigramCollectionModel with dictionary 996b5d4a-2ae8-4af7-bb9f-7dacbdef5dc8. This dictionary can't be found.\n",
      "E0820 18:38:31.618707 97183 perplexity.cc:109] Perplexity was configured to use UnigramCollectionModel with dictionary 996b5d4a-2ae8-4af7-bb9f-7dacbdef5dc8. This dictionary can't be found.\n",
      "E0820 18:38:31.618741 97183 perplexity.cc:109] Perplexity was configured to use UnigramCollectionModel with dictionary 996b5d4a-2ae8-4af7-bb9f-7dacbdef5dc8. This dictionary can't be found.\n",
      "E0820 18:38:31.618767 97183 perplexity.cc:109] Perplexity was configured to use UnigramCollectionModel with dictionary 996b5d4a-2ae8-4af7-bb9f-7dacbdef5dc8. This dictionary can't be found.\n",
      "E0820 18:38:31.618795 97183 perplexity.cc:109] Perplexity was configured to use UnigramCollectionModel with dictionary 996b5d4a-2ae8-4af7-bb9f-7dacbdef5dc8. This dictionary can't be found.\n",
      "E0820 18:38:31.618863 97183 perplexity.cc:109] Perplexity was configured to use UnigramCollectionModel with dictionary 996b5d4a-2ae8-4af7-bb9f-7dacbdef5dc8. This dictionary can't be found.\n",
      "E0820 18:38:31.618901 97183 perplexity.cc:109] Perplexity was configured to use UnigramCollectionModel with dictionary 996b5d4a-2ae8-4af7-bb9f-7dacbdef5dc8. This dictionary can't be found.\n",
      "E0820 18:38:31.618938 97183 perplexity.cc:109] Perplexity was configured to use UnigramCollectionModel with dictionary 996b5d4a-2ae8-4af7-bb9f-7dacbdef5dc8. This dictionary can't be found.\n",
      "E0820 18:38:31.619001 97183 perplexity.cc:109] Perplexity was configured to use UnigramCollectionModel with dictionary 996b5d4a-2ae8-4af7-bb9f-7dacbdef5dc8. This dictionary can't be found.\n",
      "E0820 18:38:31.619047 97183 perplexity.cc:109] Perplexity was configured to use UnigramCollectionModel with dictionary 996b5d4a-2ae8-4af7-bb9f-7dacbdef5dc8. This dictionary can't be found.\n",
      "E0820 18:38:31.619091 97183 perplexity.cc:109] Perplexity was configured to use UnigramCollectionModel with dictionary 996b5d4a-2ae8-4af7-bb9f-7dacbdef5dc8. This dictionary can't be found.\n",
      "E0820 18:38:31.619128 97183 perplexity.cc:109] Perplexity was configured to use UnigramCollectionModel with dictionary 996b5d4a-2ae8-4af7-bb9f-7dacbdef5dc8. This dictionary can't be found.\n",
      "E0820 18:38:31.619158 97183 perplexity.cc:109] Perplexity was configured to use UnigramCollectionModel with dictionary 996b5d4a-2ae8-4af7-bb9f-7dacbdef5dc8. This dictionary can't be found.\n",
      "E0820 18:38:31.619180 97183 perplexity.cc:109] Perplexity was configured to use UnigramCollectionModel with dictionary 996b5d4a-2ae8-4af7-bb9f-7dacbdef5dc8. This dictionary can't be found.\n",
      "E0820 18:38:31.619216 97183 perplexity.cc:109] Perplexity was configured to use UnigramCollectionModel with dictionary 996b5d4a-2ae8-4af7-bb9f-7dacbdef5dc8. This dictionary can't be found.\n",
      "E0820 18:38:31.619244 97183 perplexity.cc:109] Perplexity was configured to use UnigramCollectionModel with dictionary 996b5d4a-2ae8-4af7-bb9f-7dacbdef5dc8. This dictionary can't be found.\n",
      "E0820 18:38:31.619266 97183 perplexity.cc:109] Perplexity was configured to use UnigramCollectionModel with dictionary 996b5d4a-2ae8-4af7-bb9f-7dacbdef5dc8. This dictionary can't be found.\n",
      "E0820 18:38:31.619284 97183 perplexity.cc:109] Perplexity was configured to use UnigramCollectionModel with dictionary 996b5d4a-2ae8-4af7-bb9f-7dacbdef5dc8. This dictionary can't be found.\n",
      "E0820 18:38:31.619309 97183 perplexity.cc:109] Perplexity was configured to use UnigramCollectionModel with dictionary 996b5d4a-2ae8-4af7-bb9f-7dacbdef5dc8. This dictionary can't be found.\n",
      "E0820 18:38:31.619349 97183 perplexity.cc:109] Perplexity was configured to use UnigramCollectionModel with dictionary 996b5d4a-2ae8-4af7-bb9f-7dacbdef5dc8. This dictionary can't be found.\n",
      "E0820 18:38:31.619366 97183 perplexity.cc:109] Perplexity was configured to use UnigramCollectionModel with dictionary 996b5d4a-2ae8-4af7-bb9f-7dacbdef5dc8. This dictionary can't be found.\n",
      "E0820 18:38:31.619455 97183 perplexity.cc:109] Perplexity was configured to use UnigramCollectionModel with dictionary 996b5d4a-2ae8-4af7-bb9f-7dacbdef5dc8. This dictionary can't be found.\n",
      "E0820 18:38:31.619485 97183 perplexity.cc:109] Perplexity was configured to use UnigramCollectionModel with dictionary 996b5d4a-2ae8-4af7-bb9f-7dacbdef5dc8. This dictionary can't be found.\n",
      "E0820 18:38:31.619518 97183 perplexity.cc:109] Perplexity was configured to use UnigramCollectionModel with dictionary 996b5d4a-2ae8-4af7-bb9f-7dacbdef5dc8. This dictionary can't be found.\n",
      "E0820 18:38:31.619560 97183 perplexity.cc:109] Perplexity was configured to use UnigramCollectionModel with dictionary 996b5d4a-2ae8-4af7-bb9f-7dacbdef5dc8. This dictionary can't be found.\n",
      "E0820 18:38:31.619598 97183 perplexity.cc:109] Perplexity was configured to use UnigramCollectionModel with dictionary 996b5d4a-2ae8-4af7-bb9f-7dacbdef5dc8. This dictionary can't be found.\n",
      "E0820 18:38:31.619671 97183 perplexity.cc:109] Perplexity was configured to use UnigramCollectionModel with dictionary 996b5d4a-2ae8-4af7-bb9f-7dacbdef5dc8. This dictionary can't be found.\n",
      "E0820 18:38:31.619707 97183 perplexity.cc:109] Perplexity was configured to use UnigramCollectionModel with dictionary 996b5d4a-2ae8-4af7-bb9f-7dacbdef5dc8. This dictionary can't be found.\n",
      "E0820 18:38:31.619755 97183 perplexity.cc:109] Perplexity was configured to use UnigramCollectionModel with dictionary 996b5d4a-2ae8-4af7-bb9f-7dacbdef5dc8. This dictionary can't be found.\n",
      "E0820 18:38:31.619787 97183 perplexity.cc:109] Perplexity was configured to use UnigramCollectionModel with dictionary 996b5d4a-2ae8-4af7-bb9f-7dacbdef5dc8. This dictionary can't be found.\n",
      "E0820 18:38:31.619818 97183 perplexity.cc:109] Perplexity was configured to use UnigramCollectionModel with dictionary 996b5d4a-2ae8-4af7-bb9f-7dacbdef5dc8. This dictionary can't be found.\n",
      "E0820 18:38:31.619858 97183 perplexity.cc:109] Perplexity was configured to use UnigramCollectionModel with dictionary 996b5d4a-2ae8-4af7-bb9f-7dacbdef5dc8. This dictionary can't be found.\n",
      "E0820 18:38:31.619901 97183 perplexity.cc:109] Perplexity was configured to use UnigramCollectionModel with dictionary 996b5d4a-2ae8-4af7-bb9f-7dacbdef5dc8. This dictionary can't be found.\n",
      "E0820 18:38:31.619949 97183 perplexity.cc:109] Perplexity was configured to use UnigramCollectionModel with dictionary 996b5d4a-2ae8-4af7-bb9f-7dacbdef5dc8. This dictionary can't be found.\n",
      "E0820 18:38:31.619982 97183 perplexity.cc:109] Perplexity was configured to use UnigramCollectionModel with dictionary 996b5d4a-2ae8-4af7-bb9f-7dacbdef5dc8. This dictionary can't be found.\n",
      "E0820 18:38:31.620020 97183 perplexity.cc:109] Perplexity was configured to use UnigramCollectionModel with dictionary 996b5d4a-2ae8-4af7-bb9f-7dacbdef5dc8. This dictionary can't be found.\n",
      "E0820 18:38:31.620051 97183 perplexity.cc:109] Perplexity was configured to use UnigramCollectionModel with dictionary 996b5d4a-2ae8-4af7-bb9f-7dacbdef5dc8. This dictionary can't be found.\n",
      "E0820 18:38:31.620083 97183 perplexity.cc:109] Perplexity was configured to use UnigramCollectionModel with dictionary 996b5d4a-2ae8-4af7-bb9f-7dacbdef5dc8. This dictionary can't be found.\n",
      "E0820 18:38:31.620137 97183 perplexity.cc:109] Perplexity was configured to use UnigramCollectionModel with dictionary 996b5d4a-2ae8-4af7-bb9f-7dacbdef5dc8. This dictionary can't be found.\n",
      "E0820 18:38:31.620170 97183 perplexity.cc:109] Perplexity was configured to use UnigramCollectionModel with dictionary 996b5d4a-2ae8-4af7-bb9f-7dacbdef5dc8. This dictionary can't be found.\n",
      "E0820 18:38:31.620206 97183 perplexity.cc:109] Perplexity was configured to use UnigramCollectionModel with dictionary 996b5d4a-2ae8-4af7-bb9f-7dacbdef5dc8. This dictionary can't be found.\n",
      "E0820 18:38:31.620245 97183 perplexity.cc:109] Perplexity was configured to use UnigramCollectionModel with dictionary 996b5d4a-2ae8-4af7-bb9f-7dacbdef5dc8. This dictionary can't be found.\n",
      "E0820 18:38:31.620363 97183 perplexity.cc:109] Perplexity was configured to use UnigramCollectionModel with dictionary 996b5d4a-2ae8-4af7-bb9f-7dacbdef5dc8. This dictionary can't be found.\n",
      "E0820 18:38:31.620409 97183 perplexity.cc:109] Perplexity was configured to use UnigramCollectionModel with dictionary 996b5d4a-2ae8-4af7-bb9f-7dacbdef5dc8. This dictionary can't be found.\n",
      "E0820 18:38:31.620466 97183 perplexity.cc:109] Perplexity was configured to use UnigramCollectionModel with dictionary 996b5d4a-2ae8-4af7-bb9f-7dacbdef5dc8. This dictionary can't be found.\n",
      "E0820 18:38:31.620512 97183 perplexity.cc:109] Perplexity was configured to use UnigramCollectionModel with dictionary 996b5d4a-2ae8-4af7-bb9f-7dacbdef5dc8. This dictionary can't be found.\n",
      "E0820 18:38:31.620550 97183 perplexity.cc:109] Perplexity was configured to use UnigramCollectionModel with dictionary 996b5d4a-2ae8-4af7-bb9f-7dacbdef5dc8. This dictionary can't be found.\n",
      "E0820 18:38:31.620595 97183 perplexity.cc:109] Perplexity was configured to use UnigramCollectionModel with dictionary 996b5d4a-2ae8-4af7-bb9f-7dacbdef5dc8. This dictionary can't be found.\n",
      "E0820 18:38:31.620669 97183 perplexity.cc:109] Perplexity was configured to use UnigramCollectionModel with dictionary 996b5d4a-2ae8-4af7-bb9f-7dacbdef5dc8. This dictionary can't be found.\n",
      "E0820 18:38:31.620710 97183 perplexity.cc:109] Perplexity was configured to use UnigramCollectionModel with dictionary 996b5d4a-2ae8-4af7-bb9f-7dacbdef5dc8. This dictionary can't be found.\n",
      "E0820 18:38:31.620750 97183 perplexity.cc:109] Perplexity was configured to use UnigramCollectionModel with dictionary 996b5d4a-2ae8-4af7-bb9f-7dacbdef5dc8. This dictionary can't be found.\n",
      "E0820 18:38:31.620780 97183 perplexity.cc:109] Perplexity was configured to use UnigramCollectionModel with dictionary 996b5d4a-2ae8-4af7-bb9f-7dacbdef5dc8. This dictionary can't be found.\n",
      "E0820 18:38:31.620815 97183 perplexity.cc:109] Perplexity was configured to use UnigramCollectionModel with dictionary 996b5d4a-2ae8-4af7-bb9f-7dacbdef5dc8. This dictionary can't be found.\n",
      "E0820 18:38:31.620847 97183 perplexity.cc:109] Perplexity was configured to use UnigramCollectionModel with dictionary 996b5d4a-2ae8-4af7-bb9f-7dacbdef5dc8. This dictionary can't be found.\n",
      "E0820 18:38:31.620893 97183 perplexity.cc:109] Perplexity was configured to use UnigramCollectionModel with dictionary 996b5d4a-2ae8-4af7-bb9f-7dacbdef5dc8. This dictionary can't be found.\n",
      "E0820 18:38:31.620929 97183 perplexity.cc:109] Perplexity was configured to use UnigramCollectionModel with dictionary 996b5d4a-2ae8-4af7-bb9f-7dacbdef5dc8. This dictionary can't be found.\n",
      "E0820 18:38:31.620973 97183 perplexity.cc:109] Perplexity was configured to use UnigramCollectionModel with dictionary 996b5d4a-2ae8-4af7-bb9f-7dacbdef5dc8. This dictionary can't be found.\n",
      "E0820 18:38:31.621032 97183 perplexity.cc:109] Perplexity was configured to use UnigramCollectionModel with dictionary 996b5d4a-2ae8-4af7-bb9f-7dacbdef5dc8. This dictionary can't be found.\n",
      "E0820 18:38:31.621075 97183 perplexity.cc:109] Perplexity was configured to use UnigramCollectionModel with dictionary 996b5d4a-2ae8-4af7-bb9f-7dacbdef5dc8. This dictionary can't be found.\n",
      "E0820 18:38:31.621114 97183 perplexity.cc:109] Perplexity was configured to use UnigramCollectionModel with dictionary 996b5d4a-2ae8-4af7-bb9f-7dacbdef5dc8. This dictionary can't be found.\n",
      "E0820 18:38:31.621160 97183 perplexity.cc:109] Perplexity was configured to use UnigramCollectionModel with dictionary 996b5d4a-2ae8-4af7-bb9f-7dacbdef5dc8. This dictionary can't be found.\n",
      "E0820 18:38:31.621196 97183 perplexity.cc:109] Perplexity was configured to use UnigramCollectionModel with dictionary 996b5d4a-2ae8-4af7-bb9f-7dacbdef5dc8. This dictionary can't be found.\n",
      "E0820 18:38:31.621237 97183 perplexity.cc:109] Perplexity was configured to use UnigramCollectionModel with dictionary 996b5d4a-2ae8-4af7-bb9f-7dacbdef5dc8. This dictionary can't be found.\n",
      "E0820 18:38:31.621279 97183 perplexity.cc:109] Perplexity was configured to use UnigramCollectionModel with dictionary 996b5d4a-2ae8-4af7-bb9f-7dacbdef5dc8. This dictionary can't be found.\n",
      "E0820 18:38:31.621368 97183 perplexity.cc:109] Perplexity was configured to use UnigramCollectionModel with dictionary 996b5d4a-2ae8-4af7-bb9f-7dacbdef5dc8. This dictionary can't be found.\n",
      "E0820 18:38:31.621409 97183 perplexity.cc:109] Perplexity was configured to use UnigramCollectionModel with dictionary 996b5d4a-2ae8-4af7-bb9f-7dacbdef5dc8. This dictionary can't be found.\n",
      "E0820 18:38:31.621454 97183 perplexity.cc:109] Perplexity was configured to use UnigramCollectionModel with dictionary 996b5d4a-2ae8-4af7-bb9f-7dacbdef5dc8. This dictionary can't be found.\n"
     ]
    }
   ],
   "source": [
    "predicted = trained_model.predict(data_transformer.data)"
   ]
  },
  {
   "cell_type": "code",
   "execution_count": 13,
   "metadata": {},
   "outputs": [
    {
     "data": {
      "text/html": [
       "<div>\n",
       "<style scoped>\n",
       "    .dataframe tbody tr th:only-of-type {\n",
       "        vertical-align: middle;\n",
       "    }\n",
       "\n",
       "    .dataframe tbody tr th {\n",
       "        vertical-align: top;\n",
       "    }\n",
       "\n",
       "    .dataframe thead th {\n",
       "        text-align: right;\n",
       "    }\n",
       "</style>\n",
       "<table border=\"1\" class=\"dataframe\">\n",
       "  <thead>\n",
       "    <tr style=\"text-align: right;\">\n",
       "      <th></th>\n",
       "      <th>main0</th>\n",
       "      <th>main1</th>\n",
       "      <th>main2</th>\n",
       "      <th>main3</th>\n",
       "      <th>main4</th>\n",
       "      <th>main5</th>\n",
       "      <th>main6</th>\n",
       "      <th>main7</th>\n",
       "      <th>main8</th>\n",
       "      <th>main9</th>\n",
       "    </tr>\n",
       "  </thead>\n",
       "  <tbody>\n",
       "    <tr>\n",
       "      <th>0</th>\n",
       "      <td>0.386334</td>\n",
       "      <td>0.523874</td>\n",
       "      <td>0.002120</td>\n",
       "      <td>0.029499</td>\n",
       "      <td>0.000101</td>\n",
       "      <td>5.668854e-02</td>\n",
       "      <td>2.180499e-04</td>\n",
       "      <td>0.001144</td>\n",
       "      <td>1.764675e-05</td>\n",
       "      <td>0.000004</td>\n",
       "    </tr>\n",
       "    <tr>\n",
       "      <th>1</th>\n",
       "      <td>0.000088</td>\n",
       "      <td>0.007041</td>\n",
       "      <td>0.000083</td>\n",
       "      <td>0.000178</td>\n",
       "      <td>0.004842</td>\n",
       "      <td>1.943518e-07</td>\n",
       "      <td>1.849505e-08</td>\n",
       "      <td>0.000281</td>\n",
       "      <td>5.671378e-07</td>\n",
       "      <td>0.987487</td>\n",
       "    </tr>\n",
       "    <tr>\n",
       "      <th>2</th>\n",
       "      <td>0.000113</td>\n",
       "      <td>0.000938</td>\n",
       "      <td>0.005827</td>\n",
       "      <td>0.000002</td>\n",
       "      <td>0.000947</td>\n",
       "      <td>2.259208e-03</td>\n",
       "      <td>4.469760e-05</td>\n",
       "      <td>0.989692</td>\n",
       "      <td>8.191225e-08</td>\n",
       "      <td>0.000178</td>\n",
       "    </tr>\n",
       "    <tr>\n",
       "      <th>3</th>\n",
       "      <td>0.125599</td>\n",
       "      <td>0.453699</td>\n",
       "      <td>0.000258</td>\n",
       "      <td>0.026937</td>\n",
       "      <td>0.000110</td>\n",
       "      <td>1.684149e-01</td>\n",
       "      <td>2.997085e-05</td>\n",
       "      <td>0.083810</td>\n",
       "      <td>1.374230e-01</td>\n",
       "      <td>0.003719</td>\n",
       "    </tr>\n",
       "    <tr>\n",
       "      <th>4</th>\n",
       "      <td>0.721979</td>\n",
       "      <td>0.006053</td>\n",
       "      <td>0.036695</td>\n",
       "      <td>0.003260</td>\n",
       "      <td>0.000104</td>\n",
       "      <td>9.454819e-05</td>\n",
       "      <td>1.371012e-05</td>\n",
       "      <td>0.231175</td>\n",
       "      <td>7.566109e-07</td>\n",
       "      <td>0.000625</td>\n",
       "    </tr>\n",
       "  </tbody>\n",
       "</table>\n",
       "</div>"
      ],
      "text/plain": [
       "      main0     main1     main2     main3     main4         main5   \n",
       "0  0.386334  0.523874  0.002120  0.029499  0.000101  5.668854e-02  \\\n",
       "1  0.000088  0.007041  0.000083  0.000178  0.004842  1.943518e-07   \n",
       "2  0.000113  0.000938  0.005827  0.000002  0.000947  2.259208e-03   \n",
       "3  0.125599  0.453699  0.000258  0.026937  0.000110  1.684149e-01   \n",
       "4  0.721979  0.006053  0.036695  0.003260  0.000104  9.454819e-05   \n",
       "\n",
       "          main6     main7         main8     main9  \n",
       "0  2.180499e-04  0.001144  1.764675e-05  0.000004  \n",
       "1  1.849505e-08  0.000281  5.671378e-07  0.987487  \n",
       "2  4.469760e-05  0.989692  8.191225e-08  0.000178  \n",
       "3  2.997085e-05  0.083810  1.374230e-01  0.003719  \n",
       "4  1.371012e-05  0.231175  7.566109e-07  0.000625  "
      ]
     },
     "execution_count": 13,
     "metadata": {},
     "output_type": "execute_result"
    }
   ],
   "source": [
    "predicted.head()"
   ]
  },
  {
   "cell_type": "code",
   "execution_count": 16,
   "metadata": {},
   "outputs": [
    {
     "name": "stdout",
     "output_type": "stream",
     "text": [
      "main0\n",
      "['год', 'миллион', 'свой', 'доллар', 'работа', 'компания', 'миллиард', 'программа', 'который', 'около', 'объект', 'использовать', 'составлять', 'это', 'получать', 'проект', 'общий', 'данные', 'рост', 'частность', 'процент', 'время', 'результат', 'сша', 'работать', 'служба', 'число', 'новый', 'некоторый', 'специалист', 'настоящий', 'половина', 'сумма', 'приводить', 'исследование', 'система', 'рубль', 'отмечать', 'помогать', 'оказываться', 'вырастать', 'мочь', 'газета', 'связь', 'федеральный', 'штат', 'ситуация', 'случай', 'проблема', 'нарушение']\n",
      "\n",
      "main1\n",
      "['год', 'рубль', 'матч', 'первый', 'команда', 'второй', 'доллар', 'дом', 'россия', 'комплекс', 'сообщать', 'это', 'составлять', 'москва', 'стоимость', 'который', 'получать', 'квартира', 'рынок', 'московский', 'время', 'счет', 'выступать', 'январь', 'занимать', 'мочь', 'лига', 'состояться', 'тысяча', 'месяц', 'май', 'клуб', 'вернуться', 'белый', 'данные', 'процент', 'миллион', 'октябрь', 'группа', 'начало', 'место', 'апрель', 'весь', 'сыграть', 'текущий', 'официальный', 'отмечаться', 'город', 'столица', 'проводить']\n",
      "\n",
      "main2\n",
      "['свой', 'человек', 'весь', 'который', 'имя', 'становиться', 'украина', 'работа', 'год', 'сообщать', 'брат', 'время', 'мэр', 'партия', 'результат', 'представлять', 'место', 'михаил', 'рассказывать', 'слово', 'также', 'появляться', 'страница', 'новый', 'сказать', 'показывать', 'хотеть', 'выходить', 'получать', 'город', 'октябрь', 'округ', 'группа', 'день', 'дмитрий', 'facebook', 'мужчина', 'больница', 'сентябрь', 'вица', 'оставаться', 'причина', 'называть', 'выпускать', 'представитель', 'мир', 'сформировывать', 'летний', 'политический', 'поэтому']\n",
      "\n",
      "main3\n",
      "['сша', 'российский', 'страна', 'россия', 'американский', 'представитель', 'москва', 'это', 'год', 'президент', 'сообщать', 'санкция', 'участие', 'агентство', 'против', 'заявлять', 'нападение', 'политический', 'международный', 'который', 'число', 'решение', 'иметь', 'время', 'подчеркивать', 'мочь', 'связь', 'допускать', 'штат', 'бывший', 'становиться', 'июль', 'выступать', 'мид', 'поставка', 'партия', 'якобы', 'мнение', 'выборы', 'передавать', 'информация', 'нарушение', 'июнь', 'выражать', 'проводить', 'слово', 'официальный', 'британский', 'ранее', 'ход']\n",
      "\n",
      "main4\n",
      "['суд', 'год', 'который', 'организация', 'дело', 'это', 'следствие', 'заявлять', 'уголовный', 'весь', 'говориться', 'россия', 'время', 'также', 'свой', 'компания', 'сергей', 'сми', 'руководитель', 'москва', 'пресс', 'цена', 'утверждать', 'сотрудник', 'журналист', 'представитель', 'отношение', 'газета', 'лидер', 'сообщать', 'российский', 'версия', 'считать', 'направлять', 'принимать', 'комитет', 'проходить', 'условие', 'практически', 'национальный', 'кроме', 'гражданин', 'тысяча', 'однако', 'против', 'слово', 'телеканал', 'украинский', 'октябрь', 'ответственность']\n",
      "\n",
      "main5\n",
      "['корабль', 'российский', 'россия', 'процент', 'это', 'президент', 'компания', 'владимир', 'украинский', 'также', 'участие', 'путин', 'идти', 'средний', 'украина', 'находиться', 'сделка', 'бюджет', 'премьер', 'сообщать', 'россиянин', 'проходить', 'который', 'свой', 'житель', 'ноябрь', 'месяц', 'столица', 'коллега', 'речь', 'показатель', 'военный', 'большой', 'сила', 'список', 'время', 'заявлять', 'показывать', 'ранее', 'лидер', 'область', 'округ', 'год', 'объяснять', 'свидетельствовать', 'покидать', 'говориться', 'мочь', 'кроме', 'май']\n",
      "\n",
      "main6\n",
      "['заявлять', 'глава', 'министр', 'это', 'март', 'правительство', 'который', 'дело', 'вопрос', 'бывший', 'спикер', 'время', 'слово', 'участник', 'февраль', 'андрей', 'государство', 'пресс', 'лидер', 'свой', 'тасс', 'отношение', 'президент', 'заместитель', 'весь', 'отмечать', 'власть', 'май', 'представитель', 'переговоры', 'сформировывать', 'новый', 'пообещать', 'первый', 'сообщать', 'близкий', 'интерфакс', 'игорь', 'апрель', 'партия', 'проблема', 'контракт', 'находиться', 'стоять', 'образ', 'область', 'александр', 'начинать', 'итог', 'рассказывать']\n",
      "\n",
      "main7\n",
      "['это', 'житель', 'происходить', 'который', 'дом', 'город', 'инцидент', 'местный', 'год', 'убийство', 'сообщать', 'мужчина', 'задерживать', 'удаваться', 'полицейский', 'тело', 'сообщаться', 'летний', 'обнаруживать', 'издание', 'однако', 'мочь', 'представитель', 'свой', 'городской', 'место', 'четверг', 'отмечать', 'находиться', 'пытаться', 'статья', 'человек', 'начинать', 'июнь', 'часть', 'мнение', 'следствие', 'слово', 'утверждать', 'время', 'случаться', 'дело', 'затем', 'сайт', 'проходить', 'версия', 'полиция', 'час', 'служба', 'проводить']\n",
      "\n",
      "main8\n",
      "['россия', 'российский', 'военный', 'сообщать', 'новость', 'риа', 'информация', 'заявлять', 'передавать', 'год', 'передача', 'оборона', 'министерство', 'признавать', 'москва', 'компания', 'начинать', 'начало', 'сторона', 'ранее', 'понедельник', 'день', 'также', 'слово', 'июль', 'свой', 'армия', 'мир', 'переговоры', 'июнь', 'миллиард', 'крупный', 'ночь', 'должный', 'который', 'мочь', 'опровергать', 'михаил', 'газета', 'продажа', 'ход', 'представитель', 'контракт', 'территория', 'данные', 'новый', 'южный', 'глава', 'ряд', 'олег']\n",
      "\n",
      "main9\n",
      "['который', 'боевик', 'граница', 'сообщать', 'год', 'сотрудник', 'вопрос', 'несколько', 'нападение', 'машина', 'совершать', 'протест', 'сразу', 'человек', 'получать', 'орган', 'тысяча', 'группа', 'помощь', 'среди', 'программа', 'телеканал', 'действие', 'погибать', 'понедельник', 'снимать', 'правоохранительный', 'однако', 'оказываться', 'пока', 'москва', 'государство', 'агентство', 'международный', 'это', 'связь', 'февраль', 'женщина', 'находиться', 'сторона', 'правительство', 'пострадать', 'повод', 'вынуждать', 'город', 'результат', 'очень', 'обвинять', 'середина', 'самый']\n",
      "\n"
     ]
    }
   ],
   "source": [
    "trained_model.print_topics()"
   ]
  },
  {
   "cell_type": "code",
   "execution_count": null,
   "metadata": {},
   "outputs": [],
   "source": []
  }
 ],
 "metadata": {
  "kernelspec": {
   "display_name": "autotm38",
   "language": "python",
   "name": "python3"
  },
  "language_info": {
   "codemirror_mode": {
    "name": "ipython",
    "version": 3
   },
   "file_extension": ".py",
   "mimetype": "text/x-python",
   "name": "python",
   "nbconvert_exporter": "python",
   "pygments_lexer": "ipython3",
   "version": "3.8.17"
  },
  "orig_nbformat": 4,
  "vscode": {
   "interpreter": {
    "hash": "f9cb52b46332ca501b6c94f93520e3652ee2f57188e731a7cf8681411e34b0ff"
   }
  }
 },
 "nbformat": 4,
 "nbformat_minor": 2
}
