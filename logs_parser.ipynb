{
 "cells": [
  {
   "cell_type": "code",
   "execution_count": 49,
   "metadata": {},
   "outputs": [],
   "source": [
    "import os\n",
    "import pandas as pd\n",
    "import plotly.express as px\n",
    "from plotly.offline import download_plotlyjs, init_notebook_mode, plot, iplot"
   ]
  },
  {
   "cell_type": "code",
   "execution_count": 5,
   "metadata": {},
   "outputs": [],
   "source": [
    "LOGS_PATH = 'surrogate_logs'"
   ]
  },
  {
   "cell_type": "code",
   "execution_count": 18,
   "metadata": {},
   "outputs": [],
   "source": [
    "def parse_logs(filename):\n",
    "    with open(filename) as file:\n",
    "        rmse_scores = []\n",
    "        new_scores = []\n",
    "        for line in file:\n",
    "            if \"Starting\" in line:\n",
    "                if len(new_scores) > 0:\n",
    "                    rmse_scores.append(new_scores)\n",
    "                    new_scores = []\n",
    "            if \"RMSE\" in line:  \n",
    "                new_scores.append(float(line.split('RMSE: ')[-1]))\n",
    "    return rmse_scores"
   ]
  },
  {
   "cell_type": "code",
   "execution_count": 43,
   "metadata": {},
   "outputs": [],
   "source": [
    "METHOD_NAMES = [\"Random Forest\", \"Gaussian Process\", \"SVR\", \"MLP\"]\n",
    "DATASET_NAMES = ['20NG', \"banners\", \"HR\", \"AR\", \"lenta\"]\n",
    "COLUMN_NAMES = ['dataset', 'method', 'value']\n",
    "\n",
    "def plot_avg_vals(method_logs):\n",
    "    dfObj = pd.DataFrame(columns=COLUMN_NAMES)\n",
    "    # loop through methods\n",
    "    for method_idx, method_log in enumerate(method_logs):\n",
    "        method = METHOD_NAMES[method_idx]\n",
    "        # loop through datasets\n",
    "        method_data = []\n",
    "        for dataset_idx, fname in enumerate(method_log):\n",
    "            dataset = DATASET_NAMES[dataset_idx]\n",
    "            \n",
    "            rmse = parse_logs(os.path.join(LOGS_PATH, fname))\n",
    "            rmse_res = [res[4:] for res in rmse]\n",
    "            flatten = [item for sublist in rmse_res for item in sublist]\n",
    "            n = len(flatten)\n",
    "            df = pd.DataFrame(list(zip([dataset for _ in range(n)], \n",
    "                               [method for _ in range(n)], \n",
    "                               flatten,\n",
    "                              )), \n",
    "               columns=COLUMN_NAMES) \n",
    "            dfObj = pd.concat([dfObj, df])\n",
    "    return dfObj"
   ]
  },
  {
   "cell_type": "code",
   "execution_count": 44,
   "metadata": {},
   "outputs": [],
   "source": [
    "# 20NG    banners     HR        AR      lenta\n",
    "\n",
    "rf_logs = [\n",
    "    '20ng_rf_15_e1.txt', \n",
    "    'banners_rf_15.txt', \n",
    "    'hr_rf_15_e1.txt', \n",
    "    'af_rf_15_e1.txt',\n",
    "    'lenta_ru_rf_15_e1.txt',\n",
    "]\n",
    "\n",
    "gp_logs = [\n",
    "    '20ng_gp_15_e1.txt',\n",
    "    'banners_gp_15_e1.txt',\n",
    "    'hr_gp_15_e1.txt',\n",
    "    'af_gp_15_e1.txt',\n",
    "    'lenta_GP_15.txt',\n",
    "]\n",
    "\n",
    "svr_logs = [\n",
    "    '20ng_svr_15.txt',\n",
    "    'banners_svr_15_e1.txt',\n",
    "    'hr_svr_15_e1.txt',\n",
    "    'af_svr_15_e1.txt',\n",
    "    'lenta_svr_20.txt'\n",
    "]\n",
    "\n",
    "mlp_logs = [\n",
    "    '20ng_mlp_11_e1.txt',\n",
    "    'banners_mlp_20.txt',\n",
    "    'hr_mlp_20.txt',\n",
    "    'ar_mlp_20.txt',\n",
    "    'lenta_mlp_20.txt'\n",
    "]\n",
    "\n",
    "all_logs = [rf_logs, gp_logs, svr_logs, mlp_logs]"
   ]
  },
  {
   "cell_type": "code",
   "execution_count": 45,
   "metadata": {},
   "outputs": [],
   "source": [
    "data = plot_avg_vals(all_logs)"
   ]
  },
  {
   "cell_type": "code",
   "execution_count": 46,
   "metadata": {
    "scrolled": true
   },
   "outputs": [
    {
     "data": {
      "text/html": [
       "<div>\n",
       "<style scoped>\n",
       "    .dataframe tbody tr th:only-of-type {\n",
       "        vertical-align: middle;\n",
       "    }\n",
       "\n",
       "    .dataframe tbody tr th {\n",
       "        vertical-align: top;\n",
       "    }\n",
       "\n",
       "    .dataframe thead th {\n",
       "        text-align: right;\n",
       "    }\n",
       "</style>\n",
       "<table border=\"1\" class=\"dataframe\">\n",
       "  <thead>\n",
       "    <tr style=\"text-align: right;\">\n",
       "      <th></th>\n",
       "      <th>dataset</th>\n",
       "      <th>method</th>\n",
       "      <th>value</th>\n",
       "    </tr>\n",
       "  </thead>\n",
       "  <tbody>\n",
       "    <tr>\n",
       "      <th>0</th>\n",
       "      <td>20NG</td>\n",
       "      <td>Random Forest</td>\n",
       "      <td>0.018430</td>\n",
       "    </tr>\n",
       "    <tr>\n",
       "      <th>1</th>\n",
       "      <td>20NG</td>\n",
       "      <td>Random Forest</td>\n",
       "      <td>0.240782</td>\n",
       "    </tr>\n",
       "    <tr>\n",
       "      <th>2</th>\n",
       "      <td>20NG</td>\n",
       "      <td>Random Forest</td>\n",
       "      <td>0.044336</td>\n",
       "    </tr>\n",
       "    <tr>\n",
       "      <th>3</th>\n",
       "      <td>20NG</td>\n",
       "      <td>Random Forest</td>\n",
       "      <td>0.078803</td>\n",
       "    </tr>\n",
       "    <tr>\n",
       "      <th>4</th>\n",
       "      <td>20NG</td>\n",
       "      <td>Random Forest</td>\n",
       "      <td>0.001023</td>\n",
       "    </tr>\n",
       "    <tr>\n",
       "      <th>5</th>\n",
       "      <td>20NG</td>\n",
       "      <td>Random Forest</td>\n",
       "      <td>0.002395</td>\n",
       "    </tr>\n",
       "    <tr>\n",
       "      <th>6</th>\n",
       "      <td>20NG</td>\n",
       "      <td>Random Forest</td>\n",
       "      <td>0.038619</td>\n",
       "    </tr>\n",
       "    <tr>\n",
       "      <th>7</th>\n",
       "      <td>20NG</td>\n",
       "      <td>Random Forest</td>\n",
       "      <td>0.048612</td>\n",
       "    </tr>\n",
       "    <tr>\n",
       "      <th>8</th>\n",
       "      <td>20NG</td>\n",
       "      <td>Random Forest</td>\n",
       "      <td>0.043531</td>\n",
       "    </tr>\n",
       "    <tr>\n",
       "      <th>9</th>\n",
       "      <td>20NG</td>\n",
       "      <td>Random Forest</td>\n",
       "      <td>0.062556</td>\n",
       "    </tr>\n",
       "    <tr>\n",
       "      <th>10</th>\n",
       "      <td>20NG</td>\n",
       "      <td>Random Forest</td>\n",
       "      <td>0.066524</td>\n",
       "    </tr>\n",
       "    <tr>\n",
       "      <th>11</th>\n",
       "      <td>20NG</td>\n",
       "      <td>Random Forest</td>\n",
       "      <td>0.008306</td>\n",
       "    </tr>\n",
       "    <tr>\n",
       "      <th>12</th>\n",
       "      <td>20NG</td>\n",
       "      <td>Random Forest</td>\n",
       "      <td>0.007420</td>\n",
       "    </tr>\n",
       "    <tr>\n",
       "      <th>13</th>\n",
       "      <td>20NG</td>\n",
       "      <td>Random Forest</td>\n",
       "      <td>0.004041</td>\n",
       "    </tr>\n",
       "    <tr>\n",
       "      <th>14</th>\n",
       "      <td>20NG</td>\n",
       "      <td>Random Forest</td>\n",
       "      <td>0.053708</td>\n",
       "    </tr>\n",
       "    <tr>\n",
       "      <th>15</th>\n",
       "      <td>20NG</td>\n",
       "      <td>Random Forest</td>\n",
       "      <td>0.045102</td>\n",
       "    </tr>\n",
       "    <tr>\n",
       "      <th>16</th>\n",
       "      <td>20NG</td>\n",
       "      <td>Random Forest</td>\n",
       "      <td>0.044448</td>\n",
       "    </tr>\n",
       "    <tr>\n",
       "      <th>17</th>\n",
       "      <td>20NG</td>\n",
       "      <td>Random Forest</td>\n",
       "      <td>0.023786</td>\n",
       "    </tr>\n",
       "    <tr>\n",
       "      <th>18</th>\n",
       "      <td>20NG</td>\n",
       "      <td>Random Forest</td>\n",
       "      <td>0.112760</td>\n",
       "    </tr>\n",
       "    <tr>\n",
       "      <th>19</th>\n",
       "      <td>20NG</td>\n",
       "      <td>Random Forest</td>\n",
       "      <td>0.109990</td>\n",
       "    </tr>\n",
       "    <tr>\n",
       "      <th>20</th>\n",
       "      <td>20NG</td>\n",
       "      <td>Random Forest</td>\n",
       "      <td>0.014949</td>\n",
       "    </tr>\n",
       "    <tr>\n",
       "      <th>21</th>\n",
       "      <td>20NG</td>\n",
       "      <td>Random Forest</td>\n",
       "      <td>0.035848</td>\n",
       "    </tr>\n",
       "    <tr>\n",
       "      <th>22</th>\n",
       "      <td>20NG</td>\n",
       "      <td>Random Forest</td>\n",
       "      <td>0.027207</td>\n",
       "    </tr>\n",
       "    <tr>\n",
       "      <th>23</th>\n",
       "      <td>20NG</td>\n",
       "      <td>Random Forest</td>\n",
       "      <td>0.039555</td>\n",
       "    </tr>\n",
       "    <tr>\n",
       "      <th>24</th>\n",
       "      <td>20NG</td>\n",
       "      <td>Random Forest</td>\n",
       "      <td>0.021041</td>\n",
       "    </tr>\n",
       "    <tr>\n",
       "      <th>25</th>\n",
       "      <td>20NG</td>\n",
       "      <td>Random Forest</td>\n",
       "      <td>0.026570</td>\n",
       "    </tr>\n",
       "    <tr>\n",
       "      <th>26</th>\n",
       "      <td>20NG</td>\n",
       "      <td>Random Forest</td>\n",
       "      <td>0.224192</td>\n",
       "    </tr>\n",
       "    <tr>\n",
       "      <th>27</th>\n",
       "      <td>20NG</td>\n",
       "      <td>Random Forest</td>\n",
       "      <td>0.029059</td>\n",
       "    </tr>\n",
       "    <tr>\n",
       "      <th>28</th>\n",
       "      <td>20NG</td>\n",
       "      <td>Random Forest</td>\n",
       "      <td>0.005473</td>\n",
       "    </tr>\n",
       "    <tr>\n",
       "      <th>29</th>\n",
       "      <td>20NG</td>\n",
       "      <td>Random Forest</td>\n",
       "      <td>0.068304</td>\n",
       "    </tr>\n",
       "    <tr>\n",
       "      <th>...</th>\n",
       "      <td>...</td>\n",
       "      <td>...</td>\n",
       "      <td>...</td>\n",
       "    </tr>\n",
       "    <tr>\n",
       "      <th>17</th>\n",
       "      <td>HR</td>\n",
       "      <td>MLP</td>\n",
       "      <td>0.356175</td>\n",
       "    </tr>\n",
       "    <tr>\n",
       "      <th>18</th>\n",
       "      <td>HR</td>\n",
       "      <td>MLP</td>\n",
       "      <td>0.319111</td>\n",
       "    </tr>\n",
       "    <tr>\n",
       "      <th>19</th>\n",
       "      <td>HR</td>\n",
       "      <td>MLP</td>\n",
       "      <td>0.481729</td>\n",
       "    </tr>\n",
       "    <tr>\n",
       "      <th>20</th>\n",
       "      <td>HR</td>\n",
       "      <td>MLP</td>\n",
       "      <td>0.277925</td>\n",
       "    </tr>\n",
       "    <tr>\n",
       "      <th>0</th>\n",
       "      <td>AR</td>\n",
       "      <td>MLP</td>\n",
       "      <td>0.227892</td>\n",
       "    </tr>\n",
       "    <tr>\n",
       "      <th>1</th>\n",
       "      <td>AR</td>\n",
       "      <td>MLP</td>\n",
       "      <td>0.180678</td>\n",
       "    </tr>\n",
       "    <tr>\n",
       "      <th>2</th>\n",
       "      <td>AR</td>\n",
       "      <td>MLP</td>\n",
       "      <td>0.165775</td>\n",
       "    </tr>\n",
       "    <tr>\n",
       "      <th>3</th>\n",
       "      <td>AR</td>\n",
       "      <td>MLP</td>\n",
       "      <td>0.267611</td>\n",
       "    </tr>\n",
       "    <tr>\n",
       "      <th>4</th>\n",
       "      <td>AR</td>\n",
       "      <td>MLP</td>\n",
       "      <td>0.387726</td>\n",
       "    </tr>\n",
       "    <tr>\n",
       "      <th>5</th>\n",
       "      <td>AR</td>\n",
       "      <td>MLP</td>\n",
       "      <td>0.263972</td>\n",
       "    </tr>\n",
       "    <tr>\n",
       "      <th>6</th>\n",
       "      <td>AR</td>\n",
       "      <td>MLP</td>\n",
       "      <td>0.275352</td>\n",
       "    </tr>\n",
       "    <tr>\n",
       "      <th>0</th>\n",
       "      <td>lenta</td>\n",
       "      <td>MLP</td>\n",
       "      <td>0.287349</td>\n",
       "    </tr>\n",
       "    <tr>\n",
       "      <th>1</th>\n",
       "      <td>lenta</td>\n",
       "      <td>MLP</td>\n",
       "      <td>0.388371</td>\n",
       "    </tr>\n",
       "    <tr>\n",
       "      <th>2</th>\n",
       "      <td>lenta</td>\n",
       "      <td>MLP</td>\n",
       "      <td>0.715370</td>\n",
       "    </tr>\n",
       "    <tr>\n",
       "      <th>3</th>\n",
       "      <td>lenta</td>\n",
       "      <td>MLP</td>\n",
       "      <td>0.660411</td>\n",
       "    </tr>\n",
       "    <tr>\n",
       "      <th>4</th>\n",
       "      <td>lenta</td>\n",
       "      <td>MLP</td>\n",
       "      <td>0.265794</td>\n",
       "    </tr>\n",
       "    <tr>\n",
       "      <th>5</th>\n",
       "      <td>lenta</td>\n",
       "      <td>MLP</td>\n",
       "      <td>0.189480</td>\n",
       "    </tr>\n",
       "    <tr>\n",
       "      <th>6</th>\n",
       "      <td>lenta</td>\n",
       "      <td>MLP</td>\n",
       "      <td>0.174723</td>\n",
       "    </tr>\n",
       "    <tr>\n",
       "      <th>7</th>\n",
       "      <td>lenta</td>\n",
       "      <td>MLP</td>\n",
       "      <td>0.053326</td>\n",
       "    </tr>\n",
       "    <tr>\n",
       "      <th>8</th>\n",
       "      <td>lenta</td>\n",
       "      <td>MLP</td>\n",
       "      <td>0.386185</td>\n",
       "    </tr>\n",
       "    <tr>\n",
       "      <th>9</th>\n",
       "      <td>lenta</td>\n",
       "      <td>MLP</td>\n",
       "      <td>0.364612</td>\n",
       "    </tr>\n",
       "    <tr>\n",
       "      <th>10</th>\n",
       "      <td>lenta</td>\n",
       "      <td>MLP</td>\n",
       "      <td>0.139447</td>\n",
       "    </tr>\n",
       "    <tr>\n",
       "      <th>11</th>\n",
       "      <td>lenta</td>\n",
       "      <td>MLP</td>\n",
       "      <td>0.280854</td>\n",
       "    </tr>\n",
       "    <tr>\n",
       "      <th>12</th>\n",
       "      <td>lenta</td>\n",
       "      <td>MLP</td>\n",
       "      <td>0.437800</td>\n",
       "    </tr>\n",
       "    <tr>\n",
       "      <th>13</th>\n",
       "      <td>lenta</td>\n",
       "      <td>MLP</td>\n",
       "      <td>0.475775</td>\n",
       "    </tr>\n",
       "    <tr>\n",
       "      <th>14</th>\n",
       "      <td>lenta</td>\n",
       "      <td>MLP</td>\n",
       "      <td>0.274049</td>\n",
       "    </tr>\n",
       "    <tr>\n",
       "      <th>15</th>\n",
       "      <td>lenta</td>\n",
       "      <td>MLP</td>\n",
       "      <td>0.342524</td>\n",
       "    </tr>\n",
       "    <tr>\n",
       "      <th>16</th>\n",
       "      <td>lenta</td>\n",
       "      <td>MLP</td>\n",
       "      <td>0.203984</td>\n",
       "    </tr>\n",
       "    <tr>\n",
       "      <th>17</th>\n",
       "      <td>lenta</td>\n",
       "      <td>MLP</td>\n",
       "      <td>0.403631</td>\n",
       "    </tr>\n",
       "    <tr>\n",
       "      <th>18</th>\n",
       "      <td>lenta</td>\n",
       "      <td>MLP</td>\n",
       "      <td>0.401109</td>\n",
       "    </tr>\n",
       "  </tbody>\n",
       "</table>\n",
       "<p>445 rows × 3 columns</p>\n",
       "</div>"
      ],
      "text/plain": [
       "   dataset         method     value\n",
       "0     20NG  Random Forest  0.018430\n",
       "1     20NG  Random Forest  0.240782\n",
       "2     20NG  Random Forest  0.044336\n",
       "3     20NG  Random Forest  0.078803\n",
       "4     20NG  Random Forest  0.001023\n",
       "5     20NG  Random Forest  0.002395\n",
       "6     20NG  Random Forest  0.038619\n",
       "7     20NG  Random Forest  0.048612\n",
       "8     20NG  Random Forest  0.043531\n",
       "9     20NG  Random Forest  0.062556\n",
       "10    20NG  Random Forest  0.066524\n",
       "11    20NG  Random Forest  0.008306\n",
       "12    20NG  Random Forest  0.007420\n",
       "13    20NG  Random Forest  0.004041\n",
       "14    20NG  Random Forest  0.053708\n",
       "15    20NG  Random Forest  0.045102\n",
       "16    20NG  Random Forest  0.044448\n",
       "17    20NG  Random Forest  0.023786\n",
       "18    20NG  Random Forest  0.112760\n",
       "19    20NG  Random Forest  0.109990\n",
       "20    20NG  Random Forest  0.014949\n",
       "21    20NG  Random Forest  0.035848\n",
       "22    20NG  Random Forest  0.027207\n",
       "23    20NG  Random Forest  0.039555\n",
       "24    20NG  Random Forest  0.021041\n",
       "25    20NG  Random Forest  0.026570\n",
       "26    20NG  Random Forest  0.224192\n",
       "27    20NG  Random Forest  0.029059\n",
       "28    20NG  Random Forest  0.005473\n",
       "29    20NG  Random Forest  0.068304\n",
       "..     ...            ...       ...\n",
       "17      HR            MLP  0.356175\n",
       "18      HR            MLP  0.319111\n",
       "19      HR            MLP  0.481729\n",
       "20      HR            MLP  0.277925\n",
       "0       AR            MLP  0.227892\n",
       "1       AR            MLP  0.180678\n",
       "2       AR            MLP  0.165775\n",
       "3       AR            MLP  0.267611\n",
       "4       AR            MLP  0.387726\n",
       "5       AR            MLP  0.263972\n",
       "6       AR            MLP  0.275352\n",
       "0    lenta            MLP  0.287349\n",
       "1    lenta            MLP  0.388371\n",
       "2    lenta            MLP  0.715370\n",
       "3    lenta            MLP  0.660411\n",
       "4    lenta            MLP  0.265794\n",
       "5    lenta            MLP  0.189480\n",
       "6    lenta            MLP  0.174723\n",
       "7    lenta            MLP  0.053326\n",
       "8    lenta            MLP  0.386185\n",
       "9    lenta            MLP  0.364612\n",
       "10   lenta            MLP  0.139447\n",
       "11   lenta            MLP  0.280854\n",
       "12   lenta            MLP  0.437800\n",
       "13   lenta            MLP  0.475775\n",
       "14   lenta            MLP  0.274049\n",
       "15   lenta            MLP  0.342524\n",
       "16   lenta            MLP  0.203984\n",
       "17   lenta            MLP  0.403631\n",
       "18   lenta            MLP  0.401109\n",
       "\n",
       "[445 rows x 3 columns]"
      ]
     },
     "execution_count": 46,
     "metadata": {},
     "output_type": "execute_result"
    }
   ],
   "source": [
    "data"
   ]
  },
  {
   "cell_type": "code",
   "execution_count": 47,
   "metadata": {},
   "outputs": [
    {
     "data": {
      "application/vnd.plotly.v1+json": {
       "config": {
        "plotlyServerURL": "https://plot.ly"
       },
       "data": [
        {
         "alignmentgroup": "True",
         "hovertemplate": "method=Random Forest<br>dataset=%{x}<br>value=%{y}<extra></extra>",
         "legendgroup": "Random Forest",
         "marker": {
          "color": "#636efa"
         },
         "name": "Random Forest",
         "notched": false,
         "offsetgroup": "Random Forest",
         "orientation": "v",
         "showlegend": true,
         "type": "box",
         "x": [
          "20NG",
          "20NG",
          "20NG",
          "20NG",
          "20NG",
          "20NG",
          "20NG",
          "20NG",
          "20NG",
          "20NG",
          "20NG",
          "20NG",
          "20NG",
          "20NG",
          "20NG",
          "20NG",
          "20NG",
          "20NG",
          "20NG",
          "20NG",
          "20NG",
          "20NG",
          "20NG",
          "20NG",
          "20NG",
          "20NG",
          "20NG",
          "20NG",
          "20NG",
          "20NG",
          "20NG",
          "banners",
          "banners",
          "banners",
          "banners",
          "banners",
          "banners",
          "banners",
          "banners",
          "banners",
          "banners",
          "banners",
          "banners",
          "banners",
          "banners",
          "banners",
          "banners",
          "banners",
          "banners",
          "banners",
          "banners",
          "banners",
          "banners",
          "banners",
          "banners",
          "banners",
          "HR",
          "HR",
          "HR",
          "HR",
          "HR",
          "HR",
          "HR",
          "HR",
          "HR",
          "HR",
          "HR",
          "HR",
          "HR",
          "HR",
          "HR",
          "HR",
          "HR",
          "HR",
          "HR",
          "HR",
          "HR",
          "HR",
          "HR",
          "HR",
          "HR",
          "AR",
          "AR",
          "AR",
          "AR",
          "AR",
          "AR",
          "AR",
          "AR",
          "AR",
          "AR",
          "AR",
          "AR",
          "AR",
          "AR",
          "AR",
          "AR",
          "AR",
          "AR",
          "lenta",
          "lenta",
          "lenta",
          "lenta",
          "lenta",
          "lenta",
          "lenta",
          "lenta",
          "lenta",
          "lenta",
          "lenta",
          "lenta",
          "lenta",
          "lenta",
          "lenta",
          "lenta",
          "lenta",
          "lenta",
          "lenta",
          "lenta",
          "lenta",
          "lenta",
          "lenta",
          "lenta",
          "lenta",
          "lenta"
         ],
         "x0": " ",
         "xaxis": "x",
         "y": [
          0.01842958159943832,
          0.24078235898666966,
          0.04433604053317465,
          0.07880323522180635,
          0.0010230878861699746,
          0.0023946251185042824,
          0.03861943353520743,
          0.04861228739124941,
          0.04353106494397179,
          0.06255564922285238,
          0.06652356548114935,
          0.008306440167540952,
          0.0074203107430519805,
          0.0040414013083426206,
          0.0537080818525185,
          0.04510154943612916,
          0.04444814940634248,
          0.023786189845807066,
          0.1127595226661241,
          0.10998962450992505,
          0.014949213644168298,
          0.035848441345217155,
          0.027207348905322296,
          0.03955485095533635,
          0.021040871940227912,
          0.02657040751783229,
          0.22419206808597725,
          0.029059091244079977,
          0.00547329159319542,
          0.0683041566748464,
          0.06383058398946545,
          0.09042122571396896,
          0.07699560359713015,
          0.04933979940989871,
          0.07140166150926903,
          0.17397157116488055,
          0.006113228934748734,
          0.01017622403762399,
          0.00691555183947933,
          0.027980149553235314,
          0.030413546950476458,
          0.03356455480818525,
          0.0682988802610723,
          0.055972046726365354,
          0.04676334513300741,
          0.011599243615948477,
          0.04592042874878591,
          0.04467463533813485,
          0.02929379001575714,
          0.02471538523219765,
          0.04331812145775984,
          0.041665664031627664,
          0.07824569099119653,
          2.220446049250313e-16,
          0.06874464425003037,
          0.0589681973189533,
          0.1411607711353586,
          0.11041827244766096,
          0.25034784182061204,
          0.021837422023976007,
          0.008102867754140987,
          0.005206026455464347,
          0.09370626712078535,
          0.08676225420905335,
          0.18166866484043734,
          0.36624775117993613,
          0.10848648010089773,
          0.12745269619875207,
          0.3895513168653272,
          0.34848815543736655,
          0.3141150885399469,
          0.3850908949518077,
          0.06579744754098536,
          0.23588776305980583,
          0.0135159614102093,
          0.01650570020943033,
          0.25074404300066555,
          0.26239845642145665,
          0.4531070587314402,
          0.19402019898631448,
          0.20540763251820027,
          0.07783219724037965,
          0.06015943188985386,
          0.08367004875784442,
          0.1240982694766683,
          0.20062233815662125,
          0.16051924552204422,
          0.13186393310816527,
          0.012442416078821999,
          0.1908941536810539,
          0.2245725058026378,
          0.2077335436381952,
          0.037918751979622925,
          0.1010863745926585,
          0.14764426969768568,
          0.21942595252422306,
          0.00119539578222074,
          0.13978442254129342,
          0.14943050771886388,
          0.05183449580587888,
          0.04864555220476739,
          0.0031545958804240068,
          0.26538692599793123,
          0.19553674695283643,
          0.08974509244114404,
          0.05636103657006562,
          0.054430985195268004,
          0.15591920366800555,
          0.058665761893636564,
          0.22761677588974824,
          0.19093679785774084,
          0.19340549539722737,
          0.15970886668322454,
          0.1149747110189306,
          0.20746405823330027,
          0.16813785458409955,
          0.07726011601058394,
          0.06022385507234269,
          0.16854366104483548,
          0.05871884977566517,
          0.08256569424098506,
          0.29767858604938796,
          0.09460760664352717,
          0.0334374000839724,
          0.018698507270231687
         ],
         "y0": " ",
         "yaxis": "y"
        },
        {
         "alignmentgroup": "True",
         "hovertemplate": "method=Gaussian Process<br>dataset=%{x}<br>value=%{y}<extra></extra>",
         "legendgroup": "Gaussian Process",
         "marker": {
          "color": "#EF553B"
         },
         "name": "Gaussian Process",
         "notched": false,
         "offsetgroup": "Gaussian Process",
         "orientation": "v",
         "showlegend": true,
         "type": "box",
         "x": [
          "20NG",
          "20NG",
          "20NG",
          "20NG",
          "20NG",
          "20NG",
          "20NG",
          "20NG",
          "20NG",
          "20NG",
          "20NG",
          "20NG",
          "20NG",
          "20NG",
          "20NG",
          "20NG",
          "20NG",
          "20NG",
          "20NG",
          "20NG",
          "20NG",
          "20NG",
          "20NG",
          "20NG",
          "20NG",
          "20NG",
          "20NG",
          "20NG",
          "20NG",
          "20NG",
          "banners",
          "banners",
          "banners",
          "banners",
          "banners",
          "banners",
          "banners",
          "banners",
          "banners",
          "banners",
          "banners",
          "banners",
          "banners",
          "banners",
          "banners",
          "banners",
          "banners",
          "banners",
          "banners",
          "banners",
          "banners",
          "banners",
          "banners",
          "banners",
          "banners",
          "banners",
          "banners",
          "banners",
          "banners",
          "HR",
          "HR",
          "HR",
          "HR",
          "HR",
          "HR",
          "HR",
          "HR",
          "HR",
          "HR",
          "HR",
          "HR",
          "HR",
          "HR",
          "HR",
          "HR",
          "HR",
          "HR",
          "HR",
          "HR",
          "HR",
          "HR",
          "HR",
          "HR",
          "HR",
          "AR",
          "AR",
          "AR",
          "AR",
          "AR",
          "AR",
          "AR",
          "AR",
          "AR",
          "AR",
          "AR",
          "AR",
          "AR",
          "AR",
          "AR",
          "AR",
          "AR",
          "AR",
          "AR",
          "AR",
          "AR",
          "AR",
          "lenta",
          "lenta",
          "lenta",
          "lenta",
          "lenta",
          "lenta",
          "lenta",
          "lenta",
          "lenta",
          "lenta",
          "lenta",
          "lenta",
          "lenta",
          "lenta",
          "lenta",
          "lenta",
          "lenta",
          "lenta",
          "lenta",
          "lenta",
          "lenta",
          "lenta",
          "lenta",
          "lenta",
          "lenta",
          "lenta",
          "lenta",
          "lenta",
          "lenta",
          "lenta",
          "lenta",
          "lenta",
          "lenta"
         ],
         "x0": " ",
         "xaxis": "x",
         "y": [
          0.14226876060374027,
          0.05688636634908698,
          0.06571989074122057,
          0.09867873374995953,
          0.278416272487695,
          0.22031344763691102,
          0.14449114924852655,
          0.10452658981210591,
          0.11457591700067041,
          0.15180600983393122,
          0.1497245657047383,
          0.1467694937929154,
          0.14376437394144,
          0.023183531827342094,
          1.7604590154589703e-10,
          0.10576105030182288,
          0.08189936807991673,
          0.09797983062948443,
          0.18852200680324122,
          0.07061529115245373,
          0.14894564175378355,
          0.06665544383731725,
          0.14692370894289059,
          0.0823061658003064,
          0.12200848881058418,
          0.07665879281141903,
          0.0604950540720739,
          0.07704690812827852,
          0.10542159967482997,
          0.04848737858501789,
          0.07662195307304229,
          0.08409996711587778,
          0.0492563703400698,
          0.039778579378422184,
          0.03068450529413301,
          0.05909259028016703,
          0.061610525644735334,
          0.07698306067658466,
          0.062435579133858415,
          0.07526616227087184,
          0.08906282654313392,
          0.036738432830867085,
          0.02852617284786879,
          0.29527846770021166,
          0.2256733863934192,
          0.07074180690187137,
          0.05176901129134927,
          0.052100973951436605,
          0.11769091162454678,
          0.14405038293225997,
          0.11032556773436018,
          0.1176068794584965,
          0.09859677241397445,
          0.14290032398361235,
          0.054264464661432525,
          0.06434447558980251,
          0.04756241904638352,
          0.17133843043271546,
          0.09535712712729927,
          0.44466885648273885,
          0.4190766129603936,
          0.35524666868844124,
          0.6387059097842515,
          0.6594785700540199,
          0.12716302832506174,
          0.012295958694090954,
          0.08691094703962031,
          0.04327396638717485,
          0.10670215697486636,
          0.04717533744818343,
          0.38797488592115953,
          0.6678027174567931,
          0.38332402854830977,
          0.5014311978926509,
          0.43306720952528743,
          0.2965655291070951,
          0.6184834576998338,
          0.014373140083264228,
          0.4709437482341848,
          0.3711255750891772,
          0.31120286536778535,
          0.3173020642778472,
          0.21225998656809858,
          0.19531263797275,
          0.21239596845782077,
          0.19461706636828294,
          0.12489999901784632,
          0.16400411222827566,
          0.09950579651360751,
          0.030289105138198973,
          0.0012876211531466838,
          0.18502189727375934,
          0.2026992886315721,
          0.22393819542487098,
          0.18619643306455874,
          0.16428646902651267,
          0.278835043805496,
          0.20070377256169913,
          0.19652676333663388,
          0.2466465634451221,
          0.10639486779490372,
          0.1128235104181791,
          0.11405070319003364,
          0.25484561722219784,
          0.29184964410028674,
          0.28048459271189496,
          0.25988904348194,
          0.19533293071039928,
          0.2581891504143958,
          0.31307633920363753,
          0.3357826474564078,
          0.30718172232200724,
          0.3156142370972128,
          0.2425478441761701,
          0.4042963295713689,
          0.36670568674628745,
          0.4991719398599337,
          0.306442155101677,
          0.3782023480157058,
          0.29948549460623697,
          0.35995102250173067,
          0.27073030938358456,
          0.22466437808565914,
          0.21503497193712218,
          0.0355599335351838,
          0.2568934911009028,
          0.08488333901856332,
          0.24695034995554555,
          0.24674634757771827,
          0.17463409973962785,
          0.14612915086744574,
          0.319930656572191,
          0.214591341087595,
          0.2697750679986492,
          0.3397444078776923,
          0.3452265293720594,
          0.2458896862073378,
          0.44725678794274987,
          0.15132749368339224
         ],
         "y0": " ",
         "yaxis": "y"
        },
        {
         "alignmentgroup": "True",
         "hovertemplate": "method=SVR<br>dataset=%{x}<br>value=%{y}<extra></extra>",
         "legendgroup": "SVR",
         "marker": {
          "color": "#00cc96"
         },
         "name": "SVR",
         "notched": false,
         "offsetgroup": "SVR",
         "orientation": "v",
         "showlegend": true,
         "type": "box",
         "x": [
          "20NG",
          "20NG",
          "20NG",
          "20NG",
          "20NG",
          "20NG",
          "20NG",
          "20NG",
          "20NG",
          "20NG",
          "banners",
          "banners",
          "banners",
          "banners",
          "banners",
          "banners",
          "banners",
          "banners",
          "banners",
          "banners",
          "HR",
          "HR",
          "HR",
          "HR",
          "HR",
          "HR",
          "HR",
          "HR",
          "HR",
          "HR",
          "HR",
          "HR",
          "HR",
          "HR",
          "HR",
          "HR",
          "HR",
          "HR",
          "HR",
          "HR",
          "HR",
          "HR",
          "HR",
          "HR",
          "HR",
          "HR",
          "AR",
          "AR",
          "AR",
          "AR",
          "AR",
          "AR",
          "AR",
          "AR",
          "AR",
          "AR",
          "AR",
          "AR",
          "AR",
          "AR",
          "AR",
          "AR",
          "AR",
          "AR",
          "AR",
          "AR",
          "lenta",
          "lenta",
          "lenta",
          "lenta",
          "lenta",
          "lenta",
          "lenta",
          "lenta",
          "lenta",
          "lenta",
          "lenta",
          "lenta",
          "lenta",
          "lenta",
          "lenta",
          "lenta",
          "lenta",
          "lenta",
          "lenta",
          "lenta",
          "lenta",
          "lenta",
          "lenta",
          "lenta",
          "lenta",
          "lenta",
          "lenta",
          "lenta"
         ],
         "x0": " ",
         "xaxis": "x",
         "y": [
          0.1467583033001378,
          0.11211120924817516,
          0.17374660351426513,
          0.18155091342061555,
          0.15799480999600096,
          0.2058116609577307,
          0.1794190919182127,
          0.12534095925861205,
          0.06157195009673416,
          0.1089240075726782,
          0.1687501073722625,
          0.15468481875019693,
          0.14334042687769205,
          0.12702924280907318,
          0.13912389368814565,
          0.14087122168374008,
          0.18014001300685817,
          0.18355366115601346,
          0.11536973185288014,
          0.14656853045910237,
          0.33077475718022936,
          0.26802407876269696,
          0.16739385215538485,
          0.18907202135460002,
          0.3055143836324748,
          0.505032192867559,
          0.40122220827511623,
          0.41136830041510924,
          0.303499910373657,
          0.35907438685761545,
          0.23549929207706352,
          0.31348130612166586,
          0.2454650214223962,
          0.2154565733272165,
          0.23208440784833714,
          0.4805567762967749,
          0.33041552695272747,
          0.7078151875442679,
          0.43942604740766605,
          0.46167416442180487,
          0.4683264463874286,
          0.45456910937211403,
          0.4147664529236363,
          0.39105538494357783,
          0.12205550362786521,
          0.18100744989387638,
          0.3166212360375978,
          0.2635869337391185,
          0.15603887497881655,
          0.20202624787518364,
          0.2811085089723582,
          0.19844318695483917,
          0.2155030936350989,
          0.3608238734051614,
          0.10012356709740305,
          0.22243397135249093,
          0.16007873562099617,
          0.3067602624125275,
          0.23730956940091735,
          0.3116031889248696,
          0.27425405403247977,
          0.25167227300718736,
          0.18431740106416022,
          0.1122165596347415,
          0.26591190742106235,
          0.43032193218739156,
          0.38802692342581546,
          0.32563213943312497,
          0.40047495817461914,
          0.39649680994000924,
          0.3566092279526272,
          0.3293314699603694,
          0.3521107849720395,
          0.27537496599425293,
          0.34418240437442177,
          0.2639980602475945,
          0.33562906963729094,
          0.26240129938551654,
          0.4223525139162772,
          0.49101394638304385,
          0.38546353096614244,
          0.18372374596172011,
          0.1734785260011342,
          0.5141075461060587,
          0.5220779056744339,
          0.4041805322147754,
          0.5520397156715245,
          0.44803167248885123,
          0.36732101132349126,
          0.30007837209414284,
          0.39838811795857654,
          0.29375266534224476,
          0.3828803520243123,
          0.36406491490726955
         ],
         "y0": " ",
         "yaxis": "y"
        },
        {
         "alignmentgroup": "True",
         "hovertemplate": "method=MLP<br>dataset=%{x}<br>value=%{y}<extra></extra>",
         "legendgroup": "MLP",
         "marker": {
          "color": "#ab63fa"
         },
         "name": "MLP",
         "notched": false,
         "offsetgroup": "MLP",
         "orientation": "v",
         "showlegend": true,
         "type": "box",
         "x": [
          "20NG",
          "20NG",
          "20NG",
          "20NG",
          "20NG",
          "20NG",
          "20NG",
          "20NG",
          "20NG",
          "20NG",
          "20NG",
          "20NG",
          "20NG",
          "20NG",
          "20NG",
          "20NG",
          "20NG",
          "20NG",
          "20NG",
          "banners",
          "banners",
          "banners",
          "banners",
          "banners",
          "banners",
          "banners",
          "banners",
          "banners",
          "banners",
          "banners",
          "banners",
          "banners",
          "banners",
          "banners",
          "banners",
          "banners",
          "banners",
          "banners",
          "banners",
          "banners",
          "HR",
          "HR",
          "HR",
          "HR",
          "HR",
          "HR",
          "HR",
          "HR",
          "HR",
          "HR",
          "HR",
          "HR",
          "HR",
          "HR",
          "HR",
          "HR",
          "HR",
          "HR",
          "HR",
          "HR",
          "HR",
          "AR",
          "AR",
          "AR",
          "AR",
          "AR",
          "AR",
          "AR",
          "lenta",
          "lenta",
          "lenta",
          "lenta",
          "lenta",
          "lenta",
          "lenta",
          "lenta",
          "lenta",
          "lenta",
          "lenta",
          "lenta",
          "lenta",
          "lenta",
          "lenta",
          "lenta",
          "lenta",
          "lenta",
          "lenta"
         ],
         "x0": " ",
         "xaxis": "x",
         "y": [
          0.1815548747169746,
          0.09940561276082831,
          0.11696378693991326,
          0.13113700959529295,
          0.14514894184794394,
          0.08722130273041401,
          0.07193569063582175,
          0.023556352585496966,
          0.02221373667554096,
          0.08471232083786971,
          0.08796589569035403,
          0.057340402343217585,
          0.05758037733526587,
          0.12294193793068307,
          0.12967221563412276,
          0.3287882937520241,
          0.3612098648747233,
          0.0935365917507404,
          0.10105528321355853,
          0.16539070942704653,
          0.16488022625070958,
          0.17253038201465337,
          0.06363085131321879,
          0.07011132314124265,
          0.07729651911357589,
          0.21660211160064347,
          0.23168983070355756,
          0.12955407638144417,
          0.022643630215903616,
          0.02790333423839643,
          0.17026387193816547,
          0.15163184240443517,
          0.10721441051493232,
          0.060336095602105344,
          0.14761545866949813,
          0.10878977287559359,
          0.12487978247939967,
          0.1153174729000516,
          0.09931591805024571,
          0.13873504045796264,
          0.2945177367335346,
          0.5197574659074308,
          0.3684155361827095,
          0.16822652626281798,
          0.056009310352577696,
          0.3205193231766683,
          0.3293378725378063,
          0.2082545829433233,
          0.3210930998409022,
          0.2647878673141944,
          0.23978139654385733,
          0.34456556658084303,
          0.690441329785617,
          0.2741987817150461,
          0.29826778011712685,
          0.6524362538180326,
          0.3053145757701561,
          0.3561748851685571,
          0.3191112356230529,
          0.4817287440747526,
          0.2779254593457739,
          0.22789190443262347,
          0.1806777063218355,
          0.16577477260708218,
          0.26761121099706586,
          0.38772573389011267,
          0.263971629005738,
          0.2753515588800458,
          0.28734926519207493,
          0.38837079529312607,
          0.7153696698797175,
          0.6604109084652645,
          0.2657939141605016,
          0.18948027882603988,
          0.17472282163058037,
          0.053325803496153214,
          0.38618480125273275,
          0.3646124639057503,
          0.13944749442225718,
          0.2808537944489923,
          0.437800430364845,
          0.475774931389406,
          0.2740488696762482,
          0.34252437938235614,
          0.2039838356939551,
          0.40363081993049993,
          0.4011090735875789
         ],
         "y0": " ",
         "yaxis": "y"
        }
       ],
       "layout": {
        "boxmode": "group",
        "font": {
         "color": "#7f7f7f",
         "family": "Courier New, monospace",
         "size": 20
        },
        "legend": {
         "title": {
          "text": "method"
         },
         "tracegroupgap": 0
        },
        "margin": {
         "t": 60
        },
        "template": {
         "data": {
          "bar": [
           {
            "error_x": {
             "color": "#2a3f5f"
            },
            "error_y": {
             "color": "#2a3f5f"
            },
            "marker": {
             "line": {
              "color": "white",
              "width": 0.5
             }
            },
            "type": "bar"
           }
          ],
          "barpolar": [
           {
            "marker": {
             "line": {
              "color": "white",
              "width": 0.5
             }
            },
            "type": "barpolar"
           }
          ],
          "carpet": [
           {
            "aaxis": {
             "endlinecolor": "#2a3f5f",
             "gridcolor": "#C8D4E3",
             "linecolor": "#C8D4E3",
             "minorgridcolor": "#C8D4E3",
             "startlinecolor": "#2a3f5f"
            },
            "baxis": {
             "endlinecolor": "#2a3f5f",
             "gridcolor": "#C8D4E3",
             "linecolor": "#C8D4E3",
             "minorgridcolor": "#C8D4E3",
             "startlinecolor": "#2a3f5f"
            },
            "type": "carpet"
           }
          ],
          "choropleth": [
           {
            "colorbar": {
             "outlinewidth": 0,
             "ticks": ""
            },
            "type": "choropleth"
           }
          ],
          "contour": [
           {
            "colorbar": {
             "outlinewidth": 0,
             "ticks": ""
            },
            "colorscale": [
             [
              0,
              "#0d0887"
             ],
             [
              0.1111111111111111,
              "#46039f"
             ],
             [
              0.2222222222222222,
              "#7201a8"
             ],
             [
              0.3333333333333333,
              "#9c179e"
             ],
             [
              0.4444444444444444,
              "#bd3786"
             ],
             [
              0.5555555555555556,
              "#d8576b"
             ],
             [
              0.6666666666666666,
              "#ed7953"
             ],
             [
              0.7777777777777778,
              "#fb9f3a"
             ],
             [
              0.8888888888888888,
              "#fdca26"
             ],
             [
              1,
              "#f0f921"
             ]
            ],
            "type": "contour"
           }
          ],
          "contourcarpet": [
           {
            "colorbar": {
             "outlinewidth": 0,
             "ticks": ""
            },
            "type": "contourcarpet"
           }
          ],
          "heatmap": [
           {
            "colorbar": {
             "outlinewidth": 0,
             "ticks": ""
            },
            "colorscale": [
             [
              0,
              "#0d0887"
             ],
             [
              0.1111111111111111,
              "#46039f"
             ],
             [
              0.2222222222222222,
              "#7201a8"
             ],
             [
              0.3333333333333333,
              "#9c179e"
             ],
             [
              0.4444444444444444,
              "#bd3786"
             ],
             [
              0.5555555555555556,
              "#d8576b"
             ],
             [
              0.6666666666666666,
              "#ed7953"
             ],
             [
              0.7777777777777778,
              "#fb9f3a"
             ],
             [
              0.8888888888888888,
              "#fdca26"
             ],
             [
              1,
              "#f0f921"
             ]
            ],
            "type": "heatmap"
           }
          ],
          "heatmapgl": [
           {
            "colorbar": {
             "outlinewidth": 0,
             "ticks": ""
            },
            "colorscale": [
             [
              0,
              "#0d0887"
             ],
             [
              0.1111111111111111,
              "#46039f"
             ],
             [
              0.2222222222222222,
              "#7201a8"
             ],
             [
              0.3333333333333333,
              "#9c179e"
             ],
             [
              0.4444444444444444,
              "#bd3786"
             ],
             [
              0.5555555555555556,
              "#d8576b"
             ],
             [
              0.6666666666666666,
              "#ed7953"
             ],
             [
              0.7777777777777778,
              "#fb9f3a"
             ],
             [
              0.8888888888888888,
              "#fdca26"
             ],
             [
              1,
              "#f0f921"
             ]
            ],
            "type": "heatmapgl"
           }
          ],
          "histogram": [
           {
            "marker": {
             "colorbar": {
              "outlinewidth": 0,
              "ticks": ""
             }
            },
            "type": "histogram"
           }
          ],
          "histogram2d": [
           {
            "colorbar": {
             "outlinewidth": 0,
             "ticks": ""
            },
            "colorscale": [
             [
              0,
              "#0d0887"
             ],
             [
              0.1111111111111111,
              "#46039f"
             ],
             [
              0.2222222222222222,
              "#7201a8"
             ],
             [
              0.3333333333333333,
              "#9c179e"
             ],
             [
              0.4444444444444444,
              "#bd3786"
             ],
             [
              0.5555555555555556,
              "#d8576b"
             ],
             [
              0.6666666666666666,
              "#ed7953"
             ],
             [
              0.7777777777777778,
              "#fb9f3a"
             ],
             [
              0.8888888888888888,
              "#fdca26"
             ],
             [
              1,
              "#f0f921"
             ]
            ],
            "type": "histogram2d"
           }
          ],
          "histogram2dcontour": [
           {
            "colorbar": {
             "outlinewidth": 0,
             "ticks": ""
            },
            "colorscale": [
             [
              0,
              "#0d0887"
             ],
             [
              0.1111111111111111,
              "#46039f"
             ],
             [
              0.2222222222222222,
              "#7201a8"
             ],
             [
              0.3333333333333333,
              "#9c179e"
             ],
             [
              0.4444444444444444,
              "#bd3786"
             ],
             [
              0.5555555555555556,
              "#d8576b"
             ],
             [
              0.6666666666666666,
              "#ed7953"
             ],
             [
              0.7777777777777778,
              "#fb9f3a"
             ],
             [
              0.8888888888888888,
              "#fdca26"
             ],
             [
              1,
              "#f0f921"
             ]
            ],
            "type": "histogram2dcontour"
           }
          ],
          "mesh3d": [
           {
            "colorbar": {
             "outlinewidth": 0,
             "ticks": ""
            },
            "type": "mesh3d"
           }
          ],
          "parcoords": [
           {
            "line": {
             "colorbar": {
              "outlinewidth": 0,
              "ticks": ""
             }
            },
            "type": "parcoords"
           }
          ],
          "pie": [
           {
            "automargin": true,
            "type": "pie"
           }
          ],
          "scatter": [
           {
            "marker": {
             "colorbar": {
              "outlinewidth": 0,
              "ticks": ""
             }
            },
            "type": "scatter"
           }
          ],
          "scatter3d": [
           {
            "line": {
             "colorbar": {
              "outlinewidth": 0,
              "ticks": ""
             }
            },
            "marker": {
             "colorbar": {
              "outlinewidth": 0,
              "ticks": ""
             }
            },
            "type": "scatter3d"
           }
          ],
          "scattercarpet": [
           {
            "marker": {
             "colorbar": {
              "outlinewidth": 0,
              "ticks": ""
             }
            },
            "type": "scattercarpet"
           }
          ],
          "scattergeo": [
           {
            "marker": {
             "colorbar": {
              "outlinewidth": 0,
              "ticks": ""
             }
            },
            "type": "scattergeo"
           }
          ],
          "scattergl": [
           {
            "marker": {
             "colorbar": {
              "outlinewidth": 0,
              "ticks": ""
             }
            },
            "type": "scattergl"
           }
          ],
          "scattermapbox": [
           {
            "marker": {
             "colorbar": {
              "outlinewidth": 0,
              "ticks": ""
             }
            },
            "type": "scattermapbox"
           }
          ],
          "scatterpolar": [
           {
            "marker": {
             "colorbar": {
              "outlinewidth": 0,
              "ticks": ""
             }
            },
            "type": "scatterpolar"
           }
          ],
          "scatterpolargl": [
           {
            "marker": {
             "colorbar": {
              "outlinewidth": 0,
              "ticks": ""
             }
            },
            "type": "scatterpolargl"
           }
          ],
          "scatterternary": [
           {
            "marker": {
             "colorbar": {
              "outlinewidth": 0,
              "ticks": ""
             }
            },
            "type": "scatterternary"
           }
          ],
          "surface": [
           {
            "colorbar": {
             "outlinewidth": 0,
             "ticks": ""
            },
            "colorscale": [
             [
              0,
              "#0d0887"
             ],
             [
              0.1111111111111111,
              "#46039f"
             ],
             [
              0.2222222222222222,
              "#7201a8"
             ],
             [
              0.3333333333333333,
              "#9c179e"
             ],
             [
              0.4444444444444444,
              "#bd3786"
             ],
             [
              0.5555555555555556,
              "#d8576b"
             ],
             [
              0.6666666666666666,
              "#ed7953"
             ],
             [
              0.7777777777777778,
              "#fb9f3a"
             ],
             [
              0.8888888888888888,
              "#fdca26"
             ],
             [
              1,
              "#f0f921"
             ]
            ],
            "type": "surface"
           }
          ],
          "table": [
           {
            "cells": {
             "fill": {
              "color": "#EBF0F8"
             },
             "line": {
              "color": "white"
             }
            },
            "header": {
             "fill": {
              "color": "#C8D4E3"
             },
             "line": {
              "color": "white"
             }
            },
            "type": "table"
           }
          ]
         },
         "layout": {
          "annotationdefaults": {
           "arrowcolor": "#2a3f5f",
           "arrowhead": 0,
           "arrowwidth": 1
          },
          "coloraxis": {
           "colorbar": {
            "outlinewidth": 0,
            "ticks": ""
           }
          },
          "colorscale": {
           "diverging": [
            [
             0,
             "#8e0152"
            ],
            [
             0.1,
             "#c51b7d"
            ],
            [
             0.2,
             "#de77ae"
            ],
            [
             0.3,
             "#f1b6da"
            ],
            [
             0.4,
             "#fde0ef"
            ],
            [
             0.5,
             "#f7f7f7"
            ],
            [
             0.6,
             "#e6f5d0"
            ],
            [
             0.7,
             "#b8e186"
            ],
            [
             0.8,
             "#7fbc41"
            ],
            [
             0.9,
             "#4d9221"
            ],
            [
             1,
             "#276419"
            ]
           ],
           "sequential": [
            [
             0,
             "#0d0887"
            ],
            [
             0.1111111111111111,
             "#46039f"
            ],
            [
             0.2222222222222222,
             "#7201a8"
            ],
            [
             0.3333333333333333,
             "#9c179e"
            ],
            [
             0.4444444444444444,
             "#bd3786"
            ],
            [
             0.5555555555555556,
             "#d8576b"
            ],
            [
             0.6666666666666666,
             "#ed7953"
            ],
            [
             0.7777777777777778,
             "#fb9f3a"
            ],
            [
             0.8888888888888888,
             "#fdca26"
            ],
            [
             1,
             "#f0f921"
            ]
           ],
           "sequentialminus": [
            [
             0,
             "#0d0887"
            ],
            [
             0.1111111111111111,
             "#46039f"
            ],
            [
             0.2222222222222222,
             "#7201a8"
            ],
            [
             0.3333333333333333,
             "#9c179e"
            ],
            [
             0.4444444444444444,
             "#bd3786"
            ],
            [
             0.5555555555555556,
             "#d8576b"
            ],
            [
             0.6666666666666666,
             "#ed7953"
            ],
            [
             0.7777777777777778,
             "#fb9f3a"
            ],
            [
             0.8888888888888888,
             "#fdca26"
            ],
            [
             1,
             "#f0f921"
            ]
           ]
          },
          "colorway": [
           "#636efa",
           "#EF553B",
           "#00cc96",
           "#ab63fa",
           "#FFA15A",
           "#19d3f3",
           "#FF6692",
           "#B6E880",
           "#FF97FF",
           "#FECB52"
          ],
          "font": {
           "color": "#2a3f5f"
          },
          "geo": {
           "bgcolor": "white",
           "lakecolor": "white",
           "landcolor": "white",
           "showlakes": true,
           "showland": true,
           "subunitcolor": "#C8D4E3"
          },
          "hoverlabel": {
           "align": "left"
          },
          "hovermode": "closest",
          "mapbox": {
           "style": "light"
          },
          "paper_bgcolor": "white",
          "plot_bgcolor": "white",
          "polar": {
           "angularaxis": {
            "gridcolor": "#EBF0F8",
            "linecolor": "#EBF0F8",
            "ticks": ""
           },
           "bgcolor": "white",
           "radialaxis": {
            "gridcolor": "#EBF0F8",
            "linecolor": "#EBF0F8",
            "ticks": ""
           }
          },
          "scene": {
           "xaxis": {
            "backgroundcolor": "white",
            "gridcolor": "#DFE8F3",
            "gridwidth": 2,
            "linecolor": "#EBF0F8",
            "showbackground": true,
            "ticks": "",
            "zerolinecolor": "#EBF0F8"
           },
           "yaxis": {
            "backgroundcolor": "white",
            "gridcolor": "#DFE8F3",
            "gridwidth": 2,
            "linecolor": "#EBF0F8",
            "showbackground": true,
            "ticks": "",
            "zerolinecolor": "#EBF0F8"
           },
           "zaxis": {
            "backgroundcolor": "white",
            "gridcolor": "#DFE8F3",
            "gridwidth": 2,
            "linecolor": "#EBF0F8",
            "showbackground": true,
            "ticks": "",
            "zerolinecolor": "#EBF0F8"
           }
          },
          "shapedefaults": {
           "line": {
            "color": "#2a3f5f"
           }
          },
          "ternary": {
           "aaxis": {
            "gridcolor": "#DFE8F3",
            "linecolor": "#A2B1C6",
            "ticks": ""
           },
           "baxis": {
            "gridcolor": "#DFE8F3",
            "linecolor": "#A2B1C6",
            "ticks": ""
           },
           "bgcolor": "white",
           "caxis": {
            "gridcolor": "#DFE8F3",
            "linecolor": "#A2B1C6",
            "ticks": ""
           }
          },
          "title": {
           "x": 0.05
          },
          "xaxis": {
           "automargin": true,
           "gridcolor": "#EBF0F8",
           "linecolor": "#EBF0F8",
           "ticks": "",
           "title": {
            "standoff": 15
           },
           "zerolinecolor": "#EBF0F8",
           "zerolinewidth": 2
          },
          "yaxis": {
           "automargin": true,
           "gridcolor": "#EBF0F8",
           "linecolor": "#EBF0F8",
           "ticks": "",
           "title": {
            "standoff": 15
           },
           "zerolinecolor": "#EBF0F8",
           "zerolinewidth": 2
          }
         }
        },
        "xaxis": {
         "anchor": "y",
         "domain": [
          0,
          1
         ],
         "title": {
          "text": "Datasets"
         }
        },
        "yaxis": {
         "anchor": "x",
         "domain": [
          0,
          1
         ],
         "title": {
          "text": "RMSE"
         }
        }
       }
      },
      "text/html": [
       "<div>\n",
       "        \n",
       "        \n",
       "            <div id=\"878d0528-c5ba-4d58-90cb-bced93f37d9f\" class=\"plotly-graph-div\" style=\"height:525px; width:100%;\"></div>\n",
       "            <script type=\"text/javascript\">\n",
       "                require([\"plotly\"], function(Plotly) {\n",
       "                    window.PLOTLYENV=window.PLOTLYENV || {};\n",
       "                    \n",
       "                if (document.getElementById(\"878d0528-c5ba-4d58-90cb-bced93f37d9f\")) {\n",
       "                    Plotly.newPlot(\n",
       "                        '878d0528-c5ba-4d58-90cb-bced93f37d9f',\n",
       "                        [{\"alignmentgroup\": \"True\", \"hovertemplate\": \"method=Random Forest<br>dataset=%{x}<br>value=%{y}<extra></extra>\", \"legendgroup\": \"Random Forest\", \"marker\": {\"color\": \"#636efa\"}, \"name\": \"Random Forest\", \"notched\": false, \"offsetgroup\": \"Random Forest\", \"orientation\": \"v\", \"showlegend\": true, \"type\": \"box\", \"x\": [\"20NG\", \"20NG\", \"20NG\", \"20NG\", \"20NG\", \"20NG\", \"20NG\", \"20NG\", \"20NG\", \"20NG\", \"20NG\", \"20NG\", \"20NG\", \"20NG\", \"20NG\", \"20NG\", \"20NG\", \"20NG\", \"20NG\", \"20NG\", \"20NG\", \"20NG\", \"20NG\", \"20NG\", \"20NG\", \"20NG\", \"20NG\", \"20NG\", \"20NG\", \"20NG\", \"20NG\", \"banners\", \"banners\", \"banners\", \"banners\", \"banners\", \"banners\", \"banners\", \"banners\", \"banners\", \"banners\", \"banners\", \"banners\", \"banners\", \"banners\", \"banners\", \"banners\", \"banners\", \"banners\", \"banners\", \"banners\", \"banners\", \"banners\", \"banners\", \"banners\", \"banners\", \"HR\", \"HR\", \"HR\", \"HR\", \"HR\", \"HR\", \"HR\", \"HR\", \"HR\", \"HR\", \"HR\", \"HR\", \"HR\", \"HR\", \"HR\", \"HR\", \"HR\", \"HR\", \"HR\", \"HR\", \"HR\", \"HR\", \"HR\", \"HR\", \"HR\", \"AR\", \"AR\", \"AR\", \"AR\", \"AR\", \"AR\", \"AR\", \"AR\", \"AR\", \"AR\", \"AR\", \"AR\", \"AR\", \"AR\", \"AR\", \"AR\", \"AR\", \"AR\", \"lenta\", \"lenta\", \"lenta\", \"lenta\", \"lenta\", \"lenta\", \"lenta\", \"lenta\", \"lenta\", \"lenta\", \"lenta\", \"lenta\", \"lenta\", \"lenta\", \"lenta\", \"lenta\", \"lenta\", \"lenta\", \"lenta\", \"lenta\", \"lenta\", \"lenta\", \"lenta\", \"lenta\", \"lenta\", \"lenta\"], \"x0\": \" \", \"xaxis\": \"x\", \"y\": [0.01842958159943832, 0.24078235898666966, 0.04433604053317465, 0.07880323522180635, 0.0010230878861699746, 0.0023946251185042824, 0.03861943353520743, 0.04861228739124941, 0.04353106494397179, 0.06255564922285238, 0.06652356548114935, 0.008306440167540952, 0.0074203107430519805, 0.0040414013083426206, 0.0537080818525185, 0.04510154943612916, 0.04444814940634248, 0.023786189845807066, 0.1127595226661241, 0.10998962450992505, 0.014949213644168298, 0.035848441345217155, 0.027207348905322296, 0.03955485095533635, 0.021040871940227912, 0.02657040751783229, 0.22419206808597725, 0.029059091244079977, 0.00547329159319542, 0.0683041566748464, 0.06383058398946545, 0.09042122571396896, 0.07699560359713015, 0.04933979940989871, 0.07140166150926903, 0.17397157116488055, 0.006113228934748734, 0.01017622403762399, 0.00691555183947933, 0.027980149553235314, 0.030413546950476458, 0.03356455480818525, 0.0682988802610723, 0.055972046726365354, 0.04676334513300741, 0.011599243615948477, 0.04592042874878591, 0.04467463533813485, 0.02929379001575714, 0.02471538523219765, 0.04331812145775984, 0.041665664031627664, 0.07824569099119653, 2.220446049250313e-16, 0.06874464425003037, 0.0589681973189533, 0.1411607711353586, 0.11041827244766096, 0.25034784182061204, 0.021837422023976007, 0.008102867754140987, 0.005206026455464347, 0.09370626712078535, 0.08676225420905335, 0.18166866484043734, 0.36624775117993613, 0.10848648010089773, 0.12745269619875207, 0.3895513168653272, 0.34848815543736655, 0.3141150885399469, 0.3850908949518077, 0.06579744754098536, 0.23588776305980583, 0.0135159614102093, 0.01650570020943033, 0.25074404300066555, 0.26239845642145665, 0.4531070587314402, 0.19402019898631448, 0.20540763251820027, 0.07783219724037965, 0.06015943188985386, 0.08367004875784442, 0.1240982694766683, 0.20062233815662125, 0.16051924552204422, 0.13186393310816527, 0.012442416078821999, 0.1908941536810539, 0.2245725058026378, 0.2077335436381952, 0.037918751979622925, 0.1010863745926585, 0.14764426969768568, 0.21942595252422306, 0.00119539578222074, 0.13978442254129342, 0.14943050771886388, 0.05183449580587888, 0.04864555220476739, 0.0031545958804240068, 0.26538692599793123, 0.19553674695283643, 0.08974509244114404, 0.05636103657006562, 0.054430985195268004, 0.15591920366800555, 0.058665761893636564, 0.22761677588974824, 0.19093679785774084, 0.19340549539722737, 0.15970886668322454, 0.1149747110189306, 0.20746405823330027, 0.16813785458409955, 0.07726011601058394, 0.06022385507234269, 0.16854366104483548, 0.05871884977566517, 0.08256569424098506, 0.29767858604938796, 0.09460760664352717, 0.0334374000839724, 0.018698507270231687], \"y0\": \" \", \"yaxis\": \"y\"}, {\"alignmentgroup\": \"True\", \"hovertemplate\": \"method=Gaussian Process<br>dataset=%{x}<br>value=%{y}<extra></extra>\", \"legendgroup\": \"Gaussian Process\", \"marker\": {\"color\": \"#EF553B\"}, \"name\": \"Gaussian Process\", \"notched\": false, \"offsetgroup\": \"Gaussian Process\", \"orientation\": \"v\", \"showlegend\": true, \"type\": \"box\", \"x\": [\"20NG\", \"20NG\", \"20NG\", \"20NG\", \"20NG\", \"20NG\", \"20NG\", \"20NG\", \"20NG\", \"20NG\", \"20NG\", \"20NG\", \"20NG\", \"20NG\", \"20NG\", \"20NG\", \"20NG\", \"20NG\", \"20NG\", \"20NG\", \"20NG\", \"20NG\", \"20NG\", \"20NG\", \"20NG\", \"20NG\", \"20NG\", \"20NG\", \"20NG\", \"20NG\", \"banners\", \"banners\", \"banners\", \"banners\", \"banners\", \"banners\", \"banners\", \"banners\", \"banners\", \"banners\", \"banners\", \"banners\", \"banners\", \"banners\", \"banners\", \"banners\", \"banners\", \"banners\", \"banners\", \"banners\", \"banners\", \"banners\", \"banners\", \"banners\", \"banners\", \"banners\", \"banners\", \"banners\", \"banners\", \"HR\", \"HR\", \"HR\", \"HR\", \"HR\", \"HR\", \"HR\", \"HR\", \"HR\", \"HR\", \"HR\", \"HR\", \"HR\", \"HR\", \"HR\", \"HR\", \"HR\", \"HR\", \"HR\", \"HR\", \"HR\", \"HR\", \"HR\", \"HR\", \"HR\", \"AR\", \"AR\", \"AR\", \"AR\", \"AR\", \"AR\", \"AR\", \"AR\", \"AR\", \"AR\", \"AR\", \"AR\", \"AR\", \"AR\", \"AR\", \"AR\", \"AR\", \"AR\", \"AR\", \"AR\", \"AR\", \"AR\", \"lenta\", \"lenta\", \"lenta\", \"lenta\", \"lenta\", \"lenta\", \"lenta\", \"lenta\", \"lenta\", \"lenta\", \"lenta\", \"lenta\", \"lenta\", \"lenta\", \"lenta\", \"lenta\", \"lenta\", \"lenta\", \"lenta\", \"lenta\", \"lenta\", \"lenta\", \"lenta\", \"lenta\", \"lenta\", \"lenta\", \"lenta\", \"lenta\", \"lenta\", \"lenta\", \"lenta\", \"lenta\", \"lenta\"], \"x0\": \" \", \"xaxis\": \"x\", \"y\": [0.14226876060374027, 0.05688636634908698, 0.06571989074122057, 0.09867873374995953, 0.278416272487695, 0.22031344763691102, 0.14449114924852655, 0.10452658981210591, 0.11457591700067041, 0.15180600983393122, 0.1497245657047383, 0.1467694937929154, 0.14376437394144, 0.023183531827342094, 1.7604590154589703e-10, 0.10576105030182288, 0.08189936807991673, 0.09797983062948443, 0.18852200680324122, 0.07061529115245373, 0.14894564175378355, 0.06665544383731725, 0.14692370894289059, 0.0823061658003064, 0.12200848881058418, 0.07665879281141903, 0.0604950540720739, 0.07704690812827852, 0.10542159967482997, 0.04848737858501789, 0.07662195307304229, 0.08409996711587778, 0.0492563703400698, 0.039778579378422184, 0.03068450529413301, 0.05909259028016703, 0.061610525644735334, 0.07698306067658466, 0.062435579133858415, 0.07526616227087184, 0.08906282654313392, 0.036738432830867085, 0.02852617284786879, 0.29527846770021166, 0.2256733863934192, 0.07074180690187137, 0.05176901129134927, 0.052100973951436605, 0.11769091162454678, 0.14405038293225997, 0.11032556773436018, 0.1176068794584965, 0.09859677241397445, 0.14290032398361235, 0.054264464661432525, 0.06434447558980251, 0.04756241904638352, 0.17133843043271546, 0.09535712712729927, 0.44466885648273885, 0.4190766129603936, 0.35524666868844124, 0.6387059097842515, 0.6594785700540199, 0.12716302832506174, 0.012295958694090954, 0.08691094703962031, 0.04327396638717485, 0.10670215697486636, 0.04717533744818343, 0.38797488592115953, 0.6678027174567931, 0.38332402854830977, 0.5014311978926509, 0.43306720952528743, 0.2965655291070951, 0.6184834576998338, 0.014373140083264228, 0.4709437482341848, 0.3711255750891772, 0.31120286536778535, 0.3173020642778472, 0.21225998656809858, 0.19531263797275, 0.21239596845782077, 0.19461706636828294, 0.12489999901784632, 0.16400411222827566, 0.09950579651360751, 0.030289105138198973, 0.0012876211531466838, 0.18502189727375934, 0.2026992886315721, 0.22393819542487098, 0.18619643306455874, 0.16428646902651267, 0.278835043805496, 0.20070377256169913, 0.19652676333663388, 0.2466465634451221, 0.10639486779490372, 0.1128235104181791, 0.11405070319003364, 0.25484561722219784, 0.29184964410028674, 0.28048459271189496, 0.25988904348194, 0.19533293071039928, 0.2581891504143958, 0.31307633920363753, 0.3357826474564078, 0.30718172232200724, 0.3156142370972128, 0.2425478441761701, 0.4042963295713689, 0.36670568674628745, 0.4991719398599337, 0.306442155101677, 0.3782023480157058, 0.29948549460623697, 0.35995102250173067, 0.27073030938358456, 0.22466437808565914, 0.21503497193712218, 0.0355599335351838, 0.2568934911009028, 0.08488333901856332, 0.24695034995554555, 0.24674634757771827, 0.17463409973962785, 0.14612915086744574, 0.319930656572191, 0.214591341087595, 0.2697750679986492, 0.3397444078776923, 0.3452265293720594, 0.2458896862073378, 0.44725678794274987, 0.15132749368339224], \"y0\": \" \", \"yaxis\": \"y\"}, {\"alignmentgroup\": \"True\", \"hovertemplate\": \"method=SVR<br>dataset=%{x}<br>value=%{y}<extra></extra>\", \"legendgroup\": \"SVR\", \"marker\": {\"color\": \"#00cc96\"}, \"name\": \"SVR\", \"notched\": false, \"offsetgroup\": \"SVR\", \"orientation\": \"v\", \"showlegend\": true, \"type\": \"box\", \"x\": [\"20NG\", \"20NG\", \"20NG\", \"20NG\", \"20NG\", \"20NG\", \"20NG\", \"20NG\", \"20NG\", \"20NG\", \"banners\", \"banners\", \"banners\", \"banners\", \"banners\", \"banners\", \"banners\", \"banners\", \"banners\", \"banners\", \"HR\", \"HR\", \"HR\", \"HR\", \"HR\", \"HR\", \"HR\", \"HR\", \"HR\", \"HR\", \"HR\", \"HR\", \"HR\", \"HR\", \"HR\", \"HR\", \"HR\", \"HR\", \"HR\", \"HR\", \"HR\", \"HR\", \"HR\", \"HR\", \"HR\", \"HR\", \"AR\", \"AR\", \"AR\", \"AR\", \"AR\", \"AR\", \"AR\", \"AR\", \"AR\", \"AR\", \"AR\", \"AR\", \"AR\", \"AR\", \"AR\", \"AR\", \"AR\", \"AR\", \"AR\", \"AR\", \"lenta\", \"lenta\", \"lenta\", \"lenta\", \"lenta\", \"lenta\", \"lenta\", \"lenta\", \"lenta\", \"lenta\", \"lenta\", \"lenta\", \"lenta\", \"lenta\", \"lenta\", \"lenta\", \"lenta\", \"lenta\", \"lenta\", \"lenta\", \"lenta\", \"lenta\", \"lenta\", \"lenta\", \"lenta\", \"lenta\", \"lenta\", \"lenta\"], \"x0\": \" \", \"xaxis\": \"x\", \"y\": [0.1467583033001378, 0.11211120924817516, 0.17374660351426513, 0.18155091342061555, 0.15799480999600096, 0.2058116609577307, 0.1794190919182127, 0.12534095925861205, 0.06157195009673416, 0.1089240075726782, 0.1687501073722625, 0.15468481875019693, 0.14334042687769205, 0.12702924280907318, 0.13912389368814565, 0.14087122168374008, 0.18014001300685817, 0.18355366115601346, 0.11536973185288014, 0.14656853045910237, 0.33077475718022936, 0.26802407876269696, 0.16739385215538485, 0.18907202135460002, 0.3055143836324748, 0.505032192867559, 0.40122220827511623, 0.41136830041510924, 0.303499910373657, 0.35907438685761545, 0.23549929207706352, 0.31348130612166586, 0.2454650214223962, 0.2154565733272165, 0.23208440784833714, 0.4805567762967749, 0.33041552695272747, 0.7078151875442679, 0.43942604740766605, 0.46167416442180487, 0.4683264463874286, 0.45456910937211403, 0.4147664529236363, 0.39105538494357783, 0.12205550362786521, 0.18100744989387638, 0.3166212360375978, 0.2635869337391185, 0.15603887497881655, 0.20202624787518364, 0.2811085089723582, 0.19844318695483917, 0.2155030936350989, 0.3608238734051614, 0.10012356709740305, 0.22243397135249093, 0.16007873562099617, 0.3067602624125275, 0.23730956940091735, 0.3116031889248696, 0.27425405403247977, 0.25167227300718736, 0.18431740106416022, 0.1122165596347415, 0.26591190742106235, 0.43032193218739156, 0.38802692342581546, 0.32563213943312497, 0.40047495817461914, 0.39649680994000924, 0.3566092279526272, 0.3293314699603694, 0.3521107849720395, 0.27537496599425293, 0.34418240437442177, 0.2639980602475945, 0.33562906963729094, 0.26240129938551654, 0.4223525139162772, 0.49101394638304385, 0.38546353096614244, 0.18372374596172011, 0.1734785260011342, 0.5141075461060587, 0.5220779056744339, 0.4041805322147754, 0.5520397156715245, 0.44803167248885123, 0.36732101132349126, 0.30007837209414284, 0.39838811795857654, 0.29375266534224476, 0.3828803520243123, 0.36406491490726955], \"y0\": \" \", \"yaxis\": \"y\"}, {\"alignmentgroup\": \"True\", \"hovertemplate\": \"method=MLP<br>dataset=%{x}<br>value=%{y}<extra></extra>\", \"legendgroup\": \"MLP\", \"marker\": {\"color\": \"#ab63fa\"}, \"name\": \"MLP\", \"notched\": false, \"offsetgroup\": \"MLP\", \"orientation\": \"v\", \"showlegend\": true, \"type\": \"box\", \"x\": [\"20NG\", \"20NG\", \"20NG\", \"20NG\", \"20NG\", \"20NG\", \"20NG\", \"20NG\", \"20NG\", \"20NG\", \"20NG\", \"20NG\", \"20NG\", \"20NG\", \"20NG\", \"20NG\", \"20NG\", \"20NG\", \"20NG\", \"banners\", \"banners\", \"banners\", \"banners\", \"banners\", \"banners\", \"banners\", \"banners\", \"banners\", \"banners\", \"banners\", \"banners\", \"banners\", \"banners\", \"banners\", \"banners\", \"banners\", \"banners\", \"banners\", \"banners\", \"banners\", \"HR\", \"HR\", \"HR\", \"HR\", \"HR\", \"HR\", \"HR\", \"HR\", \"HR\", \"HR\", \"HR\", \"HR\", \"HR\", \"HR\", \"HR\", \"HR\", \"HR\", \"HR\", \"HR\", \"HR\", \"HR\", \"AR\", \"AR\", \"AR\", \"AR\", \"AR\", \"AR\", \"AR\", \"lenta\", \"lenta\", \"lenta\", \"lenta\", \"lenta\", \"lenta\", \"lenta\", \"lenta\", \"lenta\", \"lenta\", \"lenta\", \"lenta\", \"lenta\", \"lenta\", \"lenta\", \"lenta\", \"lenta\", \"lenta\", \"lenta\"], \"x0\": \" \", \"xaxis\": \"x\", \"y\": [0.1815548747169746, 0.09940561276082831, 0.11696378693991326, 0.13113700959529295, 0.14514894184794394, 0.08722130273041401, 0.07193569063582175, 0.023556352585496966, 0.02221373667554096, 0.08471232083786971, 0.08796589569035403, 0.057340402343217585, 0.05758037733526587, 0.12294193793068307, 0.12967221563412276, 0.3287882937520241, 0.3612098648747233, 0.0935365917507404, 0.10105528321355853, 0.16539070942704653, 0.16488022625070958, 0.17253038201465337, 0.06363085131321879, 0.07011132314124265, 0.07729651911357589, 0.21660211160064347, 0.23168983070355756, 0.12955407638144417, 0.022643630215903616, 0.02790333423839643, 0.17026387193816547, 0.15163184240443517, 0.10721441051493232, 0.060336095602105344, 0.14761545866949813, 0.10878977287559359, 0.12487978247939967, 0.1153174729000516, 0.09931591805024571, 0.13873504045796264, 0.2945177367335346, 0.5197574659074308, 0.3684155361827095, 0.16822652626281798, 0.056009310352577696, 0.3205193231766683, 0.3293378725378063, 0.2082545829433233, 0.3210930998409022, 0.2647878673141944, 0.23978139654385733, 0.34456556658084303, 0.690441329785617, 0.2741987817150461, 0.29826778011712685, 0.6524362538180326, 0.3053145757701561, 0.3561748851685571, 0.3191112356230529, 0.4817287440747526, 0.2779254593457739, 0.22789190443262347, 0.1806777063218355, 0.16577477260708218, 0.26761121099706586, 0.38772573389011267, 0.263971629005738, 0.2753515588800458, 0.28734926519207493, 0.38837079529312607, 0.7153696698797175, 0.6604109084652645, 0.2657939141605016, 0.18948027882603988, 0.17472282163058037, 0.053325803496153214, 0.38618480125273275, 0.3646124639057503, 0.13944749442225718, 0.2808537944489923, 0.437800430364845, 0.475774931389406, 0.2740488696762482, 0.34252437938235614, 0.2039838356939551, 0.40363081993049993, 0.4011090735875789], \"y0\": \" \", \"yaxis\": \"y\"}],\n",
       "                        {\"boxmode\": \"group\", \"font\": {\"color\": \"#7f7f7f\", \"family\": \"Courier New, monospace\", \"size\": 20}, \"legend\": {\"title\": {\"text\": \"method\"}, \"tracegroupgap\": 0}, \"margin\": {\"t\": 60}, \"template\": {\"data\": {\"bar\": [{\"error_x\": {\"color\": \"#2a3f5f\"}, \"error_y\": {\"color\": \"#2a3f5f\"}, \"marker\": {\"line\": {\"color\": \"white\", \"width\": 0.5}}, \"type\": \"bar\"}], \"barpolar\": [{\"marker\": {\"line\": {\"color\": \"white\", \"width\": 0.5}}, \"type\": \"barpolar\"}], \"carpet\": [{\"aaxis\": {\"endlinecolor\": \"#2a3f5f\", \"gridcolor\": \"#C8D4E3\", \"linecolor\": \"#C8D4E3\", \"minorgridcolor\": \"#C8D4E3\", \"startlinecolor\": \"#2a3f5f\"}, \"baxis\": {\"endlinecolor\": \"#2a3f5f\", \"gridcolor\": \"#C8D4E3\", \"linecolor\": \"#C8D4E3\", \"minorgridcolor\": \"#C8D4E3\", \"startlinecolor\": \"#2a3f5f\"}, \"type\": \"carpet\"}], \"choropleth\": [{\"colorbar\": {\"outlinewidth\": 0, \"ticks\": \"\"}, \"type\": \"choropleth\"}], \"contour\": [{\"colorbar\": {\"outlinewidth\": 0, \"ticks\": \"\"}, \"colorscale\": [[0.0, \"#0d0887\"], [0.1111111111111111, \"#46039f\"], [0.2222222222222222, \"#7201a8\"], [0.3333333333333333, \"#9c179e\"], [0.4444444444444444, \"#bd3786\"], [0.5555555555555556, \"#d8576b\"], [0.6666666666666666, \"#ed7953\"], [0.7777777777777778, \"#fb9f3a\"], [0.8888888888888888, \"#fdca26\"], [1.0, \"#f0f921\"]], \"type\": \"contour\"}], \"contourcarpet\": [{\"colorbar\": {\"outlinewidth\": 0, \"ticks\": \"\"}, \"type\": \"contourcarpet\"}], \"heatmap\": [{\"colorbar\": {\"outlinewidth\": 0, \"ticks\": \"\"}, \"colorscale\": [[0.0, \"#0d0887\"], [0.1111111111111111, \"#46039f\"], [0.2222222222222222, \"#7201a8\"], [0.3333333333333333, \"#9c179e\"], [0.4444444444444444, \"#bd3786\"], [0.5555555555555556, \"#d8576b\"], [0.6666666666666666, \"#ed7953\"], [0.7777777777777778, \"#fb9f3a\"], [0.8888888888888888, \"#fdca26\"], [1.0, \"#f0f921\"]], \"type\": \"heatmap\"}], \"heatmapgl\": [{\"colorbar\": {\"outlinewidth\": 0, \"ticks\": \"\"}, \"colorscale\": [[0.0, \"#0d0887\"], [0.1111111111111111, \"#46039f\"], [0.2222222222222222, \"#7201a8\"], [0.3333333333333333, \"#9c179e\"], [0.4444444444444444, \"#bd3786\"], [0.5555555555555556, \"#d8576b\"], [0.6666666666666666, \"#ed7953\"], [0.7777777777777778, \"#fb9f3a\"], [0.8888888888888888, \"#fdca26\"], [1.0, \"#f0f921\"]], \"type\": \"heatmapgl\"}], \"histogram\": [{\"marker\": {\"colorbar\": {\"outlinewidth\": 0, \"ticks\": \"\"}}, \"type\": \"histogram\"}], \"histogram2d\": [{\"colorbar\": {\"outlinewidth\": 0, \"ticks\": \"\"}, \"colorscale\": [[0.0, \"#0d0887\"], [0.1111111111111111, \"#46039f\"], [0.2222222222222222, \"#7201a8\"], [0.3333333333333333, \"#9c179e\"], [0.4444444444444444, \"#bd3786\"], [0.5555555555555556, \"#d8576b\"], [0.6666666666666666, \"#ed7953\"], [0.7777777777777778, \"#fb9f3a\"], [0.8888888888888888, \"#fdca26\"], [1.0, \"#f0f921\"]], \"type\": \"histogram2d\"}], \"histogram2dcontour\": [{\"colorbar\": {\"outlinewidth\": 0, \"ticks\": \"\"}, \"colorscale\": [[0.0, \"#0d0887\"], [0.1111111111111111, \"#46039f\"], [0.2222222222222222, \"#7201a8\"], [0.3333333333333333, \"#9c179e\"], [0.4444444444444444, \"#bd3786\"], [0.5555555555555556, \"#d8576b\"], [0.6666666666666666, \"#ed7953\"], [0.7777777777777778, \"#fb9f3a\"], [0.8888888888888888, \"#fdca26\"], [1.0, \"#f0f921\"]], \"type\": \"histogram2dcontour\"}], \"mesh3d\": [{\"colorbar\": {\"outlinewidth\": 0, \"ticks\": \"\"}, \"type\": \"mesh3d\"}], \"parcoords\": [{\"line\": {\"colorbar\": {\"outlinewidth\": 0, \"ticks\": \"\"}}, \"type\": \"parcoords\"}], \"pie\": [{\"automargin\": true, \"type\": \"pie\"}], \"scatter\": [{\"marker\": {\"colorbar\": {\"outlinewidth\": 0, \"ticks\": \"\"}}, \"type\": \"scatter\"}], \"scatter3d\": [{\"line\": {\"colorbar\": {\"outlinewidth\": 0, \"ticks\": \"\"}}, \"marker\": {\"colorbar\": {\"outlinewidth\": 0, \"ticks\": \"\"}}, \"type\": \"scatter3d\"}], \"scattercarpet\": [{\"marker\": {\"colorbar\": {\"outlinewidth\": 0, \"ticks\": \"\"}}, \"type\": \"scattercarpet\"}], \"scattergeo\": [{\"marker\": {\"colorbar\": {\"outlinewidth\": 0, \"ticks\": \"\"}}, \"type\": \"scattergeo\"}], \"scattergl\": [{\"marker\": {\"colorbar\": {\"outlinewidth\": 0, \"ticks\": \"\"}}, \"type\": \"scattergl\"}], \"scattermapbox\": [{\"marker\": {\"colorbar\": {\"outlinewidth\": 0, \"ticks\": \"\"}}, \"type\": \"scattermapbox\"}], \"scatterpolar\": [{\"marker\": {\"colorbar\": {\"outlinewidth\": 0, \"ticks\": \"\"}}, \"type\": \"scatterpolar\"}], \"scatterpolargl\": [{\"marker\": {\"colorbar\": {\"outlinewidth\": 0, \"ticks\": \"\"}}, \"type\": \"scatterpolargl\"}], \"scatterternary\": [{\"marker\": {\"colorbar\": {\"outlinewidth\": 0, \"ticks\": \"\"}}, \"type\": \"scatterternary\"}], \"surface\": [{\"colorbar\": {\"outlinewidth\": 0, \"ticks\": \"\"}, \"colorscale\": [[0.0, \"#0d0887\"], [0.1111111111111111, \"#46039f\"], [0.2222222222222222, \"#7201a8\"], [0.3333333333333333, \"#9c179e\"], [0.4444444444444444, \"#bd3786\"], [0.5555555555555556, \"#d8576b\"], [0.6666666666666666, \"#ed7953\"], [0.7777777777777778, \"#fb9f3a\"], [0.8888888888888888, \"#fdca26\"], [1.0, \"#f0f921\"]], \"type\": \"surface\"}], \"table\": [{\"cells\": {\"fill\": {\"color\": \"#EBF0F8\"}, \"line\": {\"color\": \"white\"}}, \"header\": {\"fill\": {\"color\": \"#C8D4E3\"}, \"line\": {\"color\": \"white\"}}, \"type\": \"table\"}]}, \"layout\": {\"annotationdefaults\": {\"arrowcolor\": \"#2a3f5f\", \"arrowhead\": 0, \"arrowwidth\": 1}, \"coloraxis\": {\"colorbar\": {\"outlinewidth\": 0, \"ticks\": \"\"}}, \"colorscale\": {\"diverging\": [[0, \"#8e0152\"], [0.1, \"#c51b7d\"], [0.2, \"#de77ae\"], [0.3, \"#f1b6da\"], [0.4, \"#fde0ef\"], [0.5, \"#f7f7f7\"], [0.6, \"#e6f5d0\"], [0.7, \"#b8e186\"], [0.8, \"#7fbc41\"], [0.9, \"#4d9221\"], [1, \"#276419\"]], \"sequential\": [[0.0, \"#0d0887\"], [0.1111111111111111, \"#46039f\"], [0.2222222222222222, \"#7201a8\"], [0.3333333333333333, \"#9c179e\"], [0.4444444444444444, \"#bd3786\"], [0.5555555555555556, \"#d8576b\"], [0.6666666666666666, \"#ed7953\"], [0.7777777777777778, \"#fb9f3a\"], [0.8888888888888888, \"#fdca26\"], [1.0, \"#f0f921\"]], \"sequentialminus\": [[0.0, \"#0d0887\"], [0.1111111111111111, \"#46039f\"], [0.2222222222222222, \"#7201a8\"], [0.3333333333333333, \"#9c179e\"], [0.4444444444444444, \"#bd3786\"], [0.5555555555555556, \"#d8576b\"], [0.6666666666666666, \"#ed7953\"], [0.7777777777777778, \"#fb9f3a\"], [0.8888888888888888, \"#fdca26\"], [1.0, \"#f0f921\"]]}, \"colorway\": [\"#636efa\", \"#EF553B\", \"#00cc96\", \"#ab63fa\", \"#FFA15A\", \"#19d3f3\", \"#FF6692\", \"#B6E880\", \"#FF97FF\", \"#FECB52\"], \"font\": {\"color\": \"#2a3f5f\"}, \"geo\": {\"bgcolor\": \"white\", \"lakecolor\": \"white\", \"landcolor\": \"white\", \"showlakes\": true, \"showland\": true, \"subunitcolor\": \"#C8D4E3\"}, \"hoverlabel\": {\"align\": \"left\"}, \"hovermode\": \"closest\", \"mapbox\": {\"style\": \"light\"}, \"paper_bgcolor\": \"white\", \"plot_bgcolor\": \"white\", \"polar\": {\"angularaxis\": {\"gridcolor\": \"#EBF0F8\", \"linecolor\": \"#EBF0F8\", \"ticks\": \"\"}, \"bgcolor\": \"white\", \"radialaxis\": {\"gridcolor\": \"#EBF0F8\", \"linecolor\": \"#EBF0F8\", \"ticks\": \"\"}}, \"scene\": {\"xaxis\": {\"backgroundcolor\": \"white\", \"gridcolor\": \"#DFE8F3\", \"gridwidth\": 2, \"linecolor\": \"#EBF0F8\", \"showbackground\": true, \"ticks\": \"\", \"zerolinecolor\": \"#EBF0F8\"}, \"yaxis\": {\"backgroundcolor\": \"white\", \"gridcolor\": \"#DFE8F3\", \"gridwidth\": 2, \"linecolor\": \"#EBF0F8\", \"showbackground\": true, \"ticks\": \"\", \"zerolinecolor\": \"#EBF0F8\"}, \"zaxis\": {\"backgroundcolor\": \"white\", \"gridcolor\": \"#DFE8F3\", \"gridwidth\": 2, \"linecolor\": \"#EBF0F8\", \"showbackground\": true, \"ticks\": \"\", \"zerolinecolor\": \"#EBF0F8\"}}, \"shapedefaults\": {\"line\": {\"color\": \"#2a3f5f\"}}, \"ternary\": {\"aaxis\": {\"gridcolor\": \"#DFE8F3\", \"linecolor\": \"#A2B1C6\", \"ticks\": \"\"}, \"baxis\": {\"gridcolor\": \"#DFE8F3\", \"linecolor\": \"#A2B1C6\", \"ticks\": \"\"}, \"bgcolor\": \"white\", \"caxis\": {\"gridcolor\": \"#DFE8F3\", \"linecolor\": \"#A2B1C6\", \"ticks\": \"\"}}, \"title\": {\"x\": 0.05}, \"xaxis\": {\"automargin\": true, \"gridcolor\": \"#EBF0F8\", \"linecolor\": \"#EBF0F8\", \"ticks\": \"\", \"title\": {\"standoff\": 15}, \"zerolinecolor\": \"#EBF0F8\", \"zerolinewidth\": 2}, \"yaxis\": {\"automargin\": true, \"gridcolor\": \"#EBF0F8\", \"linecolor\": \"#EBF0F8\", \"ticks\": \"\", \"title\": {\"standoff\": 15}, \"zerolinecolor\": \"#EBF0F8\", \"zerolinewidth\": 2}}}, \"xaxis\": {\"anchor\": \"y\", \"domain\": [0.0, 1.0], \"title\": {\"text\": \"Datasets\"}}, \"yaxis\": {\"anchor\": \"x\", \"domain\": [0.0, 1.0], \"title\": {\"text\": \"RMSE\"}}},\n",
       "                        {\"responsive\": true}\n",
       "                    ).then(function(){\n",
       "                            \n",
       "var gd = document.getElementById('878d0528-c5ba-4d58-90cb-bced93f37d9f');\n",
       "var x = new MutationObserver(function (mutations, observer) {{\n",
       "        var display = window.getComputedStyle(gd).display;\n",
       "        if (!display || display === 'none') {{\n",
       "            console.log([gd, 'removed!']);\n",
       "            Plotly.purge(gd);\n",
       "            observer.disconnect();\n",
       "        }}\n",
       "}});\n",
       "\n",
       "// Listen for the removal of the full notebook cells\n",
       "var notebookContainer = gd.closest('#notebook-container');\n",
       "if (notebookContainer) {{\n",
       "    x.observe(notebookContainer, {childList: true});\n",
       "}}\n",
       "\n",
       "// Listen for the clearing of the current output cell\n",
       "var outputEl = gd.closest('.output');\n",
       "if (outputEl) {{\n",
       "    x.observe(outputEl, {childList: true});\n",
       "}}\n",
       "\n",
       "                        })\n",
       "                };\n",
       "                });\n",
       "            </script>\n",
       "        </div>"
      ]
     },
     "metadata": {},
     "output_type": "display_data"
    }
   ],
   "source": [
    "fig = px.box(data, x=\"dataset\", y=\"value\", color=\"method\", template='plotly_white')\n",
    "# fig.update_traces(quartilemethod=\"exclusive\") # or \"inclusive\", or \"linear\" by default\n",
    "fig.update_layout(\n",
    "    xaxis_title=\"Datasets\",\n",
    "    yaxis_title=\"RMSE\",\n",
    "    font=dict(\n",
    "        family=\"Courier New, monospace\",\n",
    "        size=20,\n",
    "        color=\"#7f7f7f\"\n",
    "    )\n",
    ")\n",
    "fig.show()"
   ]
  },
  {
   "cell_type": "code",
   "execution_count": 50,
   "metadata": {},
   "outputs": [
    {
     "data": {
      "application/vnd.plotly.v1+json": {
       "config": {
        "linkText": "Export to plot.ly",
        "plotlyServerURL": "https://plot.ly",
        "showLink": false
       },
       "data": [
        {
         "alignmentgroup": "True",
         "hovertemplate": "method=Random Forest<br>dataset=%{x}<br>value=%{y}<extra></extra>",
         "legendgroup": "Random Forest",
         "marker": {
          "color": "#636efa"
         },
         "name": "Random Forest",
         "notched": false,
         "offsetgroup": "Random Forest",
         "orientation": "v",
         "showlegend": true,
         "type": "box",
         "x": [
          "20NG",
          "20NG",
          "20NG",
          "20NG",
          "20NG",
          "20NG",
          "20NG",
          "20NG",
          "20NG",
          "20NG",
          "20NG",
          "20NG",
          "20NG",
          "20NG",
          "20NG",
          "20NG",
          "20NG",
          "20NG",
          "20NG",
          "20NG",
          "20NG",
          "20NG",
          "20NG",
          "20NG",
          "20NG",
          "20NG",
          "20NG",
          "20NG",
          "20NG",
          "20NG",
          "20NG",
          "banners",
          "banners",
          "banners",
          "banners",
          "banners",
          "banners",
          "banners",
          "banners",
          "banners",
          "banners",
          "banners",
          "banners",
          "banners",
          "banners",
          "banners",
          "banners",
          "banners",
          "banners",
          "banners",
          "banners",
          "banners",
          "banners",
          "banners",
          "banners",
          "banners",
          "HR",
          "HR",
          "HR",
          "HR",
          "HR",
          "HR",
          "HR",
          "HR",
          "HR",
          "HR",
          "HR",
          "HR",
          "HR",
          "HR",
          "HR",
          "HR",
          "HR",
          "HR",
          "HR",
          "HR",
          "HR",
          "HR",
          "HR",
          "HR",
          "HR",
          "AR",
          "AR",
          "AR",
          "AR",
          "AR",
          "AR",
          "AR",
          "AR",
          "AR",
          "AR",
          "AR",
          "AR",
          "AR",
          "AR",
          "AR",
          "AR",
          "AR",
          "AR",
          "lenta",
          "lenta",
          "lenta",
          "lenta",
          "lenta",
          "lenta",
          "lenta",
          "lenta",
          "lenta",
          "lenta",
          "lenta",
          "lenta",
          "lenta",
          "lenta",
          "lenta",
          "lenta",
          "lenta",
          "lenta",
          "lenta",
          "lenta",
          "lenta",
          "lenta",
          "lenta",
          "lenta",
          "lenta",
          "lenta"
         ],
         "x0": " ",
         "xaxis": "x",
         "y": [
          0.01842958159943832,
          0.24078235898666966,
          0.04433604053317465,
          0.07880323522180635,
          0.0010230878861699746,
          0.0023946251185042824,
          0.03861943353520743,
          0.04861228739124941,
          0.04353106494397179,
          0.06255564922285238,
          0.06652356548114935,
          0.008306440167540952,
          0.0074203107430519805,
          0.0040414013083426206,
          0.0537080818525185,
          0.04510154943612916,
          0.04444814940634248,
          0.023786189845807066,
          0.1127595226661241,
          0.10998962450992505,
          0.014949213644168298,
          0.035848441345217155,
          0.027207348905322296,
          0.03955485095533635,
          0.021040871940227912,
          0.02657040751783229,
          0.22419206808597725,
          0.029059091244079977,
          0.00547329159319542,
          0.0683041566748464,
          0.06383058398946545,
          0.09042122571396896,
          0.07699560359713015,
          0.04933979940989871,
          0.07140166150926903,
          0.17397157116488055,
          0.006113228934748734,
          0.01017622403762399,
          0.00691555183947933,
          0.027980149553235314,
          0.030413546950476458,
          0.03356455480818525,
          0.0682988802610723,
          0.055972046726365354,
          0.04676334513300741,
          0.011599243615948477,
          0.04592042874878591,
          0.04467463533813485,
          0.02929379001575714,
          0.02471538523219765,
          0.04331812145775984,
          0.041665664031627664,
          0.07824569099119653,
          2.220446049250313e-16,
          0.06874464425003037,
          0.0589681973189533,
          0.1411607711353586,
          0.11041827244766096,
          0.25034784182061204,
          0.021837422023976007,
          0.008102867754140987,
          0.005206026455464347,
          0.09370626712078535,
          0.08676225420905335,
          0.18166866484043734,
          0.36624775117993613,
          0.10848648010089773,
          0.12745269619875207,
          0.3895513168653272,
          0.34848815543736655,
          0.3141150885399469,
          0.3850908949518077,
          0.06579744754098536,
          0.23588776305980583,
          0.0135159614102093,
          0.01650570020943033,
          0.25074404300066555,
          0.26239845642145665,
          0.4531070587314402,
          0.19402019898631448,
          0.20540763251820027,
          0.07783219724037965,
          0.06015943188985386,
          0.08367004875784442,
          0.1240982694766683,
          0.20062233815662125,
          0.16051924552204422,
          0.13186393310816527,
          0.012442416078821999,
          0.1908941536810539,
          0.2245725058026378,
          0.2077335436381952,
          0.037918751979622925,
          0.1010863745926585,
          0.14764426969768568,
          0.21942595252422306,
          0.00119539578222074,
          0.13978442254129342,
          0.14943050771886388,
          0.05183449580587888,
          0.04864555220476739,
          0.0031545958804240068,
          0.26538692599793123,
          0.19553674695283643,
          0.08974509244114404,
          0.05636103657006562,
          0.054430985195268004,
          0.15591920366800555,
          0.058665761893636564,
          0.22761677588974824,
          0.19093679785774084,
          0.19340549539722737,
          0.15970886668322454,
          0.1149747110189306,
          0.20746405823330027,
          0.16813785458409955,
          0.07726011601058394,
          0.06022385507234269,
          0.16854366104483548,
          0.05871884977566517,
          0.08256569424098506,
          0.29767858604938796,
          0.09460760664352717,
          0.0334374000839724,
          0.018698507270231687
         ],
         "y0": " ",
         "yaxis": "y"
        },
        {
         "alignmentgroup": "True",
         "hovertemplate": "method=Gaussian Process<br>dataset=%{x}<br>value=%{y}<extra></extra>",
         "legendgroup": "Gaussian Process",
         "marker": {
          "color": "#EF553B"
         },
         "name": "Gaussian Process",
         "notched": false,
         "offsetgroup": "Gaussian Process",
         "orientation": "v",
         "showlegend": true,
         "type": "box",
         "x": [
          "20NG",
          "20NG",
          "20NG",
          "20NG",
          "20NG",
          "20NG",
          "20NG",
          "20NG",
          "20NG",
          "20NG",
          "20NG",
          "20NG",
          "20NG",
          "20NG",
          "20NG",
          "20NG",
          "20NG",
          "20NG",
          "20NG",
          "20NG",
          "20NG",
          "20NG",
          "20NG",
          "20NG",
          "20NG",
          "20NG",
          "20NG",
          "20NG",
          "20NG",
          "20NG",
          "banners",
          "banners",
          "banners",
          "banners",
          "banners",
          "banners",
          "banners",
          "banners",
          "banners",
          "banners",
          "banners",
          "banners",
          "banners",
          "banners",
          "banners",
          "banners",
          "banners",
          "banners",
          "banners",
          "banners",
          "banners",
          "banners",
          "banners",
          "banners",
          "banners",
          "banners",
          "banners",
          "banners",
          "banners",
          "HR",
          "HR",
          "HR",
          "HR",
          "HR",
          "HR",
          "HR",
          "HR",
          "HR",
          "HR",
          "HR",
          "HR",
          "HR",
          "HR",
          "HR",
          "HR",
          "HR",
          "HR",
          "HR",
          "HR",
          "HR",
          "HR",
          "HR",
          "HR",
          "HR",
          "AR",
          "AR",
          "AR",
          "AR",
          "AR",
          "AR",
          "AR",
          "AR",
          "AR",
          "AR",
          "AR",
          "AR",
          "AR",
          "AR",
          "AR",
          "AR",
          "AR",
          "AR",
          "AR",
          "AR",
          "AR",
          "AR",
          "lenta",
          "lenta",
          "lenta",
          "lenta",
          "lenta",
          "lenta",
          "lenta",
          "lenta",
          "lenta",
          "lenta",
          "lenta",
          "lenta",
          "lenta",
          "lenta",
          "lenta",
          "lenta",
          "lenta",
          "lenta",
          "lenta",
          "lenta",
          "lenta",
          "lenta",
          "lenta",
          "lenta",
          "lenta",
          "lenta",
          "lenta",
          "lenta",
          "lenta",
          "lenta",
          "lenta",
          "lenta",
          "lenta"
         ],
         "x0": " ",
         "xaxis": "x",
         "y": [
          0.14226876060374027,
          0.05688636634908698,
          0.06571989074122057,
          0.09867873374995953,
          0.278416272487695,
          0.22031344763691102,
          0.14449114924852655,
          0.10452658981210591,
          0.11457591700067041,
          0.15180600983393122,
          0.1497245657047383,
          0.1467694937929154,
          0.14376437394144,
          0.023183531827342094,
          1.7604590154589703e-10,
          0.10576105030182288,
          0.08189936807991673,
          0.09797983062948443,
          0.18852200680324122,
          0.07061529115245373,
          0.14894564175378355,
          0.06665544383731725,
          0.14692370894289059,
          0.0823061658003064,
          0.12200848881058418,
          0.07665879281141903,
          0.0604950540720739,
          0.07704690812827852,
          0.10542159967482997,
          0.04848737858501789,
          0.07662195307304229,
          0.08409996711587778,
          0.0492563703400698,
          0.039778579378422184,
          0.03068450529413301,
          0.05909259028016703,
          0.061610525644735334,
          0.07698306067658466,
          0.062435579133858415,
          0.07526616227087184,
          0.08906282654313392,
          0.036738432830867085,
          0.02852617284786879,
          0.29527846770021166,
          0.2256733863934192,
          0.07074180690187137,
          0.05176901129134927,
          0.052100973951436605,
          0.11769091162454678,
          0.14405038293225997,
          0.11032556773436018,
          0.1176068794584965,
          0.09859677241397445,
          0.14290032398361235,
          0.054264464661432525,
          0.06434447558980251,
          0.04756241904638352,
          0.17133843043271546,
          0.09535712712729927,
          0.44466885648273885,
          0.4190766129603936,
          0.35524666868844124,
          0.6387059097842515,
          0.6594785700540199,
          0.12716302832506174,
          0.012295958694090954,
          0.08691094703962031,
          0.04327396638717485,
          0.10670215697486636,
          0.04717533744818343,
          0.38797488592115953,
          0.6678027174567931,
          0.38332402854830977,
          0.5014311978926509,
          0.43306720952528743,
          0.2965655291070951,
          0.6184834576998338,
          0.014373140083264228,
          0.4709437482341848,
          0.3711255750891772,
          0.31120286536778535,
          0.3173020642778472,
          0.21225998656809858,
          0.19531263797275,
          0.21239596845782077,
          0.19461706636828294,
          0.12489999901784632,
          0.16400411222827566,
          0.09950579651360751,
          0.030289105138198973,
          0.0012876211531466838,
          0.18502189727375934,
          0.2026992886315721,
          0.22393819542487098,
          0.18619643306455874,
          0.16428646902651267,
          0.278835043805496,
          0.20070377256169913,
          0.19652676333663388,
          0.2466465634451221,
          0.10639486779490372,
          0.1128235104181791,
          0.11405070319003364,
          0.25484561722219784,
          0.29184964410028674,
          0.28048459271189496,
          0.25988904348194,
          0.19533293071039928,
          0.2581891504143958,
          0.31307633920363753,
          0.3357826474564078,
          0.30718172232200724,
          0.3156142370972128,
          0.2425478441761701,
          0.4042963295713689,
          0.36670568674628745,
          0.4991719398599337,
          0.306442155101677,
          0.3782023480157058,
          0.29948549460623697,
          0.35995102250173067,
          0.27073030938358456,
          0.22466437808565914,
          0.21503497193712218,
          0.0355599335351838,
          0.2568934911009028,
          0.08488333901856332,
          0.24695034995554555,
          0.24674634757771827,
          0.17463409973962785,
          0.14612915086744574,
          0.319930656572191,
          0.214591341087595,
          0.2697750679986492,
          0.3397444078776923,
          0.3452265293720594,
          0.2458896862073378,
          0.44725678794274987,
          0.15132749368339224
         ],
         "y0": " ",
         "yaxis": "y"
        },
        {
         "alignmentgroup": "True",
         "hovertemplate": "method=SVR<br>dataset=%{x}<br>value=%{y}<extra></extra>",
         "legendgroup": "SVR",
         "marker": {
          "color": "#00cc96"
         },
         "name": "SVR",
         "notched": false,
         "offsetgroup": "SVR",
         "orientation": "v",
         "showlegend": true,
         "type": "box",
         "x": [
          "20NG",
          "20NG",
          "20NG",
          "20NG",
          "20NG",
          "20NG",
          "20NG",
          "20NG",
          "20NG",
          "20NG",
          "banners",
          "banners",
          "banners",
          "banners",
          "banners",
          "banners",
          "banners",
          "banners",
          "banners",
          "banners",
          "HR",
          "HR",
          "HR",
          "HR",
          "HR",
          "HR",
          "HR",
          "HR",
          "HR",
          "HR",
          "HR",
          "HR",
          "HR",
          "HR",
          "HR",
          "HR",
          "HR",
          "HR",
          "HR",
          "HR",
          "HR",
          "HR",
          "HR",
          "HR",
          "HR",
          "HR",
          "AR",
          "AR",
          "AR",
          "AR",
          "AR",
          "AR",
          "AR",
          "AR",
          "AR",
          "AR",
          "AR",
          "AR",
          "AR",
          "AR",
          "AR",
          "AR",
          "AR",
          "AR",
          "AR",
          "AR",
          "lenta",
          "lenta",
          "lenta",
          "lenta",
          "lenta",
          "lenta",
          "lenta",
          "lenta",
          "lenta",
          "lenta",
          "lenta",
          "lenta",
          "lenta",
          "lenta",
          "lenta",
          "lenta",
          "lenta",
          "lenta",
          "lenta",
          "lenta",
          "lenta",
          "lenta",
          "lenta",
          "lenta",
          "lenta",
          "lenta",
          "lenta",
          "lenta"
         ],
         "x0": " ",
         "xaxis": "x",
         "y": [
          0.1467583033001378,
          0.11211120924817516,
          0.17374660351426513,
          0.18155091342061555,
          0.15799480999600096,
          0.2058116609577307,
          0.1794190919182127,
          0.12534095925861205,
          0.06157195009673416,
          0.1089240075726782,
          0.1687501073722625,
          0.15468481875019693,
          0.14334042687769205,
          0.12702924280907318,
          0.13912389368814565,
          0.14087122168374008,
          0.18014001300685817,
          0.18355366115601346,
          0.11536973185288014,
          0.14656853045910237,
          0.33077475718022936,
          0.26802407876269696,
          0.16739385215538485,
          0.18907202135460002,
          0.3055143836324748,
          0.505032192867559,
          0.40122220827511623,
          0.41136830041510924,
          0.303499910373657,
          0.35907438685761545,
          0.23549929207706352,
          0.31348130612166586,
          0.2454650214223962,
          0.2154565733272165,
          0.23208440784833714,
          0.4805567762967749,
          0.33041552695272747,
          0.7078151875442679,
          0.43942604740766605,
          0.46167416442180487,
          0.4683264463874286,
          0.45456910937211403,
          0.4147664529236363,
          0.39105538494357783,
          0.12205550362786521,
          0.18100744989387638,
          0.3166212360375978,
          0.2635869337391185,
          0.15603887497881655,
          0.20202624787518364,
          0.2811085089723582,
          0.19844318695483917,
          0.2155030936350989,
          0.3608238734051614,
          0.10012356709740305,
          0.22243397135249093,
          0.16007873562099617,
          0.3067602624125275,
          0.23730956940091735,
          0.3116031889248696,
          0.27425405403247977,
          0.25167227300718736,
          0.18431740106416022,
          0.1122165596347415,
          0.26591190742106235,
          0.43032193218739156,
          0.38802692342581546,
          0.32563213943312497,
          0.40047495817461914,
          0.39649680994000924,
          0.3566092279526272,
          0.3293314699603694,
          0.3521107849720395,
          0.27537496599425293,
          0.34418240437442177,
          0.2639980602475945,
          0.33562906963729094,
          0.26240129938551654,
          0.4223525139162772,
          0.49101394638304385,
          0.38546353096614244,
          0.18372374596172011,
          0.1734785260011342,
          0.5141075461060587,
          0.5220779056744339,
          0.4041805322147754,
          0.5520397156715245,
          0.44803167248885123,
          0.36732101132349126,
          0.30007837209414284,
          0.39838811795857654,
          0.29375266534224476,
          0.3828803520243123,
          0.36406491490726955
         ],
         "y0": " ",
         "yaxis": "y"
        },
        {
         "alignmentgroup": "True",
         "hovertemplate": "method=MLP<br>dataset=%{x}<br>value=%{y}<extra></extra>",
         "legendgroup": "MLP",
         "marker": {
          "color": "#ab63fa"
         },
         "name": "MLP",
         "notched": false,
         "offsetgroup": "MLP",
         "orientation": "v",
         "showlegend": true,
         "type": "box",
         "x": [
          "20NG",
          "20NG",
          "20NG",
          "20NG",
          "20NG",
          "20NG",
          "20NG",
          "20NG",
          "20NG",
          "20NG",
          "20NG",
          "20NG",
          "20NG",
          "20NG",
          "20NG",
          "20NG",
          "20NG",
          "20NG",
          "20NG",
          "banners",
          "banners",
          "banners",
          "banners",
          "banners",
          "banners",
          "banners",
          "banners",
          "banners",
          "banners",
          "banners",
          "banners",
          "banners",
          "banners",
          "banners",
          "banners",
          "banners",
          "banners",
          "banners",
          "banners",
          "banners",
          "HR",
          "HR",
          "HR",
          "HR",
          "HR",
          "HR",
          "HR",
          "HR",
          "HR",
          "HR",
          "HR",
          "HR",
          "HR",
          "HR",
          "HR",
          "HR",
          "HR",
          "HR",
          "HR",
          "HR",
          "HR",
          "AR",
          "AR",
          "AR",
          "AR",
          "AR",
          "AR",
          "AR",
          "lenta",
          "lenta",
          "lenta",
          "lenta",
          "lenta",
          "lenta",
          "lenta",
          "lenta",
          "lenta",
          "lenta",
          "lenta",
          "lenta",
          "lenta",
          "lenta",
          "lenta",
          "lenta",
          "lenta",
          "lenta",
          "lenta"
         ],
         "x0": " ",
         "xaxis": "x",
         "y": [
          0.1815548747169746,
          0.09940561276082831,
          0.11696378693991326,
          0.13113700959529295,
          0.14514894184794394,
          0.08722130273041401,
          0.07193569063582175,
          0.023556352585496966,
          0.02221373667554096,
          0.08471232083786971,
          0.08796589569035403,
          0.057340402343217585,
          0.05758037733526587,
          0.12294193793068307,
          0.12967221563412276,
          0.3287882937520241,
          0.3612098648747233,
          0.0935365917507404,
          0.10105528321355853,
          0.16539070942704653,
          0.16488022625070958,
          0.17253038201465337,
          0.06363085131321879,
          0.07011132314124265,
          0.07729651911357589,
          0.21660211160064347,
          0.23168983070355756,
          0.12955407638144417,
          0.022643630215903616,
          0.02790333423839643,
          0.17026387193816547,
          0.15163184240443517,
          0.10721441051493232,
          0.060336095602105344,
          0.14761545866949813,
          0.10878977287559359,
          0.12487978247939967,
          0.1153174729000516,
          0.09931591805024571,
          0.13873504045796264,
          0.2945177367335346,
          0.5197574659074308,
          0.3684155361827095,
          0.16822652626281798,
          0.056009310352577696,
          0.3205193231766683,
          0.3293378725378063,
          0.2082545829433233,
          0.3210930998409022,
          0.2647878673141944,
          0.23978139654385733,
          0.34456556658084303,
          0.690441329785617,
          0.2741987817150461,
          0.29826778011712685,
          0.6524362538180326,
          0.3053145757701561,
          0.3561748851685571,
          0.3191112356230529,
          0.4817287440747526,
          0.2779254593457739,
          0.22789190443262347,
          0.1806777063218355,
          0.16577477260708218,
          0.26761121099706586,
          0.38772573389011267,
          0.263971629005738,
          0.2753515588800458,
          0.28734926519207493,
          0.38837079529312607,
          0.7153696698797175,
          0.6604109084652645,
          0.2657939141605016,
          0.18948027882603988,
          0.17472282163058037,
          0.053325803496153214,
          0.38618480125273275,
          0.3646124639057503,
          0.13944749442225718,
          0.2808537944489923,
          0.437800430364845,
          0.475774931389406,
          0.2740488696762482,
          0.34252437938235614,
          0.2039838356939551,
          0.40363081993049993,
          0.4011090735875789
         ],
         "y0": " ",
         "yaxis": "y"
        }
       ],
       "layout": {
        "boxmode": "group",
        "font": {
         "color": "#7f7f7f",
         "family": "Courier New, monospace",
         "size": 20
        },
        "legend": {
         "title": {
          "text": "method"
         },
         "tracegroupgap": 0
        },
        "margin": {
         "t": 60
        },
        "template": {
         "data": {
          "bar": [
           {
            "error_x": {
             "color": "#2a3f5f"
            },
            "error_y": {
             "color": "#2a3f5f"
            },
            "marker": {
             "line": {
              "color": "white",
              "width": 0.5
             }
            },
            "type": "bar"
           }
          ],
          "barpolar": [
           {
            "marker": {
             "line": {
              "color": "white",
              "width": 0.5
             }
            },
            "type": "barpolar"
           }
          ],
          "carpet": [
           {
            "aaxis": {
             "endlinecolor": "#2a3f5f",
             "gridcolor": "#C8D4E3",
             "linecolor": "#C8D4E3",
             "minorgridcolor": "#C8D4E3",
             "startlinecolor": "#2a3f5f"
            },
            "baxis": {
             "endlinecolor": "#2a3f5f",
             "gridcolor": "#C8D4E3",
             "linecolor": "#C8D4E3",
             "minorgridcolor": "#C8D4E3",
             "startlinecolor": "#2a3f5f"
            },
            "type": "carpet"
           }
          ],
          "choropleth": [
           {
            "colorbar": {
             "outlinewidth": 0,
             "ticks": ""
            },
            "type": "choropleth"
           }
          ],
          "contour": [
           {
            "colorbar": {
             "outlinewidth": 0,
             "ticks": ""
            },
            "colorscale": [
             [
              0,
              "#0d0887"
             ],
             [
              0.1111111111111111,
              "#46039f"
             ],
             [
              0.2222222222222222,
              "#7201a8"
             ],
             [
              0.3333333333333333,
              "#9c179e"
             ],
             [
              0.4444444444444444,
              "#bd3786"
             ],
             [
              0.5555555555555556,
              "#d8576b"
             ],
             [
              0.6666666666666666,
              "#ed7953"
             ],
             [
              0.7777777777777778,
              "#fb9f3a"
             ],
             [
              0.8888888888888888,
              "#fdca26"
             ],
             [
              1,
              "#f0f921"
             ]
            ],
            "type": "contour"
           }
          ],
          "contourcarpet": [
           {
            "colorbar": {
             "outlinewidth": 0,
             "ticks": ""
            },
            "type": "contourcarpet"
           }
          ],
          "heatmap": [
           {
            "colorbar": {
             "outlinewidth": 0,
             "ticks": ""
            },
            "colorscale": [
             [
              0,
              "#0d0887"
             ],
             [
              0.1111111111111111,
              "#46039f"
             ],
             [
              0.2222222222222222,
              "#7201a8"
             ],
             [
              0.3333333333333333,
              "#9c179e"
             ],
             [
              0.4444444444444444,
              "#bd3786"
             ],
             [
              0.5555555555555556,
              "#d8576b"
             ],
             [
              0.6666666666666666,
              "#ed7953"
             ],
             [
              0.7777777777777778,
              "#fb9f3a"
             ],
             [
              0.8888888888888888,
              "#fdca26"
             ],
             [
              1,
              "#f0f921"
             ]
            ],
            "type": "heatmap"
           }
          ],
          "heatmapgl": [
           {
            "colorbar": {
             "outlinewidth": 0,
             "ticks": ""
            },
            "colorscale": [
             [
              0,
              "#0d0887"
             ],
             [
              0.1111111111111111,
              "#46039f"
             ],
             [
              0.2222222222222222,
              "#7201a8"
             ],
             [
              0.3333333333333333,
              "#9c179e"
             ],
             [
              0.4444444444444444,
              "#bd3786"
             ],
             [
              0.5555555555555556,
              "#d8576b"
             ],
             [
              0.6666666666666666,
              "#ed7953"
             ],
             [
              0.7777777777777778,
              "#fb9f3a"
             ],
             [
              0.8888888888888888,
              "#fdca26"
             ],
             [
              1,
              "#f0f921"
             ]
            ],
            "type": "heatmapgl"
           }
          ],
          "histogram": [
           {
            "marker": {
             "colorbar": {
              "outlinewidth": 0,
              "ticks": ""
             }
            },
            "type": "histogram"
           }
          ],
          "histogram2d": [
           {
            "colorbar": {
             "outlinewidth": 0,
             "ticks": ""
            },
            "colorscale": [
             [
              0,
              "#0d0887"
             ],
             [
              0.1111111111111111,
              "#46039f"
             ],
             [
              0.2222222222222222,
              "#7201a8"
             ],
             [
              0.3333333333333333,
              "#9c179e"
             ],
             [
              0.4444444444444444,
              "#bd3786"
             ],
             [
              0.5555555555555556,
              "#d8576b"
             ],
             [
              0.6666666666666666,
              "#ed7953"
             ],
             [
              0.7777777777777778,
              "#fb9f3a"
             ],
             [
              0.8888888888888888,
              "#fdca26"
             ],
             [
              1,
              "#f0f921"
             ]
            ],
            "type": "histogram2d"
           }
          ],
          "histogram2dcontour": [
           {
            "colorbar": {
             "outlinewidth": 0,
             "ticks": ""
            },
            "colorscale": [
             [
              0,
              "#0d0887"
             ],
             [
              0.1111111111111111,
              "#46039f"
             ],
             [
              0.2222222222222222,
              "#7201a8"
             ],
             [
              0.3333333333333333,
              "#9c179e"
             ],
             [
              0.4444444444444444,
              "#bd3786"
             ],
             [
              0.5555555555555556,
              "#d8576b"
             ],
             [
              0.6666666666666666,
              "#ed7953"
             ],
             [
              0.7777777777777778,
              "#fb9f3a"
             ],
             [
              0.8888888888888888,
              "#fdca26"
             ],
             [
              1,
              "#f0f921"
             ]
            ],
            "type": "histogram2dcontour"
           }
          ],
          "mesh3d": [
           {
            "colorbar": {
             "outlinewidth": 0,
             "ticks": ""
            },
            "type": "mesh3d"
           }
          ],
          "parcoords": [
           {
            "line": {
             "colorbar": {
              "outlinewidth": 0,
              "ticks": ""
             }
            },
            "type": "parcoords"
           }
          ],
          "pie": [
           {
            "automargin": true,
            "type": "pie"
           }
          ],
          "scatter": [
           {
            "marker": {
             "colorbar": {
              "outlinewidth": 0,
              "ticks": ""
             }
            },
            "type": "scatter"
           }
          ],
          "scatter3d": [
           {
            "line": {
             "colorbar": {
              "outlinewidth": 0,
              "ticks": ""
             }
            },
            "marker": {
             "colorbar": {
              "outlinewidth": 0,
              "ticks": ""
             }
            },
            "type": "scatter3d"
           }
          ],
          "scattercarpet": [
           {
            "marker": {
             "colorbar": {
              "outlinewidth": 0,
              "ticks": ""
             }
            },
            "type": "scattercarpet"
           }
          ],
          "scattergeo": [
           {
            "marker": {
             "colorbar": {
              "outlinewidth": 0,
              "ticks": ""
             }
            },
            "type": "scattergeo"
           }
          ],
          "scattergl": [
           {
            "marker": {
             "colorbar": {
              "outlinewidth": 0,
              "ticks": ""
             }
            },
            "type": "scattergl"
           }
          ],
          "scattermapbox": [
           {
            "marker": {
             "colorbar": {
              "outlinewidth": 0,
              "ticks": ""
             }
            },
            "type": "scattermapbox"
           }
          ],
          "scatterpolar": [
           {
            "marker": {
             "colorbar": {
              "outlinewidth": 0,
              "ticks": ""
             }
            },
            "type": "scatterpolar"
           }
          ],
          "scatterpolargl": [
           {
            "marker": {
             "colorbar": {
              "outlinewidth": 0,
              "ticks": ""
             }
            },
            "type": "scatterpolargl"
           }
          ],
          "scatterternary": [
           {
            "marker": {
             "colorbar": {
              "outlinewidth": 0,
              "ticks": ""
             }
            },
            "type": "scatterternary"
           }
          ],
          "surface": [
           {
            "colorbar": {
             "outlinewidth": 0,
             "ticks": ""
            },
            "colorscale": [
             [
              0,
              "#0d0887"
             ],
             [
              0.1111111111111111,
              "#46039f"
             ],
             [
              0.2222222222222222,
              "#7201a8"
             ],
             [
              0.3333333333333333,
              "#9c179e"
             ],
             [
              0.4444444444444444,
              "#bd3786"
             ],
             [
              0.5555555555555556,
              "#d8576b"
             ],
             [
              0.6666666666666666,
              "#ed7953"
             ],
             [
              0.7777777777777778,
              "#fb9f3a"
             ],
             [
              0.8888888888888888,
              "#fdca26"
             ],
             [
              1,
              "#f0f921"
             ]
            ],
            "type": "surface"
           }
          ],
          "table": [
           {
            "cells": {
             "fill": {
              "color": "#EBF0F8"
             },
             "line": {
              "color": "white"
             }
            },
            "header": {
             "fill": {
              "color": "#C8D4E3"
             },
             "line": {
              "color": "white"
             }
            },
            "type": "table"
           }
          ]
         },
         "layout": {
          "annotationdefaults": {
           "arrowcolor": "#2a3f5f",
           "arrowhead": 0,
           "arrowwidth": 1
          },
          "coloraxis": {
           "colorbar": {
            "outlinewidth": 0,
            "ticks": ""
           }
          },
          "colorscale": {
           "diverging": [
            [
             0,
             "#8e0152"
            ],
            [
             0.1,
             "#c51b7d"
            ],
            [
             0.2,
             "#de77ae"
            ],
            [
             0.3,
             "#f1b6da"
            ],
            [
             0.4,
             "#fde0ef"
            ],
            [
             0.5,
             "#f7f7f7"
            ],
            [
             0.6,
             "#e6f5d0"
            ],
            [
             0.7,
             "#b8e186"
            ],
            [
             0.8,
             "#7fbc41"
            ],
            [
             0.9,
             "#4d9221"
            ],
            [
             1,
             "#276419"
            ]
           ],
           "sequential": [
            [
             0,
             "#0d0887"
            ],
            [
             0.1111111111111111,
             "#46039f"
            ],
            [
             0.2222222222222222,
             "#7201a8"
            ],
            [
             0.3333333333333333,
             "#9c179e"
            ],
            [
             0.4444444444444444,
             "#bd3786"
            ],
            [
             0.5555555555555556,
             "#d8576b"
            ],
            [
             0.6666666666666666,
             "#ed7953"
            ],
            [
             0.7777777777777778,
             "#fb9f3a"
            ],
            [
             0.8888888888888888,
             "#fdca26"
            ],
            [
             1,
             "#f0f921"
            ]
           ],
           "sequentialminus": [
            [
             0,
             "#0d0887"
            ],
            [
             0.1111111111111111,
             "#46039f"
            ],
            [
             0.2222222222222222,
             "#7201a8"
            ],
            [
             0.3333333333333333,
             "#9c179e"
            ],
            [
             0.4444444444444444,
             "#bd3786"
            ],
            [
             0.5555555555555556,
             "#d8576b"
            ],
            [
             0.6666666666666666,
             "#ed7953"
            ],
            [
             0.7777777777777778,
             "#fb9f3a"
            ],
            [
             0.8888888888888888,
             "#fdca26"
            ],
            [
             1,
             "#f0f921"
            ]
           ]
          },
          "colorway": [
           "#636efa",
           "#EF553B",
           "#00cc96",
           "#ab63fa",
           "#FFA15A",
           "#19d3f3",
           "#FF6692",
           "#B6E880",
           "#FF97FF",
           "#FECB52"
          ],
          "font": {
           "color": "#2a3f5f"
          },
          "geo": {
           "bgcolor": "white",
           "lakecolor": "white",
           "landcolor": "white",
           "showlakes": true,
           "showland": true,
           "subunitcolor": "#C8D4E3"
          },
          "hoverlabel": {
           "align": "left"
          },
          "hovermode": "closest",
          "mapbox": {
           "style": "light"
          },
          "paper_bgcolor": "white",
          "plot_bgcolor": "white",
          "polar": {
           "angularaxis": {
            "gridcolor": "#EBF0F8",
            "linecolor": "#EBF0F8",
            "ticks": ""
           },
           "bgcolor": "white",
           "radialaxis": {
            "gridcolor": "#EBF0F8",
            "linecolor": "#EBF0F8",
            "ticks": ""
           }
          },
          "scene": {
           "xaxis": {
            "backgroundcolor": "white",
            "gridcolor": "#DFE8F3",
            "gridwidth": 2,
            "linecolor": "#EBF0F8",
            "showbackground": true,
            "ticks": "",
            "zerolinecolor": "#EBF0F8"
           },
           "yaxis": {
            "backgroundcolor": "white",
            "gridcolor": "#DFE8F3",
            "gridwidth": 2,
            "linecolor": "#EBF0F8",
            "showbackground": true,
            "ticks": "",
            "zerolinecolor": "#EBF0F8"
           },
           "zaxis": {
            "backgroundcolor": "white",
            "gridcolor": "#DFE8F3",
            "gridwidth": 2,
            "linecolor": "#EBF0F8",
            "showbackground": true,
            "ticks": "",
            "zerolinecolor": "#EBF0F8"
           }
          },
          "shapedefaults": {
           "line": {
            "color": "#2a3f5f"
           }
          },
          "ternary": {
           "aaxis": {
            "gridcolor": "#DFE8F3",
            "linecolor": "#A2B1C6",
            "ticks": ""
           },
           "baxis": {
            "gridcolor": "#DFE8F3",
            "linecolor": "#A2B1C6",
            "ticks": ""
           },
           "bgcolor": "white",
           "caxis": {
            "gridcolor": "#DFE8F3",
            "linecolor": "#A2B1C6",
            "ticks": ""
           }
          },
          "title": {
           "x": 0.05
          },
          "xaxis": {
           "automargin": true,
           "gridcolor": "#EBF0F8",
           "linecolor": "#EBF0F8",
           "ticks": "",
           "title": {
            "standoff": 15
           },
           "zerolinecolor": "#EBF0F8",
           "zerolinewidth": 2
          },
          "yaxis": {
           "automargin": true,
           "gridcolor": "#EBF0F8",
           "linecolor": "#EBF0F8",
           "ticks": "",
           "title": {
            "standoff": 15
           },
           "zerolinecolor": "#EBF0F8",
           "zerolinewidth": 2
          }
         }
        },
        "xaxis": {
         "anchor": "y",
         "domain": [
          0,
          1
         ],
         "title": {
          "text": "Datasets"
         }
        },
        "yaxis": {
         "anchor": "x",
         "domain": [
          0,
          1
         ],
         "title": {
          "text": "RMSE"
         }
        }
       }
      },
      "text/html": [
       "<div>\n",
       "        \n",
       "        \n",
       "            <div id=\"94b5e294-73c5-422e-bf08-cde32db54820\" class=\"plotly-graph-div\" style=\"height:525px; width:100%;\"></div>\n",
       "            <script type=\"text/javascript\">\n",
       "                require([\"plotly\"], function(Plotly) {\n",
       "                    window.PLOTLYENV=window.PLOTLYENV || {};\n",
       "                    \n",
       "                if (document.getElementById(\"94b5e294-73c5-422e-bf08-cde32db54820\")) {\n",
       "                    Plotly.newPlot(\n",
       "                        '94b5e294-73c5-422e-bf08-cde32db54820',\n",
       "                        [{\"alignmentgroup\": \"True\", \"hovertemplate\": \"method=Random Forest<br>dataset=%{x}<br>value=%{y}<extra></extra>\", \"legendgroup\": \"Random Forest\", \"marker\": {\"color\": \"#636efa\"}, \"name\": \"Random Forest\", \"notched\": false, \"offsetgroup\": \"Random Forest\", \"orientation\": \"v\", \"showlegend\": true, \"type\": \"box\", \"x\": [\"20NG\", \"20NG\", \"20NG\", \"20NG\", \"20NG\", \"20NG\", \"20NG\", \"20NG\", \"20NG\", \"20NG\", \"20NG\", \"20NG\", \"20NG\", \"20NG\", \"20NG\", \"20NG\", \"20NG\", \"20NG\", \"20NG\", \"20NG\", \"20NG\", \"20NG\", \"20NG\", \"20NG\", \"20NG\", \"20NG\", \"20NG\", \"20NG\", \"20NG\", \"20NG\", \"20NG\", \"banners\", \"banners\", \"banners\", \"banners\", \"banners\", \"banners\", \"banners\", \"banners\", \"banners\", \"banners\", \"banners\", \"banners\", \"banners\", \"banners\", \"banners\", \"banners\", \"banners\", \"banners\", \"banners\", \"banners\", \"banners\", \"banners\", \"banners\", \"banners\", \"banners\", \"HR\", \"HR\", \"HR\", \"HR\", \"HR\", \"HR\", \"HR\", \"HR\", \"HR\", \"HR\", \"HR\", \"HR\", \"HR\", \"HR\", \"HR\", \"HR\", \"HR\", \"HR\", \"HR\", \"HR\", \"HR\", \"HR\", \"HR\", \"HR\", \"HR\", \"AR\", \"AR\", \"AR\", \"AR\", \"AR\", \"AR\", \"AR\", \"AR\", \"AR\", \"AR\", \"AR\", \"AR\", \"AR\", \"AR\", \"AR\", \"AR\", \"AR\", \"AR\", \"lenta\", \"lenta\", \"lenta\", \"lenta\", \"lenta\", \"lenta\", \"lenta\", \"lenta\", \"lenta\", \"lenta\", \"lenta\", \"lenta\", \"lenta\", \"lenta\", \"lenta\", \"lenta\", \"lenta\", \"lenta\", \"lenta\", \"lenta\", \"lenta\", \"lenta\", \"lenta\", \"lenta\", \"lenta\", \"lenta\"], \"x0\": \" \", \"xaxis\": \"x\", \"y\": [0.01842958159943832, 0.24078235898666966, 0.04433604053317465, 0.07880323522180635, 0.0010230878861699746, 0.0023946251185042824, 0.03861943353520743, 0.04861228739124941, 0.04353106494397179, 0.06255564922285238, 0.06652356548114935, 0.008306440167540952, 0.0074203107430519805, 0.0040414013083426206, 0.0537080818525185, 0.04510154943612916, 0.04444814940634248, 0.023786189845807066, 0.1127595226661241, 0.10998962450992505, 0.014949213644168298, 0.035848441345217155, 0.027207348905322296, 0.03955485095533635, 0.021040871940227912, 0.02657040751783229, 0.22419206808597725, 0.029059091244079977, 0.00547329159319542, 0.0683041566748464, 0.06383058398946545, 0.09042122571396896, 0.07699560359713015, 0.04933979940989871, 0.07140166150926903, 0.17397157116488055, 0.006113228934748734, 0.01017622403762399, 0.00691555183947933, 0.027980149553235314, 0.030413546950476458, 0.03356455480818525, 0.0682988802610723, 0.055972046726365354, 0.04676334513300741, 0.011599243615948477, 0.04592042874878591, 0.04467463533813485, 0.02929379001575714, 0.02471538523219765, 0.04331812145775984, 0.041665664031627664, 0.07824569099119653, 2.220446049250313e-16, 0.06874464425003037, 0.0589681973189533, 0.1411607711353586, 0.11041827244766096, 0.25034784182061204, 0.021837422023976007, 0.008102867754140987, 0.005206026455464347, 0.09370626712078535, 0.08676225420905335, 0.18166866484043734, 0.36624775117993613, 0.10848648010089773, 0.12745269619875207, 0.3895513168653272, 0.34848815543736655, 0.3141150885399469, 0.3850908949518077, 0.06579744754098536, 0.23588776305980583, 0.0135159614102093, 0.01650570020943033, 0.25074404300066555, 0.26239845642145665, 0.4531070587314402, 0.19402019898631448, 0.20540763251820027, 0.07783219724037965, 0.06015943188985386, 0.08367004875784442, 0.1240982694766683, 0.20062233815662125, 0.16051924552204422, 0.13186393310816527, 0.012442416078821999, 0.1908941536810539, 0.2245725058026378, 0.2077335436381952, 0.037918751979622925, 0.1010863745926585, 0.14764426969768568, 0.21942595252422306, 0.00119539578222074, 0.13978442254129342, 0.14943050771886388, 0.05183449580587888, 0.04864555220476739, 0.0031545958804240068, 0.26538692599793123, 0.19553674695283643, 0.08974509244114404, 0.05636103657006562, 0.054430985195268004, 0.15591920366800555, 0.058665761893636564, 0.22761677588974824, 0.19093679785774084, 0.19340549539722737, 0.15970886668322454, 0.1149747110189306, 0.20746405823330027, 0.16813785458409955, 0.07726011601058394, 0.06022385507234269, 0.16854366104483548, 0.05871884977566517, 0.08256569424098506, 0.29767858604938796, 0.09460760664352717, 0.0334374000839724, 0.018698507270231687], \"y0\": \" \", \"yaxis\": \"y\"}, {\"alignmentgroup\": \"True\", \"hovertemplate\": \"method=Gaussian Process<br>dataset=%{x}<br>value=%{y}<extra></extra>\", \"legendgroup\": \"Gaussian Process\", \"marker\": {\"color\": \"#EF553B\"}, \"name\": \"Gaussian Process\", \"notched\": false, \"offsetgroup\": \"Gaussian Process\", \"orientation\": \"v\", \"showlegend\": true, \"type\": \"box\", \"x\": [\"20NG\", \"20NG\", \"20NG\", \"20NG\", \"20NG\", \"20NG\", \"20NG\", \"20NG\", \"20NG\", \"20NG\", \"20NG\", \"20NG\", \"20NG\", \"20NG\", \"20NG\", \"20NG\", \"20NG\", \"20NG\", \"20NG\", \"20NG\", \"20NG\", \"20NG\", \"20NG\", \"20NG\", \"20NG\", \"20NG\", \"20NG\", \"20NG\", \"20NG\", \"20NG\", \"banners\", \"banners\", \"banners\", \"banners\", \"banners\", \"banners\", \"banners\", \"banners\", \"banners\", \"banners\", \"banners\", \"banners\", \"banners\", \"banners\", \"banners\", \"banners\", \"banners\", \"banners\", \"banners\", \"banners\", \"banners\", \"banners\", \"banners\", \"banners\", \"banners\", \"banners\", \"banners\", \"banners\", \"banners\", \"HR\", \"HR\", \"HR\", \"HR\", \"HR\", \"HR\", \"HR\", \"HR\", \"HR\", \"HR\", \"HR\", \"HR\", \"HR\", \"HR\", \"HR\", \"HR\", \"HR\", \"HR\", \"HR\", \"HR\", \"HR\", \"HR\", \"HR\", \"HR\", \"HR\", \"AR\", \"AR\", \"AR\", \"AR\", \"AR\", \"AR\", \"AR\", \"AR\", \"AR\", \"AR\", \"AR\", \"AR\", \"AR\", \"AR\", \"AR\", \"AR\", \"AR\", \"AR\", \"AR\", \"AR\", \"AR\", \"AR\", \"lenta\", \"lenta\", \"lenta\", \"lenta\", \"lenta\", \"lenta\", \"lenta\", \"lenta\", \"lenta\", \"lenta\", \"lenta\", \"lenta\", \"lenta\", \"lenta\", \"lenta\", \"lenta\", \"lenta\", \"lenta\", \"lenta\", \"lenta\", \"lenta\", \"lenta\", \"lenta\", \"lenta\", \"lenta\", \"lenta\", \"lenta\", \"lenta\", \"lenta\", \"lenta\", \"lenta\", \"lenta\", \"lenta\"], \"x0\": \" \", \"xaxis\": \"x\", \"y\": [0.14226876060374027, 0.05688636634908698, 0.06571989074122057, 0.09867873374995953, 0.278416272487695, 0.22031344763691102, 0.14449114924852655, 0.10452658981210591, 0.11457591700067041, 0.15180600983393122, 0.1497245657047383, 0.1467694937929154, 0.14376437394144, 0.023183531827342094, 1.7604590154589703e-10, 0.10576105030182288, 0.08189936807991673, 0.09797983062948443, 0.18852200680324122, 0.07061529115245373, 0.14894564175378355, 0.06665544383731725, 0.14692370894289059, 0.0823061658003064, 0.12200848881058418, 0.07665879281141903, 0.0604950540720739, 0.07704690812827852, 0.10542159967482997, 0.04848737858501789, 0.07662195307304229, 0.08409996711587778, 0.0492563703400698, 0.039778579378422184, 0.03068450529413301, 0.05909259028016703, 0.061610525644735334, 0.07698306067658466, 0.062435579133858415, 0.07526616227087184, 0.08906282654313392, 0.036738432830867085, 0.02852617284786879, 0.29527846770021166, 0.2256733863934192, 0.07074180690187137, 0.05176901129134927, 0.052100973951436605, 0.11769091162454678, 0.14405038293225997, 0.11032556773436018, 0.1176068794584965, 0.09859677241397445, 0.14290032398361235, 0.054264464661432525, 0.06434447558980251, 0.04756241904638352, 0.17133843043271546, 0.09535712712729927, 0.44466885648273885, 0.4190766129603936, 0.35524666868844124, 0.6387059097842515, 0.6594785700540199, 0.12716302832506174, 0.012295958694090954, 0.08691094703962031, 0.04327396638717485, 0.10670215697486636, 0.04717533744818343, 0.38797488592115953, 0.6678027174567931, 0.38332402854830977, 0.5014311978926509, 0.43306720952528743, 0.2965655291070951, 0.6184834576998338, 0.014373140083264228, 0.4709437482341848, 0.3711255750891772, 0.31120286536778535, 0.3173020642778472, 0.21225998656809858, 0.19531263797275, 0.21239596845782077, 0.19461706636828294, 0.12489999901784632, 0.16400411222827566, 0.09950579651360751, 0.030289105138198973, 0.0012876211531466838, 0.18502189727375934, 0.2026992886315721, 0.22393819542487098, 0.18619643306455874, 0.16428646902651267, 0.278835043805496, 0.20070377256169913, 0.19652676333663388, 0.2466465634451221, 0.10639486779490372, 0.1128235104181791, 0.11405070319003364, 0.25484561722219784, 0.29184964410028674, 0.28048459271189496, 0.25988904348194, 0.19533293071039928, 0.2581891504143958, 0.31307633920363753, 0.3357826474564078, 0.30718172232200724, 0.3156142370972128, 0.2425478441761701, 0.4042963295713689, 0.36670568674628745, 0.4991719398599337, 0.306442155101677, 0.3782023480157058, 0.29948549460623697, 0.35995102250173067, 0.27073030938358456, 0.22466437808565914, 0.21503497193712218, 0.0355599335351838, 0.2568934911009028, 0.08488333901856332, 0.24695034995554555, 0.24674634757771827, 0.17463409973962785, 0.14612915086744574, 0.319930656572191, 0.214591341087595, 0.2697750679986492, 0.3397444078776923, 0.3452265293720594, 0.2458896862073378, 0.44725678794274987, 0.15132749368339224], \"y0\": \" \", \"yaxis\": \"y\"}, {\"alignmentgroup\": \"True\", \"hovertemplate\": \"method=SVR<br>dataset=%{x}<br>value=%{y}<extra></extra>\", \"legendgroup\": \"SVR\", \"marker\": {\"color\": \"#00cc96\"}, \"name\": \"SVR\", \"notched\": false, \"offsetgroup\": \"SVR\", \"orientation\": \"v\", \"showlegend\": true, \"type\": \"box\", \"x\": [\"20NG\", \"20NG\", \"20NG\", \"20NG\", \"20NG\", \"20NG\", \"20NG\", \"20NG\", \"20NG\", \"20NG\", \"banners\", \"banners\", \"banners\", \"banners\", \"banners\", \"banners\", \"banners\", \"banners\", \"banners\", \"banners\", \"HR\", \"HR\", \"HR\", \"HR\", \"HR\", \"HR\", \"HR\", \"HR\", \"HR\", \"HR\", \"HR\", \"HR\", \"HR\", \"HR\", \"HR\", \"HR\", \"HR\", \"HR\", \"HR\", \"HR\", \"HR\", \"HR\", \"HR\", \"HR\", \"HR\", \"HR\", \"AR\", \"AR\", \"AR\", \"AR\", \"AR\", \"AR\", \"AR\", \"AR\", \"AR\", \"AR\", \"AR\", \"AR\", \"AR\", \"AR\", \"AR\", \"AR\", \"AR\", \"AR\", \"AR\", \"AR\", \"lenta\", \"lenta\", \"lenta\", \"lenta\", \"lenta\", \"lenta\", \"lenta\", \"lenta\", \"lenta\", \"lenta\", \"lenta\", \"lenta\", \"lenta\", \"lenta\", \"lenta\", \"lenta\", \"lenta\", \"lenta\", \"lenta\", \"lenta\", \"lenta\", \"lenta\", \"lenta\", \"lenta\", \"lenta\", \"lenta\", \"lenta\", \"lenta\"], \"x0\": \" \", \"xaxis\": \"x\", \"y\": [0.1467583033001378, 0.11211120924817516, 0.17374660351426513, 0.18155091342061555, 0.15799480999600096, 0.2058116609577307, 0.1794190919182127, 0.12534095925861205, 0.06157195009673416, 0.1089240075726782, 0.1687501073722625, 0.15468481875019693, 0.14334042687769205, 0.12702924280907318, 0.13912389368814565, 0.14087122168374008, 0.18014001300685817, 0.18355366115601346, 0.11536973185288014, 0.14656853045910237, 0.33077475718022936, 0.26802407876269696, 0.16739385215538485, 0.18907202135460002, 0.3055143836324748, 0.505032192867559, 0.40122220827511623, 0.41136830041510924, 0.303499910373657, 0.35907438685761545, 0.23549929207706352, 0.31348130612166586, 0.2454650214223962, 0.2154565733272165, 0.23208440784833714, 0.4805567762967749, 0.33041552695272747, 0.7078151875442679, 0.43942604740766605, 0.46167416442180487, 0.4683264463874286, 0.45456910937211403, 0.4147664529236363, 0.39105538494357783, 0.12205550362786521, 0.18100744989387638, 0.3166212360375978, 0.2635869337391185, 0.15603887497881655, 0.20202624787518364, 0.2811085089723582, 0.19844318695483917, 0.2155030936350989, 0.3608238734051614, 0.10012356709740305, 0.22243397135249093, 0.16007873562099617, 0.3067602624125275, 0.23730956940091735, 0.3116031889248696, 0.27425405403247977, 0.25167227300718736, 0.18431740106416022, 0.1122165596347415, 0.26591190742106235, 0.43032193218739156, 0.38802692342581546, 0.32563213943312497, 0.40047495817461914, 0.39649680994000924, 0.3566092279526272, 0.3293314699603694, 0.3521107849720395, 0.27537496599425293, 0.34418240437442177, 0.2639980602475945, 0.33562906963729094, 0.26240129938551654, 0.4223525139162772, 0.49101394638304385, 0.38546353096614244, 0.18372374596172011, 0.1734785260011342, 0.5141075461060587, 0.5220779056744339, 0.4041805322147754, 0.5520397156715245, 0.44803167248885123, 0.36732101132349126, 0.30007837209414284, 0.39838811795857654, 0.29375266534224476, 0.3828803520243123, 0.36406491490726955], \"y0\": \" \", \"yaxis\": \"y\"}, {\"alignmentgroup\": \"True\", \"hovertemplate\": \"method=MLP<br>dataset=%{x}<br>value=%{y}<extra></extra>\", \"legendgroup\": \"MLP\", \"marker\": {\"color\": \"#ab63fa\"}, \"name\": \"MLP\", \"notched\": false, \"offsetgroup\": \"MLP\", \"orientation\": \"v\", \"showlegend\": true, \"type\": \"box\", \"x\": [\"20NG\", \"20NG\", \"20NG\", \"20NG\", \"20NG\", \"20NG\", \"20NG\", \"20NG\", \"20NG\", \"20NG\", \"20NG\", \"20NG\", \"20NG\", \"20NG\", \"20NG\", \"20NG\", \"20NG\", \"20NG\", \"20NG\", \"banners\", \"banners\", \"banners\", \"banners\", \"banners\", \"banners\", \"banners\", \"banners\", \"banners\", \"banners\", \"banners\", \"banners\", \"banners\", \"banners\", \"banners\", \"banners\", \"banners\", \"banners\", \"banners\", \"banners\", \"banners\", \"HR\", \"HR\", \"HR\", \"HR\", \"HR\", \"HR\", \"HR\", \"HR\", \"HR\", \"HR\", \"HR\", \"HR\", \"HR\", \"HR\", \"HR\", \"HR\", \"HR\", \"HR\", \"HR\", \"HR\", \"HR\", \"AR\", \"AR\", \"AR\", \"AR\", \"AR\", \"AR\", \"AR\", \"lenta\", \"lenta\", \"lenta\", \"lenta\", \"lenta\", \"lenta\", \"lenta\", \"lenta\", \"lenta\", \"lenta\", \"lenta\", \"lenta\", \"lenta\", \"lenta\", \"lenta\", \"lenta\", \"lenta\", \"lenta\", \"lenta\"], \"x0\": \" \", \"xaxis\": \"x\", \"y\": [0.1815548747169746, 0.09940561276082831, 0.11696378693991326, 0.13113700959529295, 0.14514894184794394, 0.08722130273041401, 0.07193569063582175, 0.023556352585496966, 0.02221373667554096, 0.08471232083786971, 0.08796589569035403, 0.057340402343217585, 0.05758037733526587, 0.12294193793068307, 0.12967221563412276, 0.3287882937520241, 0.3612098648747233, 0.0935365917507404, 0.10105528321355853, 0.16539070942704653, 0.16488022625070958, 0.17253038201465337, 0.06363085131321879, 0.07011132314124265, 0.07729651911357589, 0.21660211160064347, 0.23168983070355756, 0.12955407638144417, 0.022643630215903616, 0.02790333423839643, 0.17026387193816547, 0.15163184240443517, 0.10721441051493232, 0.060336095602105344, 0.14761545866949813, 0.10878977287559359, 0.12487978247939967, 0.1153174729000516, 0.09931591805024571, 0.13873504045796264, 0.2945177367335346, 0.5197574659074308, 0.3684155361827095, 0.16822652626281798, 0.056009310352577696, 0.3205193231766683, 0.3293378725378063, 0.2082545829433233, 0.3210930998409022, 0.2647878673141944, 0.23978139654385733, 0.34456556658084303, 0.690441329785617, 0.2741987817150461, 0.29826778011712685, 0.6524362538180326, 0.3053145757701561, 0.3561748851685571, 0.3191112356230529, 0.4817287440747526, 0.2779254593457739, 0.22789190443262347, 0.1806777063218355, 0.16577477260708218, 0.26761121099706586, 0.38772573389011267, 0.263971629005738, 0.2753515588800458, 0.28734926519207493, 0.38837079529312607, 0.7153696698797175, 0.6604109084652645, 0.2657939141605016, 0.18948027882603988, 0.17472282163058037, 0.053325803496153214, 0.38618480125273275, 0.3646124639057503, 0.13944749442225718, 0.2808537944489923, 0.437800430364845, 0.475774931389406, 0.2740488696762482, 0.34252437938235614, 0.2039838356939551, 0.40363081993049993, 0.4011090735875789], \"y0\": \" \", \"yaxis\": \"y\"}],\n",
       "                        {\"boxmode\": \"group\", \"font\": {\"color\": \"#7f7f7f\", \"family\": \"Courier New, monospace\", \"size\": 20}, \"legend\": {\"title\": {\"text\": \"method\"}, \"tracegroupgap\": 0}, \"margin\": {\"t\": 60}, \"template\": {\"data\": {\"bar\": [{\"error_x\": {\"color\": \"#2a3f5f\"}, \"error_y\": {\"color\": \"#2a3f5f\"}, \"marker\": {\"line\": {\"color\": \"white\", \"width\": 0.5}}, \"type\": \"bar\"}], \"barpolar\": [{\"marker\": {\"line\": {\"color\": \"white\", \"width\": 0.5}}, \"type\": \"barpolar\"}], \"carpet\": [{\"aaxis\": {\"endlinecolor\": \"#2a3f5f\", \"gridcolor\": \"#C8D4E3\", \"linecolor\": \"#C8D4E3\", \"minorgridcolor\": \"#C8D4E3\", \"startlinecolor\": \"#2a3f5f\"}, \"baxis\": {\"endlinecolor\": \"#2a3f5f\", \"gridcolor\": \"#C8D4E3\", \"linecolor\": \"#C8D4E3\", \"minorgridcolor\": \"#C8D4E3\", \"startlinecolor\": \"#2a3f5f\"}, \"type\": \"carpet\"}], \"choropleth\": [{\"colorbar\": {\"outlinewidth\": 0, \"ticks\": \"\"}, \"type\": \"choropleth\"}], \"contour\": [{\"colorbar\": {\"outlinewidth\": 0, \"ticks\": \"\"}, \"colorscale\": [[0.0, \"#0d0887\"], [0.1111111111111111, \"#46039f\"], [0.2222222222222222, \"#7201a8\"], [0.3333333333333333, \"#9c179e\"], [0.4444444444444444, \"#bd3786\"], [0.5555555555555556, \"#d8576b\"], [0.6666666666666666, \"#ed7953\"], [0.7777777777777778, \"#fb9f3a\"], [0.8888888888888888, \"#fdca26\"], [1.0, \"#f0f921\"]], \"type\": \"contour\"}], \"contourcarpet\": [{\"colorbar\": {\"outlinewidth\": 0, \"ticks\": \"\"}, \"type\": \"contourcarpet\"}], \"heatmap\": [{\"colorbar\": {\"outlinewidth\": 0, \"ticks\": \"\"}, \"colorscale\": [[0.0, \"#0d0887\"], [0.1111111111111111, \"#46039f\"], [0.2222222222222222, \"#7201a8\"], [0.3333333333333333, \"#9c179e\"], [0.4444444444444444, \"#bd3786\"], [0.5555555555555556, \"#d8576b\"], [0.6666666666666666, \"#ed7953\"], [0.7777777777777778, \"#fb9f3a\"], [0.8888888888888888, \"#fdca26\"], [1.0, \"#f0f921\"]], \"type\": \"heatmap\"}], \"heatmapgl\": [{\"colorbar\": {\"outlinewidth\": 0, \"ticks\": \"\"}, \"colorscale\": [[0.0, \"#0d0887\"], [0.1111111111111111, \"#46039f\"], [0.2222222222222222, \"#7201a8\"], [0.3333333333333333, \"#9c179e\"], [0.4444444444444444, \"#bd3786\"], [0.5555555555555556, \"#d8576b\"], [0.6666666666666666, \"#ed7953\"], [0.7777777777777778, \"#fb9f3a\"], [0.8888888888888888, \"#fdca26\"], [1.0, \"#f0f921\"]], \"type\": \"heatmapgl\"}], \"histogram\": [{\"marker\": {\"colorbar\": {\"outlinewidth\": 0, \"ticks\": \"\"}}, \"type\": \"histogram\"}], \"histogram2d\": [{\"colorbar\": {\"outlinewidth\": 0, \"ticks\": \"\"}, \"colorscale\": [[0.0, \"#0d0887\"], [0.1111111111111111, \"#46039f\"], [0.2222222222222222, \"#7201a8\"], [0.3333333333333333, \"#9c179e\"], [0.4444444444444444, \"#bd3786\"], [0.5555555555555556, \"#d8576b\"], [0.6666666666666666, \"#ed7953\"], [0.7777777777777778, \"#fb9f3a\"], [0.8888888888888888, \"#fdca26\"], [1.0, \"#f0f921\"]], \"type\": \"histogram2d\"}], \"histogram2dcontour\": [{\"colorbar\": {\"outlinewidth\": 0, \"ticks\": \"\"}, \"colorscale\": [[0.0, \"#0d0887\"], [0.1111111111111111, \"#46039f\"], [0.2222222222222222, \"#7201a8\"], [0.3333333333333333, \"#9c179e\"], [0.4444444444444444, \"#bd3786\"], [0.5555555555555556, \"#d8576b\"], [0.6666666666666666, \"#ed7953\"], [0.7777777777777778, \"#fb9f3a\"], [0.8888888888888888, \"#fdca26\"], [1.0, \"#f0f921\"]], \"type\": \"histogram2dcontour\"}], \"mesh3d\": [{\"colorbar\": {\"outlinewidth\": 0, \"ticks\": \"\"}, \"type\": \"mesh3d\"}], \"parcoords\": [{\"line\": {\"colorbar\": {\"outlinewidth\": 0, \"ticks\": \"\"}}, \"type\": \"parcoords\"}], \"pie\": [{\"automargin\": true, \"type\": \"pie\"}], \"scatter\": [{\"marker\": {\"colorbar\": {\"outlinewidth\": 0, \"ticks\": \"\"}}, \"type\": \"scatter\"}], \"scatter3d\": [{\"line\": {\"colorbar\": {\"outlinewidth\": 0, \"ticks\": \"\"}}, \"marker\": {\"colorbar\": {\"outlinewidth\": 0, \"ticks\": \"\"}}, \"type\": \"scatter3d\"}], \"scattercarpet\": [{\"marker\": {\"colorbar\": {\"outlinewidth\": 0, \"ticks\": \"\"}}, \"type\": \"scattercarpet\"}], \"scattergeo\": [{\"marker\": {\"colorbar\": {\"outlinewidth\": 0, \"ticks\": \"\"}}, \"type\": \"scattergeo\"}], \"scattergl\": [{\"marker\": {\"colorbar\": {\"outlinewidth\": 0, \"ticks\": \"\"}}, \"type\": \"scattergl\"}], \"scattermapbox\": [{\"marker\": {\"colorbar\": {\"outlinewidth\": 0, \"ticks\": \"\"}}, \"type\": \"scattermapbox\"}], \"scatterpolar\": [{\"marker\": {\"colorbar\": {\"outlinewidth\": 0, \"ticks\": \"\"}}, \"type\": \"scatterpolar\"}], \"scatterpolargl\": [{\"marker\": {\"colorbar\": {\"outlinewidth\": 0, \"ticks\": \"\"}}, \"type\": \"scatterpolargl\"}], \"scatterternary\": [{\"marker\": {\"colorbar\": {\"outlinewidth\": 0, \"ticks\": \"\"}}, \"type\": \"scatterternary\"}], \"surface\": [{\"colorbar\": {\"outlinewidth\": 0, \"ticks\": \"\"}, \"colorscale\": [[0.0, \"#0d0887\"], [0.1111111111111111, \"#46039f\"], [0.2222222222222222, \"#7201a8\"], [0.3333333333333333, \"#9c179e\"], [0.4444444444444444, \"#bd3786\"], [0.5555555555555556, \"#d8576b\"], [0.6666666666666666, \"#ed7953\"], [0.7777777777777778, \"#fb9f3a\"], [0.8888888888888888, \"#fdca26\"], [1.0, \"#f0f921\"]], \"type\": \"surface\"}], \"table\": [{\"cells\": {\"fill\": {\"color\": \"#EBF0F8\"}, \"line\": {\"color\": \"white\"}}, \"header\": {\"fill\": {\"color\": \"#C8D4E3\"}, \"line\": {\"color\": \"white\"}}, \"type\": \"table\"}]}, \"layout\": {\"annotationdefaults\": {\"arrowcolor\": \"#2a3f5f\", \"arrowhead\": 0, \"arrowwidth\": 1}, \"coloraxis\": {\"colorbar\": {\"outlinewidth\": 0, \"ticks\": \"\"}}, \"colorscale\": {\"diverging\": [[0, \"#8e0152\"], [0.1, \"#c51b7d\"], [0.2, \"#de77ae\"], [0.3, \"#f1b6da\"], [0.4, \"#fde0ef\"], [0.5, \"#f7f7f7\"], [0.6, \"#e6f5d0\"], [0.7, \"#b8e186\"], [0.8, \"#7fbc41\"], [0.9, \"#4d9221\"], [1, \"#276419\"]], \"sequential\": [[0.0, \"#0d0887\"], [0.1111111111111111, \"#46039f\"], [0.2222222222222222, \"#7201a8\"], [0.3333333333333333, \"#9c179e\"], [0.4444444444444444, \"#bd3786\"], [0.5555555555555556, \"#d8576b\"], [0.6666666666666666, \"#ed7953\"], [0.7777777777777778, \"#fb9f3a\"], [0.8888888888888888, \"#fdca26\"], [1.0, \"#f0f921\"]], \"sequentialminus\": [[0.0, \"#0d0887\"], [0.1111111111111111, \"#46039f\"], [0.2222222222222222, \"#7201a8\"], [0.3333333333333333, \"#9c179e\"], [0.4444444444444444, \"#bd3786\"], [0.5555555555555556, \"#d8576b\"], [0.6666666666666666, \"#ed7953\"], [0.7777777777777778, \"#fb9f3a\"], [0.8888888888888888, \"#fdca26\"], [1.0, \"#f0f921\"]]}, \"colorway\": [\"#636efa\", \"#EF553B\", \"#00cc96\", \"#ab63fa\", \"#FFA15A\", \"#19d3f3\", \"#FF6692\", \"#B6E880\", \"#FF97FF\", \"#FECB52\"], \"font\": {\"color\": \"#2a3f5f\"}, \"geo\": {\"bgcolor\": \"white\", \"lakecolor\": \"white\", \"landcolor\": \"white\", \"showlakes\": true, \"showland\": true, \"subunitcolor\": \"#C8D4E3\"}, \"hoverlabel\": {\"align\": \"left\"}, \"hovermode\": \"closest\", \"mapbox\": {\"style\": \"light\"}, \"paper_bgcolor\": \"white\", \"plot_bgcolor\": \"white\", \"polar\": {\"angularaxis\": {\"gridcolor\": \"#EBF0F8\", \"linecolor\": \"#EBF0F8\", \"ticks\": \"\"}, \"bgcolor\": \"white\", \"radialaxis\": {\"gridcolor\": \"#EBF0F8\", \"linecolor\": \"#EBF0F8\", \"ticks\": \"\"}}, \"scene\": {\"xaxis\": {\"backgroundcolor\": \"white\", \"gridcolor\": \"#DFE8F3\", \"gridwidth\": 2, \"linecolor\": \"#EBF0F8\", \"showbackground\": true, \"ticks\": \"\", \"zerolinecolor\": \"#EBF0F8\"}, \"yaxis\": {\"backgroundcolor\": \"white\", \"gridcolor\": \"#DFE8F3\", \"gridwidth\": 2, \"linecolor\": \"#EBF0F8\", \"showbackground\": true, \"ticks\": \"\", \"zerolinecolor\": \"#EBF0F8\"}, \"zaxis\": {\"backgroundcolor\": \"white\", \"gridcolor\": \"#DFE8F3\", \"gridwidth\": 2, \"linecolor\": \"#EBF0F8\", \"showbackground\": true, \"ticks\": \"\", \"zerolinecolor\": \"#EBF0F8\"}}, \"shapedefaults\": {\"line\": {\"color\": \"#2a3f5f\"}}, \"ternary\": {\"aaxis\": {\"gridcolor\": \"#DFE8F3\", \"linecolor\": \"#A2B1C6\", \"ticks\": \"\"}, \"baxis\": {\"gridcolor\": \"#DFE8F3\", \"linecolor\": \"#A2B1C6\", \"ticks\": \"\"}, \"bgcolor\": \"white\", \"caxis\": {\"gridcolor\": \"#DFE8F3\", \"linecolor\": \"#A2B1C6\", \"ticks\": \"\"}}, \"title\": {\"x\": 0.05}, \"xaxis\": {\"automargin\": true, \"gridcolor\": \"#EBF0F8\", \"linecolor\": \"#EBF0F8\", \"ticks\": \"\", \"title\": {\"standoff\": 15}, \"zerolinecolor\": \"#EBF0F8\", \"zerolinewidth\": 2}, \"yaxis\": {\"automargin\": true, \"gridcolor\": \"#EBF0F8\", \"linecolor\": \"#EBF0F8\", \"ticks\": \"\", \"title\": {\"standoff\": 15}, \"zerolinecolor\": \"#EBF0F8\", \"zerolinewidth\": 2}}}, \"xaxis\": {\"anchor\": \"y\", \"domain\": [0.0, 1.0], \"title\": {\"text\": \"Datasets\"}}, \"yaxis\": {\"anchor\": \"x\", \"domain\": [0.0, 1.0], \"title\": {\"text\": \"RMSE\"}}},\n",
       "                        {\"responsive\": true}\n",
       "                    ).then(function(){\n",
       "                            \n",
       "var gd = document.getElementById('94b5e294-73c5-422e-bf08-cde32db54820');\n",
       "var x = new MutationObserver(function (mutations, observer) {{\n",
       "        var display = window.getComputedStyle(gd).display;\n",
       "        if (!display || display === 'none') {{\n",
       "            console.log([gd, 'removed!']);\n",
       "            Plotly.purge(gd);\n",
       "            observer.disconnect();\n",
       "        }}\n",
       "}});\n",
       "\n",
       "// Listen for the removal of the full notebook cells\n",
       "var notebookContainer = gd.closest('#notebook-container');\n",
       "if (notebookContainer) {{\n",
       "    x.observe(notebookContainer, {childList: true});\n",
       "}}\n",
       "\n",
       "// Listen for the clearing of the current output cell\n",
       "var outputEl = gd.closest('.output');\n",
       "if (outputEl) {{\n",
       "    x.observe(outputEl, {childList: true});\n",
       "}}\n",
       "\n",
       "                        }).then(function(){\n",
       "                            function downloadimage(format, height, width, filename) {var p = document.getElementById('94b5e294-73c5-422e-bf08-cde32db54820');Plotly.downloadImage(p, {format: format, height: height, width: width, filename: filename});};if(document.readyState == 'complete') {downloadimage('svg', 600, 800, 'plot_image');}\n",
       "                        })\n",
       "                };\n",
       "                });\n",
       "            </script>\n",
       "        </div>"
      ]
     },
     "metadata": {},
     "output_type": "display_data"
    }
   ],
   "source": [
    "iplot(fig, image='svg')"
   ]
  },
  {
   "cell_type": "code",
   "execution_count": 17,
   "metadata": {},
   "outputs": [
    {
     "name": "stdout",
     "output_type": "stream",
     "text": [
      "[[0.07218888073513599, 0.041001357903649026, 0.03645490375615739, 0.02301017004449994, 0.01842958159943832], [0.11218318745557619, 0.1635433620845868, 0.20299430293483015, 0.1516081476608987, 0.24078235898666966, 0.04433604053317465], [0.26254498857446107, 0.2625369127617244, 0.0574300288020829, 0.028402144986502623, 0.07880323522180635, 0.0010230878861699746], [0.20100185430992965, 0.12480675139245008, 0.04222861113528999, 0.015468840674006983, 0.0023946251185042824], [0.1976480064291819, 0.063033095136001, 0.11886398720550008, 0.07224670795695742, 0.03861943353520743, 0.04861228739124941, 0.04353106494397179, 0.06255564922285238], [0.1676426318723059, 0.15577146325884053, 0.10785661212362548, 0.04316532106477621, 0.06652356548114935], [0.29163326724284816, 0.1638110924858603, 0.1675527165928218, 0.11063934876179235, 0.008306440167540952, 0.0074203107430519805, 0.0040414013083426206], [0.126956631813171, 0.041578479819218035, 0.17456258313006567, 0.2036347452182421, 0.0537080818525185, 0.04510154943612916], [0.09831607000173206, 0.04853688603826136, 0.08704662719280015, 0.06658143142656654, 0.04444814940634248, 0.023786189845807066], [0.0771661631297804, 0.0688119253828775, 0.06164656607363397, 0.06322831265335148, 0.1127595226661241, 0.10998962450992505, 0.014949213644168298], [0.13538737346864654, 0.04380374340341614, 0.04677239282795204, 0.03766653263679941, 0.035848441345217155, 0.027207348905322296], [0.10117777085981823, 0.05648312512711414, 0.029987137351856433, 0.06131799460563808, 0.03955485095533635, 0.021040871940227912, 0.02657040751783229], [0.07840799603991792, 0.05589324657646978, 0.019522518379452892, 0.01697094753664335, 0.22419206808597725, 0.029059091244079977, 0.00547329159319542], [0.11912255457449311, 0.09239850222236452, 0.047184585680222775, 0.04043410420042463, 0.0683041566748464, 0.06383058398946545]]\n"
     ]
    }
   ],
   "source": [
    "filename = os.path.join(LOGS_PATH, '20ng_rf_15_e1.txt')\n",
    "parse_logs(filename)"
   ]
  },
  {
   "cell_type": "code",
   "execution_count": null,
   "metadata": {},
   "outputs": [],
   "source": []
  }
 ],
 "metadata": {
  "kernelspec": {
   "display_name": "Python 3",
   "language": "python",
   "name": "python3"
  },
  "language_info": {
   "codemirror_mode": {
    "name": "ipython",
    "version": 3
   },
   "file_extension": ".py",
   "mimetype": "text/x-python",
   "name": "python",
   "nbconvert_exporter": "python",
   "pygments_lexer": "ipython3",
   "version": "3.7.9"
  }
 },
 "nbformat": 4,
 "nbformat_minor": 4
}
