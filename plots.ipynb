{
 "cells": [
  {
   "cell_type": "code",
   "execution_count": 1,
   "metadata": {},
   "outputs": [],
   "source": [
    "%load_ext autotime\n",
    "%matplotlib inline"
   ]
  },
  {
   "cell_type": "code",
   "execution_count": 2,
   "metadata": {},
   "outputs": [
    {
     "name": "stdout",
     "output_type": "stream",
     "text": [
      "time: 210 ms\n"
     ]
    }
   ],
   "source": [
    "import plotly.express as px\n",
    "import pandas as pd"
   ]
  },
  {
   "cell_type": "code",
   "execution_count": null,
   "metadata": {},
   "outputs": [],
   "source": [
    "# Surrogate modelling results"
   ]
  },
  {
   "cell_type": "code",
   "execution_count": null,
   "metadata": {},
   "outputs": [],
   "source": [
    "best_fit = [1.3466727389989261, 1.3346149306122446, 1.1844786566800816, 1.459457572542857, 1.676777660007755, 2.99259047020408, 1.0660752397424482, 1.0546448049231796, 1.155827483630505, 0.829631806122449, 0.940114595465306, 1.197658277365359, 1.3273639442749732, 1.7935980327755099, 1.6760422777142856, 1.0718784467466986, 1.331634415580408, 1.5008352506122449]\n",
    "dataset = 'HR'\n",
    "method = 'SVR'\n",
    "\n",
    "n = len(best_fit)\n",
    "df_5 = pd.DataFrame(list(\n",
    "    zip(\n",
    "        [dataset for _ in range(n)],\n",
    "        [method for _ in range(n)],\n",
    "        best_fit\n",
    "    )\n",
    "), columns = ['dataset', 'method', 'best_fit'])"
   ]
  },
  {
   "cell_type": "code",
   "execution_count": null,
   "metadata": {},
   "outputs": [],
   "source": [
    "data = pd.concat([data, df_4, df_5])"
   ]
  },
  {
   "cell_type": "code",
   "execution_count": null,
   "metadata": {},
   "outputs": [],
   "source": []
  },
  {
   "cell_type": "code",
   "execution_count": 3,
   "metadata": {
    "scrolled": true
   },
   "outputs": [
    {
     "name": "stdout",
     "output_type": "stream",
     "text": [
      "time: 5.44 ms\n"
     ]
    }
   ],
   "source": [
    "data = pd.read_csv('Surrogate_results')"
   ]
  },
  {
   "cell_type": "code",
   "execution_count": null,
   "metadata": {},
   "outputs": [],
   "source": [
    "# sdata.to_csv('Surrogate_results', index=None)"
   ]
  },
  {
   "cell_type": "code",
   "execution_count": 4,
   "metadata": {},
   "outputs": [
    {
     "name": "stdout",
     "output_type": "stream",
     "text": [
      "time: 736 µs\n"
     ]
    }
   ],
   "source": [
    "def add_new_experiments(experiments_path,\n",
    "                        dataset, method, best_fit):\n",
    "    data = pd.read_csv(experiments_path)\n",
    "    n = len(best_fit)\n",
    "    df = pd.DataFrame(list(zip([dataset for _ in range(n)], \n",
    "                               [method for _ in range(n)], \n",
    "                               best_fit,\n",
    "                              )), \n",
    "               columns =['dataset', 'method', 'best_fit']) \n",
    "    res = pd.concat([data, df])\n",
    "    return res"
   ]
  },
  {
   "cell_type": "code",
   "execution_count": 89,
   "metadata": {},
   "outputs": [
    {
     "name": "stdout",
     "output_type": "stream",
     "text": [
      "time: 3.96 ms\n"
     ]
    }
   ],
   "source": [
    "best_fit = [0.8392085600434691, 0.9881309751455305, 1.376641713469387, 1.0023321858542855, 0.951111883084204, 0.7089831319514694, 1.107956222522278, 1.1550911121804084, 0.9558617617291352, 1.3265966234075919, 0.8614531804438204, 1.2299451170112654, 0.75022027634796, 0.9340624858412246]\n",
    "dataset = 'lenta'\n",
    "method = 'MLP'\n",
    "data = add_new_experiments('Surrogate_results', dataset, method, best_fit)"
   ]
  },
  {
   "cell_type": "code",
   "execution_count": 88,
   "metadata": {},
   "outputs": [
    {
     "name": "stdout",
     "output_type": "stream",
     "text": [
      "time: 26.8 ms\n"
     ]
    }
   ],
   "source": [
    "# data.to_csv('Surrogate_results', index=None)"
   ]
  },
  {
   "cell_type": "code",
   "execution_count": 90,
   "metadata": {},
   "outputs": [
    {
     "name": "stdout",
     "output_type": "stream",
     "text": [
      "time: 303 µs\n"
     ]
    }
   ],
   "source": [
    "import numpy as np"
   ]
  },
  {
   "cell_type": "code",
   "execution_count": 78,
   "metadata": {
    "scrolled": true
   },
   "outputs": [
    {
     "data": {
      "text/plain": [
       "0.9816501957033777"
      ]
     },
     "execution_count": 78,
     "metadata": {},
     "output_type": "execute_result"
    },
    {
     "name": "stdout",
     "output_type": "stream",
     "text": [
      "time: 3.17 ms\n"
     ]
    }
   ],
   "source": [
    "np.mean(data[(data['method'] == 'MLP') & (data['dataset'] == \"banners\")]['best_fit'])"
   ]
  },
  {
   "cell_type": "code",
   "execution_count": 91,
   "metadata": {},
   "outputs": [
    {
     "data": {
      "application/vnd.plotly.v1+json": {
       "config": {
        "plotlyServerURL": "https://plot.ly"
       },
       "data": [
        {
         "alignmentgroup": "True",
         "hovertemplate": "method=RandomForest<br>dataset=%{x}<br>best_fit=%{y}<extra></extra>",
         "legendgroup": "RandomForest",
         "marker": {
          "color": "#636efa"
         },
         "name": "RandomForest",
         "notched": false,
         "offsetgroup": "RandomForest",
         "orientation": "v",
         "showlegend": true,
         "type": "box",
         "x": [
          "banners",
          "banners",
          "banners",
          "banners",
          "banners",
          "banners",
          "banners",
          "banners",
          "banners",
          "banners",
          "banners",
          "banners",
          "banners",
          "banners",
          "banners",
          "lenta",
          "lenta",
          "lenta",
          "lenta",
          "lenta",
          "lenta",
          "lenta",
          "lenta",
          "lenta",
          "lenta",
          "lenta",
          "lenta",
          "lenta",
          "lenta",
          "lenta",
          "AR",
          "AR",
          "AR",
          "AR",
          "AR",
          "AR",
          "AR",
          "AR",
          "AR",
          "AR",
          "AR",
          "AR",
          "AR",
          "AR",
          "AR",
          "AR",
          "AR",
          "AR",
          "AR",
          "AR",
          "AR",
          "20NG",
          "20NG",
          "20NG",
          "20NG",
          "20NG",
          "20NG",
          "20NG",
          "20NG",
          "20NG",
          "20NG",
          "20NG",
          "20NG",
          "20NG",
          "20NG",
          "20NG",
          "HR",
          "HR",
          "HR",
          "HR",
          "HR",
          "HR",
          "HR",
          "HR",
          "HR",
          "HR",
          "HR",
          "HR",
          "HR",
          "HR",
          "HR",
          "HR",
          "HR",
          "HR",
          "HR",
          "HR",
          "HR",
          "HR",
          "HR",
          "HR",
          "HR",
          "HR",
          "HR"
         ],
         "x0": " ",
         "xaxis": "x",
         "y": [
          0.9851830003257958,
          1.0577108142308576,
          1.0203815202231024,
          0.9724271973822448,
          1.0883579802418777,
          0.9410967361075144,
          0.963200416047184,
          1.0255667433728979,
          1.0033086950394283,
          1.0312258072222693,
          1.006086938846776,
          0.9128390871251428,
          0.9471124149782041,
          1.0031431273651428,
          1.0280563243206942,
          1.1878112711877145,
          0.9715830351406732,
          1.2871682737338372,
          0.9509766639056654,
          1.001454382090163,
          0.9888093350926124,
          0.9971829792581832,
          1.3737979871822774,
          1.3166524432925042,
          0.7182035048680411,
          1.2107309988250219,
          1.1426550234406532,
          1.2920887907049303,
          1.0663113975489793,
          1.2051133736734323,
          0.8085745502822078,
          0.8626964963293879,
          0.7424561316352244,
          0.7525895524277142,
          0.6584979655792652,
          0.6428593058154777,
          0.7614587971020408,
          0.6631269015750897,
          0.7690081432665962,
          0.7424060536566922,
          0.4387808099484694,
          0.7062831481318368,
          0.6781182807386124,
          0.7337707934612088,
          0.7120746024418242,
          0.5867250308675594,
          0.8203579616253063,
          0.6886068336008162,
          0.7496837971088163,
          0.7106557508223523,
          0.5569802275239999,
          0.8529725728510613,
          0.9362671046879188,
          0.9845963629558372,
          1.0662462778726531,
          0.9779255135933476,
          0.8734305632452652,
          0.7638991807966125,
          0.9370224487513878,
          0.9331003431242856,
          1.032390365123184,
          0.8163175498963673,
          0.8766480688400817,
          0.8043203771409796,
          0.8054077264302044,
          1.0115012490729798,
          1.7287359653061225,
          1.3003319281414971,
          0.6622621636046941,
          0.8052493756161636,
          1.625752235061225,
          1.1469939345918374,
          1.7287359653061225,
          1.3003319281414971,
          0.6622621636046941,
          0.8052493756161636,
          1.625752235061225,
          1.1469939345918374,
          0.8736986471655329,
          0.828000710070522,
          1.1158609116926772,
          1.356054478801045,
          1.1519628052275128,
          1.8204933164620407,
          1.3481127419362695,
          1.2913284640261342,
          1.5546185461632656,
          1.6953949795714287,
          1.4457915210436731,
          1.8328302941746941,
          0.9423953801500136,
          1.2577916782622536,
          1.183161807154694
         ],
         "y0": " ",
         "yaxis": "y"
        },
        {
         "alignmentgroup": "True",
         "hovertemplate": "method=GaussianProcess<br>dataset=%{x}<br>best_fit=%{y}<extra></extra>",
         "legendgroup": "GaussianProcess",
         "marker": {
          "color": "#EF553B"
         },
         "name": "GaussianProcess",
         "notched": false,
         "offsetgroup": "GaussianProcess",
         "orientation": "v",
         "showlegend": true,
         "type": "box",
         "x": [
          "20NG",
          "20NG",
          "20NG",
          "20NG",
          "20NG",
          "20NG",
          "20NG",
          "20NG",
          "20NG",
          "20NG",
          "20NG",
          "20NG",
          "20NG",
          "20NG",
          "banners",
          "banners",
          "banners",
          "banners",
          "banners",
          "banners",
          "banners",
          "banners",
          "banners",
          "banners",
          "banners",
          "banners",
          "banners",
          "banners",
          "banners",
          "HR",
          "HR",
          "HR",
          "HR",
          "HR",
          "HR",
          "HR",
          "HR",
          "HR",
          "HR",
          "HR",
          "HR",
          "HR",
          "HR",
          "AR",
          "AR",
          "AR",
          "AR",
          "AR",
          "AR",
          "AR",
          "AR",
          "AR",
          "AR",
          "AR",
          "AR",
          "AR",
          "AR",
          "AR",
          "lenta",
          "lenta",
          "lenta",
          "lenta",
          "lenta",
          "lenta",
          "lenta",
          "lenta",
          "lenta",
          "lenta",
          "lenta",
          "lenta",
          "lenta",
          "lenta",
          "lenta",
          "lenta",
          "lenta",
          "lenta",
          "lenta"
         ],
         "x0": " ",
         "xaxis": "x",
         "y": [
          0.9283016086746124,
          0.8175196488215509,
          0.7928823628942856,
          0.7609907640097959,
          0.9359561791411428,
          0.8502493819862451,
          0.8142621125796733,
          0.9308374720064492,
          0.8369997395588981,
          0.9168761862987757,
          0.9376092350680818,
          0.8937310335900002,
          0.8435979220152651,
          0.971191231744735,
          0.9273339491810612,
          0.9841522752728984,
          1.0233023944818778,
          0.970369783782694,
          1.026952881482286,
          0.9404219706884084,
          1.006191140896204,
          1.0696107429747344,
          1.0636814441941227,
          1.016759507190694,
          1.0456156244055512,
          0.980771999207306,
          1.0102038298651437,
          0.9670951653137142,
          1.068885374738204,
          1.3383548234014089,
          1.3664619429959184,
          1.3513882726530615,
          1.1418565689750566,
          1.251610566284135,
          1.2750624602721092,
          2.2863251587951026,
          1.3114892522433188,
          1.3166452297959184,
          1.6175663515265308,
          0.5625336010204088,
          0.7646656962122451,
          1.264537219342642,
          0.7985226304875104,
          0.6577499537660899,
          0.7173313621757959,
          0.5794886558806287,
          0.6277642394479184,
          0.6981637850151021,
          0.7101916336647836,
          0.6075869222993875,
          0.8476830537706119,
          0.701866969153641,
          0.8032016792458161,
          0.6021013283311427,
          0.6705845970946123,
          0.7332420350035511,
          0.8027944828632694,
          0.6530550599005307,
          0.9520090807809718,
          0.9537374558432652,
          0.8905976650257884,
          0.9382524041419188,
          1.1623316118774285,
          1.0999657980486532,
          1.306305749544898,
          1.0061577575431555,
          0.9035753341235916,
          1.29438916296151,
          1.2699380561425635,
          0.8275980814236734,
          0.7533746379206122,
          0.9966504797620408,
          1.066198753161347,
          1.1788217151134286,
          1.2815864112501631,
          0.892036802029796,
          0.9579361626693879
         ],
         "y0": " ",
         "yaxis": "y"
        },
        {
         "alignmentgroup": "True",
         "hovertemplate": "method=SVR<br>dataset=%{x}<br>best_fit=%{y}<extra></extra>",
         "legendgroup": "SVR",
         "marker": {
          "color": "#00cc96"
         },
         "name": "SVR",
         "notched": false,
         "offsetgroup": "SVR",
         "orientation": "v",
         "showlegend": true,
         "type": "box",
         "x": [
          "20NG",
          "20NG",
          "20NG",
          "20NG",
          "20NG",
          "20NG",
          "20NG",
          "20NG",
          "20NG",
          "20NG",
          "20NG",
          "20NG",
          "20NG",
          "banners",
          "banners",
          "banners",
          "banners",
          "banners",
          "banners",
          "banners",
          "banners",
          "banners",
          "banners",
          "banners",
          "banners",
          "banners",
          "banners",
          "AR",
          "AR",
          "AR",
          "AR",
          "AR",
          "AR",
          "AR",
          "AR",
          "AR",
          "AR",
          "AR",
          "AR",
          "AR",
          "AR",
          "HR",
          "HR",
          "HR",
          "HR",
          "HR",
          "HR",
          "HR",
          "HR",
          "HR",
          "HR",
          "HR",
          "HR",
          "HR",
          "HR",
          "HR",
          "HR",
          "HR",
          "HR",
          "lenta",
          "lenta",
          "lenta",
          "lenta",
          "lenta",
          "lenta",
          "lenta",
          "lenta",
          "lenta",
          "lenta",
          "lenta",
          "lenta",
          "lenta",
          "lenta",
          "lenta",
          "lenta",
          "lenta",
          "lenta",
          "lenta",
          "lenta"
         ],
         "x0": " ",
         "xaxis": "x",
         "y": [
          0.7858616841029797,
          0.7986467266342042,
          1.019197395524,
          0.8421862605717958,
          0.8835965123897961,
          0.8631133412866938,
          0.9335501011926532,
          0.8596201463253059,
          0.9513764936407348,
          0.9409290871795102,
          0.7421272741787757,
          1.0035997765121636,
          0.7641687297346123,
          0.9754685856206532,
          1.0314683876251434,
          1.0455183838480409,
          1.0274111254039189,
          0.9932229236010616,
          0.9844517481024146,
          1.1111774130116738,
          1.033372668118735,
          0.9542414507379184,
          1.1384728796496328,
          1.036892977372082,
          1.0392636085724904,
          1.075658200652082,
          1.0972274055818776,
          0.6806596126657141,
          0.7638657078356327,
          0.8162158771121631,
          0.7777597407456736,
          0.739975977602449,
          0.8557362249084899,
          0.7704268516907753,
          0.6833033078661719,
          0.5829630098703433,
          0.667721564344939,
          0.8147260555795919,
          0.7060433942915185,
          0.5737803758520819,
          0.7760629666103833,
          1.346672738998926,
          1.3346149306122446,
          1.1844786566800816,
          1.459457572542857,
          1.6767776600077549,
          2.9925904702040804,
          1.0660752397424482,
          1.0546448049231796,
          1.155827483630505,
          0.829631806122449,
          0.9401145954653058,
          1.197658277365359,
          1.3273639442749732,
          1.79359803277551,
          1.6760422777142856,
          1.0718784467466986,
          1.331634415580408,
          1.5008352506122449,
          1.0590694194318366,
          0.9374467149869794,
          0.9895104325708772,
          1.250686932357992,
          1.2887076430702045,
          1.06716276735698,
          1.1033629659619175,
          0.8390291980881632,
          0.9085518681961222,
          1.2314923214037066,
          0.8247603988639182,
          1.0690765917751759,
          1.0518281031337064,
          1.021419713580612,
          1.019282614338714,
          0.8604940425242287,
          1.1538180817902042,
          0.8375304430064732,
          0.9656875420142856,
          0.8897463286452245
         ],
         "y0": " ",
         "yaxis": "y"
        },
        {
         "alignmentgroup": "True",
         "hovertemplate": "method=MLP<br>dataset=%{x}<br>best_fit=%{y}<extra></extra>",
         "legendgroup": "MLP",
         "marker": {
          "color": "#ab63fa"
         },
         "name": "MLP",
         "notched": false,
         "offsetgroup": "MLP",
         "orientation": "v",
         "showlegend": true,
         "type": "box",
         "x": [
          "20NG",
          "20NG",
          "20NG",
          "20NG",
          "20NG",
          "20NG",
          "20NG",
          "20NG",
          "20NG",
          "20NG",
          "20NG",
          "banners",
          "banners",
          "banners",
          "banners",
          "banners",
          "banners",
          "banners",
          "banners",
          "banners",
          "banners",
          "banners",
          "banners",
          "banners",
          "banners",
          "banners",
          "banners",
          "AR",
          "AR",
          "AR",
          "AR",
          "AR",
          "AR",
          "AR",
          "AR",
          "AR",
          "AR",
          "AR",
          "AR",
          "AR",
          "AR",
          "AR",
          "HR",
          "HR",
          "HR",
          "HR",
          "HR",
          "HR",
          "HR",
          "HR",
          "HR",
          "HR",
          "HR",
          "HR",
          "HR",
          "HR",
          "HR",
          "HR",
          "lenta",
          "lenta",
          "lenta",
          "lenta",
          "lenta",
          "lenta",
          "lenta",
          "lenta",
          "lenta",
          "lenta",
          "lenta",
          "lenta",
          "lenta",
          "lenta"
         ],
         "x0": " ",
         "xaxis": "x",
         "y": [
          0.9538678223970614,
          0.7672355077460574,
          0.4716247741949386,
          0.8792828245489386,
          0.8006562785155102,
          0.7607712726142858,
          0.8957787598208167,
          0.6939481360318528,
          0.7746686254172654,
          0.8785738829593639,
          0.831158099527388,
          1.080739970055347,
          1.0157554397043267,
          1.0593213532133066,
          1.0271334390426945,
          1.034179045423143,
          0.9895798388157548,
          0.9527275574259592,
          0.8565872901890206,
          1.028918761322286,
          0.8969320365140818,
          0.7788384906804491,
          0.9778414000989796,
          0.9631810096809794,
          0.9673914899455514,
          1.0635376773822858,
          1.0137383317598778,
          0.6261973568405391,
          0.7563553015781304,
          0.8130502830371307,
          0.412595782094598,
          0.7817805453353471,
          0.6581856831795592,
          0.6532032634440816,
          0.6315078302520718,
          0.7206996966070189,
          0.6876362523168573,
          0.3929980451564571,
          0.6552909794101713,
          0.8081049603147756,
          0.3812044537767429,
          0.5854443551097959,
          0.8435653454740413,
          1.3531179058956921,
          0.6376168756465023,
          1.294716187755102,
          0.4987632840223344,
          0.9551809638178304,
          1.0765176919727897,
          1.2524014484448975,
          0.9747904105414968,
          1.9907523667265297,
          2.5580218877551006,
          1.0128980051020409,
          1.1111234408204491,
          0.6570178423918085,
          1.13665850393985,
          1.154580782857143,
          0.8392085600434691,
          0.9881309751455305,
          1.376641713469387,
          1.0023321858542855,
          0.951111883084204,
          0.7089831319514694,
          1.107956222522278,
          1.1550911121804084,
          0.9558617617291352,
          1.3265966234075919,
          0.8614531804438204,
          1.2299451170112654,
          0.75022027634796,
          0.9340624858412246
         ],
         "y0": " ",
         "yaxis": "y"
        },
        {
         "alignmentgroup": "True",
         "hovertemplate": "method=RandomForest (0.7)<br>dataset=%{x}<br>best_fit=%{y}<extra></extra>",
         "legendgroup": "RandomForest (0.7)",
         "marker": {
          "color": "#FFA15A"
         },
         "name": "RandomForest (0.7)",
         "notched": false,
         "offsetgroup": "RandomForest (0.7)",
         "orientation": "v",
         "showlegend": true,
         "type": "box",
         "x": [
          "20NG",
          "20NG",
          "20NG",
          "20NG",
          "20NG",
          "20NG",
          "20NG",
          "20NG",
          "20NG",
          "20NG",
          "20NG",
          "20NG",
          "20NG",
          "20NG",
          "20NG",
          "20NG",
          "20NG",
          "20NG",
          "20NG",
          "20NG",
          "banners",
          "banners",
          "banners",
          "banners",
          "banners",
          "banners",
          "banners",
          "banners",
          "banners",
          "banners",
          "banners",
          "banners",
          "banners",
          "banners",
          "banners",
          "banners",
          "banners",
          "banners",
          "banners",
          "banners"
         ],
         "x0": " ",
         "xaxis": "x",
         "y": [
          0.7844922706886123,
          0.9391116966799182,
          0.9329740148951838,
          0.8926775686438371,
          0.7329424837427758,
          0.7227179609654695,
          0.7413769490266942,
          0.7503840684430367,
          0.8104979593290209,
          1.1020180180354289,
          0.8256228280006941,
          0.7150539266221225,
          0.8319762599663676,
          0.9324015398347756,
          0.9556704845838369,
          0.8459177391829392,
          0.9667817522490612,
          0.7352888309608983,
          1.036755171823183,
          0.7193634654823676,
          1.1245400575863678,
          1.0183444910765709,
          1.0295802877088167,
          1.0377024987818777,
          0.9739825104084086,
          1.0522758700178372,
          1.0064223706251432,
          0.9748990780496326,
          0.9939514046243269,
          1.0828480038920818,
          0.9204064253978776,
          0.9964259084626942,
          1.0401283591498776,
          0.9835703798504492,
          0.9225113511228159,
          1.021899393301714,
          1.0512715550562044,
          1.1213498839231022,
          1.029185412406776,
          0.9697939009884492
         ],
         "y0": " ",
         "yaxis": "y"
        }
       ],
       "layout": {
        "boxmode": "group",
        "font": {
         "color": "#7f7f7f",
         "family": "Courier New, monospace",
         "size": 20
        },
        "legend": {
         "title": {
          "text": "method"
         },
         "tracegroupgap": 0
        },
        "margin": {
         "t": 60
        },
        "template": {
         "data": {
          "bar": [
           {
            "error_x": {
             "color": "#2a3f5f"
            },
            "error_y": {
             "color": "#2a3f5f"
            },
            "marker": {
             "line": {
              "color": "white",
              "width": 0.5
             }
            },
            "type": "bar"
           }
          ],
          "barpolar": [
           {
            "marker": {
             "line": {
              "color": "white",
              "width": 0.5
             }
            },
            "type": "barpolar"
           }
          ],
          "carpet": [
           {
            "aaxis": {
             "endlinecolor": "#2a3f5f",
             "gridcolor": "#C8D4E3",
             "linecolor": "#C8D4E3",
             "minorgridcolor": "#C8D4E3",
             "startlinecolor": "#2a3f5f"
            },
            "baxis": {
             "endlinecolor": "#2a3f5f",
             "gridcolor": "#C8D4E3",
             "linecolor": "#C8D4E3",
             "minorgridcolor": "#C8D4E3",
             "startlinecolor": "#2a3f5f"
            },
            "type": "carpet"
           }
          ],
          "choropleth": [
           {
            "colorbar": {
             "outlinewidth": 0,
             "ticks": ""
            },
            "type": "choropleth"
           }
          ],
          "contour": [
           {
            "colorbar": {
             "outlinewidth": 0,
             "ticks": ""
            },
            "colorscale": [
             [
              0,
              "#0d0887"
             ],
             [
              0.1111111111111111,
              "#46039f"
             ],
             [
              0.2222222222222222,
              "#7201a8"
             ],
             [
              0.3333333333333333,
              "#9c179e"
             ],
             [
              0.4444444444444444,
              "#bd3786"
             ],
             [
              0.5555555555555556,
              "#d8576b"
             ],
             [
              0.6666666666666666,
              "#ed7953"
             ],
             [
              0.7777777777777778,
              "#fb9f3a"
             ],
             [
              0.8888888888888888,
              "#fdca26"
             ],
             [
              1,
              "#f0f921"
             ]
            ],
            "type": "contour"
           }
          ],
          "contourcarpet": [
           {
            "colorbar": {
             "outlinewidth": 0,
             "ticks": ""
            },
            "type": "contourcarpet"
           }
          ],
          "heatmap": [
           {
            "colorbar": {
             "outlinewidth": 0,
             "ticks": ""
            },
            "colorscale": [
             [
              0,
              "#0d0887"
             ],
             [
              0.1111111111111111,
              "#46039f"
             ],
             [
              0.2222222222222222,
              "#7201a8"
             ],
             [
              0.3333333333333333,
              "#9c179e"
             ],
             [
              0.4444444444444444,
              "#bd3786"
             ],
             [
              0.5555555555555556,
              "#d8576b"
             ],
             [
              0.6666666666666666,
              "#ed7953"
             ],
             [
              0.7777777777777778,
              "#fb9f3a"
             ],
             [
              0.8888888888888888,
              "#fdca26"
             ],
             [
              1,
              "#f0f921"
             ]
            ],
            "type": "heatmap"
           }
          ],
          "heatmapgl": [
           {
            "colorbar": {
             "outlinewidth": 0,
             "ticks": ""
            },
            "colorscale": [
             [
              0,
              "#0d0887"
             ],
             [
              0.1111111111111111,
              "#46039f"
             ],
             [
              0.2222222222222222,
              "#7201a8"
             ],
             [
              0.3333333333333333,
              "#9c179e"
             ],
             [
              0.4444444444444444,
              "#bd3786"
             ],
             [
              0.5555555555555556,
              "#d8576b"
             ],
             [
              0.6666666666666666,
              "#ed7953"
             ],
             [
              0.7777777777777778,
              "#fb9f3a"
             ],
             [
              0.8888888888888888,
              "#fdca26"
             ],
             [
              1,
              "#f0f921"
             ]
            ],
            "type": "heatmapgl"
           }
          ],
          "histogram": [
           {
            "marker": {
             "colorbar": {
              "outlinewidth": 0,
              "ticks": ""
             }
            },
            "type": "histogram"
           }
          ],
          "histogram2d": [
           {
            "colorbar": {
             "outlinewidth": 0,
             "ticks": ""
            },
            "colorscale": [
             [
              0,
              "#0d0887"
             ],
             [
              0.1111111111111111,
              "#46039f"
             ],
             [
              0.2222222222222222,
              "#7201a8"
             ],
             [
              0.3333333333333333,
              "#9c179e"
             ],
             [
              0.4444444444444444,
              "#bd3786"
             ],
             [
              0.5555555555555556,
              "#d8576b"
             ],
             [
              0.6666666666666666,
              "#ed7953"
             ],
             [
              0.7777777777777778,
              "#fb9f3a"
             ],
             [
              0.8888888888888888,
              "#fdca26"
             ],
             [
              1,
              "#f0f921"
             ]
            ],
            "type": "histogram2d"
           }
          ],
          "histogram2dcontour": [
           {
            "colorbar": {
             "outlinewidth": 0,
             "ticks": ""
            },
            "colorscale": [
             [
              0,
              "#0d0887"
             ],
             [
              0.1111111111111111,
              "#46039f"
             ],
             [
              0.2222222222222222,
              "#7201a8"
             ],
             [
              0.3333333333333333,
              "#9c179e"
             ],
             [
              0.4444444444444444,
              "#bd3786"
             ],
             [
              0.5555555555555556,
              "#d8576b"
             ],
             [
              0.6666666666666666,
              "#ed7953"
             ],
             [
              0.7777777777777778,
              "#fb9f3a"
             ],
             [
              0.8888888888888888,
              "#fdca26"
             ],
             [
              1,
              "#f0f921"
             ]
            ],
            "type": "histogram2dcontour"
           }
          ],
          "mesh3d": [
           {
            "colorbar": {
             "outlinewidth": 0,
             "ticks": ""
            },
            "type": "mesh3d"
           }
          ],
          "parcoords": [
           {
            "line": {
             "colorbar": {
              "outlinewidth": 0,
              "ticks": ""
             }
            },
            "type": "parcoords"
           }
          ],
          "pie": [
           {
            "automargin": true,
            "type": "pie"
           }
          ],
          "scatter": [
           {
            "marker": {
             "colorbar": {
              "outlinewidth": 0,
              "ticks": ""
             }
            },
            "type": "scatter"
           }
          ],
          "scatter3d": [
           {
            "line": {
             "colorbar": {
              "outlinewidth": 0,
              "ticks": ""
             }
            },
            "marker": {
             "colorbar": {
              "outlinewidth": 0,
              "ticks": ""
             }
            },
            "type": "scatter3d"
           }
          ],
          "scattercarpet": [
           {
            "marker": {
             "colorbar": {
              "outlinewidth": 0,
              "ticks": ""
             }
            },
            "type": "scattercarpet"
           }
          ],
          "scattergeo": [
           {
            "marker": {
             "colorbar": {
              "outlinewidth": 0,
              "ticks": ""
             }
            },
            "type": "scattergeo"
           }
          ],
          "scattergl": [
           {
            "marker": {
             "colorbar": {
              "outlinewidth": 0,
              "ticks": ""
             }
            },
            "type": "scattergl"
           }
          ],
          "scattermapbox": [
           {
            "marker": {
             "colorbar": {
              "outlinewidth": 0,
              "ticks": ""
             }
            },
            "type": "scattermapbox"
           }
          ],
          "scatterpolar": [
           {
            "marker": {
             "colorbar": {
              "outlinewidth": 0,
              "ticks": ""
             }
            },
            "type": "scatterpolar"
           }
          ],
          "scatterpolargl": [
           {
            "marker": {
             "colorbar": {
              "outlinewidth": 0,
              "ticks": ""
             }
            },
            "type": "scatterpolargl"
           }
          ],
          "scatterternary": [
           {
            "marker": {
             "colorbar": {
              "outlinewidth": 0,
              "ticks": ""
             }
            },
            "type": "scatterternary"
           }
          ],
          "surface": [
           {
            "colorbar": {
             "outlinewidth": 0,
             "ticks": ""
            },
            "colorscale": [
             [
              0,
              "#0d0887"
             ],
             [
              0.1111111111111111,
              "#46039f"
             ],
             [
              0.2222222222222222,
              "#7201a8"
             ],
             [
              0.3333333333333333,
              "#9c179e"
             ],
             [
              0.4444444444444444,
              "#bd3786"
             ],
             [
              0.5555555555555556,
              "#d8576b"
             ],
             [
              0.6666666666666666,
              "#ed7953"
             ],
             [
              0.7777777777777778,
              "#fb9f3a"
             ],
             [
              0.8888888888888888,
              "#fdca26"
             ],
             [
              1,
              "#f0f921"
             ]
            ],
            "type": "surface"
           }
          ],
          "table": [
           {
            "cells": {
             "fill": {
              "color": "#EBF0F8"
             },
             "line": {
              "color": "white"
             }
            },
            "header": {
             "fill": {
              "color": "#C8D4E3"
             },
             "line": {
              "color": "white"
             }
            },
            "type": "table"
           }
          ]
         },
         "layout": {
          "annotationdefaults": {
           "arrowcolor": "#2a3f5f",
           "arrowhead": 0,
           "arrowwidth": 1
          },
          "coloraxis": {
           "colorbar": {
            "outlinewidth": 0,
            "ticks": ""
           }
          },
          "colorscale": {
           "diverging": [
            [
             0,
             "#8e0152"
            ],
            [
             0.1,
             "#c51b7d"
            ],
            [
             0.2,
             "#de77ae"
            ],
            [
             0.3,
             "#f1b6da"
            ],
            [
             0.4,
             "#fde0ef"
            ],
            [
             0.5,
             "#f7f7f7"
            ],
            [
             0.6,
             "#e6f5d0"
            ],
            [
             0.7,
             "#b8e186"
            ],
            [
             0.8,
             "#7fbc41"
            ],
            [
             0.9,
             "#4d9221"
            ],
            [
             1,
             "#276419"
            ]
           ],
           "sequential": [
            [
             0,
             "#0d0887"
            ],
            [
             0.1111111111111111,
             "#46039f"
            ],
            [
             0.2222222222222222,
             "#7201a8"
            ],
            [
             0.3333333333333333,
             "#9c179e"
            ],
            [
             0.4444444444444444,
             "#bd3786"
            ],
            [
             0.5555555555555556,
             "#d8576b"
            ],
            [
             0.6666666666666666,
             "#ed7953"
            ],
            [
             0.7777777777777778,
             "#fb9f3a"
            ],
            [
             0.8888888888888888,
             "#fdca26"
            ],
            [
             1,
             "#f0f921"
            ]
           ],
           "sequentialminus": [
            [
             0,
             "#0d0887"
            ],
            [
             0.1111111111111111,
             "#46039f"
            ],
            [
             0.2222222222222222,
             "#7201a8"
            ],
            [
             0.3333333333333333,
             "#9c179e"
            ],
            [
             0.4444444444444444,
             "#bd3786"
            ],
            [
             0.5555555555555556,
             "#d8576b"
            ],
            [
             0.6666666666666666,
             "#ed7953"
            ],
            [
             0.7777777777777778,
             "#fb9f3a"
            ],
            [
             0.8888888888888888,
             "#fdca26"
            ],
            [
             1,
             "#f0f921"
            ]
           ]
          },
          "colorway": [
           "#636efa",
           "#EF553B",
           "#00cc96",
           "#ab63fa",
           "#FFA15A",
           "#19d3f3",
           "#FF6692",
           "#B6E880",
           "#FF97FF",
           "#FECB52"
          ],
          "font": {
           "color": "#2a3f5f"
          },
          "geo": {
           "bgcolor": "white",
           "lakecolor": "white",
           "landcolor": "white",
           "showlakes": true,
           "showland": true,
           "subunitcolor": "#C8D4E3"
          },
          "hoverlabel": {
           "align": "left"
          },
          "hovermode": "closest",
          "mapbox": {
           "style": "light"
          },
          "paper_bgcolor": "white",
          "plot_bgcolor": "white",
          "polar": {
           "angularaxis": {
            "gridcolor": "#EBF0F8",
            "linecolor": "#EBF0F8",
            "ticks": ""
           },
           "bgcolor": "white",
           "radialaxis": {
            "gridcolor": "#EBF0F8",
            "linecolor": "#EBF0F8",
            "ticks": ""
           }
          },
          "scene": {
           "xaxis": {
            "backgroundcolor": "white",
            "gridcolor": "#DFE8F3",
            "gridwidth": 2,
            "linecolor": "#EBF0F8",
            "showbackground": true,
            "ticks": "",
            "zerolinecolor": "#EBF0F8"
           },
           "yaxis": {
            "backgroundcolor": "white",
            "gridcolor": "#DFE8F3",
            "gridwidth": 2,
            "linecolor": "#EBF0F8",
            "showbackground": true,
            "ticks": "",
            "zerolinecolor": "#EBF0F8"
           },
           "zaxis": {
            "backgroundcolor": "white",
            "gridcolor": "#DFE8F3",
            "gridwidth": 2,
            "linecolor": "#EBF0F8",
            "showbackground": true,
            "ticks": "",
            "zerolinecolor": "#EBF0F8"
           }
          },
          "shapedefaults": {
           "line": {
            "color": "#2a3f5f"
           }
          },
          "ternary": {
           "aaxis": {
            "gridcolor": "#DFE8F3",
            "linecolor": "#A2B1C6",
            "ticks": ""
           },
           "baxis": {
            "gridcolor": "#DFE8F3",
            "linecolor": "#A2B1C6",
            "ticks": ""
           },
           "bgcolor": "white",
           "caxis": {
            "gridcolor": "#DFE8F3",
            "linecolor": "#A2B1C6",
            "ticks": ""
           }
          },
          "title": {
           "x": 0.05
          },
          "xaxis": {
           "automargin": true,
           "gridcolor": "#EBF0F8",
           "linecolor": "#EBF0F8",
           "ticks": "",
           "title": {
            "standoff": 15
           },
           "zerolinecolor": "#EBF0F8",
           "zerolinewidth": 2
          },
          "yaxis": {
           "automargin": true,
           "gridcolor": "#EBF0F8",
           "linecolor": "#EBF0F8",
           "ticks": "",
           "title": {
            "standoff": 15
           },
           "zerolinecolor": "#EBF0F8",
           "zerolinewidth": 2
          }
         }
        },
        "xaxis": {
         "anchor": "y",
         "domain": [
          0,
          1
         ],
         "title": {
          "text": "Datasets"
         }
        },
        "yaxis": {
         "anchor": "x",
         "domain": [
          0,
          1
         ],
         "title": {
          "text": "Quality Estimation"
         }
        }
       }
      },
      "text/html": [
       "<div>\n",
       "        \n",
       "        \n",
       "            <div id=\"cac59c4b-5433-4180-aeaf-54b10a7f3fc1\" class=\"plotly-graph-div\" style=\"height:525px; width:100%;\"></div>\n",
       "            <script type=\"text/javascript\">\n",
       "                require([\"plotly\"], function(Plotly) {\n",
       "                    window.PLOTLYENV=window.PLOTLYENV || {};\n",
       "                    \n",
       "                if (document.getElementById(\"cac59c4b-5433-4180-aeaf-54b10a7f3fc1\")) {\n",
       "                    Plotly.newPlot(\n",
       "                        'cac59c4b-5433-4180-aeaf-54b10a7f3fc1',\n",
       "                        [{\"alignmentgroup\": \"True\", \"hovertemplate\": \"method=RandomForest<br>dataset=%{x}<br>best_fit=%{y}<extra></extra>\", \"legendgroup\": \"RandomForest\", \"marker\": {\"color\": \"#636efa\"}, \"name\": \"RandomForest\", \"notched\": false, \"offsetgroup\": \"RandomForest\", \"orientation\": \"v\", \"showlegend\": true, \"type\": \"box\", \"x\": [\"banners\", \"banners\", \"banners\", \"banners\", \"banners\", \"banners\", \"banners\", \"banners\", \"banners\", \"banners\", \"banners\", \"banners\", \"banners\", \"banners\", \"banners\", \"lenta\", \"lenta\", \"lenta\", \"lenta\", \"lenta\", \"lenta\", \"lenta\", \"lenta\", \"lenta\", \"lenta\", \"lenta\", \"lenta\", \"lenta\", \"lenta\", \"lenta\", \"AR\", \"AR\", \"AR\", \"AR\", \"AR\", \"AR\", \"AR\", \"AR\", \"AR\", \"AR\", \"AR\", \"AR\", \"AR\", \"AR\", \"AR\", \"AR\", \"AR\", \"AR\", \"AR\", \"AR\", \"AR\", \"20NG\", \"20NG\", \"20NG\", \"20NG\", \"20NG\", \"20NG\", \"20NG\", \"20NG\", \"20NG\", \"20NG\", \"20NG\", \"20NG\", \"20NG\", \"20NG\", \"20NG\", \"HR\", \"HR\", \"HR\", \"HR\", \"HR\", \"HR\", \"HR\", \"HR\", \"HR\", \"HR\", \"HR\", \"HR\", \"HR\", \"HR\", \"HR\", \"HR\", \"HR\", \"HR\", \"HR\", \"HR\", \"HR\", \"HR\", \"HR\", \"HR\", \"HR\", \"HR\", \"HR\"], \"x0\": \" \", \"xaxis\": \"x\", \"y\": [0.9851830003257958, 1.0577108142308576, 1.0203815202231024, 0.9724271973822448, 1.0883579802418777, 0.9410967361075144, 0.963200416047184, 1.0255667433728979, 1.0033086950394283, 1.0312258072222693, 1.006086938846776, 0.9128390871251428, 0.9471124149782041, 1.0031431273651428, 1.0280563243206942, 1.1878112711877145, 0.9715830351406732, 1.2871682737338372, 0.9509766639056654, 1.001454382090163, 0.9888093350926124, 0.9971829792581832, 1.3737979871822774, 1.3166524432925042, 0.7182035048680411, 1.2107309988250219, 1.1426550234406532, 1.2920887907049303, 1.0663113975489793, 1.2051133736734323, 0.8085745502822078, 0.8626964963293879, 0.7424561316352244, 0.7525895524277142, 0.6584979655792652, 0.6428593058154777, 0.7614587971020408, 0.6631269015750897, 0.7690081432665962, 0.7424060536566922, 0.4387808099484694, 0.7062831481318368, 0.6781182807386124, 0.7337707934612088, 0.7120746024418242, 0.5867250308675594, 0.8203579616253063, 0.6886068336008162, 0.7496837971088163, 0.7106557508223523, 0.5569802275239999, 0.8529725728510613, 0.9362671046879188, 0.9845963629558372, 1.0662462778726531, 0.9779255135933476, 0.8734305632452652, 0.7638991807966125, 0.9370224487513878, 0.9331003431242856, 1.032390365123184, 0.8163175498963673, 0.8766480688400817, 0.8043203771409796, 0.8054077264302044, 1.0115012490729798, 1.7287359653061225, 1.3003319281414971, 0.6622621636046941, 0.8052493756161636, 1.625752235061225, 1.1469939345918374, 1.7287359653061225, 1.3003319281414971, 0.6622621636046941, 0.8052493756161636, 1.625752235061225, 1.1469939345918374, 0.8736986471655329, 0.828000710070522, 1.1158609116926772, 1.356054478801045, 1.1519628052275128, 1.8204933164620407, 1.3481127419362695, 1.2913284640261342, 1.5546185461632656, 1.6953949795714287, 1.4457915210436731, 1.8328302941746941, 0.9423953801500136, 1.2577916782622536, 1.183161807154694], \"y0\": \" \", \"yaxis\": \"y\"}, {\"alignmentgroup\": \"True\", \"hovertemplate\": \"method=GaussianProcess<br>dataset=%{x}<br>best_fit=%{y}<extra></extra>\", \"legendgroup\": \"GaussianProcess\", \"marker\": {\"color\": \"#EF553B\"}, \"name\": \"GaussianProcess\", \"notched\": false, \"offsetgroup\": \"GaussianProcess\", \"orientation\": \"v\", \"showlegend\": true, \"type\": \"box\", \"x\": [\"20NG\", \"20NG\", \"20NG\", \"20NG\", \"20NG\", \"20NG\", \"20NG\", \"20NG\", \"20NG\", \"20NG\", \"20NG\", \"20NG\", \"20NG\", \"20NG\", \"banners\", \"banners\", \"banners\", \"banners\", \"banners\", \"banners\", \"banners\", \"banners\", \"banners\", \"banners\", \"banners\", \"banners\", \"banners\", \"banners\", \"banners\", \"HR\", \"HR\", \"HR\", \"HR\", \"HR\", \"HR\", \"HR\", \"HR\", \"HR\", \"HR\", \"HR\", \"HR\", \"HR\", \"HR\", \"AR\", \"AR\", \"AR\", \"AR\", \"AR\", \"AR\", \"AR\", \"AR\", \"AR\", \"AR\", \"AR\", \"AR\", \"AR\", \"AR\", \"AR\", \"lenta\", \"lenta\", \"lenta\", \"lenta\", \"lenta\", \"lenta\", \"lenta\", \"lenta\", \"lenta\", \"lenta\", \"lenta\", \"lenta\", \"lenta\", \"lenta\", \"lenta\", \"lenta\", \"lenta\", \"lenta\", \"lenta\"], \"x0\": \" \", \"xaxis\": \"x\", \"y\": [0.9283016086746124, 0.8175196488215509, 0.7928823628942856, 0.7609907640097959, 0.9359561791411428, 0.8502493819862451, 0.8142621125796733, 0.9308374720064492, 0.8369997395588981, 0.9168761862987757, 0.9376092350680818, 0.8937310335900002, 0.8435979220152651, 0.971191231744735, 0.9273339491810612, 0.9841522752728984, 1.0233023944818778, 0.970369783782694, 1.026952881482286, 0.9404219706884084, 1.006191140896204, 1.0696107429747344, 1.0636814441941227, 1.016759507190694, 1.0456156244055512, 0.980771999207306, 1.0102038298651437, 0.9670951653137142, 1.068885374738204, 1.3383548234014089, 1.3664619429959184, 1.3513882726530615, 1.1418565689750566, 1.251610566284135, 1.2750624602721092, 2.2863251587951026, 1.3114892522433188, 1.3166452297959184, 1.6175663515265308, 0.5625336010204088, 0.7646656962122451, 1.264537219342642, 0.7985226304875104, 0.6577499537660899, 0.7173313621757959, 0.5794886558806287, 0.6277642394479184, 0.6981637850151021, 0.7101916336647836, 0.6075869222993875, 0.8476830537706119, 0.701866969153641, 0.8032016792458161, 0.6021013283311427, 0.6705845970946123, 0.7332420350035511, 0.8027944828632694, 0.6530550599005307, 0.9520090807809718, 0.9537374558432652, 0.8905976650257884, 0.9382524041419188, 1.1623316118774285, 1.0999657980486532, 1.306305749544898, 1.0061577575431555, 0.9035753341235916, 1.29438916296151, 1.2699380561425635, 0.8275980814236734, 0.7533746379206122, 0.9966504797620408, 1.066198753161347, 1.1788217151134286, 1.2815864112501631, 0.892036802029796, 0.9579361626693879], \"y0\": \" \", \"yaxis\": \"y\"}, {\"alignmentgroup\": \"True\", \"hovertemplate\": \"method=SVR<br>dataset=%{x}<br>best_fit=%{y}<extra></extra>\", \"legendgroup\": \"SVR\", \"marker\": {\"color\": \"#00cc96\"}, \"name\": \"SVR\", \"notched\": false, \"offsetgroup\": \"SVR\", \"orientation\": \"v\", \"showlegend\": true, \"type\": \"box\", \"x\": [\"20NG\", \"20NG\", \"20NG\", \"20NG\", \"20NG\", \"20NG\", \"20NG\", \"20NG\", \"20NG\", \"20NG\", \"20NG\", \"20NG\", \"20NG\", \"banners\", \"banners\", \"banners\", \"banners\", \"banners\", \"banners\", \"banners\", \"banners\", \"banners\", \"banners\", \"banners\", \"banners\", \"banners\", \"banners\", \"AR\", \"AR\", \"AR\", \"AR\", \"AR\", \"AR\", \"AR\", \"AR\", \"AR\", \"AR\", \"AR\", \"AR\", \"AR\", \"AR\", \"HR\", \"HR\", \"HR\", \"HR\", \"HR\", \"HR\", \"HR\", \"HR\", \"HR\", \"HR\", \"HR\", \"HR\", \"HR\", \"HR\", \"HR\", \"HR\", \"HR\", \"HR\", \"lenta\", \"lenta\", \"lenta\", \"lenta\", \"lenta\", \"lenta\", \"lenta\", \"lenta\", \"lenta\", \"lenta\", \"lenta\", \"lenta\", \"lenta\", \"lenta\", \"lenta\", \"lenta\", \"lenta\", \"lenta\", \"lenta\", \"lenta\"], \"x0\": \" \", \"xaxis\": \"x\", \"y\": [0.7858616841029797, 0.7986467266342042, 1.019197395524, 0.8421862605717958, 0.8835965123897961, 0.8631133412866938, 0.9335501011926532, 0.8596201463253059, 0.9513764936407348, 0.9409290871795102, 0.7421272741787757, 1.0035997765121636, 0.7641687297346123, 0.9754685856206532, 1.0314683876251434, 1.0455183838480409, 1.0274111254039189, 0.9932229236010616, 0.9844517481024146, 1.1111774130116738, 1.033372668118735, 0.9542414507379184, 1.1384728796496328, 1.036892977372082, 1.0392636085724904, 1.075658200652082, 1.0972274055818776, 0.6806596126657141, 0.7638657078356327, 0.8162158771121631, 0.7777597407456736, 0.739975977602449, 0.8557362249084899, 0.7704268516907753, 0.6833033078661719, 0.5829630098703433, 0.667721564344939, 0.8147260555795919, 0.7060433942915185, 0.5737803758520819, 0.7760629666103833, 1.346672738998926, 1.3346149306122446, 1.1844786566800816, 1.459457572542857, 1.6767776600077549, 2.9925904702040804, 1.0660752397424482, 1.0546448049231796, 1.155827483630505, 0.829631806122449, 0.9401145954653058, 1.197658277365359, 1.3273639442749732, 1.79359803277551, 1.6760422777142856, 1.0718784467466986, 1.331634415580408, 1.5008352506122449, 1.0590694194318366, 0.9374467149869794, 0.9895104325708772, 1.250686932357992, 1.2887076430702045, 1.06716276735698, 1.1033629659619175, 0.8390291980881632, 0.9085518681961222, 1.2314923214037066, 0.8247603988639182, 1.0690765917751759, 1.0518281031337064, 1.021419713580612, 1.019282614338714, 0.8604940425242287, 1.1538180817902042, 0.8375304430064732, 0.9656875420142856, 0.8897463286452245], \"y0\": \" \", \"yaxis\": \"y\"}, {\"alignmentgroup\": \"True\", \"hovertemplate\": \"method=MLP<br>dataset=%{x}<br>best_fit=%{y}<extra></extra>\", \"legendgroup\": \"MLP\", \"marker\": {\"color\": \"#ab63fa\"}, \"name\": \"MLP\", \"notched\": false, \"offsetgroup\": \"MLP\", \"orientation\": \"v\", \"showlegend\": true, \"type\": \"box\", \"x\": [\"20NG\", \"20NG\", \"20NG\", \"20NG\", \"20NG\", \"20NG\", \"20NG\", \"20NG\", \"20NG\", \"20NG\", \"20NG\", \"banners\", \"banners\", \"banners\", \"banners\", \"banners\", \"banners\", \"banners\", \"banners\", \"banners\", \"banners\", \"banners\", \"banners\", \"banners\", \"banners\", \"banners\", \"banners\", \"AR\", \"AR\", \"AR\", \"AR\", \"AR\", \"AR\", \"AR\", \"AR\", \"AR\", \"AR\", \"AR\", \"AR\", \"AR\", \"AR\", \"AR\", \"HR\", \"HR\", \"HR\", \"HR\", \"HR\", \"HR\", \"HR\", \"HR\", \"HR\", \"HR\", \"HR\", \"HR\", \"HR\", \"HR\", \"HR\", \"HR\", \"lenta\", \"lenta\", \"lenta\", \"lenta\", \"lenta\", \"lenta\", \"lenta\", \"lenta\", \"lenta\", \"lenta\", \"lenta\", \"lenta\", \"lenta\", \"lenta\"], \"x0\": \" \", \"xaxis\": \"x\", \"y\": [0.9538678223970614, 0.7672355077460574, 0.4716247741949386, 0.8792828245489386, 0.8006562785155102, 0.7607712726142858, 0.8957787598208167, 0.6939481360318528, 0.7746686254172654, 0.8785738829593639, 0.831158099527388, 1.080739970055347, 1.0157554397043267, 1.0593213532133066, 1.0271334390426945, 1.034179045423143, 0.9895798388157548, 0.9527275574259592, 0.8565872901890206, 1.028918761322286, 0.8969320365140818, 0.7788384906804491, 0.9778414000989796, 0.9631810096809794, 0.9673914899455514, 1.0635376773822858, 1.0137383317598778, 0.6261973568405391, 0.7563553015781304, 0.8130502830371307, 0.412595782094598, 0.7817805453353471, 0.6581856831795592, 0.6532032634440816, 0.6315078302520718, 0.7206996966070189, 0.6876362523168573, 0.3929980451564571, 0.6552909794101713, 0.8081049603147756, 0.3812044537767429, 0.5854443551097959, 0.8435653454740413, 1.3531179058956921, 0.6376168756465023, 1.294716187755102, 0.4987632840223344, 0.9551809638178304, 1.0765176919727897, 1.2524014484448975, 0.9747904105414968, 1.9907523667265297, 2.5580218877551006, 1.0128980051020409, 1.1111234408204491, 0.6570178423918085, 1.13665850393985, 1.154580782857143, 0.8392085600434691, 0.9881309751455305, 1.376641713469387, 1.0023321858542855, 0.951111883084204, 0.7089831319514694, 1.107956222522278, 1.1550911121804084, 0.9558617617291352, 1.3265966234075919, 0.8614531804438204, 1.2299451170112654, 0.75022027634796, 0.9340624858412246], \"y0\": \" \", \"yaxis\": \"y\"}, {\"alignmentgroup\": \"True\", \"hovertemplate\": \"method=RandomForest (0.7)<br>dataset=%{x}<br>best_fit=%{y}<extra></extra>\", \"legendgroup\": \"RandomForest (0.7)\", \"marker\": {\"color\": \"#FFA15A\"}, \"name\": \"RandomForest (0.7)\", \"notched\": false, \"offsetgroup\": \"RandomForest (0.7)\", \"orientation\": \"v\", \"showlegend\": true, \"type\": \"box\", \"x\": [\"20NG\", \"20NG\", \"20NG\", \"20NG\", \"20NG\", \"20NG\", \"20NG\", \"20NG\", \"20NG\", \"20NG\", \"20NG\", \"20NG\", \"20NG\", \"20NG\", \"20NG\", \"20NG\", \"20NG\", \"20NG\", \"20NG\", \"20NG\", \"banners\", \"banners\", \"banners\", \"banners\", \"banners\", \"banners\", \"banners\", \"banners\", \"banners\", \"banners\", \"banners\", \"banners\", \"banners\", \"banners\", \"banners\", \"banners\", \"banners\", \"banners\", \"banners\", \"banners\"], \"x0\": \" \", \"xaxis\": \"x\", \"y\": [0.7844922706886123, 0.9391116966799182, 0.9329740148951838, 0.8926775686438371, 0.7329424837427758, 0.7227179609654695, 0.7413769490266942, 0.7503840684430367, 0.8104979593290209, 1.1020180180354289, 0.8256228280006941, 0.7150539266221225, 0.8319762599663676, 0.9324015398347756, 0.9556704845838369, 0.8459177391829392, 0.9667817522490612, 0.7352888309608983, 1.036755171823183, 0.7193634654823676, 1.1245400575863678, 1.0183444910765709, 1.0295802877088167, 1.0377024987818777, 0.9739825104084086, 1.0522758700178372, 1.0064223706251432, 0.9748990780496326, 0.9939514046243269, 1.0828480038920818, 0.9204064253978776, 0.9964259084626942, 1.0401283591498776, 0.9835703798504492, 0.9225113511228159, 1.021899393301714, 1.0512715550562044, 1.1213498839231022, 1.029185412406776, 0.9697939009884492], \"y0\": \" \", \"yaxis\": \"y\"}],\n",
       "                        {\"boxmode\": \"group\", \"font\": {\"color\": \"#7f7f7f\", \"family\": \"Courier New, monospace\", \"size\": 20}, \"legend\": {\"title\": {\"text\": \"method\"}, \"tracegroupgap\": 0}, \"margin\": {\"t\": 60}, \"template\": {\"data\": {\"bar\": [{\"error_x\": {\"color\": \"#2a3f5f\"}, \"error_y\": {\"color\": \"#2a3f5f\"}, \"marker\": {\"line\": {\"color\": \"white\", \"width\": 0.5}}, \"type\": \"bar\"}], \"barpolar\": [{\"marker\": {\"line\": {\"color\": \"white\", \"width\": 0.5}}, \"type\": \"barpolar\"}], \"carpet\": [{\"aaxis\": {\"endlinecolor\": \"#2a3f5f\", \"gridcolor\": \"#C8D4E3\", \"linecolor\": \"#C8D4E3\", \"minorgridcolor\": \"#C8D4E3\", \"startlinecolor\": \"#2a3f5f\"}, \"baxis\": {\"endlinecolor\": \"#2a3f5f\", \"gridcolor\": \"#C8D4E3\", \"linecolor\": \"#C8D4E3\", \"minorgridcolor\": \"#C8D4E3\", \"startlinecolor\": \"#2a3f5f\"}, \"type\": \"carpet\"}], \"choropleth\": [{\"colorbar\": {\"outlinewidth\": 0, \"ticks\": \"\"}, \"type\": \"choropleth\"}], \"contour\": [{\"colorbar\": {\"outlinewidth\": 0, \"ticks\": \"\"}, \"colorscale\": [[0.0, \"#0d0887\"], [0.1111111111111111, \"#46039f\"], [0.2222222222222222, \"#7201a8\"], [0.3333333333333333, \"#9c179e\"], [0.4444444444444444, \"#bd3786\"], [0.5555555555555556, \"#d8576b\"], [0.6666666666666666, \"#ed7953\"], [0.7777777777777778, \"#fb9f3a\"], [0.8888888888888888, \"#fdca26\"], [1.0, \"#f0f921\"]], \"type\": \"contour\"}], \"contourcarpet\": [{\"colorbar\": {\"outlinewidth\": 0, \"ticks\": \"\"}, \"type\": \"contourcarpet\"}], \"heatmap\": [{\"colorbar\": {\"outlinewidth\": 0, \"ticks\": \"\"}, \"colorscale\": [[0.0, \"#0d0887\"], [0.1111111111111111, \"#46039f\"], [0.2222222222222222, \"#7201a8\"], [0.3333333333333333, \"#9c179e\"], [0.4444444444444444, \"#bd3786\"], [0.5555555555555556, \"#d8576b\"], [0.6666666666666666, \"#ed7953\"], [0.7777777777777778, \"#fb9f3a\"], [0.8888888888888888, \"#fdca26\"], [1.0, \"#f0f921\"]], \"type\": \"heatmap\"}], \"heatmapgl\": [{\"colorbar\": {\"outlinewidth\": 0, \"ticks\": \"\"}, \"colorscale\": [[0.0, \"#0d0887\"], [0.1111111111111111, \"#46039f\"], [0.2222222222222222, \"#7201a8\"], [0.3333333333333333, \"#9c179e\"], [0.4444444444444444, \"#bd3786\"], [0.5555555555555556, \"#d8576b\"], [0.6666666666666666, \"#ed7953\"], [0.7777777777777778, \"#fb9f3a\"], [0.8888888888888888, \"#fdca26\"], [1.0, \"#f0f921\"]], \"type\": \"heatmapgl\"}], \"histogram\": [{\"marker\": {\"colorbar\": {\"outlinewidth\": 0, \"ticks\": \"\"}}, \"type\": \"histogram\"}], \"histogram2d\": [{\"colorbar\": {\"outlinewidth\": 0, \"ticks\": \"\"}, \"colorscale\": [[0.0, \"#0d0887\"], [0.1111111111111111, \"#46039f\"], [0.2222222222222222, \"#7201a8\"], [0.3333333333333333, \"#9c179e\"], [0.4444444444444444, \"#bd3786\"], [0.5555555555555556, \"#d8576b\"], [0.6666666666666666, \"#ed7953\"], [0.7777777777777778, \"#fb9f3a\"], [0.8888888888888888, \"#fdca26\"], [1.0, \"#f0f921\"]], \"type\": \"histogram2d\"}], \"histogram2dcontour\": [{\"colorbar\": {\"outlinewidth\": 0, \"ticks\": \"\"}, \"colorscale\": [[0.0, \"#0d0887\"], [0.1111111111111111, \"#46039f\"], [0.2222222222222222, \"#7201a8\"], [0.3333333333333333, \"#9c179e\"], [0.4444444444444444, \"#bd3786\"], [0.5555555555555556, \"#d8576b\"], [0.6666666666666666, \"#ed7953\"], [0.7777777777777778, \"#fb9f3a\"], [0.8888888888888888, \"#fdca26\"], [1.0, \"#f0f921\"]], \"type\": \"histogram2dcontour\"}], \"mesh3d\": [{\"colorbar\": {\"outlinewidth\": 0, \"ticks\": \"\"}, \"type\": \"mesh3d\"}], \"parcoords\": [{\"line\": {\"colorbar\": {\"outlinewidth\": 0, \"ticks\": \"\"}}, \"type\": \"parcoords\"}], \"pie\": [{\"automargin\": true, \"type\": \"pie\"}], \"scatter\": [{\"marker\": {\"colorbar\": {\"outlinewidth\": 0, \"ticks\": \"\"}}, \"type\": \"scatter\"}], \"scatter3d\": [{\"line\": {\"colorbar\": {\"outlinewidth\": 0, \"ticks\": \"\"}}, \"marker\": {\"colorbar\": {\"outlinewidth\": 0, \"ticks\": \"\"}}, \"type\": \"scatter3d\"}], \"scattercarpet\": [{\"marker\": {\"colorbar\": {\"outlinewidth\": 0, \"ticks\": \"\"}}, \"type\": \"scattercarpet\"}], \"scattergeo\": [{\"marker\": {\"colorbar\": {\"outlinewidth\": 0, \"ticks\": \"\"}}, \"type\": \"scattergeo\"}], \"scattergl\": [{\"marker\": {\"colorbar\": {\"outlinewidth\": 0, \"ticks\": \"\"}}, \"type\": \"scattergl\"}], \"scattermapbox\": [{\"marker\": {\"colorbar\": {\"outlinewidth\": 0, \"ticks\": \"\"}}, \"type\": \"scattermapbox\"}], \"scatterpolar\": [{\"marker\": {\"colorbar\": {\"outlinewidth\": 0, \"ticks\": \"\"}}, \"type\": \"scatterpolar\"}], \"scatterpolargl\": [{\"marker\": {\"colorbar\": {\"outlinewidth\": 0, \"ticks\": \"\"}}, \"type\": \"scatterpolargl\"}], \"scatterternary\": [{\"marker\": {\"colorbar\": {\"outlinewidth\": 0, \"ticks\": \"\"}}, \"type\": \"scatterternary\"}], \"surface\": [{\"colorbar\": {\"outlinewidth\": 0, \"ticks\": \"\"}, \"colorscale\": [[0.0, \"#0d0887\"], [0.1111111111111111, \"#46039f\"], [0.2222222222222222, \"#7201a8\"], [0.3333333333333333, \"#9c179e\"], [0.4444444444444444, \"#bd3786\"], [0.5555555555555556, \"#d8576b\"], [0.6666666666666666, \"#ed7953\"], [0.7777777777777778, \"#fb9f3a\"], [0.8888888888888888, \"#fdca26\"], [1.0, \"#f0f921\"]], \"type\": \"surface\"}], \"table\": [{\"cells\": {\"fill\": {\"color\": \"#EBF0F8\"}, \"line\": {\"color\": \"white\"}}, \"header\": {\"fill\": {\"color\": \"#C8D4E3\"}, \"line\": {\"color\": \"white\"}}, \"type\": \"table\"}]}, \"layout\": {\"annotationdefaults\": {\"arrowcolor\": \"#2a3f5f\", \"arrowhead\": 0, \"arrowwidth\": 1}, \"coloraxis\": {\"colorbar\": {\"outlinewidth\": 0, \"ticks\": \"\"}}, \"colorscale\": {\"diverging\": [[0, \"#8e0152\"], [0.1, \"#c51b7d\"], [0.2, \"#de77ae\"], [0.3, \"#f1b6da\"], [0.4, \"#fde0ef\"], [0.5, \"#f7f7f7\"], [0.6, \"#e6f5d0\"], [0.7, \"#b8e186\"], [0.8, \"#7fbc41\"], [0.9, \"#4d9221\"], [1, \"#276419\"]], \"sequential\": [[0.0, \"#0d0887\"], [0.1111111111111111, \"#46039f\"], [0.2222222222222222, \"#7201a8\"], [0.3333333333333333, \"#9c179e\"], [0.4444444444444444, \"#bd3786\"], [0.5555555555555556, \"#d8576b\"], [0.6666666666666666, \"#ed7953\"], [0.7777777777777778, \"#fb9f3a\"], [0.8888888888888888, \"#fdca26\"], [1.0, \"#f0f921\"]], \"sequentialminus\": [[0.0, \"#0d0887\"], [0.1111111111111111, \"#46039f\"], [0.2222222222222222, \"#7201a8\"], [0.3333333333333333, \"#9c179e\"], [0.4444444444444444, \"#bd3786\"], [0.5555555555555556, \"#d8576b\"], [0.6666666666666666, \"#ed7953\"], [0.7777777777777778, \"#fb9f3a\"], [0.8888888888888888, \"#fdca26\"], [1.0, \"#f0f921\"]]}, \"colorway\": [\"#636efa\", \"#EF553B\", \"#00cc96\", \"#ab63fa\", \"#FFA15A\", \"#19d3f3\", \"#FF6692\", \"#B6E880\", \"#FF97FF\", \"#FECB52\"], \"font\": {\"color\": \"#2a3f5f\"}, \"geo\": {\"bgcolor\": \"white\", \"lakecolor\": \"white\", \"landcolor\": \"white\", \"showlakes\": true, \"showland\": true, \"subunitcolor\": \"#C8D4E3\"}, \"hoverlabel\": {\"align\": \"left\"}, \"hovermode\": \"closest\", \"mapbox\": {\"style\": \"light\"}, \"paper_bgcolor\": \"white\", \"plot_bgcolor\": \"white\", \"polar\": {\"angularaxis\": {\"gridcolor\": \"#EBF0F8\", \"linecolor\": \"#EBF0F8\", \"ticks\": \"\"}, \"bgcolor\": \"white\", \"radialaxis\": {\"gridcolor\": \"#EBF0F8\", \"linecolor\": \"#EBF0F8\", \"ticks\": \"\"}}, \"scene\": {\"xaxis\": {\"backgroundcolor\": \"white\", \"gridcolor\": \"#DFE8F3\", \"gridwidth\": 2, \"linecolor\": \"#EBF0F8\", \"showbackground\": true, \"ticks\": \"\", \"zerolinecolor\": \"#EBF0F8\"}, \"yaxis\": {\"backgroundcolor\": \"white\", \"gridcolor\": \"#DFE8F3\", \"gridwidth\": 2, \"linecolor\": \"#EBF0F8\", \"showbackground\": true, \"ticks\": \"\", \"zerolinecolor\": \"#EBF0F8\"}, \"zaxis\": {\"backgroundcolor\": \"white\", \"gridcolor\": \"#DFE8F3\", \"gridwidth\": 2, \"linecolor\": \"#EBF0F8\", \"showbackground\": true, \"ticks\": \"\", \"zerolinecolor\": \"#EBF0F8\"}}, \"shapedefaults\": {\"line\": {\"color\": \"#2a3f5f\"}}, \"ternary\": {\"aaxis\": {\"gridcolor\": \"#DFE8F3\", \"linecolor\": \"#A2B1C6\", \"ticks\": \"\"}, \"baxis\": {\"gridcolor\": \"#DFE8F3\", \"linecolor\": \"#A2B1C6\", \"ticks\": \"\"}, \"bgcolor\": \"white\", \"caxis\": {\"gridcolor\": \"#DFE8F3\", \"linecolor\": \"#A2B1C6\", \"ticks\": \"\"}}, \"title\": {\"x\": 0.05}, \"xaxis\": {\"automargin\": true, \"gridcolor\": \"#EBF0F8\", \"linecolor\": \"#EBF0F8\", \"ticks\": \"\", \"title\": {\"standoff\": 15}, \"zerolinecolor\": \"#EBF0F8\", \"zerolinewidth\": 2}, \"yaxis\": {\"automargin\": true, \"gridcolor\": \"#EBF0F8\", \"linecolor\": \"#EBF0F8\", \"ticks\": \"\", \"title\": {\"standoff\": 15}, \"zerolinecolor\": \"#EBF0F8\", \"zerolinewidth\": 2}}}, \"xaxis\": {\"anchor\": \"y\", \"domain\": [0.0, 1.0], \"title\": {\"text\": \"Datasets\"}}, \"yaxis\": {\"anchor\": \"x\", \"domain\": [0.0, 1.0], \"title\": {\"text\": \"Quality Estimation\"}}},\n",
       "                        {\"responsive\": true}\n",
       "                    ).then(function(){\n",
       "                            \n",
       "var gd = document.getElementById('cac59c4b-5433-4180-aeaf-54b10a7f3fc1');\n",
       "var x = new MutationObserver(function (mutations, observer) {{\n",
       "        var display = window.getComputedStyle(gd).display;\n",
       "        if (!display || display === 'none') {{\n",
       "            console.log([gd, 'removed!']);\n",
       "            Plotly.purge(gd);\n",
       "            observer.disconnect();\n",
       "        }}\n",
       "}});\n",
       "\n",
       "// Listen for the removal of the full notebook cells\n",
       "var notebookContainer = gd.closest('#notebook-container');\n",
       "if (notebookContainer) {{\n",
       "    x.observe(notebookContainer, {childList: true});\n",
       "}}\n",
       "\n",
       "// Listen for the clearing of the current output cell\n",
       "var outputEl = gd.closest('.output');\n",
       "if (outputEl) {{\n",
       "    x.observe(outputEl, {childList: true});\n",
       "}}\n",
       "\n",
       "                        })\n",
       "                };\n",
       "                });\n",
       "            </script>\n",
       "        </div>"
      ]
     },
     "metadata": {},
     "output_type": "display_data"
    },
    {
     "name": "stdout",
     "output_type": "stream",
     "text": [
      "time: 47.7 ms\n"
     ]
    }
   ],
   "source": [
    "fig = px.box(data, x=\"dataset\", y=\"best_fit\", color=\"method\", template='plotly_white')\n",
    "# fig.update_traces(quartilemethod=\"exclusive\") # or \"inclusive\", or \"linear\" by default\n",
    "fig.update_layout(\n",
    "    xaxis_title=\"Datasets\",\n",
    "    yaxis_title=\"Quality Estimation\",\n",
    "    font=dict(\n",
    "        family=\"Courier New, monospace\",\n",
    "        size=20,\n",
    "        color=\"#7f7f7f\"\n",
    "    )\n",
    ")\n",
    "fig.show()"
   ]
  },
  {
   "cell_type": "markdown",
   "metadata": {},
   "source": [
    "# Plot RMSE"
   ]
  },
  {
   "cell_type": "code",
   "execution_count": null,
   "metadata": {},
   "outputs": [],
   "source": [
    "# RF 20 Newsgroups\n",
    "\n",
    "rf_20ng_crossover_e1 = [0.072, 0.036, 0.018]\n",
    "rf_20ng_mutation_e1 = [0.041, 0.023]\n",
    "\n",
    "rf_20ng_crossover_e2 = [0.112, 0.203, 0.240]\n",
    "rf_20ng_mutation_e2 = [0.163, 0.152, 0.044]\n",
    "\n",
    "rf_20ng_crossover_e3 = [0.262, 0.057, 0.079]\n",
    "rf_20ng_mutation_e3 = [0.262, 0.028, 0.001]\n",
    "\n",
    "rf_20ng_crossover_e4 = [0.201, 0.042, 0.002]\n",
    "rf_20ng_mutation_e4 = [0.124, 0.015]\n",
    "\n",
    "rf_20ng_crossover_e5 = [0.197]\n",
    "rf_20ng_mutation_e5 = [0.063]"
   ]
  },
  {
   "cell_type": "code",
   "execution_count": null,
   "metadata": {},
   "outputs": [],
   "source": [
    "'dataset', 'iter_name', 'value' "
   ]
  },
  {
   "cell_type": "code",
   "execution_count": null,
   "metadata": {},
   "outputs": [],
   "source": []
  }
 ],
 "metadata": {
  "kernelspec": {
   "display_name": "Python 3",
   "language": "python",
   "name": "python3"
  },
  "language_info": {
   "codemirror_mode": {
    "name": "ipython",
    "version": 3
   },
   "file_extension": ".py",
   "mimetype": "text/x-python",
   "name": "python",
   "nbconvert_exporter": "python",
   "pygments_lexer": "ipython3",
   "version": "3.7.9"
  }
 },
 "nbformat": 4,
 "nbformat_minor": 4
}
