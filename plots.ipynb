{
 "cells": [
  {
   "cell_type": "code",
   "execution_count": 1,
   "metadata": {},
   "outputs": [],
   "source": [
    "%load_ext autotime\n",
    "%matplotlib inline"
   ]
  },
  {
   "cell_type": "code",
   "execution_count": 2,
   "metadata": {},
   "outputs": [
    {
     "name": "stdout",
     "output_type": "stream",
     "text": [
      "time: 215 ms\n"
     ]
    }
   ],
   "source": [
    "import plotly.express as px\n",
    "import pandas as pd"
   ]
  },
  {
   "cell_type": "code",
   "execution_count": null,
   "metadata": {},
   "outputs": [],
   "source": [
    "# Surrogate modelling results"
   ]
  },
  {
   "cell_type": "code",
   "execution_count": null,
   "metadata": {},
   "outputs": [],
   "source": []
  },
  {
   "cell_type": "code",
   "execution_count": 53,
   "metadata": {
    "scrolled": true
   },
   "outputs": [
    {
     "name": "stdout",
     "output_type": "stream",
     "text": [
      "time: 2.82 ms\n"
     ]
    }
   ],
   "source": [
    "data = pd.read_csv('Surrogate_results')"
   ]
  },
  {
   "cell_type": "code",
   "execution_count": 4,
   "metadata": {},
   "outputs": [
    {
     "name": "stdout",
     "output_type": "stream",
     "text": [
      "time: 188 µs\n"
     ]
    }
   ],
   "source": [
    "# sdata.to_csv('Surrogate_results', index=None)"
   ]
  },
  {
   "cell_type": "code",
   "execution_count": 5,
   "metadata": {},
   "outputs": [
    {
     "name": "stdout",
     "output_type": "stream",
     "text": [
      "time: 559 µs\n"
     ]
    }
   ],
   "source": [
    "def add_new_experiments(experiments_path,\n",
    "                        dataset, method, best_fit):\n",
    "    data = pd.read_csv(experiments_path)\n",
    "    n = len(best_fit)\n",
    "    df = pd.DataFrame(list(zip([dataset for _ in range(n)], \n",
    "                               [method for _ in range(n)], \n",
    "                               best_fit,\n",
    "                              )), \n",
    "               columns =['dataset', 'method', 'best_fit']) \n",
    "    res = pd.concat([data, df])\n",
    "    return res"
   ]
  },
  {
   "cell_type": "code",
   "execution_count": 13,
   "metadata": {},
   "outputs": [
    {
     "name": "stdout",
     "output_type": "stream",
     "text": [
      "time: 3.09 ms\n"
     ]
    }
   ],
   "source": [
    "original = pd.read_csv('original_ga.csv')"
   ]
  },
  {
   "cell_type": "code",
   "execution_count": 14,
   "metadata": {},
   "outputs": [
    {
     "data": {
      "text/html": [
       "<div>\n",
       "<style scoped>\n",
       "    .dataframe tbody tr th:only-of-type {\n",
       "        vertical-align: middle;\n",
       "    }\n",
       "\n",
       "    .dataframe tbody tr th {\n",
       "        vertical-align: top;\n",
       "    }\n",
       "\n",
       "    .dataframe thead th {\n",
       "        text-align: right;\n",
       "    }\n",
       "</style>\n",
       "<table border=\"1\" class=\"dataframe\">\n",
       "  <thead>\n",
       "    <tr style=\"text-align: right;\">\n",
       "      <th></th>\n",
       "      <th>dataset</th>\n",
       "      <th>method</th>\n",
       "      <th>modification</th>\n",
       "      <th>best_fit</th>\n",
       "      <th>num_eval</th>\n",
       "    </tr>\n",
       "  </thead>\n",
       "  <tbody>\n",
       "    <tr>\n",
       "      <th>0</th>\n",
       "      <td>20NG</td>\n",
       "      <td>GA</td>\n",
       "      <td>blend_cross</td>\n",
       "      <td>0.879907</td>\n",
       "      <td>145</td>\n",
       "    </tr>\n",
       "    <tr>\n",
       "      <th>1</th>\n",
       "      <td>20NG</td>\n",
       "      <td>GA</td>\n",
       "      <td>blend_cross</td>\n",
       "      <td>1.045163</td>\n",
       "      <td>142</td>\n",
       "    </tr>\n",
       "    <tr>\n",
       "      <th>2</th>\n",
       "      <td>20NG</td>\n",
       "      <td>GA</td>\n",
       "      <td>blend_cross</td>\n",
       "      <td>1.036263</td>\n",
       "      <td>78</td>\n",
       "    </tr>\n",
       "    <tr>\n",
       "      <th>3</th>\n",
       "      <td>20NG</td>\n",
       "      <td>GA</td>\n",
       "      <td>blend_cross</td>\n",
       "      <td>0.986438</td>\n",
       "      <td>80</td>\n",
       "    </tr>\n",
       "    <tr>\n",
       "      <th>4</th>\n",
       "      <td>20NG</td>\n",
       "      <td>GA</td>\n",
       "      <td>blend_cross</td>\n",
       "      <td>0.948736</td>\n",
       "      <td>97</td>\n",
       "    </tr>\n",
       "  </tbody>\n",
       "</table>\n",
       "</div>"
      ],
      "text/plain": [
       "  dataset method  modification  best_fit num_eval\n",
       "0    20NG     GA   blend_cross  0.879907      145\n",
       "1    20NG     GA   blend_cross  1.045163      142\n",
       "2    20NG     GA   blend_cross  1.036263       78\n",
       "3    20NG     GA   blend_cross  0.986438       80\n",
       "4    20NG     GA   blend_cross  0.948736       97"
      ]
     },
     "execution_count": 14,
     "metadata": {},
     "output_type": "execute_result"
    },
    {
     "name": "stdout",
     "output_type": "stream",
     "text": [
      "time: 6.46 ms\n"
     ]
    }
   ],
   "source": [
    "original.head()"
   ]
  },
  {
   "cell_type": "code",
   "execution_count": 15,
   "metadata": {},
   "outputs": [
    {
     "name": "stdout",
     "output_type": "stream",
     "text": [
      "time: 1.21 ms\n"
     ]
    }
   ],
   "source": [
    "original = original[['dataset', 'method', 'best_fit']]"
   ]
  },
  {
   "cell_type": "code",
   "execution_count": 19,
   "metadata": {},
   "outputs": [
    {
     "name": "stdout",
     "output_type": "stream",
     "text": [
      "time: 2.01 ms\n"
     ]
    }
   ],
   "source": [
    "original.loc[original['method'] == ' GA', 'method'] = 'GA (original)'"
   ]
  },
  {
   "cell_type": "code",
   "execution_count": 21,
   "metadata": {},
   "outputs": [
    {
     "name": "stdout",
     "output_type": "stream",
     "text": [
      "time: 1.27 ms\n"
     ]
    }
   ],
   "source": [
    "data = pd.concat([original, data])"
   ]
  },
  {
   "cell_type": "code",
   "execution_count": 54,
   "metadata": {},
   "outputs": [
    {
     "name": "stdout",
     "output_type": "stream",
     "text": [
      "time: 4.43 ms\n"
     ]
    }
   ],
   "source": [
    "best_fit = [1.0075851109393668, 1.0804126020208358, 0.9848698916599999, 0.8786477265881634, 0.989326361129796, 1.1139679477551017, 1.0771185437796251, 0.8949178275841223, 0.6394953830816326, 1.1118512327914283, 0.5527199815252415, 0.8948992747886527, 0.9749243895744284, 1.2565802975940819, 1.0919246082751832, 0.6530456856912242, 1.195799804373347, 0.8548527080483916, 0.9329894204881632, 1.0321215532769592]\n",
    "dataset = 'lenta'\n",
    "method = 'RandomForest (0.7)'\n",
    "data = add_new_experiments('Surrogate_results', dataset, method, best_fit)"
   ]
  },
  {
   "cell_type": "code",
   "execution_count": 43,
   "metadata": {},
   "outputs": [
    {
     "name": "stdout",
     "output_type": "stream",
     "text": [
      "time: 36.1 ms\n"
     ]
    }
   ],
   "source": [
    "# data.to_csv('Surrogate_results', index=None)"
   ]
  },
  {
   "cell_type": "code",
   "execution_count": 55,
   "metadata": {},
   "outputs": [
    {
     "name": "stdout",
     "output_type": "stream",
     "text": [
      "time: 302 µs\n"
     ]
    }
   ],
   "source": [
    "import numpy as np"
   ]
  },
  {
   "cell_type": "code",
   "execution_count": 22,
   "metadata": {
    "scrolled": true
   },
   "outputs": [
    {
     "name": "stdout",
     "output_type": "stream",
     "text": [
      "time: 1.33 ms\n"
     ]
    }
   ],
   "source": [
    "# data = data[data['method'] != 'RandomForest (0.7)']"
   ]
  },
  {
   "cell_type": "code",
   "execution_count": 64,
   "metadata": {
    "scrolled": true
   },
   "outputs": [
    {
     "data": {
      "text/plain": [
       "0.960902517548287"
      ]
     },
     "execution_count": 64,
     "metadata": {},
     "output_type": "execute_result"
    },
    {
     "name": "stdout",
     "output_type": "stream",
     "text": [
      "time: 2.96 ms\n"
     ]
    }
   ],
   "source": [
    "np.mean(data[(data['method'] == 'RandomForest (0.7)') & (data['dataset'] == \"lenta\")]['best_fit'])"
   ]
  },
  {
   "cell_type": "code",
   "execution_count": 56,
   "metadata": {},
   "outputs": [
    {
     "name": "stdout",
     "output_type": "stream",
     "text": [
      "time: 1.62 ms\n"
     ]
    }
   ],
   "source": [
    "data = data[(data['method'] == 'RandomForest') | (data['method'] == 'RandomForest (0.7)')]"
   ]
  },
  {
   "cell_type": "code",
   "execution_count": 57,
   "metadata": {},
   "outputs": [
    {
     "name": "stdout",
     "output_type": "stream",
     "text": [
      "time: 4.43 ms\n"
     ]
    }
   ],
   "source": [
    "new_df = pd.concat([data[data['dataset'] == \"20NG\"], data[data['dataset'] == \"banners\"],\n",
    "          data[data['dataset'] == \"HR\"], data[data['dataset'] == \"AR\"], data[data['dataset'] == \"lenta\"]])"
   ]
  },
  {
   "cell_type": "code",
   "execution_count": 58,
   "metadata": {
    "scrolled": false
   },
   "outputs": [
    {
     "data": {
      "application/vnd.plotly.v1+json": {
       "config": {
        "plotlyServerURL": "https://plot.ly"
       },
       "data": [
        {
         "alignmentgroup": "True",
         "hovertemplate": "method=RandomForest<br>dataset=%{x}<br>best_fit=%{y}<extra></extra>",
         "legendgroup": "RandomForest",
         "marker": {
          "color": "rgb(102,194,165)"
         },
         "name": "RandomForest",
         "notched": false,
         "offsetgroup": "RandomForest",
         "orientation": "v",
         "showlegend": true,
         "type": "box",
         "x": [
          "20NG",
          "20NG",
          "20NG",
          "20NG",
          "20NG",
          "20NG",
          "20NG",
          "20NG",
          "20NG",
          "20NG",
          "20NG",
          "20NG",
          "20NG",
          "20NG",
          "20NG",
          "banners",
          "banners",
          "banners",
          "banners",
          "banners",
          "banners",
          "banners",
          "banners",
          "banners",
          "banners",
          "banners",
          "banners",
          "banners",
          "banners",
          "banners",
          "HR",
          "HR",
          "HR",
          "HR",
          "HR",
          "HR",
          "HR",
          "HR",
          "HR",
          "HR",
          "HR",
          "HR",
          "HR",
          "HR",
          "HR",
          "HR",
          "HR",
          "HR",
          "HR",
          "HR",
          "HR",
          "HR",
          "HR",
          "HR",
          "HR",
          "HR",
          "HR",
          "AR",
          "AR",
          "AR",
          "AR",
          "AR",
          "AR",
          "AR",
          "AR",
          "AR",
          "AR",
          "AR",
          "AR",
          "AR",
          "AR",
          "AR",
          "AR",
          "AR",
          "AR",
          "AR",
          "AR",
          "AR",
          "lenta",
          "lenta",
          "lenta",
          "lenta",
          "lenta",
          "lenta",
          "lenta",
          "lenta",
          "lenta",
          "lenta",
          "lenta",
          "lenta",
          "lenta",
          "lenta",
          "lenta"
         ],
         "x0": " ",
         "xaxis": "x",
         "y": [
          0.8529725728510613,
          0.9362671046879188,
          0.9845963629558372,
          1.0662462778726531,
          0.9779255135933476,
          0.8734305632452652,
          0.7638991807966125,
          0.9370224487513878,
          0.9331003431242856,
          1.032390365123184,
          0.8163175498963673,
          0.8766480688400817,
          0.8043203771409796,
          0.8054077264302044,
          1.0115012490729798,
          0.9851830003257958,
          1.0577108142308576,
          1.0203815202231024,
          0.9724271973822448,
          1.0883579802418777,
          0.9410967361075144,
          0.963200416047184,
          1.025566743372898,
          1.0033086950394283,
          1.0312258072222693,
          1.006086938846776,
          0.9128390871251428,
          0.947112414978204,
          1.0031431273651428,
          1.0280563243206942,
          1.7287359653061225,
          1.3003319281414971,
          0.6622621636046941,
          0.8052493756161636,
          1.625752235061225,
          1.1469939345918374,
          1.7287359653061225,
          1.3003319281414971,
          0.6622621636046941,
          0.8052493756161636,
          1.625752235061225,
          1.1469939345918374,
          0.8736986471655329,
          0.828000710070522,
          1.1158609116926772,
          1.356054478801045,
          1.1519628052275128,
          1.8204933164620407,
          1.3481127419362695,
          1.2913284640261342,
          1.5546185461632656,
          1.6953949795714287,
          1.4457915210436731,
          1.832830294174694,
          0.9423953801500136,
          1.2577916782622536,
          1.183161807154694,
          0.8085745502822078,
          0.8626964963293879,
          0.7424561316352244,
          0.7525895524277142,
          0.6584979655792652,
          0.6428593058154777,
          0.7614587971020408,
          0.6631269015750897,
          0.7690081432665962,
          0.7424060536566922,
          0.4387808099484694,
          0.7062831481318368,
          0.6781182807386124,
          0.7337707934612088,
          0.7120746024418242,
          0.5867250308675594,
          0.8203579616253063,
          0.6886068336008162,
          0.7496837971088163,
          0.7106557508223523,
          0.5569802275239999,
          1.1878112711877145,
          0.9715830351406732,
          1.2871682737338372,
          0.9509766639056654,
          1.001454382090163,
          0.9888093350926124,
          0.9971829792581832,
          1.3737979871822774,
          1.3166524432925042,
          0.7182035048680411,
          1.210730998825022,
          1.1426550234406532,
          1.2920887907049303,
          1.0663113975489793,
          1.2051133736734323
         ],
         "y0": " ",
         "yaxis": "y"
        },
        {
         "alignmentgroup": "True",
         "hovertemplate": "method=RandomForest (0.7)<br>dataset=%{x}<br>best_fit=%{y}<extra></extra>",
         "legendgroup": "RandomForest (0.7)",
         "marker": {
          "color": "rgb(252,141,98)"
         },
         "name": "RandomForest (0.7)",
         "notched": false,
         "offsetgroup": "RandomForest (0.7)",
         "orientation": "v",
         "showlegend": true,
         "type": "box",
         "x": [
          "20NG",
          "20NG",
          "20NG",
          "20NG",
          "20NG",
          "20NG",
          "20NG",
          "20NG",
          "20NG",
          "20NG",
          "20NG",
          "20NG",
          "20NG",
          "20NG",
          "20NG",
          "20NG",
          "20NG",
          "20NG",
          "20NG",
          "20NG",
          "banners",
          "banners",
          "banners",
          "banners",
          "banners",
          "banners",
          "banners",
          "banners",
          "banners",
          "banners",
          "banners",
          "banners",
          "banners",
          "banners",
          "banners",
          "banners",
          "banners",
          "banners",
          "banners",
          "banners",
          "HR",
          "HR",
          "HR",
          "HR",
          "HR",
          "HR",
          "HR",
          "HR",
          "HR",
          "HR",
          "HR",
          "HR",
          "HR",
          "AR",
          "AR",
          "AR",
          "AR",
          "AR",
          "AR",
          "AR",
          "AR",
          "AR",
          "AR",
          "AR",
          "AR",
          "AR",
          "AR",
          "lenta",
          "lenta",
          "lenta",
          "lenta",
          "lenta",
          "lenta",
          "lenta",
          "lenta",
          "lenta",
          "lenta",
          "lenta",
          "lenta",
          "lenta",
          "lenta",
          "lenta",
          "lenta",
          "lenta",
          "lenta",
          "lenta",
          "lenta"
         ],
         "x0": " ",
         "xaxis": "x",
         "y": [
          0.7844922706886123,
          0.9391116966799182,
          0.9329740148951838,
          0.8926775686438371,
          0.7329424837427758,
          0.7227179609654695,
          0.7413769490266942,
          0.7503840684430367,
          0.8104979593290209,
          1.1020180180354289,
          0.8256228280006941,
          0.7150539266221225,
          0.8319762599663676,
          0.9324015398347756,
          0.9556704845838369,
          0.8459177391829392,
          0.9667817522490612,
          0.7352888309608983,
          1.036755171823183,
          0.7193634654823676,
          1.1245400575863678,
          1.0183444910765709,
          1.0295802877088167,
          1.0377024987818777,
          0.9739825104084086,
          1.0522758700178372,
          1.0064223706251432,
          0.9748990780496326,
          0.9939514046243269,
          1.0828480038920818,
          0.9204064253978776,
          0.9964259084626942,
          1.0401283591498776,
          0.9835703798504492,
          0.9225113511228159,
          1.021899393301714,
          1.0512715550562044,
          1.1213498839231022,
          1.029185412406776,
          0.9697939009884492,
          1.0360929483480128,
          1.3115959012244898,
          0.808451479389143,
          1.7809019326530615,
          0.6959950455856327,
          1.4802870642448975,
          0.8404756819755109,
          1.4693187265306118,
          1.0614993041296517,
          1.4254454917563266,
          1.2716914101656664,
          1.6741389428571427,
          2.2982822669387755,
          0.6520725619124981,
          0.7404820444057942,
          0.7333951970370043,
          0.6815480722628573,
          0.7410549922701228,
          0.4729003368775511,
          0.7574894193043921,
          0.6381813641363264,
          0.6779537015241306,
          0.7039393882138778,
          0.7539500258046924,
          0.5107631427076263,
          0.6808394058642862,
          0.5516872593206609,
          1.0075851109393668,
          1.0804126020208358,
          0.9848698916599999,
          0.8786477265881634,
          0.989326361129796,
          1.1139679477551017,
          1.0771185437796251,
          0.8949178275841223,
          0.6394953830816326,
          1.1118512327914283,
          0.5527199815252415,
          0.8948992747886527,
          0.9749243895744284,
          1.2565802975940819,
          1.0919246082751832,
          0.6530456856912242,
          1.195799804373347,
          0.8548527080483916,
          0.9329894204881632,
          1.0321215532769592
         ],
         "y0": " ",
         "yaxis": "y"
        }
       ],
       "layout": {
        "boxmode": "group",
        "font": {
         "color": "#7f7f7f",
         "family": "Courier New, monospace",
         "size": 20
        },
        "legend": {
         "title": {
          "text": "method"
         },
         "tracegroupgap": 0
        },
        "margin": {
         "t": 60
        },
        "template": {
         "data": {
          "bar": [
           {
            "error_x": {
             "color": "#2a3f5f"
            },
            "error_y": {
             "color": "#2a3f5f"
            },
            "marker": {
             "line": {
              "color": "white",
              "width": 0.5
             }
            },
            "type": "bar"
           }
          ],
          "barpolar": [
           {
            "marker": {
             "line": {
              "color": "white",
              "width": 0.5
             }
            },
            "type": "barpolar"
           }
          ],
          "carpet": [
           {
            "aaxis": {
             "endlinecolor": "#2a3f5f",
             "gridcolor": "#C8D4E3",
             "linecolor": "#C8D4E3",
             "minorgridcolor": "#C8D4E3",
             "startlinecolor": "#2a3f5f"
            },
            "baxis": {
             "endlinecolor": "#2a3f5f",
             "gridcolor": "#C8D4E3",
             "linecolor": "#C8D4E3",
             "minorgridcolor": "#C8D4E3",
             "startlinecolor": "#2a3f5f"
            },
            "type": "carpet"
           }
          ],
          "choropleth": [
           {
            "colorbar": {
             "outlinewidth": 0,
             "ticks": ""
            },
            "type": "choropleth"
           }
          ],
          "contour": [
           {
            "colorbar": {
             "outlinewidth": 0,
             "ticks": ""
            },
            "colorscale": [
             [
              0,
              "#0d0887"
             ],
             [
              0.1111111111111111,
              "#46039f"
             ],
             [
              0.2222222222222222,
              "#7201a8"
             ],
             [
              0.3333333333333333,
              "#9c179e"
             ],
             [
              0.4444444444444444,
              "#bd3786"
             ],
             [
              0.5555555555555556,
              "#d8576b"
             ],
             [
              0.6666666666666666,
              "#ed7953"
             ],
             [
              0.7777777777777778,
              "#fb9f3a"
             ],
             [
              0.8888888888888888,
              "#fdca26"
             ],
             [
              1,
              "#f0f921"
             ]
            ],
            "type": "contour"
           }
          ],
          "contourcarpet": [
           {
            "colorbar": {
             "outlinewidth": 0,
             "ticks": ""
            },
            "type": "contourcarpet"
           }
          ],
          "heatmap": [
           {
            "colorbar": {
             "outlinewidth": 0,
             "ticks": ""
            },
            "colorscale": [
             [
              0,
              "#0d0887"
             ],
             [
              0.1111111111111111,
              "#46039f"
             ],
             [
              0.2222222222222222,
              "#7201a8"
             ],
             [
              0.3333333333333333,
              "#9c179e"
             ],
             [
              0.4444444444444444,
              "#bd3786"
             ],
             [
              0.5555555555555556,
              "#d8576b"
             ],
             [
              0.6666666666666666,
              "#ed7953"
             ],
             [
              0.7777777777777778,
              "#fb9f3a"
             ],
             [
              0.8888888888888888,
              "#fdca26"
             ],
             [
              1,
              "#f0f921"
             ]
            ],
            "type": "heatmap"
           }
          ],
          "heatmapgl": [
           {
            "colorbar": {
             "outlinewidth": 0,
             "ticks": ""
            },
            "colorscale": [
             [
              0,
              "#0d0887"
             ],
             [
              0.1111111111111111,
              "#46039f"
             ],
             [
              0.2222222222222222,
              "#7201a8"
             ],
             [
              0.3333333333333333,
              "#9c179e"
             ],
             [
              0.4444444444444444,
              "#bd3786"
             ],
             [
              0.5555555555555556,
              "#d8576b"
             ],
             [
              0.6666666666666666,
              "#ed7953"
             ],
             [
              0.7777777777777778,
              "#fb9f3a"
             ],
             [
              0.8888888888888888,
              "#fdca26"
             ],
             [
              1,
              "#f0f921"
             ]
            ],
            "type": "heatmapgl"
           }
          ],
          "histogram": [
           {
            "marker": {
             "colorbar": {
              "outlinewidth": 0,
              "ticks": ""
             }
            },
            "type": "histogram"
           }
          ],
          "histogram2d": [
           {
            "colorbar": {
             "outlinewidth": 0,
             "ticks": ""
            },
            "colorscale": [
             [
              0,
              "#0d0887"
             ],
             [
              0.1111111111111111,
              "#46039f"
             ],
             [
              0.2222222222222222,
              "#7201a8"
             ],
             [
              0.3333333333333333,
              "#9c179e"
             ],
             [
              0.4444444444444444,
              "#bd3786"
             ],
             [
              0.5555555555555556,
              "#d8576b"
             ],
             [
              0.6666666666666666,
              "#ed7953"
             ],
             [
              0.7777777777777778,
              "#fb9f3a"
             ],
             [
              0.8888888888888888,
              "#fdca26"
             ],
             [
              1,
              "#f0f921"
             ]
            ],
            "type": "histogram2d"
           }
          ],
          "histogram2dcontour": [
           {
            "colorbar": {
             "outlinewidth": 0,
             "ticks": ""
            },
            "colorscale": [
             [
              0,
              "#0d0887"
             ],
             [
              0.1111111111111111,
              "#46039f"
             ],
             [
              0.2222222222222222,
              "#7201a8"
             ],
             [
              0.3333333333333333,
              "#9c179e"
             ],
             [
              0.4444444444444444,
              "#bd3786"
             ],
             [
              0.5555555555555556,
              "#d8576b"
             ],
             [
              0.6666666666666666,
              "#ed7953"
             ],
             [
              0.7777777777777778,
              "#fb9f3a"
             ],
             [
              0.8888888888888888,
              "#fdca26"
             ],
             [
              1,
              "#f0f921"
             ]
            ],
            "type": "histogram2dcontour"
           }
          ],
          "mesh3d": [
           {
            "colorbar": {
             "outlinewidth": 0,
             "ticks": ""
            },
            "type": "mesh3d"
           }
          ],
          "parcoords": [
           {
            "line": {
             "colorbar": {
              "outlinewidth": 0,
              "ticks": ""
             }
            },
            "type": "parcoords"
           }
          ],
          "pie": [
           {
            "automargin": true,
            "type": "pie"
           }
          ],
          "scatter": [
           {
            "marker": {
             "colorbar": {
              "outlinewidth": 0,
              "ticks": ""
             }
            },
            "type": "scatter"
           }
          ],
          "scatter3d": [
           {
            "line": {
             "colorbar": {
              "outlinewidth": 0,
              "ticks": ""
             }
            },
            "marker": {
             "colorbar": {
              "outlinewidth": 0,
              "ticks": ""
             }
            },
            "type": "scatter3d"
           }
          ],
          "scattercarpet": [
           {
            "marker": {
             "colorbar": {
              "outlinewidth": 0,
              "ticks": ""
             }
            },
            "type": "scattercarpet"
           }
          ],
          "scattergeo": [
           {
            "marker": {
             "colorbar": {
              "outlinewidth": 0,
              "ticks": ""
             }
            },
            "type": "scattergeo"
           }
          ],
          "scattergl": [
           {
            "marker": {
             "colorbar": {
              "outlinewidth": 0,
              "ticks": ""
             }
            },
            "type": "scattergl"
           }
          ],
          "scattermapbox": [
           {
            "marker": {
             "colorbar": {
              "outlinewidth": 0,
              "ticks": ""
             }
            },
            "type": "scattermapbox"
           }
          ],
          "scatterpolar": [
           {
            "marker": {
             "colorbar": {
              "outlinewidth": 0,
              "ticks": ""
             }
            },
            "type": "scatterpolar"
           }
          ],
          "scatterpolargl": [
           {
            "marker": {
             "colorbar": {
              "outlinewidth": 0,
              "ticks": ""
             }
            },
            "type": "scatterpolargl"
           }
          ],
          "scatterternary": [
           {
            "marker": {
             "colorbar": {
              "outlinewidth": 0,
              "ticks": ""
             }
            },
            "type": "scatterternary"
           }
          ],
          "surface": [
           {
            "colorbar": {
             "outlinewidth": 0,
             "ticks": ""
            },
            "colorscale": [
             [
              0,
              "#0d0887"
             ],
             [
              0.1111111111111111,
              "#46039f"
             ],
             [
              0.2222222222222222,
              "#7201a8"
             ],
             [
              0.3333333333333333,
              "#9c179e"
             ],
             [
              0.4444444444444444,
              "#bd3786"
             ],
             [
              0.5555555555555556,
              "#d8576b"
             ],
             [
              0.6666666666666666,
              "#ed7953"
             ],
             [
              0.7777777777777778,
              "#fb9f3a"
             ],
             [
              0.8888888888888888,
              "#fdca26"
             ],
             [
              1,
              "#f0f921"
             ]
            ],
            "type": "surface"
           }
          ],
          "table": [
           {
            "cells": {
             "fill": {
              "color": "#EBF0F8"
             },
             "line": {
              "color": "white"
             }
            },
            "header": {
             "fill": {
              "color": "#C8D4E3"
             },
             "line": {
              "color": "white"
             }
            },
            "type": "table"
           }
          ]
         },
         "layout": {
          "annotationdefaults": {
           "arrowcolor": "#2a3f5f",
           "arrowhead": 0,
           "arrowwidth": 1
          },
          "coloraxis": {
           "colorbar": {
            "outlinewidth": 0,
            "ticks": ""
           }
          },
          "colorscale": {
           "diverging": [
            [
             0,
             "#8e0152"
            ],
            [
             0.1,
             "#c51b7d"
            ],
            [
             0.2,
             "#de77ae"
            ],
            [
             0.3,
             "#f1b6da"
            ],
            [
             0.4,
             "#fde0ef"
            ],
            [
             0.5,
             "#f7f7f7"
            ],
            [
             0.6,
             "#e6f5d0"
            ],
            [
             0.7,
             "#b8e186"
            ],
            [
             0.8,
             "#7fbc41"
            ],
            [
             0.9,
             "#4d9221"
            ],
            [
             1,
             "#276419"
            ]
           ],
           "sequential": [
            [
             0,
             "#0d0887"
            ],
            [
             0.1111111111111111,
             "#46039f"
            ],
            [
             0.2222222222222222,
             "#7201a8"
            ],
            [
             0.3333333333333333,
             "#9c179e"
            ],
            [
             0.4444444444444444,
             "#bd3786"
            ],
            [
             0.5555555555555556,
             "#d8576b"
            ],
            [
             0.6666666666666666,
             "#ed7953"
            ],
            [
             0.7777777777777778,
             "#fb9f3a"
            ],
            [
             0.8888888888888888,
             "#fdca26"
            ],
            [
             1,
             "#f0f921"
            ]
           ],
           "sequentialminus": [
            [
             0,
             "#0d0887"
            ],
            [
             0.1111111111111111,
             "#46039f"
            ],
            [
             0.2222222222222222,
             "#7201a8"
            ],
            [
             0.3333333333333333,
             "#9c179e"
            ],
            [
             0.4444444444444444,
             "#bd3786"
            ],
            [
             0.5555555555555556,
             "#d8576b"
            ],
            [
             0.6666666666666666,
             "#ed7953"
            ],
            [
             0.7777777777777778,
             "#fb9f3a"
            ],
            [
             0.8888888888888888,
             "#fdca26"
            ],
            [
             1,
             "#f0f921"
            ]
           ]
          },
          "colorway": [
           "#636efa",
           "#EF553B",
           "#00cc96",
           "#ab63fa",
           "#FFA15A",
           "#19d3f3",
           "#FF6692",
           "#B6E880",
           "#FF97FF",
           "#FECB52"
          ],
          "font": {
           "color": "#2a3f5f"
          },
          "geo": {
           "bgcolor": "white",
           "lakecolor": "white",
           "landcolor": "white",
           "showlakes": true,
           "showland": true,
           "subunitcolor": "#C8D4E3"
          },
          "hoverlabel": {
           "align": "left"
          },
          "hovermode": "closest",
          "mapbox": {
           "style": "light"
          },
          "paper_bgcolor": "white",
          "plot_bgcolor": "white",
          "polar": {
           "angularaxis": {
            "gridcolor": "#EBF0F8",
            "linecolor": "#EBF0F8",
            "ticks": ""
           },
           "bgcolor": "white",
           "radialaxis": {
            "gridcolor": "#EBF0F8",
            "linecolor": "#EBF0F8",
            "ticks": ""
           }
          },
          "scene": {
           "xaxis": {
            "backgroundcolor": "white",
            "gridcolor": "#DFE8F3",
            "gridwidth": 2,
            "linecolor": "#EBF0F8",
            "showbackground": true,
            "ticks": "",
            "zerolinecolor": "#EBF0F8"
           },
           "yaxis": {
            "backgroundcolor": "white",
            "gridcolor": "#DFE8F3",
            "gridwidth": 2,
            "linecolor": "#EBF0F8",
            "showbackground": true,
            "ticks": "",
            "zerolinecolor": "#EBF0F8"
           },
           "zaxis": {
            "backgroundcolor": "white",
            "gridcolor": "#DFE8F3",
            "gridwidth": 2,
            "linecolor": "#EBF0F8",
            "showbackground": true,
            "ticks": "",
            "zerolinecolor": "#EBF0F8"
           }
          },
          "shapedefaults": {
           "line": {
            "color": "#2a3f5f"
           }
          },
          "ternary": {
           "aaxis": {
            "gridcolor": "#DFE8F3",
            "linecolor": "#A2B1C6",
            "ticks": ""
           },
           "baxis": {
            "gridcolor": "#DFE8F3",
            "linecolor": "#A2B1C6",
            "ticks": ""
           },
           "bgcolor": "white",
           "caxis": {
            "gridcolor": "#DFE8F3",
            "linecolor": "#A2B1C6",
            "ticks": ""
           }
          },
          "title": {
           "x": 0.05
          },
          "xaxis": {
           "automargin": true,
           "gridcolor": "#EBF0F8",
           "linecolor": "#EBF0F8",
           "ticks": "",
           "title": {
            "standoff": 15
           },
           "zerolinecolor": "#EBF0F8",
           "zerolinewidth": 2
          },
          "yaxis": {
           "automargin": true,
           "gridcolor": "#EBF0F8",
           "linecolor": "#EBF0F8",
           "ticks": "",
           "title": {
            "standoff": 15
           },
           "zerolinecolor": "#EBF0F8",
           "zerolinewidth": 2
          }
         }
        },
        "xaxis": {
         "anchor": "y",
         "domain": [
          0,
          1
         ],
         "title": {
          "text": "Datasets"
         }
        },
        "yaxis": {
         "anchor": "x",
         "domain": [
          0,
          1
         ],
         "title": {
          "text": "Quality Estimation"
         }
        }
       }
      },
      "text/html": [
       "<div>\n",
       "        \n",
       "        \n",
       "            <div id=\"037bd82d-ffb8-4a98-b653-b7a19cb22788\" class=\"plotly-graph-div\" style=\"height:525px; width:100%;\"></div>\n",
       "            <script type=\"text/javascript\">\n",
       "                require([\"plotly\"], function(Plotly) {\n",
       "                    window.PLOTLYENV=window.PLOTLYENV || {};\n",
       "                    \n",
       "                if (document.getElementById(\"037bd82d-ffb8-4a98-b653-b7a19cb22788\")) {\n",
       "                    Plotly.newPlot(\n",
       "                        '037bd82d-ffb8-4a98-b653-b7a19cb22788',\n",
       "                        [{\"alignmentgroup\": \"True\", \"hovertemplate\": \"method=RandomForest<br>dataset=%{x}<br>best_fit=%{y}<extra></extra>\", \"legendgroup\": \"RandomForest\", \"marker\": {\"color\": \"rgb(102,194,165)\"}, \"name\": \"RandomForest\", \"notched\": false, \"offsetgroup\": \"RandomForest\", \"orientation\": \"v\", \"showlegend\": true, \"type\": \"box\", \"x\": [\"20NG\", \"20NG\", \"20NG\", \"20NG\", \"20NG\", \"20NG\", \"20NG\", \"20NG\", \"20NG\", \"20NG\", \"20NG\", \"20NG\", \"20NG\", \"20NG\", \"20NG\", \"banners\", \"banners\", \"banners\", \"banners\", \"banners\", \"banners\", \"banners\", \"banners\", \"banners\", \"banners\", \"banners\", \"banners\", \"banners\", \"banners\", \"banners\", \"HR\", \"HR\", \"HR\", \"HR\", \"HR\", \"HR\", \"HR\", \"HR\", \"HR\", \"HR\", \"HR\", \"HR\", \"HR\", \"HR\", \"HR\", \"HR\", \"HR\", \"HR\", \"HR\", \"HR\", \"HR\", \"HR\", \"HR\", \"HR\", \"HR\", \"HR\", \"HR\", \"AR\", \"AR\", \"AR\", \"AR\", \"AR\", \"AR\", \"AR\", \"AR\", \"AR\", \"AR\", \"AR\", \"AR\", \"AR\", \"AR\", \"AR\", \"AR\", \"AR\", \"AR\", \"AR\", \"AR\", \"AR\", \"lenta\", \"lenta\", \"lenta\", \"lenta\", \"lenta\", \"lenta\", \"lenta\", \"lenta\", \"lenta\", \"lenta\", \"lenta\", \"lenta\", \"lenta\", \"lenta\", \"lenta\"], \"x0\": \" \", \"xaxis\": \"x\", \"y\": [0.8529725728510613, 0.9362671046879188, 0.9845963629558372, 1.0662462778726531, 0.9779255135933476, 0.8734305632452652, 0.7638991807966125, 0.9370224487513878, 0.9331003431242856, 1.032390365123184, 0.8163175498963673, 0.8766480688400817, 0.8043203771409796, 0.8054077264302044, 1.0115012490729798, 0.9851830003257958, 1.0577108142308576, 1.0203815202231024, 0.9724271973822448, 1.0883579802418777, 0.9410967361075144, 0.963200416047184, 1.025566743372898, 1.0033086950394283, 1.0312258072222693, 1.006086938846776, 0.9128390871251428, 0.947112414978204, 1.0031431273651428, 1.0280563243206942, 1.7287359653061225, 1.3003319281414971, 0.6622621636046941, 0.8052493756161636, 1.625752235061225, 1.1469939345918374, 1.7287359653061225, 1.3003319281414971, 0.6622621636046941, 0.8052493756161636, 1.625752235061225, 1.1469939345918374, 0.8736986471655329, 0.828000710070522, 1.1158609116926772, 1.356054478801045, 1.1519628052275128, 1.8204933164620407, 1.3481127419362695, 1.2913284640261342, 1.5546185461632656, 1.6953949795714287, 1.4457915210436731, 1.832830294174694, 0.9423953801500136, 1.2577916782622536, 1.183161807154694, 0.8085745502822078, 0.8626964963293879, 0.7424561316352244, 0.7525895524277142, 0.6584979655792652, 0.6428593058154777, 0.7614587971020408, 0.6631269015750897, 0.7690081432665962, 0.7424060536566922, 0.4387808099484694, 0.7062831481318368, 0.6781182807386124, 0.7337707934612088, 0.7120746024418242, 0.5867250308675594, 0.8203579616253063, 0.6886068336008162, 0.7496837971088163, 0.7106557508223523, 0.5569802275239999, 1.1878112711877145, 0.9715830351406732, 1.2871682737338372, 0.9509766639056654, 1.001454382090163, 0.9888093350926124, 0.9971829792581832, 1.3737979871822774, 1.3166524432925042, 0.7182035048680411, 1.210730998825022, 1.1426550234406532, 1.2920887907049303, 1.0663113975489793, 1.2051133736734323], \"y0\": \" \", \"yaxis\": \"y\"}, {\"alignmentgroup\": \"True\", \"hovertemplate\": \"method=RandomForest (0.7)<br>dataset=%{x}<br>best_fit=%{y}<extra></extra>\", \"legendgroup\": \"RandomForest (0.7)\", \"marker\": {\"color\": \"rgb(252,141,98)\"}, \"name\": \"RandomForest (0.7)\", \"notched\": false, \"offsetgroup\": \"RandomForest (0.7)\", \"orientation\": \"v\", \"showlegend\": true, \"type\": \"box\", \"x\": [\"20NG\", \"20NG\", \"20NG\", \"20NG\", \"20NG\", \"20NG\", \"20NG\", \"20NG\", \"20NG\", \"20NG\", \"20NG\", \"20NG\", \"20NG\", \"20NG\", \"20NG\", \"20NG\", \"20NG\", \"20NG\", \"20NG\", \"20NG\", \"banners\", \"banners\", \"banners\", \"banners\", \"banners\", \"banners\", \"banners\", \"banners\", \"banners\", \"banners\", \"banners\", \"banners\", \"banners\", \"banners\", \"banners\", \"banners\", \"banners\", \"banners\", \"banners\", \"banners\", \"HR\", \"HR\", \"HR\", \"HR\", \"HR\", \"HR\", \"HR\", \"HR\", \"HR\", \"HR\", \"HR\", \"HR\", \"HR\", \"AR\", \"AR\", \"AR\", \"AR\", \"AR\", \"AR\", \"AR\", \"AR\", \"AR\", \"AR\", \"AR\", \"AR\", \"AR\", \"AR\", \"lenta\", \"lenta\", \"lenta\", \"lenta\", \"lenta\", \"lenta\", \"lenta\", \"lenta\", \"lenta\", \"lenta\", \"lenta\", \"lenta\", \"lenta\", \"lenta\", \"lenta\", \"lenta\", \"lenta\", \"lenta\", \"lenta\", \"lenta\"], \"x0\": \" \", \"xaxis\": \"x\", \"y\": [0.7844922706886123, 0.9391116966799182, 0.9329740148951838, 0.8926775686438371, 0.7329424837427758, 0.7227179609654695, 0.7413769490266942, 0.7503840684430367, 0.8104979593290209, 1.1020180180354289, 0.8256228280006941, 0.7150539266221225, 0.8319762599663676, 0.9324015398347756, 0.9556704845838369, 0.8459177391829392, 0.9667817522490612, 0.7352888309608983, 1.036755171823183, 0.7193634654823676, 1.1245400575863678, 1.0183444910765709, 1.0295802877088167, 1.0377024987818777, 0.9739825104084086, 1.0522758700178372, 1.0064223706251432, 0.9748990780496326, 0.9939514046243269, 1.0828480038920818, 0.9204064253978776, 0.9964259084626942, 1.0401283591498776, 0.9835703798504492, 0.9225113511228159, 1.021899393301714, 1.0512715550562044, 1.1213498839231022, 1.029185412406776, 0.9697939009884492, 1.0360929483480128, 1.3115959012244898, 0.808451479389143, 1.7809019326530615, 0.6959950455856327, 1.4802870642448975, 0.8404756819755109, 1.4693187265306118, 1.0614993041296517, 1.4254454917563266, 1.2716914101656664, 1.6741389428571427, 2.2982822669387755, 0.6520725619124981, 0.7404820444057942, 0.7333951970370043, 0.6815480722628573, 0.7410549922701228, 0.4729003368775511, 0.7574894193043921, 0.6381813641363264, 0.6779537015241306, 0.7039393882138778, 0.7539500258046924, 0.5107631427076263, 0.6808394058642862, 0.5516872593206609, 1.0075851109393668, 1.0804126020208358, 0.9848698916599999, 0.8786477265881634, 0.989326361129796, 1.1139679477551017, 1.0771185437796251, 0.8949178275841223, 0.6394953830816326, 1.1118512327914283, 0.5527199815252415, 0.8948992747886527, 0.9749243895744284, 1.2565802975940819, 1.0919246082751832, 0.6530456856912242, 1.195799804373347, 0.8548527080483916, 0.9329894204881632, 1.0321215532769592], \"y0\": \" \", \"yaxis\": \"y\"}],\n",
       "                        {\"boxmode\": \"group\", \"font\": {\"color\": \"#7f7f7f\", \"family\": \"Courier New, monospace\", \"size\": 20}, \"legend\": {\"title\": {\"text\": \"method\"}, \"tracegroupgap\": 0}, \"margin\": {\"t\": 60}, \"template\": {\"data\": {\"bar\": [{\"error_x\": {\"color\": \"#2a3f5f\"}, \"error_y\": {\"color\": \"#2a3f5f\"}, \"marker\": {\"line\": {\"color\": \"white\", \"width\": 0.5}}, \"type\": \"bar\"}], \"barpolar\": [{\"marker\": {\"line\": {\"color\": \"white\", \"width\": 0.5}}, \"type\": \"barpolar\"}], \"carpet\": [{\"aaxis\": {\"endlinecolor\": \"#2a3f5f\", \"gridcolor\": \"#C8D4E3\", \"linecolor\": \"#C8D4E3\", \"minorgridcolor\": \"#C8D4E3\", \"startlinecolor\": \"#2a3f5f\"}, \"baxis\": {\"endlinecolor\": \"#2a3f5f\", \"gridcolor\": \"#C8D4E3\", \"linecolor\": \"#C8D4E3\", \"minorgridcolor\": \"#C8D4E3\", \"startlinecolor\": \"#2a3f5f\"}, \"type\": \"carpet\"}], \"choropleth\": [{\"colorbar\": {\"outlinewidth\": 0, \"ticks\": \"\"}, \"type\": \"choropleth\"}], \"contour\": [{\"colorbar\": {\"outlinewidth\": 0, \"ticks\": \"\"}, \"colorscale\": [[0.0, \"#0d0887\"], [0.1111111111111111, \"#46039f\"], [0.2222222222222222, \"#7201a8\"], [0.3333333333333333, \"#9c179e\"], [0.4444444444444444, \"#bd3786\"], [0.5555555555555556, \"#d8576b\"], [0.6666666666666666, \"#ed7953\"], [0.7777777777777778, \"#fb9f3a\"], [0.8888888888888888, \"#fdca26\"], [1.0, \"#f0f921\"]], \"type\": \"contour\"}], \"contourcarpet\": [{\"colorbar\": {\"outlinewidth\": 0, \"ticks\": \"\"}, \"type\": \"contourcarpet\"}], \"heatmap\": [{\"colorbar\": {\"outlinewidth\": 0, \"ticks\": \"\"}, \"colorscale\": [[0.0, \"#0d0887\"], [0.1111111111111111, \"#46039f\"], [0.2222222222222222, \"#7201a8\"], [0.3333333333333333, \"#9c179e\"], [0.4444444444444444, \"#bd3786\"], [0.5555555555555556, \"#d8576b\"], [0.6666666666666666, \"#ed7953\"], [0.7777777777777778, \"#fb9f3a\"], [0.8888888888888888, \"#fdca26\"], [1.0, \"#f0f921\"]], \"type\": \"heatmap\"}], \"heatmapgl\": [{\"colorbar\": {\"outlinewidth\": 0, \"ticks\": \"\"}, \"colorscale\": [[0.0, \"#0d0887\"], [0.1111111111111111, \"#46039f\"], [0.2222222222222222, \"#7201a8\"], [0.3333333333333333, \"#9c179e\"], [0.4444444444444444, \"#bd3786\"], [0.5555555555555556, \"#d8576b\"], [0.6666666666666666, \"#ed7953\"], [0.7777777777777778, \"#fb9f3a\"], [0.8888888888888888, \"#fdca26\"], [1.0, \"#f0f921\"]], \"type\": \"heatmapgl\"}], \"histogram\": [{\"marker\": {\"colorbar\": {\"outlinewidth\": 0, \"ticks\": \"\"}}, \"type\": \"histogram\"}], \"histogram2d\": [{\"colorbar\": {\"outlinewidth\": 0, \"ticks\": \"\"}, \"colorscale\": [[0.0, \"#0d0887\"], [0.1111111111111111, \"#46039f\"], [0.2222222222222222, \"#7201a8\"], [0.3333333333333333, \"#9c179e\"], [0.4444444444444444, \"#bd3786\"], [0.5555555555555556, \"#d8576b\"], [0.6666666666666666, \"#ed7953\"], [0.7777777777777778, \"#fb9f3a\"], [0.8888888888888888, \"#fdca26\"], [1.0, \"#f0f921\"]], \"type\": \"histogram2d\"}], \"histogram2dcontour\": [{\"colorbar\": {\"outlinewidth\": 0, \"ticks\": \"\"}, \"colorscale\": [[0.0, \"#0d0887\"], [0.1111111111111111, \"#46039f\"], [0.2222222222222222, \"#7201a8\"], [0.3333333333333333, \"#9c179e\"], [0.4444444444444444, \"#bd3786\"], [0.5555555555555556, \"#d8576b\"], [0.6666666666666666, \"#ed7953\"], [0.7777777777777778, \"#fb9f3a\"], [0.8888888888888888, \"#fdca26\"], [1.0, \"#f0f921\"]], \"type\": \"histogram2dcontour\"}], \"mesh3d\": [{\"colorbar\": {\"outlinewidth\": 0, \"ticks\": \"\"}, \"type\": \"mesh3d\"}], \"parcoords\": [{\"line\": {\"colorbar\": {\"outlinewidth\": 0, \"ticks\": \"\"}}, \"type\": \"parcoords\"}], \"pie\": [{\"automargin\": true, \"type\": \"pie\"}], \"scatter\": [{\"marker\": {\"colorbar\": {\"outlinewidth\": 0, \"ticks\": \"\"}}, \"type\": \"scatter\"}], \"scatter3d\": [{\"line\": {\"colorbar\": {\"outlinewidth\": 0, \"ticks\": \"\"}}, \"marker\": {\"colorbar\": {\"outlinewidth\": 0, \"ticks\": \"\"}}, \"type\": \"scatter3d\"}], \"scattercarpet\": [{\"marker\": {\"colorbar\": {\"outlinewidth\": 0, \"ticks\": \"\"}}, \"type\": \"scattercarpet\"}], \"scattergeo\": [{\"marker\": {\"colorbar\": {\"outlinewidth\": 0, \"ticks\": \"\"}}, \"type\": \"scattergeo\"}], \"scattergl\": [{\"marker\": {\"colorbar\": {\"outlinewidth\": 0, \"ticks\": \"\"}}, \"type\": \"scattergl\"}], \"scattermapbox\": [{\"marker\": {\"colorbar\": {\"outlinewidth\": 0, \"ticks\": \"\"}}, \"type\": \"scattermapbox\"}], \"scatterpolar\": [{\"marker\": {\"colorbar\": {\"outlinewidth\": 0, \"ticks\": \"\"}}, \"type\": \"scatterpolar\"}], \"scatterpolargl\": [{\"marker\": {\"colorbar\": {\"outlinewidth\": 0, \"ticks\": \"\"}}, \"type\": \"scatterpolargl\"}], \"scatterternary\": [{\"marker\": {\"colorbar\": {\"outlinewidth\": 0, \"ticks\": \"\"}}, \"type\": \"scatterternary\"}], \"surface\": [{\"colorbar\": {\"outlinewidth\": 0, \"ticks\": \"\"}, \"colorscale\": [[0.0, \"#0d0887\"], [0.1111111111111111, \"#46039f\"], [0.2222222222222222, \"#7201a8\"], [0.3333333333333333, \"#9c179e\"], [0.4444444444444444, \"#bd3786\"], [0.5555555555555556, \"#d8576b\"], [0.6666666666666666, \"#ed7953\"], [0.7777777777777778, \"#fb9f3a\"], [0.8888888888888888, \"#fdca26\"], [1.0, \"#f0f921\"]], \"type\": \"surface\"}], \"table\": [{\"cells\": {\"fill\": {\"color\": \"#EBF0F8\"}, \"line\": {\"color\": \"white\"}}, \"header\": {\"fill\": {\"color\": \"#C8D4E3\"}, \"line\": {\"color\": \"white\"}}, \"type\": \"table\"}]}, \"layout\": {\"annotationdefaults\": {\"arrowcolor\": \"#2a3f5f\", \"arrowhead\": 0, \"arrowwidth\": 1}, \"coloraxis\": {\"colorbar\": {\"outlinewidth\": 0, \"ticks\": \"\"}}, \"colorscale\": {\"diverging\": [[0, \"#8e0152\"], [0.1, \"#c51b7d\"], [0.2, \"#de77ae\"], [0.3, \"#f1b6da\"], [0.4, \"#fde0ef\"], [0.5, \"#f7f7f7\"], [0.6, \"#e6f5d0\"], [0.7, \"#b8e186\"], [0.8, \"#7fbc41\"], [0.9, \"#4d9221\"], [1, \"#276419\"]], \"sequential\": [[0.0, \"#0d0887\"], [0.1111111111111111, \"#46039f\"], [0.2222222222222222, \"#7201a8\"], [0.3333333333333333, \"#9c179e\"], [0.4444444444444444, \"#bd3786\"], [0.5555555555555556, \"#d8576b\"], [0.6666666666666666, \"#ed7953\"], [0.7777777777777778, \"#fb9f3a\"], [0.8888888888888888, \"#fdca26\"], [1.0, \"#f0f921\"]], \"sequentialminus\": [[0.0, \"#0d0887\"], [0.1111111111111111, \"#46039f\"], [0.2222222222222222, \"#7201a8\"], [0.3333333333333333, \"#9c179e\"], [0.4444444444444444, \"#bd3786\"], [0.5555555555555556, \"#d8576b\"], [0.6666666666666666, \"#ed7953\"], [0.7777777777777778, \"#fb9f3a\"], [0.8888888888888888, \"#fdca26\"], [1.0, \"#f0f921\"]]}, \"colorway\": [\"#636efa\", \"#EF553B\", \"#00cc96\", \"#ab63fa\", \"#FFA15A\", \"#19d3f3\", \"#FF6692\", \"#B6E880\", \"#FF97FF\", \"#FECB52\"], \"font\": {\"color\": \"#2a3f5f\"}, \"geo\": {\"bgcolor\": \"white\", \"lakecolor\": \"white\", \"landcolor\": \"white\", \"showlakes\": true, \"showland\": true, \"subunitcolor\": \"#C8D4E3\"}, \"hoverlabel\": {\"align\": \"left\"}, \"hovermode\": \"closest\", \"mapbox\": {\"style\": \"light\"}, \"paper_bgcolor\": \"white\", \"plot_bgcolor\": \"white\", \"polar\": {\"angularaxis\": {\"gridcolor\": \"#EBF0F8\", \"linecolor\": \"#EBF0F8\", \"ticks\": \"\"}, \"bgcolor\": \"white\", \"radialaxis\": {\"gridcolor\": \"#EBF0F8\", \"linecolor\": \"#EBF0F8\", \"ticks\": \"\"}}, \"scene\": {\"xaxis\": {\"backgroundcolor\": \"white\", \"gridcolor\": \"#DFE8F3\", \"gridwidth\": 2, \"linecolor\": \"#EBF0F8\", \"showbackground\": true, \"ticks\": \"\", \"zerolinecolor\": \"#EBF0F8\"}, \"yaxis\": {\"backgroundcolor\": \"white\", \"gridcolor\": \"#DFE8F3\", \"gridwidth\": 2, \"linecolor\": \"#EBF0F8\", \"showbackground\": true, \"ticks\": \"\", \"zerolinecolor\": \"#EBF0F8\"}, \"zaxis\": {\"backgroundcolor\": \"white\", \"gridcolor\": \"#DFE8F3\", \"gridwidth\": 2, \"linecolor\": \"#EBF0F8\", \"showbackground\": true, \"ticks\": \"\", \"zerolinecolor\": \"#EBF0F8\"}}, \"shapedefaults\": {\"line\": {\"color\": \"#2a3f5f\"}}, \"ternary\": {\"aaxis\": {\"gridcolor\": \"#DFE8F3\", \"linecolor\": \"#A2B1C6\", \"ticks\": \"\"}, \"baxis\": {\"gridcolor\": \"#DFE8F3\", \"linecolor\": \"#A2B1C6\", \"ticks\": \"\"}, \"bgcolor\": \"white\", \"caxis\": {\"gridcolor\": \"#DFE8F3\", \"linecolor\": \"#A2B1C6\", \"ticks\": \"\"}}, \"title\": {\"x\": 0.05}, \"xaxis\": {\"automargin\": true, \"gridcolor\": \"#EBF0F8\", \"linecolor\": \"#EBF0F8\", \"ticks\": \"\", \"title\": {\"standoff\": 15}, \"zerolinecolor\": \"#EBF0F8\", \"zerolinewidth\": 2}, \"yaxis\": {\"automargin\": true, \"gridcolor\": \"#EBF0F8\", \"linecolor\": \"#EBF0F8\", \"ticks\": \"\", \"title\": {\"standoff\": 15}, \"zerolinecolor\": \"#EBF0F8\", \"zerolinewidth\": 2}}}, \"xaxis\": {\"anchor\": \"y\", \"domain\": [0.0, 1.0], \"title\": {\"text\": \"Datasets\"}}, \"yaxis\": {\"anchor\": \"x\", \"domain\": [0.0, 1.0], \"title\": {\"text\": \"Quality Estimation\"}}},\n",
       "                        {\"responsive\": true}\n",
       "                    ).then(function(){\n",
       "                            \n",
       "var gd = document.getElementById('037bd82d-ffb8-4a98-b653-b7a19cb22788');\n",
       "var x = new MutationObserver(function (mutations, observer) {{\n",
       "        var display = window.getComputedStyle(gd).display;\n",
       "        if (!display || display === 'none') {{\n",
       "            console.log([gd, 'removed!']);\n",
       "            Plotly.purge(gd);\n",
       "            observer.disconnect();\n",
       "        }}\n",
       "}});\n",
       "\n",
       "// Listen for the removal of the full notebook cells\n",
       "var notebookContainer = gd.closest('#notebook-container');\n",
       "if (notebookContainer) {{\n",
       "    x.observe(notebookContainer, {childList: true});\n",
       "}}\n",
       "\n",
       "// Listen for the clearing of the current output cell\n",
       "var outputEl = gd.closest('.output');\n",
       "if (outputEl) {{\n",
       "    x.observe(outputEl, {childList: true});\n",
       "}}\n",
       "\n",
       "                        })\n",
       "                };\n",
       "                });\n",
       "            </script>\n",
       "        </div>"
      ]
     },
     "metadata": {},
     "output_type": "display_data"
    },
    {
     "name": "stdout",
     "output_type": "stream",
     "text": [
      "time: 39.3 ms\n"
     ]
    }
   ],
   "source": [
    "fig = px.box(new_df, x=\"dataset\", y=\"best_fit\", color=\"method\", template='plotly_white', color_discrete_sequence=px.colors.qualitative.Set2)\n",
    "# fig.update_traces(quartilemethod=\"exclusive\") # or \"inclusive\", or \"linear\" by default\n",
    "fig.update_layout(\n",
    "    xaxis_title=\"Datasets\",\n",
    "    yaxis_title=\"Quality Estimation\",\n",
    "    font=dict(\n",
    "        family=\"Courier New, monospace\",\n",
    "        size=20,\n",
    "        color=\"#7f7f7f\"\n",
    "    )\n",
    ")\n",
    "fig.show()"
   ]
  },
  {
   "cell_type": "code",
   "execution_count": 59,
   "metadata": {},
   "outputs": [
    {
     "data": {
      "application/vnd.plotly.v1+json": {
       "config": {
        "linkText": "Export to plot.ly",
        "plotlyServerURL": "https://plot.ly",
        "showLink": false
       },
       "data": [
        {
         "alignmentgroup": "True",
         "hovertemplate": "method=RandomForest<br>dataset=%{x}<br>best_fit=%{y}<extra></extra>",
         "legendgroup": "RandomForest",
         "marker": {
          "color": "rgb(102,194,165)"
         },
         "name": "RandomForest",
         "notched": false,
         "offsetgroup": "RandomForest",
         "orientation": "v",
         "showlegend": true,
         "type": "box",
         "x": [
          "20NG",
          "20NG",
          "20NG",
          "20NG",
          "20NG",
          "20NG",
          "20NG",
          "20NG",
          "20NG",
          "20NG",
          "20NG",
          "20NG",
          "20NG",
          "20NG",
          "20NG",
          "banners",
          "banners",
          "banners",
          "banners",
          "banners",
          "banners",
          "banners",
          "banners",
          "banners",
          "banners",
          "banners",
          "banners",
          "banners",
          "banners",
          "banners",
          "HR",
          "HR",
          "HR",
          "HR",
          "HR",
          "HR",
          "HR",
          "HR",
          "HR",
          "HR",
          "HR",
          "HR",
          "HR",
          "HR",
          "HR",
          "HR",
          "HR",
          "HR",
          "HR",
          "HR",
          "HR",
          "HR",
          "HR",
          "HR",
          "HR",
          "HR",
          "HR",
          "AR",
          "AR",
          "AR",
          "AR",
          "AR",
          "AR",
          "AR",
          "AR",
          "AR",
          "AR",
          "AR",
          "AR",
          "AR",
          "AR",
          "AR",
          "AR",
          "AR",
          "AR",
          "AR",
          "AR",
          "AR",
          "lenta",
          "lenta",
          "lenta",
          "lenta",
          "lenta",
          "lenta",
          "lenta",
          "lenta",
          "lenta",
          "lenta",
          "lenta",
          "lenta",
          "lenta",
          "lenta",
          "lenta"
         ],
         "x0": " ",
         "xaxis": "x",
         "y": [
          0.8529725728510613,
          0.9362671046879188,
          0.9845963629558372,
          1.0662462778726531,
          0.9779255135933476,
          0.8734305632452652,
          0.7638991807966125,
          0.9370224487513878,
          0.9331003431242856,
          1.032390365123184,
          0.8163175498963673,
          0.8766480688400817,
          0.8043203771409796,
          0.8054077264302044,
          1.0115012490729798,
          0.9851830003257958,
          1.0577108142308576,
          1.0203815202231024,
          0.9724271973822448,
          1.0883579802418777,
          0.9410967361075144,
          0.963200416047184,
          1.025566743372898,
          1.0033086950394283,
          1.0312258072222693,
          1.006086938846776,
          0.9128390871251428,
          0.947112414978204,
          1.0031431273651428,
          1.0280563243206942,
          1.7287359653061225,
          1.3003319281414971,
          0.6622621636046941,
          0.8052493756161636,
          1.625752235061225,
          1.1469939345918374,
          1.7287359653061225,
          1.3003319281414971,
          0.6622621636046941,
          0.8052493756161636,
          1.625752235061225,
          1.1469939345918374,
          0.8736986471655329,
          0.828000710070522,
          1.1158609116926772,
          1.356054478801045,
          1.1519628052275128,
          1.8204933164620407,
          1.3481127419362695,
          1.2913284640261342,
          1.5546185461632656,
          1.6953949795714287,
          1.4457915210436731,
          1.832830294174694,
          0.9423953801500136,
          1.2577916782622536,
          1.183161807154694,
          0.8085745502822078,
          0.8626964963293879,
          0.7424561316352244,
          0.7525895524277142,
          0.6584979655792652,
          0.6428593058154777,
          0.7614587971020408,
          0.6631269015750897,
          0.7690081432665962,
          0.7424060536566922,
          0.4387808099484694,
          0.7062831481318368,
          0.6781182807386124,
          0.7337707934612088,
          0.7120746024418242,
          0.5867250308675594,
          0.8203579616253063,
          0.6886068336008162,
          0.7496837971088163,
          0.7106557508223523,
          0.5569802275239999,
          1.1878112711877145,
          0.9715830351406732,
          1.2871682737338372,
          0.9509766639056654,
          1.001454382090163,
          0.9888093350926124,
          0.9971829792581832,
          1.3737979871822774,
          1.3166524432925042,
          0.7182035048680411,
          1.210730998825022,
          1.1426550234406532,
          1.2920887907049303,
          1.0663113975489793,
          1.2051133736734323
         ],
         "y0": " ",
         "yaxis": "y"
        },
        {
         "alignmentgroup": "True",
         "hovertemplate": "method=RandomForest (0.7)<br>dataset=%{x}<br>best_fit=%{y}<extra></extra>",
         "legendgroup": "RandomForest (0.7)",
         "marker": {
          "color": "rgb(252,141,98)"
         },
         "name": "RandomForest (0.7)",
         "notched": false,
         "offsetgroup": "RandomForest (0.7)",
         "orientation": "v",
         "showlegend": true,
         "type": "box",
         "x": [
          "20NG",
          "20NG",
          "20NG",
          "20NG",
          "20NG",
          "20NG",
          "20NG",
          "20NG",
          "20NG",
          "20NG",
          "20NG",
          "20NG",
          "20NG",
          "20NG",
          "20NG",
          "20NG",
          "20NG",
          "20NG",
          "20NG",
          "20NG",
          "banners",
          "banners",
          "banners",
          "banners",
          "banners",
          "banners",
          "banners",
          "banners",
          "banners",
          "banners",
          "banners",
          "banners",
          "banners",
          "banners",
          "banners",
          "banners",
          "banners",
          "banners",
          "banners",
          "banners",
          "HR",
          "HR",
          "HR",
          "HR",
          "HR",
          "HR",
          "HR",
          "HR",
          "HR",
          "HR",
          "HR",
          "HR",
          "HR",
          "AR",
          "AR",
          "AR",
          "AR",
          "AR",
          "AR",
          "AR",
          "AR",
          "AR",
          "AR",
          "AR",
          "AR",
          "AR",
          "AR",
          "lenta",
          "lenta",
          "lenta",
          "lenta",
          "lenta",
          "lenta",
          "lenta",
          "lenta",
          "lenta",
          "lenta",
          "lenta",
          "lenta",
          "lenta",
          "lenta",
          "lenta",
          "lenta",
          "lenta",
          "lenta",
          "lenta",
          "lenta"
         ],
         "x0": " ",
         "xaxis": "x",
         "y": [
          0.7844922706886123,
          0.9391116966799182,
          0.9329740148951838,
          0.8926775686438371,
          0.7329424837427758,
          0.7227179609654695,
          0.7413769490266942,
          0.7503840684430367,
          0.8104979593290209,
          1.1020180180354289,
          0.8256228280006941,
          0.7150539266221225,
          0.8319762599663676,
          0.9324015398347756,
          0.9556704845838369,
          0.8459177391829392,
          0.9667817522490612,
          0.7352888309608983,
          1.036755171823183,
          0.7193634654823676,
          1.1245400575863678,
          1.0183444910765709,
          1.0295802877088167,
          1.0377024987818777,
          0.9739825104084086,
          1.0522758700178372,
          1.0064223706251432,
          0.9748990780496326,
          0.9939514046243269,
          1.0828480038920818,
          0.9204064253978776,
          0.9964259084626942,
          1.0401283591498776,
          0.9835703798504492,
          0.9225113511228159,
          1.021899393301714,
          1.0512715550562044,
          1.1213498839231022,
          1.029185412406776,
          0.9697939009884492,
          1.0360929483480128,
          1.3115959012244898,
          0.808451479389143,
          1.7809019326530615,
          0.6959950455856327,
          1.4802870642448975,
          0.8404756819755109,
          1.4693187265306118,
          1.0614993041296517,
          1.4254454917563266,
          1.2716914101656664,
          1.6741389428571427,
          2.2982822669387755,
          0.6520725619124981,
          0.7404820444057942,
          0.7333951970370043,
          0.6815480722628573,
          0.7410549922701228,
          0.4729003368775511,
          0.7574894193043921,
          0.6381813641363264,
          0.6779537015241306,
          0.7039393882138778,
          0.7539500258046924,
          0.5107631427076263,
          0.6808394058642862,
          0.5516872593206609,
          1.0075851109393668,
          1.0804126020208358,
          0.9848698916599999,
          0.8786477265881634,
          0.989326361129796,
          1.1139679477551017,
          1.0771185437796251,
          0.8949178275841223,
          0.6394953830816326,
          1.1118512327914283,
          0.5527199815252415,
          0.8948992747886527,
          0.9749243895744284,
          1.2565802975940819,
          1.0919246082751832,
          0.6530456856912242,
          1.195799804373347,
          0.8548527080483916,
          0.9329894204881632,
          1.0321215532769592
         ],
         "y0": " ",
         "yaxis": "y"
        }
       ],
       "layout": {
        "boxmode": "group",
        "font": {
         "color": "#7f7f7f",
         "family": "Courier New, monospace",
         "size": 20
        },
        "legend": {
         "title": {
          "text": "method"
         },
         "tracegroupgap": 0
        },
        "margin": {
         "t": 60
        },
        "template": {
         "data": {
          "bar": [
           {
            "error_x": {
             "color": "#2a3f5f"
            },
            "error_y": {
             "color": "#2a3f5f"
            },
            "marker": {
             "line": {
              "color": "white",
              "width": 0.5
             }
            },
            "type": "bar"
           }
          ],
          "barpolar": [
           {
            "marker": {
             "line": {
              "color": "white",
              "width": 0.5
             }
            },
            "type": "barpolar"
           }
          ],
          "carpet": [
           {
            "aaxis": {
             "endlinecolor": "#2a3f5f",
             "gridcolor": "#C8D4E3",
             "linecolor": "#C8D4E3",
             "minorgridcolor": "#C8D4E3",
             "startlinecolor": "#2a3f5f"
            },
            "baxis": {
             "endlinecolor": "#2a3f5f",
             "gridcolor": "#C8D4E3",
             "linecolor": "#C8D4E3",
             "minorgridcolor": "#C8D4E3",
             "startlinecolor": "#2a3f5f"
            },
            "type": "carpet"
           }
          ],
          "choropleth": [
           {
            "colorbar": {
             "outlinewidth": 0,
             "ticks": ""
            },
            "type": "choropleth"
           }
          ],
          "contour": [
           {
            "colorbar": {
             "outlinewidth": 0,
             "ticks": ""
            },
            "colorscale": [
             [
              0,
              "#0d0887"
             ],
             [
              0.1111111111111111,
              "#46039f"
             ],
             [
              0.2222222222222222,
              "#7201a8"
             ],
             [
              0.3333333333333333,
              "#9c179e"
             ],
             [
              0.4444444444444444,
              "#bd3786"
             ],
             [
              0.5555555555555556,
              "#d8576b"
             ],
             [
              0.6666666666666666,
              "#ed7953"
             ],
             [
              0.7777777777777778,
              "#fb9f3a"
             ],
             [
              0.8888888888888888,
              "#fdca26"
             ],
             [
              1,
              "#f0f921"
             ]
            ],
            "type": "contour"
           }
          ],
          "contourcarpet": [
           {
            "colorbar": {
             "outlinewidth": 0,
             "ticks": ""
            },
            "type": "contourcarpet"
           }
          ],
          "heatmap": [
           {
            "colorbar": {
             "outlinewidth": 0,
             "ticks": ""
            },
            "colorscale": [
             [
              0,
              "#0d0887"
             ],
             [
              0.1111111111111111,
              "#46039f"
             ],
             [
              0.2222222222222222,
              "#7201a8"
             ],
             [
              0.3333333333333333,
              "#9c179e"
             ],
             [
              0.4444444444444444,
              "#bd3786"
             ],
             [
              0.5555555555555556,
              "#d8576b"
             ],
             [
              0.6666666666666666,
              "#ed7953"
             ],
             [
              0.7777777777777778,
              "#fb9f3a"
             ],
             [
              0.8888888888888888,
              "#fdca26"
             ],
             [
              1,
              "#f0f921"
             ]
            ],
            "type": "heatmap"
           }
          ],
          "heatmapgl": [
           {
            "colorbar": {
             "outlinewidth": 0,
             "ticks": ""
            },
            "colorscale": [
             [
              0,
              "#0d0887"
             ],
             [
              0.1111111111111111,
              "#46039f"
             ],
             [
              0.2222222222222222,
              "#7201a8"
             ],
             [
              0.3333333333333333,
              "#9c179e"
             ],
             [
              0.4444444444444444,
              "#bd3786"
             ],
             [
              0.5555555555555556,
              "#d8576b"
             ],
             [
              0.6666666666666666,
              "#ed7953"
             ],
             [
              0.7777777777777778,
              "#fb9f3a"
             ],
             [
              0.8888888888888888,
              "#fdca26"
             ],
             [
              1,
              "#f0f921"
             ]
            ],
            "type": "heatmapgl"
           }
          ],
          "histogram": [
           {
            "marker": {
             "colorbar": {
              "outlinewidth": 0,
              "ticks": ""
             }
            },
            "type": "histogram"
           }
          ],
          "histogram2d": [
           {
            "colorbar": {
             "outlinewidth": 0,
             "ticks": ""
            },
            "colorscale": [
             [
              0,
              "#0d0887"
             ],
             [
              0.1111111111111111,
              "#46039f"
             ],
             [
              0.2222222222222222,
              "#7201a8"
             ],
             [
              0.3333333333333333,
              "#9c179e"
             ],
             [
              0.4444444444444444,
              "#bd3786"
             ],
             [
              0.5555555555555556,
              "#d8576b"
             ],
             [
              0.6666666666666666,
              "#ed7953"
             ],
             [
              0.7777777777777778,
              "#fb9f3a"
             ],
             [
              0.8888888888888888,
              "#fdca26"
             ],
             [
              1,
              "#f0f921"
             ]
            ],
            "type": "histogram2d"
           }
          ],
          "histogram2dcontour": [
           {
            "colorbar": {
             "outlinewidth": 0,
             "ticks": ""
            },
            "colorscale": [
             [
              0,
              "#0d0887"
             ],
             [
              0.1111111111111111,
              "#46039f"
             ],
             [
              0.2222222222222222,
              "#7201a8"
             ],
             [
              0.3333333333333333,
              "#9c179e"
             ],
             [
              0.4444444444444444,
              "#bd3786"
             ],
             [
              0.5555555555555556,
              "#d8576b"
             ],
             [
              0.6666666666666666,
              "#ed7953"
             ],
             [
              0.7777777777777778,
              "#fb9f3a"
             ],
             [
              0.8888888888888888,
              "#fdca26"
             ],
             [
              1,
              "#f0f921"
             ]
            ],
            "type": "histogram2dcontour"
           }
          ],
          "mesh3d": [
           {
            "colorbar": {
             "outlinewidth": 0,
             "ticks": ""
            },
            "type": "mesh3d"
           }
          ],
          "parcoords": [
           {
            "line": {
             "colorbar": {
              "outlinewidth": 0,
              "ticks": ""
             }
            },
            "type": "parcoords"
           }
          ],
          "pie": [
           {
            "automargin": true,
            "type": "pie"
           }
          ],
          "scatter": [
           {
            "marker": {
             "colorbar": {
              "outlinewidth": 0,
              "ticks": ""
             }
            },
            "type": "scatter"
           }
          ],
          "scatter3d": [
           {
            "line": {
             "colorbar": {
              "outlinewidth": 0,
              "ticks": ""
             }
            },
            "marker": {
             "colorbar": {
              "outlinewidth": 0,
              "ticks": ""
             }
            },
            "type": "scatter3d"
           }
          ],
          "scattercarpet": [
           {
            "marker": {
             "colorbar": {
              "outlinewidth": 0,
              "ticks": ""
             }
            },
            "type": "scattercarpet"
           }
          ],
          "scattergeo": [
           {
            "marker": {
             "colorbar": {
              "outlinewidth": 0,
              "ticks": ""
             }
            },
            "type": "scattergeo"
           }
          ],
          "scattergl": [
           {
            "marker": {
             "colorbar": {
              "outlinewidth": 0,
              "ticks": ""
             }
            },
            "type": "scattergl"
           }
          ],
          "scattermapbox": [
           {
            "marker": {
             "colorbar": {
              "outlinewidth": 0,
              "ticks": ""
             }
            },
            "type": "scattermapbox"
           }
          ],
          "scatterpolar": [
           {
            "marker": {
             "colorbar": {
              "outlinewidth": 0,
              "ticks": ""
             }
            },
            "type": "scatterpolar"
           }
          ],
          "scatterpolargl": [
           {
            "marker": {
             "colorbar": {
              "outlinewidth": 0,
              "ticks": ""
             }
            },
            "type": "scatterpolargl"
           }
          ],
          "scatterternary": [
           {
            "marker": {
             "colorbar": {
              "outlinewidth": 0,
              "ticks": ""
             }
            },
            "type": "scatterternary"
           }
          ],
          "surface": [
           {
            "colorbar": {
             "outlinewidth": 0,
             "ticks": ""
            },
            "colorscale": [
             [
              0,
              "#0d0887"
             ],
             [
              0.1111111111111111,
              "#46039f"
             ],
             [
              0.2222222222222222,
              "#7201a8"
             ],
             [
              0.3333333333333333,
              "#9c179e"
             ],
             [
              0.4444444444444444,
              "#bd3786"
             ],
             [
              0.5555555555555556,
              "#d8576b"
             ],
             [
              0.6666666666666666,
              "#ed7953"
             ],
             [
              0.7777777777777778,
              "#fb9f3a"
             ],
             [
              0.8888888888888888,
              "#fdca26"
             ],
             [
              1,
              "#f0f921"
             ]
            ],
            "type": "surface"
           }
          ],
          "table": [
           {
            "cells": {
             "fill": {
              "color": "#EBF0F8"
             },
             "line": {
              "color": "white"
             }
            },
            "header": {
             "fill": {
              "color": "#C8D4E3"
             },
             "line": {
              "color": "white"
             }
            },
            "type": "table"
           }
          ]
         },
         "layout": {
          "annotationdefaults": {
           "arrowcolor": "#2a3f5f",
           "arrowhead": 0,
           "arrowwidth": 1
          },
          "coloraxis": {
           "colorbar": {
            "outlinewidth": 0,
            "ticks": ""
           }
          },
          "colorscale": {
           "diverging": [
            [
             0,
             "#8e0152"
            ],
            [
             0.1,
             "#c51b7d"
            ],
            [
             0.2,
             "#de77ae"
            ],
            [
             0.3,
             "#f1b6da"
            ],
            [
             0.4,
             "#fde0ef"
            ],
            [
             0.5,
             "#f7f7f7"
            ],
            [
             0.6,
             "#e6f5d0"
            ],
            [
             0.7,
             "#b8e186"
            ],
            [
             0.8,
             "#7fbc41"
            ],
            [
             0.9,
             "#4d9221"
            ],
            [
             1,
             "#276419"
            ]
           ],
           "sequential": [
            [
             0,
             "#0d0887"
            ],
            [
             0.1111111111111111,
             "#46039f"
            ],
            [
             0.2222222222222222,
             "#7201a8"
            ],
            [
             0.3333333333333333,
             "#9c179e"
            ],
            [
             0.4444444444444444,
             "#bd3786"
            ],
            [
             0.5555555555555556,
             "#d8576b"
            ],
            [
             0.6666666666666666,
             "#ed7953"
            ],
            [
             0.7777777777777778,
             "#fb9f3a"
            ],
            [
             0.8888888888888888,
             "#fdca26"
            ],
            [
             1,
             "#f0f921"
            ]
           ],
           "sequentialminus": [
            [
             0,
             "#0d0887"
            ],
            [
             0.1111111111111111,
             "#46039f"
            ],
            [
             0.2222222222222222,
             "#7201a8"
            ],
            [
             0.3333333333333333,
             "#9c179e"
            ],
            [
             0.4444444444444444,
             "#bd3786"
            ],
            [
             0.5555555555555556,
             "#d8576b"
            ],
            [
             0.6666666666666666,
             "#ed7953"
            ],
            [
             0.7777777777777778,
             "#fb9f3a"
            ],
            [
             0.8888888888888888,
             "#fdca26"
            ],
            [
             1,
             "#f0f921"
            ]
           ]
          },
          "colorway": [
           "#636efa",
           "#EF553B",
           "#00cc96",
           "#ab63fa",
           "#FFA15A",
           "#19d3f3",
           "#FF6692",
           "#B6E880",
           "#FF97FF",
           "#FECB52"
          ],
          "font": {
           "color": "#2a3f5f"
          },
          "geo": {
           "bgcolor": "white",
           "lakecolor": "white",
           "landcolor": "white",
           "showlakes": true,
           "showland": true,
           "subunitcolor": "#C8D4E3"
          },
          "hoverlabel": {
           "align": "left"
          },
          "hovermode": "closest",
          "mapbox": {
           "style": "light"
          },
          "paper_bgcolor": "white",
          "plot_bgcolor": "white",
          "polar": {
           "angularaxis": {
            "gridcolor": "#EBF0F8",
            "linecolor": "#EBF0F8",
            "ticks": ""
           },
           "bgcolor": "white",
           "radialaxis": {
            "gridcolor": "#EBF0F8",
            "linecolor": "#EBF0F8",
            "ticks": ""
           }
          },
          "scene": {
           "xaxis": {
            "backgroundcolor": "white",
            "gridcolor": "#DFE8F3",
            "gridwidth": 2,
            "linecolor": "#EBF0F8",
            "showbackground": true,
            "ticks": "",
            "zerolinecolor": "#EBF0F8"
           },
           "yaxis": {
            "backgroundcolor": "white",
            "gridcolor": "#DFE8F3",
            "gridwidth": 2,
            "linecolor": "#EBF0F8",
            "showbackground": true,
            "ticks": "",
            "zerolinecolor": "#EBF0F8"
           },
           "zaxis": {
            "backgroundcolor": "white",
            "gridcolor": "#DFE8F3",
            "gridwidth": 2,
            "linecolor": "#EBF0F8",
            "showbackground": true,
            "ticks": "",
            "zerolinecolor": "#EBF0F8"
           }
          },
          "shapedefaults": {
           "line": {
            "color": "#2a3f5f"
           }
          },
          "ternary": {
           "aaxis": {
            "gridcolor": "#DFE8F3",
            "linecolor": "#A2B1C6",
            "ticks": ""
           },
           "baxis": {
            "gridcolor": "#DFE8F3",
            "linecolor": "#A2B1C6",
            "ticks": ""
           },
           "bgcolor": "white",
           "caxis": {
            "gridcolor": "#DFE8F3",
            "linecolor": "#A2B1C6",
            "ticks": ""
           }
          },
          "title": {
           "x": 0.05
          },
          "xaxis": {
           "automargin": true,
           "gridcolor": "#EBF0F8",
           "linecolor": "#EBF0F8",
           "ticks": "",
           "title": {
            "standoff": 15
           },
           "zerolinecolor": "#EBF0F8",
           "zerolinewidth": 2
          },
          "yaxis": {
           "automargin": true,
           "gridcolor": "#EBF0F8",
           "linecolor": "#EBF0F8",
           "ticks": "",
           "title": {
            "standoff": 15
           },
           "zerolinecolor": "#EBF0F8",
           "zerolinewidth": 2
          }
         }
        },
        "xaxis": {
         "anchor": "y",
         "domain": [
          0,
          1
         ],
         "title": {
          "text": "Datasets"
         }
        },
        "yaxis": {
         "anchor": "x",
         "domain": [
          0,
          1
         ],
         "title": {
          "text": "Quality Estimation"
         }
        }
       }
      },
      "text/html": [
       "<div>\n",
       "        \n",
       "        \n",
       "            <div id=\"6a073917-db1a-4003-9629-1ead7339560b\" class=\"plotly-graph-div\" style=\"height:525px; width:100%;\"></div>\n",
       "            <script type=\"text/javascript\">\n",
       "                require([\"plotly\"], function(Plotly) {\n",
       "                    window.PLOTLYENV=window.PLOTLYENV || {};\n",
       "                    \n",
       "                if (document.getElementById(\"6a073917-db1a-4003-9629-1ead7339560b\")) {\n",
       "                    Plotly.newPlot(\n",
       "                        '6a073917-db1a-4003-9629-1ead7339560b',\n",
       "                        [{\"alignmentgroup\": \"True\", \"hovertemplate\": \"method=RandomForest<br>dataset=%{x}<br>best_fit=%{y}<extra></extra>\", \"legendgroup\": \"RandomForest\", \"marker\": {\"color\": \"rgb(102,194,165)\"}, \"name\": \"RandomForest\", \"notched\": false, \"offsetgroup\": \"RandomForest\", \"orientation\": \"v\", \"showlegend\": true, \"type\": \"box\", \"x\": [\"20NG\", \"20NG\", \"20NG\", \"20NG\", \"20NG\", \"20NG\", \"20NG\", \"20NG\", \"20NG\", \"20NG\", \"20NG\", \"20NG\", \"20NG\", \"20NG\", \"20NG\", \"banners\", \"banners\", \"banners\", \"banners\", \"banners\", \"banners\", \"banners\", \"banners\", \"banners\", \"banners\", \"banners\", \"banners\", \"banners\", \"banners\", \"banners\", \"HR\", \"HR\", \"HR\", \"HR\", \"HR\", \"HR\", \"HR\", \"HR\", \"HR\", \"HR\", \"HR\", \"HR\", \"HR\", \"HR\", \"HR\", \"HR\", \"HR\", \"HR\", \"HR\", \"HR\", \"HR\", \"HR\", \"HR\", \"HR\", \"HR\", \"HR\", \"HR\", \"AR\", \"AR\", \"AR\", \"AR\", \"AR\", \"AR\", \"AR\", \"AR\", \"AR\", \"AR\", \"AR\", \"AR\", \"AR\", \"AR\", \"AR\", \"AR\", \"AR\", \"AR\", \"AR\", \"AR\", \"AR\", \"lenta\", \"lenta\", \"lenta\", \"lenta\", \"lenta\", \"lenta\", \"lenta\", \"lenta\", \"lenta\", \"lenta\", \"lenta\", \"lenta\", \"lenta\", \"lenta\", \"lenta\"], \"x0\": \" \", \"xaxis\": \"x\", \"y\": [0.8529725728510613, 0.9362671046879188, 0.9845963629558372, 1.0662462778726531, 0.9779255135933476, 0.8734305632452652, 0.7638991807966125, 0.9370224487513878, 0.9331003431242856, 1.032390365123184, 0.8163175498963673, 0.8766480688400817, 0.8043203771409796, 0.8054077264302044, 1.0115012490729798, 0.9851830003257958, 1.0577108142308576, 1.0203815202231024, 0.9724271973822448, 1.0883579802418777, 0.9410967361075144, 0.963200416047184, 1.025566743372898, 1.0033086950394283, 1.0312258072222693, 1.006086938846776, 0.9128390871251428, 0.947112414978204, 1.0031431273651428, 1.0280563243206942, 1.7287359653061225, 1.3003319281414971, 0.6622621636046941, 0.8052493756161636, 1.625752235061225, 1.1469939345918374, 1.7287359653061225, 1.3003319281414971, 0.6622621636046941, 0.8052493756161636, 1.625752235061225, 1.1469939345918374, 0.8736986471655329, 0.828000710070522, 1.1158609116926772, 1.356054478801045, 1.1519628052275128, 1.8204933164620407, 1.3481127419362695, 1.2913284640261342, 1.5546185461632656, 1.6953949795714287, 1.4457915210436731, 1.832830294174694, 0.9423953801500136, 1.2577916782622536, 1.183161807154694, 0.8085745502822078, 0.8626964963293879, 0.7424561316352244, 0.7525895524277142, 0.6584979655792652, 0.6428593058154777, 0.7614587971020408, 0.6631269015750897, 0.7690081432665962, 0.7424060536566922, 0.4387808099484694, 0.7062831481318368, 0.6781182807386124, 0.7337707934612088, 0.7120746024418242, 0.5867250308675594, 0.8203579616253063, 0.6886068336008162, 0.7496837971088163, 0.7106557508223523, 0.5569802275239999, 1.1878112711877145, 0.9715830351406732, 1.2871682737338372, 0.9509766639056654, 1.001454382090163, 0.9888093350926124, 0.9971829792581832, 1.3737979871822774, 1.3166524432925042, 0.7182035048680411, 1.210730998825022, 1.1426550234406532, 1.2920887907049303, 1.0663113975489793, 1.2051133736734323], \"y0\": \" \", \"yaxis\": \"y\"}, {\"alignmentgroup\": \"True\", \"hovertemplate\": \"method=RandomForest (0.7)<br>dataset=%{x}<br>best_fit=%{y}<extra></extra>\", \"legendgroup\": \"RandomForest (0.7)\", \"marker\": {\"color\": \"rgb(252,141,98)\"}, \"name\": \"RandomForest (0.7)\", \"notched\": false, \"offsetgroup\": \"RandomForest (0.7)\", \"orientation\": \"v\", \"showlegend\": true, \"type\": \"box\", \"x\": [\"20NG\", \"20NG\", \"20NG\", \"20NG\", \"20NG\", \"20NG\", \"20NG\", \"20NG\", \"20NG\", \"20NG\", \"20NG\", \"20NG\", \"20NG\", \"20NG\", \"20NG\", \"20NG\", \"20NG\", \"20NG\", \"20NG\", \"20NG\", \"banners\", \"banners\", \"banners\", \"banners\", \"banners\", \"banners\", \"banners\", \"banners\", \"banners\", \"banners\", \"banners\", \"banners\", \"banners\", \"banners\", \"banners\", \"banners\", \"banners\", \"banners\", \"banners\", \"banners\", \"HR\", \"HR\", \"HR\", \"HR\", \"HR\", \"HR\", \"HR\", \"HR\", \"HR\", \"HR\", \"HR\", \"HR\", \"HR\", \"AR\", \"AR\", \"AR\", \"AR\", \"AR\", \"AR\", \"AR\", \"AR\", \"AR\", \"AR\", \"AR\", \"AR\", \"AR\", \"AR\", \"lenta\", \"lenta\", \"lenta\", \"lenta\", \"lenta\", \"lenta\", \"lenta\", \"lenta\", \"lenta\", \"lenta\", \"lenta\", \"lenta\", \"lenta\", \"lenta\", \"lenta\", \"lenta\", \"lenta\", \"lenta\", \"lenta\", \"lenta\"], \"x0\": \" \", \"xaxis\": \"x\", \"y\": [0.7844922706886123, 0.9391116966799182, 0.9329740148951838, 0.8926775686438371, 0.7329424837427758, 0.7227179609654695, 0.7413769490266942, 0.7503840684430367, 0.8104979593290209, 1.1020180180354289, 0.8256228280006941, 0.7150539266221225, 0.8319762599663676, 0.9324015398347756, 0.9556704845838369, 0.8459177391829392, 0.9667817522490612, 0.7352888309608983, 1.036755171823183, 0.7193634654823676, 1.1245400575863678, 1.0183444910765709, 1.0295802877088167, 1.0377024987818777, 0.9739825104084086, 1.0522758700178372, 1.0064223706251432, 0.9748990780496326, 0.9939514046243269, 1.0828480038920818, 0.9204064253978776, 0.9964259084626942, 1.0401283591498776, 0.9835703798504492, 0.9225113511228159, 1.021899393301714, 1.0512715550562044, 1.1213498839231022, 1.029185412406776, 0.9697939009884492, 1.0360929483480128, 1.3115959012244898, 0.808451479389143, 1.7809019326530615, 0.6959950455856327, 1.4802870642448975, 0.8404756819755109, 1.4693187265306118, 1.0614993041296517, 1.4254454917563266, 1.2716914101656664, 1.6741389428571427, 2.2982822669387755, 0.6520725619124981, 0.7404820444057942, 0.7333951970370043, 0.6815480722628573, 0.7410549922701228, 0.4729003368775511, 0.7574894193043921, 0.6381813641363264, 0.6779537015241306, 0.7039393882138778, 0.7539500258046924, 0.5107631427076263, 0.6808394058642862, 0.5516872593206609, 1.0075851109393668, 1.0804126020208358, 0.9848698916599999, 0.8786477265881634, 0.989326361129796, 1.1139679477551017, 1.0771185437796251, 0.8949178275841223, 0.6394953830816326, 1.1118512327914283, 0.5527199815252415, 0.8948992747886527, 0.9749243895744284, 1.2565802975940819, 1.0919246082751832, 0.6530456856912242, 1.195799804373347, 0.8548527080483916, 0.9329894204881632, 1.0321215532769592], \"y0\": \" \", \"yaxis\": \"y\"}],\n",
       "                        {\"boxmode\": \"group\", \"font\": {\"color\": \"#7f7f7f\", \"family\": \"Courier New, monospace\", \"size\": 20}, \"legend\": {\"title\": {\"text\": \"method\"}, \"tracegroupgap\": 0}, \"margin\": {\"t\": 60}, \"template\": {\"data\": {\"bar\": [{\"error_x\": {\"color\": \"#2a3f5f\"}, \"error_y\": {\"color\": \"#2a3f5f\"}, \"marker\": {\"line\": {\"color\": \"white\", \"width\": 0.5}}, \"type\": \"bar\"}], \"barpolar\": [{\"marker\": {\"line\": {\"color\": \"white\", \"width\": 0.5}}, \"type\": \"barpolar\"}], \"carpet\": [{\"aaxis\": {\"endlinecolor\": \"#2a3f5f\", \"gridcolor\": \"#C8D4E3\", \"linecolor\": \"#C8D4E3\", \"minorgridcolor\": \"#C8D4E3\", \"startlinecolor\": \"#2a3f5f\"}, \"baxis\": {\"endlinecolor\": \"#2a3f5f\", \"gridcolor\": \"#C8D4E3\", \"linecolor\": \"#C8D4E3\", \"minorgridcolor\": \"#C8D4E3\", \"startlinecolor\": \"#2a3f5f\"}, \"type\": \"carpet\"}], \"choropleth\": [{\"colorbar\": {\"outlinewidth\": 0, \"ticks\": \"\"}, \"type\": \"choropleth\"}], \"contour\": [{\"colorbar\": {\"outlinewidth\": 0, \"ticks\": \"\"}, \"colorscale\": [[0.0, \"#0d0887\"], [0.1111111111111111, \"#46039f\"], [0.2222222222222222, \"#7201a8\"], [0.3333333333333333, \"#9c179e\"], [0.4444444444444444, \"#bd3786\"], [0.5555555555555556, \"#d8576b\"], [0.6666666666666666, \"#ed7953\"], [0.7777777777777778, \"#fb9f3a\"], [0.8888888888888888, \"#fdca26\"], [1.0, \"#f0f921\"]], \"type\": \"contour\"}], \"contourcarpet\": [{\"colorbar\": {\"outlinewidth\": 0, \"ticks\": \"\"}, \"type\": \"contourcarpet\"}], \"heatmap\": [{\"colorbar\": {\"outlinewidth\": 0, \"ticks\": \"\"}, \"colorscale\": [[0.0, \"#0d0887\"], [0.1111111111111111, \"#46039f\"], [0.2222222222222222, \"#7201a8\"], [0.3333333333333333, \"#9c179e\"], [0.4444444444444444, \"#bd3786\"], [0.5555555555555556, \"#d8576b\"], [0.6666666666666666, \"#ed7953\"], [0.7777777777777778, \"#fb9f3a\"], [0.8888888888888888, \"#fdca26\"], [1.0, \"#f0f921\"]], \"type\": \"heatmap\"}], \"heatmapgl\": [{\"colorbar\": {\"outlinewidth\": 0, \"ticks\": \"\"}, \"colorscale\": [[0.0, \"#0d0887\"], [0.1111111111111111, \"#46039f\"], [0.2222222222222222, \"#7201a8\"], [0.3333333333333333, \"#9c179e\"], [0.4444444444444444, \"#bd3786\"], [0.5555555555555556, \"#d8576b\"], [0.6666666666666666, \"#ed7953\"], [0.7777777777777778, \"#fb9f3a\"], [0.8888888888888888, \"#fdca26\"], [1.0, \"#f0f921\"]], \"type\": \"heatmapgl\"}], \"histogram\": [{\"marker\": {\"colorbar\": {\"outlinewidth\": 0, \"ticks\": \"\"}}, \"type\": \"histogram\"}], \"histogram2d\": [{\"colorbar\": {\"outlinewidth\": 0, \"ticks\": \"\"}, \"colorscale\": [[0.0, \"#0d0887\"], [0.1111111111111111, \"#46039f\"], [0.2222222222222222, \"#7201a8\"], [0.3333333333333333, \"#9c179e\"], [0.4444444444444444, \"#bd3786\"], [0.5555555555555556, \"#d8576b\"], [0.6666666666666666, \"#ed7953\"], [0.7777777777777778, \"#fb9f3a\"], [0.8888888888888888, \"#fdca26\"], [1.0, \"#f0f921\"]], \"type\": \"histogram2d\"}], \"histogram2dcontour\": [{\"colorbar\": {\"outlinewidth\": 0, \"ticks\": \"\"}, \"colorscale\": [[0.0, \"#0d0887\"], [0.1111111111111111, \"#46039f\"], [0.2222222222222222, \"#7201a8\"], [0.3333333333333333, \"#9c179e\"], [0.4444444444444444, \"#bd3786\"], [0.5555555555555556, \"#d8576b\"], [0.6666666666666666, \"#ed7953\"], [0.7777777777777778, \"#fb9f3a\"], [0.8888888888888888, \"#fdca26\"], [1.0, \"#f0f921\"]], \"type\": \"histogram2dcontour\"}], \"mesh3d\": [{\"colorbar\": {\"outlinewidth\": 0, \"ticks\": \"\"}, \"type\": \"mesh3d\"}], \"parcoords\": [{\"line\": {\"colorbar\": {\"outlinewidth\": 0, \"ticks\": \"\"}}, \"type\": \"parcoords\"}], \"pie\": [{\"automargin\": true, \"type\": \"pie\"}], \"scatter\": [{\"marker\": {\"colorbar\": {\"outlinewidth\": 0, \"ticks\": \"\"}}, \"type\": \"scatter\"}], \"scatter3d\": [{\"line\": {\"colorbar\": {\"outlinewidth\": 0, \"ticks\": \"\"}}, \"marker\": {\"colorbar\": {\"outlinewidth\": 0, \"ticks\": \"\"}}, \"type\": \"scatter3d\"}], \"scattercarpet\": [{\"marker\": {\"colorbar\": {\"outlinewidth\": 0, \"ticks\": \"\"}}, \"type\": \"scattercarpet\"}], \"scattergeo\": [{\"marker\": {\"colorbar\": {\"outlinewidth\": 0, \"ticks\": \"\"}}, \"type\": \"scattergeo\"}], \"scattergl\": [{\"marker\": {\"colorbar\": {\"outlinewidth\": 0, \"ticks\": \"\"}}, \"type\": \"scattergl\"}], \"scattermapbox\": [{\"marker\": {\"colorbar\": {\"outlinewidth\": 0, \"ticks\": \"\"}}, \"type\": \"scattermapbox\"}], \"scatterpolar\": [{\"marker\": {\"colorbar\": {\"outlinewidth\": 0, \"ticks\": \"\"}}, \"type\": \"scatterpolar\"}], \"scatterpolargl\": [{\"marker\": {\"colorbar\": {\"outlinewidth\": 0, \"ticks\": \"\"}}, \"type\": \"scatterpolargl\"}], \"scatterternary\": [{\"marker\": {\"colorbar\": {\"outlinewidth\": 0, \"ticks\": \"\"}}, \"type\": \"scatterternary\"}], \"surface\": [{\"colorbar\": {\"outlinewidth\": 0, \"ticks\": \"\"}, \"colorscale\": [[0.0, \"#0d0887\"], [0.1111111111111111, \"#46039f\"], [0.2222222222222222, \"#7201a8\"], [0.3333333333333333, \"#9c179e\"], [0.4444444444444444, \"#bd3786\"], [0.5555555555555556, \"#d8576b\"], [0.6666666666666666, \"#ed7953\"], [0.7777777777777778, \"#fb9f3a\"], [0.8888888888888888, \"#fdca26\"], [1.0, \"#f0f921\"]], \"type\": \"surface\"}], \"table\": [{\"cells\": {\"fill\": {\"color\": \"#EBF0F8\"}, \"line\": {\"color\": \"white\"}}, \"header\": {\"fill\": {\"color\": \"#C8D4E3\"}, \"line\": {\"color\": \"white\"}}, \"type\": \"table\"}]}, \"layout\": {\"annotationdefaults\": {\"arrowcolor\": \"#2a3f5f\", \"arrowhead\": 0, \"arrowwidth\": 1}, \"coloraxis\": {\"colorbar\": {\"outlinewidth\": 0, \"ticks\": \"\"}}, \"colorscale\": {\"diverging\": [[0, \"#8e0152\"], [0.1, \"#c51b7d\"], [0.2, \"#de77ae\"], [0.3, \"#f1b6da\"], [0.4, \"#fde0ef\"], [0.5, \"#f7f7f7\"], [0.6, \"#e6f5d0\"], [0.7, \"#b8e186\"], [0.8, \"#7fbc41\"], [0.9, \"#4d9221\"], [1, \"#276419\"]], \"sequential\": [[0.0, \"#0d0887\"], [0.1111111111111111, \"#46039f\"], [0.2222222222222222, \"#7201a8\"], [0.3333333333333333, \"#9c179e\"], [0.4444444444444444, \"#bd3786\"], [0.5555555555555556, \"#d8576b\"], [0.6666666666666666, \"#ed7953\"], [0.7777777777777778, \"#fb9f3a\"], [0.8888888888888888, \"#fdca26\"], [1.0, \"#f0f921\"]], \"sequentialminus\": [[0.0, \"#0d0887\"], [0.1111111111111111, \"#46039f\"], [0.2222222222222222, \"#7201a8\"], [0.3333333333333333, \"#9c179e\"], [0.4444444444444444, \"#bd3786\"], [0.5555555555555556, \"#d8576b\"], [0.6666666666666666, \"#ed7953\"], [0.7777777777777778, \"#fb9f3a\"], [0.8888888888888888, \"#fdca26\"], [1.0, \"#f0f921\"]]}, \"colorway\": [\"#636efa\", \"#EF553B\", \"#00cc96\", \"#ab63fa\", \"#FFA15A\", \"#19d3f3\", \"#FF6692\", \"#B6E880\", \"#FF97FF\", \"#FECB52\"], \"font\": {\"color\": \"#2a3f5f\"}, \"geo\": {\"bgcolor\": \"white\", \"lakecolor\": \"white\", \"landcolor\": \"white\", \"showlakes\": true, \"showland\": true, \"subunitcolor\": \"#C8D4E3\"}, \"hoverlabel\": {\"align\": \"left\"}, \"hovermode\": \"closest\", \"mapbox\": {\"style\": \"light\"}, \"paper_bgcolor\": \"white\", \"plot_bgcolor\": \"white\", \"polar\": {\"angularaxis\": {\"gridcolor\": \"#EBF0F8\", \"linecolor\": \"#EBF0F8\", \"ticks\": \"\"}, \"bgcolor\": \"white\", \"radialaxis\": {\"gridcolor\": \"#EBF0F8\", \"linecolor\": \"#EBF0F8\", \"ticks\": \"\"}}, \"scene\": {\"xaxis\": {\"backgroundcolor\": \"white\", \"gridcolor\": \"#DFE8F3\", \"gridwidth\": 2, \"linecolor\": \"#EBF0F8\", \"showbackground\": true, \"ticks\": \"\", \"zerolinecolor\": \"#EBF0F8\"}, \"yaxis\": {\"backgroundcolor\": \"white\", \"gridcolor\": \"#DFE8F3\", \"gridwidth\": 2, \"linecolor\": \"#EBF0F8\", \"showbackground\": true, \"ticks\": \"\", \"zerolinecolor\": \"#EBF0F8\"}, \"zaxis\": {\"backgroundcolor\": \"white\", \"gridcolor\": \"#DFE8F3\", \"gridwidth\": 2, \"linecolor\": \"#EBF0F8\", \"showbackground\": true, \"ticks\": \"\", \"zerolinecolor\": \"#EBF0F8\"}}, \"shapedefaults\": {\"line\": {\"color\": \"#2a3f5f\"}}, \"ternary\": {\"aaxis\": {\"gridcolor\": \"#DFE8F3\", \"linecolor\": \"#A2B1C6\", \"ticks\": \"\"}, \"baxis\": {\"gridcolor\": \"#DFE8F3\", \"linecolor\": \"#A2B1C6\", \"ticks\": \"\"}, \"bgcolor\": \"white\", \"caxis\": {\"gridcolor\": \"#DFE8F3\", \"linecolor\": \"#A2B1C6\", \"ticks\": \"\"}}, \"title\": {\"x\": 0.05}, \"xaxis\": {\"automargin\": true, \"gridcolor\": \"#EBF0F8\", \"linecolor\": \"#EBF0F8\", \"ticks\": \"\", \"title\": {\"standoff\": 15}, \"zerolinecolor\": \"#EBF0F8\", \"zerolinewidth\": 2}, \"yaxis\": {\"automargin\": true, \"gridcolor\": \"#EBF0F8\", \"linecolor\": \"#EBF0F8\", \"ticks\": \"\", \"title\": {\"standoff\": 15}, \"zerolinecolor\": \"#EBF0F8\", \"zerolinewidth\": 2}}}, \"xaxis\": {\"anchor\": \"y\", \"domain\": [0.0, 1.0], \"title\": {\"text\": \"Datasets\"}}, \"yaxis\": {\"anchor\": \"x\", \"domain\": [0.0, 1.0], \"title\": {\"text\": \"Quality Estimation\"}}},\n",
       "                        {\"responsive\": true}\n",
       "                    ).then(function(){\n",
       "                            \n",
       "var gd = document.getElementById('6a073917-db1a-4003-9629-1ead7339560b');\n",
       "var x = new MutationObserver(function (mutations, observer) {{\n",
       "        var display = window.getComputedStyle(gd).display;\n",
       "        if (!display || display === 'none') {{\n",
       "            console.log([gd, 'removed!']);\n",
       "            Plotly.purge(gd);\n",
       "            observer.disconnect();\n",
       "        }}\n",
       "}});\n",
       "\n",
       "// Listen for the removal of the full notebook cells\n",
       "var notebookContainer = gd.closest('#notebook-container');\n",
       "if (notebookContainer) {{\n",
       "    x.observe(notebookContainer, {childList: true});\n",
       "}}\n",
       "\n",
       "// Listen for the clearing of the current output cell\n",
       "var outputEl = gd.closest('.output');\n",
       "if (outputEl) {{\n",
       "    x.observe(outputEl, {childList: true});\n",
       "}}\n",
       "\n",
       "                        }).then(function(){\n",
       "                            function downloadimage(format, height, width, filename) {var p = document.getElementById('6a073917-db1a-4003-9629-1ead7339560b');Plotly.downloadImage(p, {format: format, height: height, width: width, filename: filename});};if(document.readyState == 'complete') {downloadimage('svg', 600, 800, 'plot_image');}\n",
       "                        })\n",
       "                };\n",
       "                });\n",
       "            </script>\n",
       "        </div>"
      ]
     },
     "metadata": {},
     "output_type": "display_data"
    },
    {
     "name": "stdout",
     "output_type": "stream",
     "text": [
      "time: 21.8 ms\n"
     ]
    }
   ],
   "source": [
    "from plotly.offline import download_plotlyjs, init_notebook_mode, plot, iplot\n",
    "\n",
    "iplot(fig, image='svg')"
   ]
  },
  {
   "cell_type": "markdown",
   "metadata": {},
   "source": [
    "# Plot RMSE"
   ]
  },
  {
   "cell_type": "code",
   "execution_count": null,
   "metadata": {},
   "outputs": [],
   "source": [
    "# RF 20 Newsgroups\n",
    "\n",
    "rf_20ng_crossover_e1 = [0.072, 0.036, 0.018]\n",
    "rf_20ng_mutation_e1 = [0.041, 0.023]\n",
    "\n",
    "rf_20ng_crossover_e2 = [0.112, 0.203, 0.240]\n",
    "rf_20ng_mutation_e2 = [0.163, 0.152, 0.044]\n",
    "\n",
    "rf_20ng_crossover_e3 = [0.262, 0.057, 0.079]\n",
    "rf_20ng_mutation_e3 = [0.262, 0.028, 0.001]\n",
    "\n",
    "rf_20ng_crossover_e4 = [0.201, 0.042, 0.002]\n",
    "rf_20ng_mutation_e4 = [0.124, 0.015]\n",
    "\n",
    "rf_20ng_crossover_e5 = [0.197]\n",
    "rf_20ng_mutation_e5 = [0.063]"
   ]
  },
  {
   "cell_type": "code",
   "execution_count": null,
   "metadata": {},
   "outputs": [],
   "source": [
    "'dataset', 'iter_name', 'value' "
   ]
  },
  {
   "cell_type": "code",
   "execution_count": null,
   "metadata": {},
   "outputs": [],
   "source": []
  }
 ],
 "metadata": {
  "kernelspec": {
   "display_name": "Python 3",
   "language": "python",
   "name": "python3"
  },
  "language_info": {
   "codemirror_mode": {
    "name": "ipython",
    "version": 3
   },
   "file_extension": ".py",
   "mimetype": "text/x-python",
   "name": "python",
   "nbconvert_exporter": "python",
   "pygments_lexer": "ipython3",
   "version": "3.7.9"
  }
 },
 "nbformat": 4,
 "nbformat_minor": 4
}
