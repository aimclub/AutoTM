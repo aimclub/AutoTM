{
 "cells": [
  {
   "cell_type": "code",
   "execution_count": 1,
   "metadata": {},
   "outputs": [],
   "source": [
    "%load_ext autotime\n",
    "%matplotlib inline"
   ]
  },
  {
   "cell_type": "code",
   "execution_count": 2,
   "metadata": {},
   "outputs": [
    {
     "name": "stdout",
     "output_type": "stream",
     "text": [
      "time: 228 ms\n"
     ]
    }
   ],
   "source": [
    "import plotly.express as px\n",
    "import pandas as pd"
   ]
  },
  {
   "cell_type": "code",
   "execution_count": null,
   "metadata": {},
   "outputs": [],
   "source": [
    "# Surrogate modelling results"
   ]
  },
  {
   "cell_type": "code",
   "execution_count": null,
   "metadata": {},
   "outputs": [],
   "source": []
  },
  {
   "cell_type": "code",
   "execution_count": null,
   "metadata": {},
   "outputs": [],
   "source": [
    "def add_new_experiments(experiments_path,\n",
    "                        dataset, method, best_fit, modification=None, num_eval=None):\n",
    "    data = pd.read_csv(experiments_path)\n",
    "    n = len(best_fit)\n",
    "    df = pd.DataFrame(list(zip([dataset for _ in range(n)], \n",
    "                               [method for _ in range(n)], \n",
    "                               [modification for _ in range(n)],\n",
    "                               best_fit,\n",
    "                               [num_eval for _ in range(n)]\n",
    "                              )), \n",
    "               columns =['dataset', 'method', 'modification', 'best_fit', 'num_eval']) \n",
    "    res = pd.concat([data, df])\n",
    "    return res"
   ]
  },
  {
   "cell_type": "code",
   "execution_count": null,
   "metadata": {},
   "outputs": [],
   "source": [
    "fig = px.box(res, x=\"dataset\", y=\"best_fit\", color=\"method\", template='plotly_white')\n",
    "# fig.update_traces(quartilemethod=\"exclusive\") # or \"inclusive\", or \"linear\" by default\n",
    "fig.update_layout(\n",
    "    xaxis_title=\"Datasets\",\n",
    "    yaxis_title=\"Quality Estimation\",\n",
    "    font=dict(\n",
    "        family=\"Courier New, monospace\",\n",
    "        size=20,\n",
    "        color=\"#7f7f7f\"\n",
    "    )\n",
    ")\n",
    "fig.show()"
   ]
  }
 ],
 "metadata": {
  "kernelspec": {
   "display_name": "Python 3",
   "language": "python",
   "name": "python3"
  },
  "language_info": {
   "codemirror_mode": {
    "name": "ipython",
    "version": 3
   },
   "file_extension": ".py",
   "mimetype": "text/x-python",
   "name": "python",
   "nbconvert_exporter": "python",
   "pygments_lexer": "ipython3",
   "version": "3.7.9"
  }
 },
 "nbformat": 4,
 "nbformat_minor": 4
}
